{
 "cells": [
  {
   "cell_type": "code",
   "execution_count": 1,
   "metadata": {},
   "outputs": [],
   "source": [
    "import pandas as pd\n",
    "import numpy as np"
   ]
  },
  {
   "cell_type": "markdown",
   "metadata": {},
   "source": [
    "Я заниюмаюсь управлением товародвижения в федеральной сети ювелирных магазинов (900 магазинов). Отвечаю за изделия из золота. В данной работе хочу применить машинное обучение для:\n",
    "\n",
    "- прогноза продаж ассортимента определенного типа для каждого торгового объекта(магазина) в отдельности\n",
    "- выявление главных признаков торгового объекта(магазина), котороые влияют на продажи ассортимента определенного типа\n",
    "\n",
    "Делать это буду на примере мусульманских подвесов.\n",
    "Для анализа буду использовать данные по продажам мусульманских подвесов из серебра, т.к. они присутствуют почти в каждом магазине.\n",
    "Практическая польза"
   ]
  },
  {
   "cell_type": "code",
   "execution_count": 2,
   "metadata": {},
   "outputs": [
    {
     "data": {
      "text/html": [
       "<div>\n",
       "<style scoped>\n",
       "    .dataframe tbody tr th:only-of-type {\n",
       "        vertical-align: middle;\n",
       "    }\n",
       "\n",
       "    .dataframe tbody tr th {\n",
       "        vertical-align: top;\n",
       "    }\n",
       "\n",
       "    .dataframe thead th {\n",
       "        text-align: right;\n",
       "    }\n",
       "</style>\n",
       "<table border=\"1\" class=\"dataframe\">\n",
       "  <thead>\n",
       "    <tr style=\"text-align: right;\">\n",
       "      <th></th>\n",
       "      <th>id</th>\n",
       "      <th>585_msale</th>\n",
       "      <th>925_msale</th>\n",
       "    </tr>\n",
       "  </thead>\n",
       "  <tbody>\n",
       "    <tr>\n",
       "      <th>893</th>\n",
       "      <td>92</td>\n",
       "      <td>0.0</td>\n",
       "      <td>1.0</td>\n",
       "    </tr>\n",
       "    <tr>\n",
       "      <th>894</th>\n",
       "      <td>925</td>\n",
       "      <td>0.0</td>\n",
       "      <td>2.0</td>\n",
       "    </tr>\n",
       "    <tr>\n",
       "      <th>895</th>\n",
       "      <td>955</td>\n",
       "      <td>1.0</td>\n",
       "      <td>8.0</td>\n",
       "    </tr>\n",
       "    <tr>\n",
       "      <th>896</th>\n",
       "      <td>96</td>\n",
       "      <td>7.0</td>\n",
       "      <td>13.0</td>\n",
       "    </tr>\n",
       "    <tr>\n",
       "      <th>897</th>\n",
       "      <td>99</td>\n",
       "      <td>12.0</td>\n",
       "      <td>14.0</td>\n",
       "    </tr>\n",
       "  </tbody>\n",
       "</table>\n",
       "</div>"
      ],
      "text/plain": [
       "      id  585_msale  925_msale\n",
       "893   92        0.0        1.0\n",
       "894  925        0.0        2.0\n",
       "895  955        1.0        8.0\n",
       "896   96        7.0       13.0\n",
       "897   99       12.0       14.0"
      ]
     },
     "execution_count": 2,
     "metadata": {},
     "output_type": "execute_result"
    }
   ],
   "source": [
    "# Загружаю датасет с продажами серебра и золота \n",
    "name = r'C:\\нетология\\muslim.xlsx'\n",
    "mus_sales = pd.read_excel(name, sheet_name='олап', skiprows=10, usecols=[0,2,3], names=['id','585_msale','925_msale'])\n",
    "\n",
    "# Убираем пустые значения после 'Общий итог'\n",
    "lst = mus_sales['id'].tolist()\n",
    "mus_sales = mus_sales.drop(axis=0,index=np.arange(lst.index('Общий итог'),len(lst)))\n",
    "mus_sales.tail()"
   ]
  },
  {
   "cell_type": "code",
   "execution_count": 3,
   "metadata": {},
   "outputs": [
    {
     "data": {
      "text/html": [
       "<div>\n",
       "<style scoped>\n",
       "    .dataframe tbody tr th:only-of-type {\n",
       "        vertical-align: middle;\n",
       "    }\n",
       "\n",
       "    .dataframe tbody tr th {\n",
       "        vertical-align: top;\n",
       "    }\n",
       "\n",
       "    .dataframe thead th {\n",
       "        text-align: right;\n",
       "    }\n",
       "</style>\n",
       "<table border=\"1\" class=\"dataframe\">\n",
       "  <thead>\n",
       "    <tr style=\"text-align: right;\">\n",
       "      <th></th>\n",
       "      <th>id</th>\n",
       "      <th>585_mstock</th>\n",
       "      <th>925_mstock</th>\n",
       "    </tr>\n",
       "  </thead>\n",
       "  <tbody>\n",
       "    <tr>\n",
       "      <th>1462</th>\n",
       "      <td>92</td>\n",
       "      <td>26.0</td>\n",
       "      <td>8.0</td>\n",
       "    </tr>\n",
       "    <tr>\n",
       "      <th>1463</th>\n",
       "      <td>925</td>\n",
       "      <td>1.0</td>\n",
       "      <td>11.0</td>\n",
       "    </tr>\n",
       "    <tr>\n",
       "      <th>1464</th>\n",
       "      <td>955</td>\n",
       "      <td>5.0</td>\n",
       "      <td>10.0</td>\n",
       "    </tr>\n",
       "    <tr>\n",
       "      <th>1465</th>\n",
       "      <td>96</td>\n",
       "      <td>22.0</td>\n",
       "      <td>14.0</td>\n",
       "    </tr>\n",
       "    <tr>\n",
       "      <th>1468</th>\n",
       "      <td>99</td>\n",
       "      <td>27.0</td>\n",
       "      <td>20.0</td>\n",
       "    </tr>\n",
       "  </tbody>\n",
       "</table>\n",
       "</div>"
      ],
      "text/plain": [
       "       id  585_mstock  925_mstock\n",
       "1462   92        26.0         8.0\n",
       "1463  925         1.0        11.0\n",
       "1464  955         5.0        10.0\n",
       "1465   96        22.0        14.0\n",
       "1468   99        27.0        20.0"
      ]
     },
     "execution_count": 3,
     "metadata": {},
     "output_type": "execute_result"
    }
   ],
   "source": [
    "name = r'C:\\нетология\\muslim.xlsx'\n",
    "mus_stock = pd.read_excel(name, sheet_name='олап', skiprows=10, usecols=[7,9,10],names=['id','585_mstock','925_mstock'])\n",
    "\n",
    "# Убираем пустые значения\n",
    "lst = mus_stock['id'].tolist()\n",
    "mus_stock = mus_stock.drop(axis=0,index=np.arange(lst.index('Общий итог'),len(lst)))\n",
    "\n",
    "# Убираем магазины с нулевыми остатками\n",
    "mus_stock['sum'] = mus_stock['585_mstock'] + mus_stock['925_mstock']\n",
    "mus_stock = mus_stock[(mus_stock['sum'] > 0)]\n",
    "del mus_stock['sum']\n",
    "mus_stock.tail()"
   ]
  },
  {
   "cell_type": "code",
   "execution_count": 4,
   "metadata": {},
   "outputs": [
    {
     "data": {
      "text/html": [
       "<div>\n",
       "<style scoped>\n",
       "    .dataframe tbody tr th:only-of-type {\n",
       "        vertical-align: middle;\n",
       "    }\n",
       "\n",
       "    .dataframe tbody tr th {\n",
       "        vertical-align: top;\n",
       "    }\n",
       "\n",
       "    .dataframe thead th {\n",
       "        text-align: right;\n",
       "    }\n",
       "</style>\n",
       "<table border=\"1\" class=\"dataframe\">\n",
       "  <thead>\n",
       "    <tr style=\"text-align: right;\">\n",
       "      <th></th>\n",
       "      <th>585_msale</th>\n",
       "      <th>925_msale</th>\n",
       "    </tr>\n",
       "  </thead>\n",
       "  <tbody>\n",
       "    <tr>\n",
       "      <th>585_msale</th>\n",
       "      <td>1.0</td>\n",
       "      <td>0.7</td>\n",
       "    </tr>\n",
       "    <tr>\n",
       "      <th>925_msale</th>\n",
       "      <td>0.7</td>\n",
       "      <td>1.0</td>\n",
       "    </tr>\n",
       "  </tbody>\n",
       "</table>\n",
       "</div>"
      ],
      "text/plain": [
       "           585_msale  925_msale\n",
       "585_msale        1.0        0.7\n",
       "925_msale        0.7        1.0"
      ]
     },
     "execution_count": 4,
     "metadata": {},
     "output_type": "execute_result"
    }
   ],
   "source": [
    "# Оставляем склады, где есть остатки золото и серебро одновременно\n",
    "\n",
    "mus_stock_combined = mus_stock[(mus_stock['585_mstock'] > 5)&(mus_stock['925_mstock'] > 5)].drop(axis=1, labels=['585_mstock','925_mstock'])\n",
    "\n",
    "# Посмотрим корреляцию в продажах золота и серебра\n",
    "mus_sales_combined = pd.merge(mus_stock_combined, mus_sales, on='id',how='left').dropna(how='any')\n",
    "mus_sales_combined[['585_msale','925_msale']].corr().round(decimals=1)"
   ]
  },
  {
   "cell_type": "markdown",
   "metadata": {},
   "source": [
    "Коэффицент корреляции между золотом и серебром 0,7. Можно использовать данные по серебру"
   ]
  },
  {
   "cell_type": "code",
   "execution_count": 5,
   "metadata": {},
   "outputs": [
    {
     "data": {
      "text/html": [
       "<div>\n",
       "<style scoped>\n",
       "    .dataframe tbody tr th:only-of-type {\n",
       "        vertical-align: middle;\n",
       "    }\n",
       "\n",
       "    .dataframe tbody tr th {\n",
       "        vertical-align: top;\n",
       "    }\n",
       "\n",
       "    .dataframe thead th {\n",
       "        text-align: right;\n",
       "    }\n",
       "</style>\n",
       "<table border=\"1\" class=\"dataframe\">\n",
       "  <thead>\n",
       "    <tr style=\"text-align: right;\">\n",
       "      <th></th>\n",
       "      <th>585_msale</th>\n",
       "      <th>925_msale</th>\n",
       "    </tr>\n",
       "  </thead>\n",
       "  <tbody>\n",
       "    <tr>\n",
       "      <th>count</th>\n",
       "      <td>492.0</td>\n",
       "      <td>492.0</td>\n",
       "    </tr>\n",
       "    <tr>\n",
       "      <th>mean</th>\n",
       "      <td>10.0</td>\n",
       "      <td>12.0</td>\n",
       "    </tr>\n",
       "    <tr>\n",
       "      <th>std</th>\n",
       "      <td>10.0</td>\n",
       "      <td>12.0</td>\n",
       "    </tr>\n",
       "    <tr>\n",
       "      <th>min</th>\n",
       "      <td>0.0</td>\n",
       "      <td>0.0</td>\n",
       "    </tr>\n",
       "    <tr>\n",
       "      <th>25%</th>\n",
       "      <td>3.0</td>\n",
       "      <td>5.0</td>\n",
       "    </tr>\n",
       "    <tr>\n",
       "      <th>50%</th>\n",
       "      <td>7.0</td>\n",
       "      <td>9.0</td>\n",
       "    </tr>\n",
       "    <tr>\n",
       "      <th>75%</th>\n",
       "      <td>14.0</td>\n",
       "      <td>15.0</td>\n",
       "    </tr>\n",
       "    <tr>\n",
       "      <th>max</th>\n",
       "      <td>57.0</td>\n",
       "      <td>82.0</td>\n",
       "    </tr>\n",
       "  </tbody>\n",
       "</table>\n",
       "</div>"
      ],
      "text/plain": [
       "       585_msale  925_msale\n",
       "count      492.0      492.0\n",
       "mean        10.0       12.0\n",
       "std         10.0       12.0\n",
       "min          0.0        0.0\n",
       "25%          3.0        5.0\n",
       "50%          7.0        9.0\n",
       "75%         14.0       15.0\n",
       "max         57.0       82.0"
      ]
     },
     "execution_count": 5,
     "metadata": {},
     "output_type": "execute_result"
    }
   ],
   "source": [
    "# Посмотрим есть ли разница в распределении продаж по золоту и серебру\n",
    "mus_sales_combined.describe().round()"
   ]
  },
  {
   "cell_type": "markdown",
   "metadata": {},
   "source": [
    "Вопросы: \n",
    "- нужно ли объединять тц и трц?\n",
    "- разные размерности и порядок исчисления (продажи и емкость магазина в штуках, зарплата в рублях, доли в процентах)\n"
   ]
  },
  {
   "cell_type": "markdown",
   "metadata": {},
   "source": [
    "###### Создаем большой датасет для обучения модели со следующей информацией:\n",
    "\n",
    "+ id - номер магазина его перед обучением я удалю\n",
    "+ 925_msale - продажи мусульманских подвесов - целевая переменная\n",
    "+ type - тип размещения объекта (отдельное здание или торговый центр)\n",
    "+ city - город или населенный пункт, по этому параметру каждому объекту можно установить признак региона\n",
    "+ shop_size - вместимость объекта в штуках\n",
    "+ work_time - время работы объекта в годах \n",
    "+ total_sales - общие продажи в штуках за полгода\n",
    "+ brand - вывеска на магазине(есть несколько брэндов)\n",
    "+ population - количество жителей в данном населенном пункте \n",
    "+ salary - средняя зарплата (distr - в округе,reg - в регионе)\n",
    "+ mosque - есть или нет в населенном пункте мечеть(по данным из википедии)\n",
    "+ muslim_per - процент верующих мусульман (distr - в округе,reg - в регионе)\n",
    "+ rus_per - процент русских по национальности (distr - в округе,reg - в регионе)\n",
    "+ religion_imp - процент людей, для которых религия играет важную роль в жизни (distr - в округе,reg - в регионе)\n"
   ]
  },
  {
   "cell_type": "markdown",
   "metadata": {},
   "source": [
    "###### Откуда брал данные:\n",
    "\n",
    "+ Численность населения - Оценка численности постоянного населения на 1 января 2018г.Росстат по городам\n",
    "+ Доля мусульман, процент русских, процент религиозных - Общероссийский опрос МегаФОМ 29 мая – 25 июня 2012 г. по субъектам РФ\n",
    "+ Доходы населения - Среднемесячная номинальная начисленная заработная плата работников по полному кругу организаций  по субъектам Российской Федерации. Росстат. 2018-2019 г\n",
    "+ Количество мечетей - википедия статья Ислам в России\n",
    "+ Данные по долготе/широте/региону получал через GeoPy по городу\n",
    "\n",
    "\n",
    "Все данные собрал в единую таблицу в EXcel потом загрузил в ноутбук.\n",
    "\n",
    "Чеченская  и Ингушская республика не участвовала в исследовании МегаФОМ. Поэтому для этих республик инфу пришлось искать отдельно"
   ]
  },
  {
   "cell_type": "code",
   "execution_count": 7,
   "metadata": {},
   "outputs": [
    {
     "name": "stdout",
     "output_type": "stream",
     "text": [
      "<class 'pandas.core.frame.DataFrame'>\n",
      "RangeIndex: 903 entries, 0 to 902\n",
      "Data columns (total 21 columns):\n",
      "id                    903 non-null object\n",
      "city                  903 non-null object\n",
      "type                  903 non-null object\n",
      "shop_size             900 non-null float64\n",
      "work_time             903 non-null int64\n",
      "total_sales           899 non-null float64\n",
      "stock_month           903 non-null int64\n",
      "brand                 903 non-null object\n",
      "population            898 non-null float64\n",
      "salary_reg            898 non-null float64\n",
      "salary_district       898 non-null float64\n",
      "mosque                903 non-null int64\n",
      "muslim_per_reg        898 non-null float64\n",
      "muslim_per_distr      898 non-null float64\n",
      "religion_imp_reg      898 non-null float64\n",
      "religion_imp_distr    898 non-null float64\n",
      "rus_per_reg           898 non-null float64\n",
      "rus_per_distr         898 non-null float64\n",
      "coord                 898 non-null object\n",
      "district              898 non-null object\n",
      "region                898 non-null object\n",
      "dtypes: float64(11), int64(3), object(7)\n",
      "memory usage: 148.2+ KB\n"
     ]
    }
   ],
   "source": [
    "# Загружаем справочник с характеристиками магазинов и дополнительной информацией по регионам. \n",
    "ref_book = pd.read_excel(r'C:\\нетология\\muslim.xlsx', sheet_name='типы', usecols=list(range(6,27)))\n",
    "ref_book['id'] = ref_book['id'].astype(str)\n",
    "ref_book.info()\n"
   ]
  },
  {
   "cell_type": "code",
   "execution_count": 8,
   "metadata": {},
   "outputs": [
    {
     "name": "stdout",
     "output_type": "stream",
     "text": [
      "<class 'pandas.core.frame.DataFrame'>\n",
      "Int64Index: 900 entries, 0 to 899\n",
      "Data columns (total 22 columns):\n",
      "id                    900 non-null object\n",
      "925_msale             900 non-null float64\n",
      "city                  876 non-null object\n",
      "type                  876 non-null object\n",
      "shop_size             876 non-null float64\n",
      "work_time             876 non-null float64\n",
      "total_sales           876 non-null float64\n",
      "stock_month           876 non-null float64\n",
      "brand                 876 non-null object\n",
      "population            871 non-null float64\n",
      "salary_reg            871 non-null float64\n",
      "salary_district       871 non-null float64\n",
      "mosque                876 non-null float64\n",
      "muslim_per_reg        871 non-null float64\n",
      "muslim_per_distr      871 non-null float64\n",
      "religion_imp_reg      871 non-null float64\n",
      "religion_imp_distr    871 non-null float64\n",
      "rus_per_reg           871 non-null float64\n",
      "rus_per_distr         871 non-null float64\n",
      "coord                 871 non-null object\n",
      "district              871 non-null object\n",
      "region                871 non-null object\n",
      "dtypes: float64(15), object(7)\n",
      "memory usage: 161.7+ KB\n"
     ]
    }
   ],
   "source": [
    "# Добавляем к продажам подвесов по магазинам всю информацию из справочника\n",
    "\n",
    "raw_df = pd.merge(mus_sales[['id','925_msale']],ref_book,how='left', on='id')\n",
    "raw_df.info()"
   ]
  },
  {
   "cell_type": "code",
   "execution_count": 9,
   "metadata": {},
   "outputs": [],
   "source": [
    "# Округлим размер и уберем маги, которые работают меньше 4 месяцев \n",
    "raw_df['shop_size'] = raw_df['shop_size'].round()\n",
    "raw_df = raw_df[raw_df['stock_month'] > 4]"
   ]
  },
  {
   "cell_type": "code",
   "execution_count": 10,
   "metadata": {},
   "outputs": [
    {
     "name": "stdout",
     "output_type": "stream",
     "text": [
      "<class 'pandas.core.frame.DataFrame'>\n",
      "Int64Index: 845 entries, 0 to 899\n",
      "Data columns (total 22 columns):\n",
      "id                    845 non-null object\n",
      "925_msale             845 non-null float64\n",
      "city                  845 non-null object\n",
      "type                  845 non-null object\n",
      "shop_size             845 non-null float64\n",
      "work_time             845 non-null float64\n",
      "total_sales           845 non-null float64\n",
      "stock_month           845 non-null float64\n",
      "brand                 845 non-null object\n",
      "population            845 non-null float64\n",
      "salary_reg            845 non-null float64\n",
      "salary_district       845 non-null float64\n",
      "mosque                845 non-null float64\n",
      "muslim_per_reg        845 non-null float64\n",
      "muslim_per_distr      845 non-null float64\n",
      "religion_imp_reg      845 non-null float64\n",
      "religion_imp_distr    845 non-null float64\n",
      "rus_per_reg           845 non-null float64\n",
      "rus_per_distr         845 non-null float64\n",
      "coord                 845 non-null object\n",
      "district              845 non-null object\n",
      "region                845 non-null object\n",
      "dtypes: float64(15), object(7)\n",
      "memory usage: 151.8+ KB\n"
     ]
    }
   ],
   "source": [
    "# Уберем франчайзинговые магазины - там перекос по ассортименту\n",
    "\n",
    "raw_df = raw_df[raw_df['type']!='франч']\n",
    "raw_df.info()"
   ]
  },
  {
   "cell_type": "code",
   "execution_count": 11,
   "metadata": {},
   "outputs": [],
   "source": [
    "# Уберем магазины со спец ассортиментом, там больше нет мусульманских подвесов\n",
    "raw_df.where(raw_df.brand != 0, inplace=True)\n",
    "# Удаляем строки без значений\n",
    "raw_df.dropna(how='all', inplace=True)"
   ]
  },
  {
   "cell_type": "code",
   "execution_count": null,
   "metadata": {},
   "outputs": [],
   "source": []
  },
  {
   "cell_type": "code",
   "execution_count": 12,
   "metadata": {},
   "outputs": [
    {
     "data": {
      "text/plain": [
       "925_msale             1.00\n",
       "muslim_per_reg        0.51\n",
       "total_sales           0.41\n",
       "religion_imp_reg      0.38\n",
       "mosque                0.22\n",
       "muslim_per_distr      0.20\n",
       "religion_imp_distr    0.18\n",
       "shop_size             0.17\n",
       "salary_reg            0.13\n",
       "population            0.09\n",
       "stock_month           0.03\n",
       "salary_district      -0.14\n",
       "work_time            -0.14\n",
       "rus_per_distr        -0.25\n",
       "rus_per_reg          -0.47\n",
       "Name: 925_msale, dtype: float64"
      ]
     },
     "execution_count": 12,
     "metadata": {},
     "output_type": "execute_result"
    }
   ],
   "source": [
    "# Корреляция количественных признаков с целевым значением\n",
    "corr_matrix = raw_df.corr().round(decimals=2)\n",
    "corr_matrix['925_msale'].sort_values(ascending=False)"
   ]
  },
  {
   "cell_type": "code",
   "execution_count": 13,
   "metadata": {},
   "outputs": [],
   "source": [
    "# Разделим датафрейм на два, в одном будут собраны региональные признаки, в другом признаки по округам \n",
    "# возможно какой то датасет даст более точный результат\n",
    "\n",
    "drop_distr = [x for x in raw_df.columns.tolist() if '_reg' in x] + ['id','stock_month','coord','region']\n",
    "drop_reg = [x for x in raw_df.columns.tolist() if '_distr'in x] + ['id','stock_month','coord']\n",
    "\n",
    "distr_df = raw_df.drop(drop_distr, axis=1)\n",
    "reg_df = raw_df.drop(drop_reg, axis=1)"
   ]
  },
  {
   "cell_type": "code",
   "execution_count": 14,
   "metadata": {},
   "outputs": [
    {
     "data": {
      "text/html": [
       "<div>\n",
       "<style scoped>\n",
       "    .dataframe tbody tr th:only-of-type {\n",
       "        vertical-align: middle;\n",
       "    }\n",
       "\n",
       "    .dataframe tbody tr th {\n",
       "        vertical-align: top;\n",
       "    }\n",
       "\n",
       "    .dataframe thead th {\n",
       "        text-align: right;\n",
       "    }\n",
       "</style>\n",
       "<table border=\"1\" class=\"dataframe\">\n",
       "  <thead>\n",
       "    <tr style=\"text-align: right;\">\n",
       "      <th></th>\n",
       "      <th>925_msale</th>\n",
       "      <th>city</th>\n",
       "      <th>type</th>\n",
       "      <th>shop_size</th>\n",
       "      <th>work_time</th>\n",
       "      <th>total_sales</th>\n",
       "      <th>brand</th>\n",
       "      <th>population</th>\n",
       "      <th>salary_district</th>\n",
       "      <th>mosque</th>\n",
       "      <th>muslim_per_distr</th>\n",
       "      <th>religion_imp_distr</th>\n",
       "      <th>rus_per_distr</th>\n",
       "      <th>district</th>\n",
       "    </tr>\n",
       "  </thead>\n",
       "  <tbody>\n",
       "    <tr>\n",
       "      <th>0</th>\n",
       "      <td>7.0</td>\n",
       "      <td>Астрахань</td>\n",
       "      <td>Стрит</td>\n",
       "      <td>4809.0</td>\n",
       "      <td>12.0</td>\n",
       "      <td>465.0</td>\n",
       "      <td>ab</td>\n",
       "      <td>533925.0</td>\n",
       "      <td>32501.94</td>\n",
       "      <td>1.0</td>\n",
       "      <td>2.937507</td>\n",
       "      <td>12.754090</td>\n",
       "      <td>87.367898</td>\n",
       "      <td>ЮФО</td>\n",
       "    </tr>\n",
       "    <tr>\n",
       "      <th>1</th>\n",
       "      <td>12.0</td>\n",
       "      <td>Белгород</td>\n",
       "      <td>Стрит</td>\n",
       "      <td>13135.0</td>\n",
       "      <td>12.0</td>\n",
       "      <td>1899.0</td>\n",
       "      <td>a</td>\n",
       "      <td>391554.0</td>\n",
       "      <td>58083.38</td>\n",
       "      <td>0.0</td>\n",
       "      <td>1.587594</td>\n",
       "      <td>15.818874</td>\n",
       "      <td>93.793375</td>\n",
       "      <td>ЦФО</td>\n",
       "    </tr>\n",
       "    <tr>\n",
       "      <th>2</th>\n",
       "      <td>6.0</td>\n",
       "      <td>Ставрополь</td>\n",
       "      <td>Стрит</td>\n",
       "      <td>5378.0</td>\n",
       "      <td>8.0</td>\n",
       "      <td>917.0</td>\n",
       "      <td>a</td>\n",
       "      <td>433931.0</td>\n",
       "      <td>27505.38</td>\n",
       "      <td>0.0</td>\n",
       "      <td>40.394395</td>\n",
       "      <td>29.797887</td>\n",
       "      <td>38.837755</td>\n",
       "      <td>СКФО</td>\n",
       "    </tr>\n",
       "    <tr>\n",
       "      <th>3</th>\n",
       "      <td>9.0</td>\n",
       "      <td>Выборг</td>\n",
       "      <td>Стрит</td>\n",
       "      <td>13141.0</td>\n",
       "      <td>8.0</td>\n",
       "      <td>2904.0</td>\n",
       "      <td>b</td>\n",
       "      <td>77400.0</td>\n",
       "      <td>50754.60</td>\n",
       "      <td>0.0</td>\n",
       "      <td>1.059460</td>\n",
       "      <td>13.374155</td>\n",
       "      <td>90.223258</td>\n",
       "      <td>СЗФО</td>\n",
       "    </tr>\n",
       "    <tr>\n",
       "      <th>4</th>\n",
       "      <td>13.0</td>\n",
       "      <td>Энгельс</td>\n",
       "      <td>Стрит</td>\n",
       "      <td>7831.0</td>\n",
       "      <td>12.0</td>\n",
       "      <td>1779.0</td>\n",
       "      <td>a</td>\n",
       "      <td>226176.0</td>\n",
       "      <td>32783.10</td>\n",
       "      <td>0.0</td>\n",
       "      <td>12.317776</td>\n",
       "      <td>16.559501</td>\n",
       "      <td>68.107610</td>\n",
       "      <td>ПФО</td>\n",
       "    </tr>\n",
       "  </tbody>\n",
       "</table>\n",
       "</div>"
      ],
      "text/plain": [
       "   925_msale        city   type  shop_size  work_time  total_sales brand  \\\n",
       "0        7.0   Астрахань  Стрит     4809.0       12.0        465.0    ab   \n",
       "1       12.0    Белгород  Стрит    13135.0       12.0       1899.0     a   \n",
       "2        6.0  Ставрополь  Стрит     5378.0        8.0        917.0     a   \n",
       "3        9.0      Выборг  Стрит    13141.0        8.0       2904.0     b   \n",
       "4       13.0     Энгельс  Стрит     7831.0       12.0       1779.0     a   \n",
       "\n",
       "   population  salary_district  mosque  muslim_per_distr  religion_imp_distr  \\\n",
       "0    533925.0         32501.94     1.0          2.937507           12.754090   \n",
       "1    391554.0         58083.38     0.0          1.587594           15.818874   \n",
       "2    433931.0         27505.38     0.0         40.394395           29.797887   \n",
       "3     77400.0         50754.60     0.0          1.059460           13.374155   \n",
       "4    226176.0         32783.10     0.0         12.317776           16.559501   \n",
       "\n",
       "   rus_per_distr district  \n",
       "0      87.367898      ЮФО  \n",
       "1      93.793375      ЦФО  \n",
       "2      38.837755     СКФО  \n",
       "3      90.223258     СЗФО  \n",
       "4      68.107610      ПФО  "
      ]
     },
     "execution_count": 14,
     "metadata": {},
     "output_type": "execute_result"
    }
   ],
   "source": [
    "distr_df.head()"
   ]
  },
  {
   "cell_type": "code",
   "execution_count": 139,
   "metadata": {},
   "outputs": [
    {
     "data": {
      "text/plain": [
       "Санкт-Петербург      5.0\n",
       "Новосибирск          3.0\n",
       "Ростов-на-Дону       3.0\n",
       "Екатеринбург         2.0\n",
       "Красноярск           2.0\n",
       "Краснодар            2.0\n",
       "Тюмень               2.0\n",
       "Уфа                  2.0\n",
       "Сочи                 1.0\n",
       "Челябинск            1.0\n",
       "Саратов              1.0\n",
       "Омск                 1.0\n",
       "Сургут               1.0\n",
       "Новокузнецк          1.0\n",
       "Москва               1.0\n",
       "Воронеж              1.0\n",
       "Волгоград            1.0\n",
       "Казань               1.0\n",
       "Ставрополь           1.0\n",
       "Астрахань            1.0\n",
       "Барнаул              1.0\n",
       "Улан-Удэ             1.0\n",
       "Иркутск              1.0\n",
       "Курган               1.0\n",
       "Пермь                1.0\n",
       "Орел                 1.0\n",
       "Томск                1.0\n",
       "Самара               1.0\n",
       "Мурманск             1.0\n",
       "Владикавказ          1.0\n",
       "                    ... \n",
       "Слободской           0.0\n",
       "Ржев                 0.0\n",
       "Пыть-Ях              0.0\n",
       "Черемхово            0.0\n",
       "Назрань              0.0\n",
       "Приморско-Ахтарск    0.0\n",
       "Южно-Сахалинск       0.0\n",
       "Сухой Лог            0.0\n",
       "Борисоглебск         0.0\n",
       "Усть-Лабинск         0.0\n",
       "Новомосковск         0.0\n",
       "Нягань               0.0\n",
       "Пушкино              0.0\n",
       "Сальск               0.0\n",
       "Донецк               0.0\n",
       "Мостовской           0.0\n",
       "Киреевск             0.0\n",
       "Ачинск               0.0\n",
       "Новочебоксарск       0.0\n",
       "Орск                 0.0\n",
       "Якутск               0.0\n",
       "Баксан               0.0\n",
       "Буйнакск             0.0\n",
       "Егорьевск            0.0\n",
       "Каневская            0.0\n",
       "Клинцы               0.0\n",
       "Юрга                 0.0\n",
       "Губкин               0.0\n",
       "Октябрьский          0.0\n",
       "Всеволожск           0.0\n",
       "Name: city, Length: 344, dtype: float64"
      ]
     },
     "execution_count": 139,
     "metadata": {},
     "output_type": "execute_result"
    }
   ],
   "source": [
    "# проверим сбалансированность категориальных данных\n",
    "category = ['city','type','brand', 'district',  'region']            \n",
    "(raw_df['city'].value_counts(normalize=True)*100).round()"
   ]
  },
  {
   "cell_type": "code",
   "execution_count": 140,
   "metadata": {},
   "outputs": [
    {
     "data": {
      "text/plain": [
       "Стрит    58.0\n",
       "ТЦ       20.0\n",
       "ТРЦ      19.0\n",
       "ГМ        3.0\n",
       "Рынок     0.0\n",
       "Name: type, dtype: float64"
      ]
     },
     "execution_count": 140,
     "metadata": {},
     "output_type": "execute_result"
    }
   ],
   "source": [
    "(raw_df['type'].value_counts(normalize=True)*100).round()"
   ]
  },
  {
   "cell_type": "code",
   "execution_count": 141,
   "metadata": {},
   "outputs": [
    {
     "data": {
      "text/plain": [
       "a         35.0\n",
       "b         34.0\n",
       "ab        29.0\n",
       "silver     2.0\n",
       "Name: brand, dtype: float64"
      ]
     },
     "execution_count": 141,
     "metadata": {},
     "output_type": "execute_result"
    }
   ],
   "source": [
    "(raw_df['brand'].value_counts(normalize=True)*100).round()"
   ]
  },
  {
   "cell_type": "code",
   "execution_count": 142,
   "metadata": {},
   "outputs": [
    {
     "data": {
      "text/plain": [
       "ЮФО     18.0\n",
       "СФО     17.0\n",
       "УФО     15.0\n",
       "ЦФО     14.0\n",
       "ПФО     14.0\n",
       "СЗФО    12.0\n",
       "СКФО     7.0\n",
       "ДФО      3.0\n",
       "Name: district, dtype: float64"
      ]
     },
     "execution_count": 142,
     "metadata": {},
     "output_type": "execute_result"
    }
   ],
   "source": [
    "(raw_df['district'].value_counts(normalize=True)*100).round()"
   ]
  },
  {
   "cell_type": "code",
   "execution_count": 143,
   "metadata": {},
   "outputs": [
    {
     "data": {
      "text/plain": [
       "Краснодарский край                   8.0\n",
       "Ростовская область                   6.0\n",
       "г.Санкт-Петербург                    5.0\n",
       "Свердловская область                 4.0\n",
       "Ханты-Мансийский автономный округ    4.0\n",
       "Красноярский край                    4.0\n",
       "Новосибирская область                3.0\n",
       "Кемеровская область                  3.0\n",
       "Ставропольский край                  3.0\n",
       "Московская область                   3.0\n",
       "Саратовская область                  2.0\n",
       "Волгоградская область                2.0\n",
       "Республика Башкортостан              2.0\n",
       "Тюменская область                    2.0\n",
       "Челябинская область                  2.0\n",
       "Республика Татарстан                 2.0\n",
       "Алтайский край                       2.0\n",
       "Пермский край                        2.0\n",
       "Иркутская область                    2.0\n",
       "Воронежская область                  1.0\n",
       "Мурманская область                   1.0\n",
       "Ямало-Ненецкий автономный округ      1.0\n",
       "Омская область                       1.0\n",
       "Архангельская область                1.0\n",
       "Нижегородская область                1.0\n",
       "Тульская область                     1.0\n",
       "г.Москва                             1.0\n",
       "Республика Северная Осетия-Алания    1.0\n",
       "Томская область                      1.0\n",
       "Ленинградская область                1.0\n",
       "                                    ... \n",
       "Карачаево-Черкесская Республика      1.0\n",
       "Удмуртская Республика                1.0\n",
       "Рязанская область                    0.0\n",
       "Республика Мордовия                  0.0\n",
       "Тверская область                     0.0\n",
       "Оренбургская область                 0.0\n",
       "Республика Хакасия                   0.0\n",
       "Приморский край                      0.0\n",
       "Брянская область                     0.0\n",
       "Республика Калмыкия                  0.0\n",
       "Владимирская область                 0.0\n",
       "Псковская область                    0.0\n",
       "Чувашская Республика                 0.0\n",
       "Ивановская область                   0.0\n",
       "Калининградская область              0.0\n",
       "Смоленская область                   0.0\n",
       "Республика Саха (Якутия)             0.0\n",
       "Амурская область                     0.0\n",
       "Республика Марий Эл                  0.0\n",
       "Республика Адыгея                    0.0\n",
       "Кировская область                    0.0\n",
       "Республика Карелия                   0.0\n",
       "Камчатский край                      0.0\n",
       "Костромская область                  0.0\n",
       "Республика Алтай                     0.0\n",
       "Сахалинская область                  0.0\n",
       "Республика Ингушетия                 0.0\n",
       "Чеченская Республика                 0.0\n",
       "Республика Тыва                      0.0\n",
       "Хабаровский край                     0.0\n",
       "Name: region, Length: 79, dtype: float64"
      ]
     },
     "execution_count": 143,
     "metadata": {},
     "output_type": "execute_result"
    }
   ],
   "source": [
    "(raw_df['region'].value_counts(normalize=True)*100).round()"
   ]
  },
  {
   "cell_type": "code",
   "execution_count": 144,
   "metadata": {},
   "outputs": [
    {
     "data": {
      "text/plain": [
       "city        344\n",
       "type          5\n",
       "brand         4\n",
       "district      8\n",
       "region       79\n",
       "dtype: int64"
      ]
     },
     "execution_count": 144,
     "metadata": {},
     "output_type": "execute_result"
    }
   ],
   "source": [
    "raw_df[category].nunique()"
   ]
  },
  {
   "cell_type": "code",
   "execution_count": 145,
   "metadata": {},
   "outputs": [],
   "source": [
    "# проверим нормальность распределения числовых данных\n",
    "numeric = [x for x in raw_df.columns.to_list() if x not in category][1:-1]\n",
    "numeric.remove('stock_month')"
   ]
  },
  {
   "cell_type": "code",
   "execution_count": 146,
   "metadata": {},
   "outputs": [
    {
     "data": {
      "text/plain": [
       "array([[<matplotlib.axes._subplots.AxesSubplot object at 0x000001A400B47208>,\n",
       "        <matplotlib.axes._subplots.AxesSubplot object at 0x000001A401028E10>,\n",
       "        <matplotlib.axes._subplots.AxesSubplot object at 0x000001A400C6EEF0>,\n",
       "        <matplotlib.axes._subplots.AxesSubplot object at 0x000001A400C280B8>],\n",
       "       [<matplotlib.axes._subplots.AxesSubplot object at 0x000001A40185B358>,\n",
       "        <matplotlib.axes._subplots.AxesSubplot object at 0x000001A40185B7B8>,\n",
       "        <matplotlib.axes._subplots.AxesSubplot object at 0x000001A400EC4710>,\n",
       "        <matplotlib.axes._subplots.AxesSubplot object at 0x000001A400EC3DA0>],\n",
       "       [<matplotlib.axes._subplots.AxesSubplot object at 0x000001A400CD9470>,\n",
       "        <matplotlib.axes._subplots.AxesSubplot object at 0x000001A400C58B00>,\n",
       "        <matplotlib.axes._subplots.AxesSubplot object at 0x000001A400C651D0>,\n",
       "        <matplotlib.axes._subplots.AxesSubplot object at 0x000001A400C98860>],\n",
       "       [<matplotlib.axes._subplots.AxesSubplot object at 0x000001A400F6FEF0>,\n",
       "        <matplotlib.axes._subplots.AxesSubplot object at 0x000001A400C0F5C0>,\n",
       "        <matplotlib.axes._subplots.AxesSubplot object at 0x000001A400BA1EB8>,\n",
       "        <matplotlib.axes._subplots.AxesSubplot object at 0x000001A4011FC320>]],\n",
       "      dtype=object)"
      ]
     },
     "execution_count": 146,
     "metadata": {},
     "output_type": "execute_result"
    },
    {
     "data": {
      "image/png": "[encoded data removed]",
      "text/plain": [
       "<Figure size 1800x1440 with 16 Axes>"
      ]
     },
     "metadata": {
      "needs_background": "light"
     },
     "output_type": "display_data"
    }
   ],
   "source": [
    "raw_df[numeric].hist(bins=30, figsize=(25,20))"
   ]
  },
  {
   "cell_type": "markdown",
   "metadata": {},
   "source": [
    "\n"
   ]
  },
  {
   "cell_type": "code",
   "execution_count": 15,
   "metadata": {},
   "outputs": [],
   "source": [
    "#датасет с убранными для обучения столбцами\n",
    "new_df = raw_df.drop(['city', 'region'] + drop_reg, axis=1)"
   ]
  },
  {
   "cell_type": "code",
   "execution_count": null,
   "metadata": {},
   "outputs": [],
   "source": []
  },
  {
   "cell_type": "code",
   "execution_count": 16,
   "metadata": {},
   "outputs": [],
   "source": [
    "# конвертируем все значения в int32\n",
    "category_list = ['type', 'brand','district']\n",
    "numeric_list = [x for x in new_df.columns.to_list() if x not in category_list]\n",
    "new_df[numeric_list] = new_df[numeric_list].astype('float32')"
   ]
  },
  {
   "cell_type": "code",
   "execution_count": 18,
   "metadata": {},
   "outputs": [
    {
     "data": {
      "text/plain": [
       "False"
      ]
     },
     "execution_count": 18,
     "metadata": {},
     "output_type": "execute_result"
    }
   ],
   "source": [
    "# проверяем данные на нули и меняем нули если нужно\n",
    "\n",
    "pd.get_dummies(new_df,dtype='float32').drop(['925_msale'],axis=1).isnull().values.any()"
   ]
  },
  {
   "cell_type": "code",
   "execution_count": 19,
   "metadata": {},
   "outputs": [],
   "source": [
    "train_df = pd.get_dummies(new_df,dtype='float32')\n",
    "train_df.rename(columns={'925_msale':'msale'},inplace=True)"
   ]
  },
  {
   "cell_type": "markdown",
   "metadata": {},
   "source": [
    "###### Выводы после анализа категориальных и числовых признаков\n",
    "\n",
    "Сначала была идея разделить датасет на два: один с  региональными признаками, другой с признаками по округам чтобы посмотреть какой датасет даст более точный результат. Проанализировав категориальные и числовые признаки я отклонил эту идею. Количественные признаки нужно брать с привязкой к региону, а категориальный признак **регион** придется убрать - почти все регионы занимают меньше 1% по количеству в выборке при этом есть числовые признаки, привязанные к ним. Также уберу признак **город**.  \n",
    "**Доходы, время работы** разобью на группы, которые переведу вместе с категориальными признаками в бинарные.  \n",
    "**Переменные в процентах переведу в проценты**-?\n",
    "**Размер магазина и общие продажи** нормализую -?  \n",
    "**Выберу 3 модели регрессии и покручу данные с замеркой точности перед этим проведу анализ фичей при помощи РСА**"
   ]
  },
  {
   "cell_type": "code",
   "execution_count": 120,
   "metadata": {},
   "outputs": [],
   "source": [
    "# обучаю разные модели регрессий\n",
    "from sklearn.model_selection import train_test_split\n",
    "from sklearn.linear_model import LinearRegression, Ridge, Lasso, LogisticRegression, BayesianRidge\n",
    "from sklearn.metrics import mean_absolute_error, r2_score, mean_squared_error\n",
    "\n",
    "X = train_df.drop(['msale'],axis=1)\n",
    "y = train_df['msale']\n",
    "\n",
    "X_train, X_test, y_train, y_test = train_test_split(X, y, test_size=0.2)\n",
    "\n",
    "# создаю объекты\n",
    "lm = LinearRegression()\n",
    "rg = Ridge(alpha=1000)\n",
    "ls = Lasso()\n",
    "bs = BayesianRidge()\n",
    "lr = LogisticRegression()\n",
    "\n",
    "# тренирую модели\n",
    "lm.fit(X_train, y_train)\n",
    "rg.fit(X_train, y_train)\n",
    "ls.fit(X_train, y_train)\n",
    "bs.fit(X_train, y_train)\n",
    "lr.fit(X_train, y_train)\n",
    "\n",
    "#создаю предсказания\n",
    "lm_y_pred = lm.predict(X_test)\n",
    "rg_y_pred = rg.predict(X_test)\n",
    "ls_y_pred = ls.predict(X_test)\n",
    "bs_y_pred = bs.predict(X_test)\n",
    "lr_y_pred = lr.predict(X_test)\n",
    "\n"
   ]
  },
  {
   "cell_type": "code",
   "execution_count": 121,
   "metadata": {},
   "outputs": [
    {
     "name": "stdout",
     "output_type": "stream",
     "text": [
      "Linear Regression R^2: 0.65\n",
      "Linear Regression Средний квадрат ошибки: 47.20\n",
      "Ridge Regression R^2: 0.61\n",
      "Ridge Regression Средний квадрат ошибки: 52.48\n",
      "Lasso Regression R^2: 0.58\n",
      "Lasso Regression Средний квадрат ошибки: 55.64\n",
      "Bayesian Ridge Regression R^2: 0.66\n",
      "Bayesian Ridge Regression Средний квадрат ошибки: 45.50\n",
      "Logistic Regression R^2: -0.15\n",
      "Logistic Regression Средний квадрат ошибки: 154.14\n"
     ]
    }
   ],
   "source": [
    "#Метрики\n",
    "print('Linear Regression R^2: %.2f' % r2_score(y_test, lm_y_pred))\n",
    "print(\"Linear Regression Средний квадрат ошибки: %.2f\" % mean_squared_error(y_test, lm_y_pred))\n",
    "\n",
    "print('Ridge Regression R^2: %.2f' % r2_score(y_test, rg_y_pred))\n",
    "print(\"Ridge Regression Средний квадрат ошибки: %.2f\" % mean_squared_error(y_test, rg_y_pred))\n",
    "\n",
    "print('Lasso Regression R^2: %.2f' % r2_score(y_test, ls_y_pred))\n",
    "print(\"Lasso Regression Средний квадрат ошибки: %.2f\" % mean_squared_error(y_test, ls_y_pred))\n",
    "\n",
    "print('Bayesian Ridge Regression R^2: %.2f' % r2_score(y_test, bs_y_pred))\n",
    "print(\"Bayesian Ridge Regression Средний квадрат ошибки: %.2f\" % mean_squared_error(y_test, bs_y_pred))\n",
    "\n",
    "print('Logistic Regression R^2: %.2f' % r2_score(y_test, lr_y_pred))\n",
    "print(\"Logistic Regression Средний квадрат ошибки: %.2f\" % mean_squared_error(y_test, lr_y_pred))\n"
   ]
  },
  {
   "cell_type": "code",
   "execution_count": 28,
   "metadata": {},
   "outputs": [
    {
     "data": {
      "text/plain": [
       "count    169.000000\n",
       "mean       8.307693\n",
       "std        7.749809\n",
       "min        1.000000\n",
       "25%        3.000000\n",
       "50%        6.000000\n",
       "75%       10.000000\n",
       "max       41.000000\n",
       "Name: msale, dtype: float64"
      ]
     },
     "execution_count": 28,
     "metadata": {},
     "output_type": "execute_result"
    }
   ],
   "source": [
    "y_test.describe()"
   ]
  },
  {
   "cell_type": "code",
   "execution_count": 29,
   "metadata": {},
   "outputs": [
    {
     "data": {
      "text/plain": [
       "count    672.000000\n",
       "mean       9.967262\n",
       "std       11.327483\n",
       "min        0.000000\n",
       "25%        4.000000\n",
       "50%        7.000000\n",
       "75%       12.000000\n",
       "max       82.000000\n",
       "Name: msale, dtype: float64"
      ]
     },
     "execution_count": 29,
     "metadata": {},
     "output_type": "execute_result"
    }
   ],
   "source": [
    "y_train.describe()"
   ]
  },
  {
   "cell_type": "code",
   "execution_count": 30,
   "metadata": {},
   "outputs": [
    {
     "data": {
      "text/plain": [
       "<matplotlib.axes._subplots.AxesSubplot at 0x1a47ab5dfd0>"
      ]
     },
     "execution_count": 30,
     "metadata": {},
     "output_type": "execute_result"
    },
    {
     "data": {
      "image/png": "[encoded data removed]",
      "text/plain": [
       "<Figure size 432x288 with 1 Axes>"
      ]
     },
     "metadata": {
      "needs_background": "light"
     },
     "output_type": "display_data"
    }
   ],
   "source": [
    "y_train.hist(bins=30)\n"
   ]
  },
  {
   "cell_type": "code",
   "execution_count": 31,
   "metadata": {},
   "outputs": [
    {
     "data": {
      "text/plain": [
       "<matplotlib.axes._subplots.AxesSubplot at 0x1a479df46a0>"
      ]
     },
     "execution_count": 31,
     "metadata": {},
     "output_type": "execute_result"
    },
    {
     "data": {
      "image/png": "[encoded data removed]",
      "text/plain": [
       "<Figure size 432x288 with 1 Axes>"
      ]
     },
     "metadata": {
      "needs_background": "light"
     },
     "output_type": "display_data"
    }
   ],
   "source": [
    "y_test.hist(bins=30)"
   ]
  },
  {
   "cell_type": "code",
   "execution_count": 32,
   "metadata": {},
   "outputs": [],
   "source": [
    "def get_formula(columns):\n",
    "    return 'msale ~ ' + \" + \".join(columns)\n",
    "col_list = train_df.columns.drop('msale')\n"
   ]
  },
  {
   "cell_type": "code",
   "execution_count": 124,
   "metadata": {},
   "outputs": [
    {
     "data": {
      "text/html": [
       "<table class=\"simpletable\">\n",
       "<caption>OLS Regression Results</caption>\n",
       "<tr>\n",
       "  <th>Dep. Variable:</th>          <td>msale</td>      <th>  R-squared:         </th> <td>   0.590</td> \n",
       "</tr>\n",
       "<tr>\n",
       "  <th>Model:</th>                   <td>OLS</td>       <th>  Adj. R-squared:    </th> <td>   0.578</td> \n",
       "</tr>\n",
       "<tr>\n",
       "  <th>Method:</th>             <td>Least Squares</td>  <th>  F-statistic:       </th> <td>   51.07</td> \n",
       "</tr>\n",
       "<tr>\n",
       "  <th>Date:</th>             <td>Thu, 03 Oct 2019</td> <th>  Prob (F-statistic):</th> <td>8.34e-141</td>\n",
       "</tr>\n",
       "<tr>\n",
       "  <th>Time:</th>                 <td>09:38:55</td>     <th>  Log-Likelihood:    </th> <td> -2813.2</td> \n",
       "</tr>\n",
       "<tr>\n",
       "  <th>No. Observations:</th>      <td>   841</td>      <th>  AIC:               </th> <td>   5674.</td> \n",
       "</tr>\n",
       "<tr>\n",
       "  <th>Df Residuals:</th>          <td>   817</td>      <th>  BIC:               </th> <td>   5788.</td> \n",
       "</tr>\n",
       "<tr>\n",
       "  <th>Df Model:</th>              <td>    23</td>      <th>                     </th>     <td> </td>    \n",
       "</tr>\n",
       "<tr>\n",
       "  <th>Covariance Type:</th>      <td>nonrobust</td>    <th>                     </th>     <td> </td>    \n",
       "</tr>\n",
       "</table>\n",
       "<table class=\"simpletable\">\n",
       "<tr>\n",
       "          <td></td>            <th>coef</th>     <th>std err</th>      <th>t</th>      <th>P>|t|</th>  <th>[0.025</th>    <th>0.975]</th>  \n",
       "</tr>\n",
       "<tr>\n",
       "  <th>Intercept</th>        <td>    1.3345</td> <td>    1.984</td> <td>    0.672</td> <td> 0.501</td> <td>   -2.561</td> <td>    5.230</td>\n",
       "</tr>\n",
       "<tr>\n",
       "  <th>shop_size</th>        <td> 3.272e-05</td> <td>    0.000</td> <td>    0.208</td> <td> 0.835</td> <td>   -0.000</td> <td>    0.000</td>\n",
       "</tr>\n",
       "<tr>\n",
       "  <th>work_time</th>        <td>   -0.0552</td> <td>    0.105</td> <td>   -0.526</td> <td> 0.599</td> <td>   -0.261</td> <td>    0.151</td>\n",
       "</tr>\n",
       "<tr>\n",
       "  <th>total_sales</th>      <td>    0.0071</td> <td>    0.001</td> <td>   13.311</td> <td> 0.000</td> <td>    0.006</td> <td>    0.008</td>\n",
       "</tr>\n",
       "<tr>\n",
       "  <th>population</th>       <td> 5.305e-08</td> <td> 2.05e-07</td> <td>    0.258</td> <td> 0.796</td> <td> -3.5e-07</td> <td> 4.56e-07</td>\n",
       "</tr>\n",
       "<tr>\n",
       "  <th>salary_reg</th>       <td> 8.212e-05</td> <td> 2.48e-05</td> <td>    3.317</td> <td> 0.001</td> <td> 3.35e-05</td> <td>    0.000</td>\n",
       "</tr>\n",
       "<tr>\n",
       "  <th>mosque</th>           <td>    1.1049</td> <td>    0.685</td> <td>    1.614</td> <td> 0.107</td> <td>   -0.239</td> <td>    2.449</td>\n",
       "</tr>\n",
       "<tr>\n",
       "  <th>muslim_per_reg</th>   <td>    0.3782</td> <td>    0.044</td> <td>    8.683</td> <td> 0.000</td> <td>    0.293</td> <td>    0.464</td>\n",
       "</tr>\n",
       "<tr>\n",
       "  <th>religion_imp_reg</th> <td>   -0.0070</td> <td>    0.067</td> <td>   -0.103</td> <td> 0.918</td> <td>   -0.139</td> <td>    0.125</td>\n",
       "</tr>\n",
       "<tr>\n",
       "  <th>rus_per_reg</th>      <td>   -0.0704</td> <td>    0.025</td> <td>   -2.821</td> <td> 0.005</td> <td>   -0.119</td> <td>   -0.021</td>\n",
       "</tr>\n",
       "<tr>\n",
       "  <th>type_ГМ</th>          <td>   -1.3177</td> <td>    1.494</td> <td>   -0.882</td> <td> 0.378</td> <td>   -4.250</td> <td>    1.614</td>\n",
       "</tr>\n",
       "<tr>\n",
       "  <th>type_Рынок</th>       <td>    4.7434</td> <td>    4.153</td> <td>    1.142</td> <td> 0.254</td> <td>   -3.408</td> <td>   12.895</td>\n",
       "</tr>\n",
       "<tr>\n",
       "  <th>type_Стрит</th>       <td>   -1.7476</td> <td>    1.032</td> <td>   -1.694</td> <td> 0.091</td> <td>   -3.773</td> <td>    0.278</td>\n",
       "</tr>\n",
       "<tr>\n",
       "  <th>type_ТРЦ</th>         <td>    0.5081</td> <td>    1.095</td> <td>    0.464</td> <td> 0.643</td> <td>   -1.641</td> <td>    2.657</td>\n",
       "</tr>\n",
       "<tr>\n",
       "  <th>type_ТЦ</th>          <td>   -0.8516</td> <td>    1.078</td> <td>   -0.790</td> <td> 0.430</td> <td>   -2.968</td> <td>    1.265</td>\n",
       "</tr>\n",
       "<tr>\n",
       "  <th>brand_a</th>          <td>   -1.4291</td> <td>    0.846</td> <td>   -1.689</td> <td> 0.092</td> <td>   -3.089</td> <td>    0.231</td>\n",
       "</tr>\n",
       "<tr>\n",
       "  <th>brand_ab</th>         <td>   -1.6631</td> <td>    0.813</td> <td>   -2.045</td> <td> 0.041</td> <td>   -3.259</td> <td>   -0.067</td>\n",
       "</tr>\n",
       "<tr>\n",
       "  <th>brand_b</th>          <td>   -0.0190</td> <td>    0.775</td> <td>   -0.025</td> <td> 0.980</td> <td>   -1.540</td> <td>    1.502</td>\n",
       "</tr>\n",
       "<tr>\n",
       "  <th>brand_silver</th>     <td>    4.4457</td> <td>    1.725</td> <td>    2.577</td> <td> 0.010</td> <td>    1.059</td> <td>    7.832</td>\n",
       "</tr>\n",
       "<tr>\n",
       "  <th>district_ДФО</th>     <td>   -1.8665</td> <td>    1.296</td> <td>   -1.440</td> <td> 0.150</td> <td>   -4.411</td> <td>    0.678</td>\n",
       "</tr>\n",
       "<tr>\n",
       "  <th>district_ПФО</th>     <td>    6.6589</td> <td>    0.716</td> <td>    9.306</td> <td> 0.000</td> <td>    5.254</td> <td>    8.063</td>\n",
       "</tr>\n",
       "<tr>\n",
       "  <th>district_СЗФО</th>    <td>   -1.9569</td> <td>    0.996</td> <td>   -1.966</td> <td> 0.050</td> <td>   -3.911</td> <td>   -0.003</td>\n",
       "</tr>\n",
       "<tr>\n",
       "  <th>district_СКФО</th>    <td>   -4.3413</td> <td>    1.112</td> <td>   -3.905</td> <td> 0.000</td> <td>   -6.523</td> <td>   -2.159</td>\n",
       "</tr>\n",
       "<tr>\n",
       "  <th>district_СФО</th>     <td>   -0.2147</td> <td>    0.711</td> <td>   -0.302</td> <td> 0.763</td> <td>   -1.610</td> <td>    1.180</td>\n",
       "</tr>\n",
       "<tr>\n",
       "  <th>district_УФО</th>     <td>    1.0223</td> <td>    0.902</td> <td>    1.133</td> <td> 0.257</td> <td>   -0.748</td> <td>    2.793</td>\n",
       "</tr>\n",
       "<tr>\n",
       "  <th>district_ЦФО</th>     <td>    1.3672</td> <td>    0.856</td> <td>    1.597</td> <td> 0.111</td> <td>   -0.314</td> <td>    3.048</td>\n",
       "</tr>\n",
       "<tr>\n",
       "  <th>district_ЮФО</th>     <td>    0.6656</td> <td>    0.679</td> <td>    0.980</td> <td> 0.327</td> <td>   -0.667</td> <td>    1.998</td>\n",
       "</tr>\n",
       "</table>\n",
       "<table class=\"simpletable\">\n",
       "<tr>\n",
       "  <th>Omnibus:</th>       <td>282.552</td> <th>  Durbin-Watson:     </th> <td>   1.981</td>\n",
       "</tr>\n",
       "<tr>\n",
       "  <th>Prob(Omnibus):</th> <td> 0.000</td>  <th>  Jarque-Bera (JB):  </th> <td>1878.778</td>\n",
       "</tr>\n",
       "<tr>\n",
       "  <th>Skew:</th>          <td> 1.358</td>  <th>  Prob(JB):          </th> <td>    0.00</td>\n",
       "</tr>\n",
       "<tr>\n",
       "  <th>Kurtosis:</th>      <td> 9.800</td>  <th>  Cond. No.          </th> <td>1.07e+19</td>\n",
       "</tr>\n",
       "</table><br/><br/>Warnings:<br/>[1] Standard Errors assume that the covariance matrix of the errors is correctly specified.<br/>[2] The smallest eigenvalue is 2.5e-23. This might indicate that there are<br/>strong multicollinearity problems or that the design matrix is singular."
      ],
      "text/plain": [
       "<class 'statsmodels.iolib.summary.Summary'>\n",
       "\"\"\"\n",
       "                            OLS Regression Results                            \n",
       "==============================================================================\n",
       "Dep. Variable:                  msale   R-squared:                       0.590\n",
       "Model:                            OLS   Adj. R-squared:                  0.578\n",
       "Method:                 Least Squares   F-statistic:                     51.07\n",
       "Date:                Thu, 03 Oct 2019   Prob (F-statistic):          8.34e-141\n",
       "Time:                        09:38:55   Log-Likelihood:                -2813.2\n",
       "No. Observations:                 841   AIC:                             5674.\n",
       "Df Residuals:                     817   BIC:                             5788.\n",
       "Df Model:                          23                                         \n",
       "Covariance Type:            nonrobust                                         \n",
       "====================================================================================\n",
       "                       coef    std err          t      P>|t|      [0.025      0.975]\n",
       "------------------------------------------------------------------------------------\n",
       "Intercept            1.3345      1.984      0.672      0.501      -2.561       5.230\n",
       "shop_size         3.272e-05      0.000      0.208      0.835      -0.000       0.000\n",
       "work_time           -0.0552      0.105     -0.526      0.599      -0.261       0.151\n",
       "total_sales          0.0071      0.001     13.311      0.000       0.006       0.008\n",
       "population        5.305e-08   2.05e-07      0.258      0.796    -3.5e-07    4.56e-07\n",
       "salary_reg        8.212e-05   2.48e-05      3.317      0.001    3.35e-05       0.000\n",
       "mosque               1.1049      0.685      1.614      0.107      -0.239       2.449\n",
       "muslim_per_reg       0.3782      0.044      8.683      0.000       0.293       0.464\n",
       "religion_imp_reg    -0.0070      0.067     -0.103      0.918      -0.139       0.125\n",
       "rus_per_reg         -0.0704      0.025     -2.821      0.005      -0.119      -0.021\n",
       "type_ГМ             -1.3177      1.494     -0.882      0.378      -4.250       1.614\n",
       "type_Рынок           4.7434      4.153      1.142      0.254      -3.408      12.895\n",
       "type_Стрит          -1.7476      1.032     -1.694      0.091      -3.773       0.278\n",
       "type_ТРЦ             0.5081      1.095      0.464      0.643      -1.641       2.657\n",
       "type_ТЦ             -0.8516      1.078     -0.790      0.430      -2.968       1.265\n",
       "brand_a             -1.4291      0.846     -1.689      0.092      -3.089       0.231\n",
       "brand_ab            -1.6631      0.813     -2.045      0.041      -3.259      -0.067\n",
       "brand_b             -0.0190      0.775     -0.025      0.980      -1.540       1.502\n",
       "brand_silver         4.4457      1.725      2.577      0.010       1.059       7.832\n",
       "district_ДФО        -1.8665      1.296     -1.440      0.150      -4.411       0.678\n",
       "district_ПФО         6.6589      0.716      9.306      0.000       5.254       8.063\n",
       "district_СЗФО       -1.9569      0.996     -1.966      0.050      -3.911      -0.003\n",
       "district_СКФО       -4.3413      1.112     -3.905      0.000      -6.523      -2.159\n",
       "district_СФО        -0.2147      0.711     -0.302      0.763      -1.610       1.180\n",
       "district_УФО         1.0223      0.902      1.133      0.257      -0.748       2.793\n",
       "district_ЦФО         1.3672      0.856      1.597      0.111      -0.314       3.048\n",
       "district_ЮФО         0.6656      0.679      0.980      0.327      -0.667       1.998\n",
       "==============================================================================\n",
       "Omnibus:                      282.552   Durbin-Watson:                   1.981\n",
       "Prob(Omnibus):                  0.000   Jarque-Bera (JB):             1878.778\n",
       "Skew:                           1.358   Prob(JB):                         0.00\n",
       "Kurtosis:                       9.800   Cond. No.                     1.07e+19\n",
       "==============================================================================\n",
       "\n",
       "Warnings:\n",
       "[1] Standard Errors assume that the covariance matrix of the errors is correctly specified.\n",
       "[2] The smallest eigenvalue is 2.5e-23. This might indicate that there are\n",
       "strong multicollinearity problems or that the design matrix is singular.\n",
       "\"\"\""
      ]
     },
     "execution_count": 124,
     "metadata": {},
     "output_type": "execute_result"
    }
   ],
   "source": [
    "import statsmodels.api as sm\n",
    "import statsmodels.formula.api as smf\n",
    "\n",
    "est = smf.ols(get_formula(col_list),data=train_df).fit()\n",
    "est.summary()"
   ]
  },
  {
   "cell_type": "markdown",
   "metadata": {},
   "source": [
    "Обучу модели вернув обратно название региона"
   ]
  },
  {
   "cell_type": "code",
   "execution_count": 20,
   "metadata": {},
   "outputs": [],
   "source": [
    "train_df1 = raw_df.drop(['id','city','coord'], axis=1)\n",
    "train_df1 = pd.get_dummies(train_df1)\n",
    "train_df1.rename(columns={'925_msale':'msale'},inplace=True)"
   ]
  },
  {
   "cell_type": "code",
   "execution_count": null,
   "metadata": {},
   "outputs": [],
   "source": []
  },
  {
   "cell_type": "code",
   "execution_count": 92,
   "metadata": {},
   "outputs": [],
   "source": [
    "# обучаю разные модели регрессий\n",
    "from sklearn.model_selection import train_test_split\n",
    "from sklearn.linear_model import LinearRegression, Ridge, Lasso, LogisticRegression, BayesianRidge\n",
    "from sklearn.metrics import mean_absolute_error, r2_score, mean_squared_error\n",
    "\n",
    "X = train_df1.drop(['msale'],axis=1)\n",
    "y = train_df1['msale']\n",
    "\n",
    "X_train, X_test, y_train, y_test = train_test_split(X, y, test_size=0.2)\n",
    "\n",
    "# создаю объекты\n",
    "lm = LinearRegression()\n",
    "rg = Ridge(alpha=1)\n",
    "ls = Lasso(alpha=1)\n",
    "bs = BayesianRidge()\n",
    "lr = LogisticRegression()\n",
    "\n",
    "# тренирую модели\n",
    "lm.fit(X_train, y_train)\n",
    "rg.fit(X_train, y_train)\n",
    "ls.fit(X_train, y_train)\n",
    "bs.fit(X_train, y_train)\n",
    "lr.fit(X_train, y_train)\n",
    "\n",
    "#создаю предсказания\n",
    "lm_y_pred = lm.predict(X_test)\n",
    "rg_y_pred = rg.predict(X_test)\n",
    "ls_y_pred = ls.predict(X_test)\n",
    "bs_y_pred = bs.predict(X_test)\n",
    "lr_y_pred = lr.predict(X_test)\n"
   ]
  },
  {
   "cell_type": "code",
   "execution_count": 93,
   "metadata": {},
   "outputs": [
    {
     "name": "stdout",
     "output_type": "stream",
     "text": [
      "Linear Regression R^2: 0.71\n",
      "Linear Regression Средний квадрат ошибки: 40.09\n",
      "Ridge Regression R^2: 0.71\n",
      "Ridge Regression Средний квадрат ошибки: 39.92\n",
      "Lasso Regression R^2: 0.46\n",
      "Lasso Regression Средний квадрат ошибки: 73.43\n",
      "Bayesian Ridge Regression R^2: 0.71\n",
      "Bayesian Ridge Regression Средний квадрат ошибки: 40.36\n",
      "Logistic Regression R^2: -0.03\n",
      "Logistic Regression Средний квадрат ошибки: 140.82\n"
     ]
    }
   ],
   "source": [
    "#Метрики\n",
    "print('Linear Regression R^2: %.2f' % r2_score(y_test, lm_y_pred))\n",
    "print(\"Linear Regression Средний квадрат ошибки: %.2f\" % mean_squared_error(y_test, lm_y_pred))\n",
    "\n",
    "print('Ridge Regression R^2: %.2f' % r2_score(y_test, rg_y_pred))\n",
    "print(\"Ridge Regression Средний квадрат ошибки: %.2f\" % mean_squared_error(y_test, rg_y_pred))\n",
    "\n",
    "print('Lasso Regression R^2: %.2f' % r2_score(y_test, ls_y_pred))\n",
    "print(\"Lasso Regression Средний квадрат ошибки: %.2f\" % mean_squared_error(y_test, ls_y_pred))\n",
    "\n",
    "print('Bayesian Ridge Regression R^2: %.2f' % r2_score(y_test, bs_y_pred))\n",
    "print(\"Bayesian Ridge Regression Средний квадрат ошибки: %.2f\" % mean_squared_error(y_test, bs_y_pred))\n",
    "\n",
    "print('Logistic Regression R^2: %.2f' % r2_score(y_test, lr_y_pred))\n",
    "print(\"Logistic Regression Средний квадрат ошибки: %.2f\" % mean_squared_error(y_test, lr_y_pred))"
   ]
  },
  {
   "cell_type": "code",
   "execution_count": null,
   "metadata": {},
   "outputs": [],
   "source": [
    "\n",
    "scaler = StandardScaler()\n",
    "pca = PCA().fit(scaler.fit_transform(X))\n",
    "cum_evr = np.cumsum(pca.explained_variance_ratio_)\n",
    "xs = np.arange(cum_evr.size) + 1\n",
    "plt.plot(xs, cum_evr, linewidth=2)\n",
    "plt.grid()\n",
    "plt.xlabel('n_components')\n",
    "plt.ylabel('explained_variance_ratio_')"
   ]
  },
  {
   "cell_type": "markdown",
   "metadata": {},
   "source": [
    "Преобразую целевую переменную из числовой в категориальную"
   ]
  },
  {
   "cell_type": "code",
   "execution_count": 156,
   "metadata": {},
   "outputs": [
    {
     "name": "stdout",
     "output_type": "stream",
     "text": [
      "<class 'pandas.core.frame.DataFrame'>\n",
      "Int64Index: 841 entries, 0 to 899\n",
      "Columns: 111 entries, msale to region_г.Санкт-Петербург\n",
      "dtypes: float64(15), uint8(96)\n",
      "memory usage: 184.0 KB\n"
     ]
    }
   ],
   "source": [
    "train_df1.info()"
   ]
  },
  {
   "cell_type": "code",
   "execution_count": 157,
   "metadata": {},
   "outputs": [
    {
     "name": "stdout",
     "output_type": "stream",
     "text": [
      "<class 'pandas.core.frame.DataFrame'>\n",
      "Int64Index: 841 entries, 0 to 899\n",
      "Data columns (total 27 columns):\n",
      "msale               841 non-null float32\n",
      "shop_size           841 non-null float32\n",
      "work_time           841 non-null float32\n",
      "total_sales         841 non-null float32\n",
      "population          841 non-null float32\n",
      "salary_reg          841 non-null float32\n",
      "mosque              841 non-null float32\n",
      "muslim_per_reg      841 non-null float32\n",
      "religion_imp_reg    841 non-null float32\n",
      "rus_per_reg         841 non-null float32\n",
      "type_ГМ             841 non-null float32\n",
      "type_Рынок          841 non-null float32\n",
      "type_Стрит          841 non-null float32\n",
      "type_ТРЦ            841 non-null float32\n",
      "type_ТЦ             841 non-null float32\n",
      "brand_a             841 non-null float32\n",
      "brand_ab            841 non-null float32\n",
      "brand_b             841 non-null float32\n",
      "brand_silver        841 non-null float32\n",
      "district_ДФО        841 non-null float32\n",
      "district_ПФО        841 non-null float32\n",
      "district_СЗФО       841 non-null float32\n",
      "district_СКФО       841 non-null float32\n",
      "district_СФО        841 non-null float32\n",
      "district_УФО        841 non-null float32\n",
      "district_ЦФО        841 non-null float32\n",
      "district_ЮФО        841 non-null float32\n",
      "dtypes: float32(27)\n",
      "memory usage: 95.3 KB\n"
     ]
    }
   ],
   "source": [
    "train_df.info()"
   ]
  },
  {
   "cell_type": "code",
   "execution_count": 168,
   "metadata": {},
   "outputs": [
    {
     "data": {
      "text/plain": [
       "<matplotlib.axes._subplots.AxesSubplot at 0x1a40141a668>"
      ]
     },
     "execution_count": 168,
     "metadata": {},
     "output_type": "execute_result"
    },
    {
     "data": {
      "image/png": "[encoded data removed]",
      "text/plain": [
       "<Figure size 432x288 with 1 Axes>"
      ]
     },
     "metadata": {
      "needs_background": "light"
     },
     "output_type": "display_data"
    }
   ],
   "source": [
    "train_df['msale'].hist(bins=50)"
   ]
  },
  {
   "cell_type": "code",
   "execution_count": 165,
   "metadata": {},
   "outputs": [
    {
     "data": {
      "text/plain": [
       "count    841.000000\n",
       "mean       9.633769\n",
       "std       10.721536\n",
       "min        0.000000\n",
       "25%        3.000000\n",
       "50%        7.000000\n",
       "75%       11.000000\n",
       "max       82.000000\n",
       "Name: msale, dtype: float64"
      ]
     },
     "execution_count": 165,
     "metadata": {},
     "output_type": "execute_result"
    }
   ],
   "source": [
    "train_df['msale'].describe()"
   ]
  },
  {
   "cell_type": "code",
   "execution_count": 175,
   "metadata": {},
   "outputs": [
    {
     "data": {
      "text/plain": [
       "medium    306\n",
       "bad       287\n",
       "good      248\n",
       "Name: msale, dtype: int64"
      ]
     },
     "execution_count": 175,
     "metadata": {},
     "output_type": "execute_result"
    }
   ],
   "source": [
    "pd.qcut(train_df['msale'],3,labels=['bad','medium','good']).value_counts()"
   ]
  },
  {
   "cell_type": "code",
   "execution_count": 25,
   "metadata": {},
   "outputs": [],
   "source": [
    "# прогноз по классам без регионов\n",
    "from sklearn.ensemble import RandomForestClassifier\n",
    "from sklearn.model_selection import train_test_split\n",
    "from sklearn.metrics import roc_auc_score, precision_score, accuracy_score\n",
    "X = train_df.drop(['msale'],axis=1)\n",
    "y = pd.qcut(train_df['msale'],3,labels=['bad','medium','good'])\n",
    "\n",
    "X_train, X_test, y_train, y_test = train_test_split(X, y, test_size=0.2)\n",
    "\n"
   ]
  },
  {
   "cell_type": "code",
   "execution_count": 26,
   "metadata": {},
   "outputs": [
    {
     "data": {
      "text/plain": [
       "0      medium\n",
       "1        good\n",
       "2      medium\n",
       "3      medium\n",
       "4        good\n",
       "5        good\n",
       "6      medium\n",
       "7      medium\n",
       "8      medium\n",
       "9        good\n",
       "10     medium\n",
       "11        bad\n",
       "12     medium\n",
       "13     medium\n",
       "14        bad\n",
       "15        bad\n",
       "16     medium\n",
       "17        bad\n",
       "18       good\n",
       "19        bad\n",
       "20     medium\n",
       "21        bad\n",
       "22       good\n",
       "23       good\n",
       "24       good\n",
       "25        bad\n",
       "26        bad\n",
       "27        bad\n",
       "28       good\n",
       "29        bad\n",
       "        ...  \n",
       "870       bad\n",
       "871      good\n",
       "872    medium\n",
       "873    medium\n",
       "874      good\n",
       "875      good\n",
       "876    medium\n",
       "877    medium\n",
       "878      good\n",
       "879      good\n",
       "880       bad\n",
       "881    medium\n",
       "882    medium\n",
       "883    medium\n",
       "884      good\n",
       "885      good\n",
       "886    medium\n",
       "887    medium\n",
       "888    medium\n",
       "889    medium\n",
       "890    medium\n",
       "891       bad\n",
       "892       bad\n",
       "893      good\n",
       "894    medium\n",
       "895       bad\n",
       "896       bad\n",
       "897    medium\n",
       "898      good\n",
       "899      good\n",
       "Name: msale, Length: 841, dtype: category\n",
       "Categories (3, object): [bad < medium < good]"
      ]
     },
     "execution_count": 26,
     "metadata": {},
     "output_type": "execute_result"
    }
   ],
   "source": [
    "y\n"
   ]
  },
  {
   "cell_type": "code",
   "execution_count": 28,
   "metadata": {},
   "outputs": [
    {
     "data": {
      "text/plain": [
       "array([[0.1, 0.9, 0. ],\n",
       "       [0. , 1. , 0. ],\n",
       "       [0.2, 0.7, 0.1],\n",
       "       ...,\n",
       "       [0. , 0.2, 0.8],\n",
       "       [0.8, 0. , 0.2],\n",
       "       [0.9, 0. , 0.1]])"
      ]
     },
     "execution_count": 28,
     "metadata": {},
     "output_type": "execute_result"
    }
   ],
   "source": [
    "clf = RandomForestClassifier()\n",
    "clf.fit(X_train, y_train)\n",
    "\n",
    "y_train_predict = clf.predict_proba(X_train)\n",
    "y_train_predict"
   ]
  },
  {
   "cell_type": "code",
   "execution_count": 29,
   "metadata": {},
   "outputs": [
    {
     "data": {
      "text/plain": [
       "483      good\n",
       "328      good\n",
       "392      good\n",
       "802    medium\n",
       "45       good\n",
       "874      good\n",
       "199      good\n",
       "648    medium\n",
       "371       bad\n",
       "566      good\n",
       "541    medium\n",
       "195       bad\n",
       "820    medium\n",
       "203      good\n",
       "897    medium\n",
       "808      good\n",
       "141      good\n",
       "692      good\n",
       "114       bad\n",
       "78     medium\n",
       "91       good\n",
       "212       bad\n",
       "44        bad\n",
       "892       bad\n",
       "61     medium\n",
       "182      good\n",
       "211    medium\n",
       "618    medium\n",
       "396       bad\n",
       "240      good\n",
       "        ...  \n",
       "737       bad\n",
       "242       bad\n",
       "452       bad\n",
       "409    medium\n",
       "122    medium\n",
       "564      good\n",
       "684    medium\n",
       "801       bad\n",
       "881    medium\n",
       "447    medium\n",
       "542       bad\n",
       "428       bad\n",
       "539      good\n",
       "498    medium\n",
       "809      good\n",
       "813    medium\n",
       "302    medium\n",
       "393    medium\n",
       "112    medium\n",
       "706    medium\n",
       "488      good\n",
       "126       bad\n",
       "834    medium\n",
       "460    medium\n",
       "505    medium\n",
       "611       bad\n",
       "567       bad\n",
       "304    medium\n",
       "15        bad\n",
       "735       bad\n",
       "Name: msale, Length: 672, dtype: category\n",
       "Categories (3, object): [bad < medium < good]"
      ]
     },
     "execution_count": 29,
     "metadata": {},
     "output_type": "execute_result"
    }
   ],
   "source": [
    "y_train"
   ]
  },
  {
   "cell_type": "code",
   "execution_count": 27,
   "metadata": {},
   "outputs": [
    {
     "ename": "ValueError",
     "evalue": "Classification metrics can't handle a mix of multiclass and continuous-multioutput targets",
     "output_type": "error",
     "traceback": [
      "\u001b[1;31m---------------------------------------------------------------------------\u001b[0m",
      "\u001b[1;31mValueError\u001b[0m                                Traceback (most recent call last)",
      "\u001b[1;32m<ipython-input-27-bc8644a56a91>\u001b[0m in \u001b[0;36m<module>\u001b[1;34m()\u001b[0m\n\u001b[0;32m      5\u001b[0m \u001b[0my_test_predict\u001b[0m \u001b[1;33m=\u001b[0m \u001b[0mclf\u001b[0m\u001b[1;33m.\u001b[0m\u001b[0mpredict_proba\u001b[0m\u001b[1;33m(\u001b[0m\u001b[0mX_test\u001b[0m\u001b[1;33m)\u001b[0m\u001b[1;33m\u001b[0m\u001b[0m\n\u001b[0;32m      6\u001b[0m \u001b[1;33m\u001b[0m\u001b[0m\n\u001b[1;32m----> 7\u001b[1;33m \u001b[0mprint\u001b[0m\u001b[1;33m(\u001b[0m\u001b[0mprecision_score\u001b[0m\u001b[1;33m(\u001b[0m\u001b[0my_train\u001b[0m\u001b[1;33m,\u001b[0m \u001b[0my_train_predict\u001b[0m\u001b[1;33m)\u001b[0m\u001b[1;33m)\u001b[0m\u001b[1;33m\u001b[0m\u001b[0m\n\u001b[0m\u001b[0;32m      8\u001b[0m \u001b[0mprint\u001b[0m\u001b[1;33m(\u001b[0m\u001b[0mprecision_score\u001b[0m\u001b[1;33m(\u001b[0m\u001b[0my_test\u001b[0m\u001b[1;33m,\u001b[0m \u001b[0my_test_predict\u001b[0m\u001b[1;33m)\u001b[0m\u001b[1;33m)\u001b[0m\u001b[1;33m\u001b[0m\u001b[0m\n\u001b[0;32m      9\u001b[0m \u001b[1;33m\u001b[0m\u001b[0m\n",
      "\u001b[1;32m~\\AppData\\Local\\Continuum\\anaconda3\\lib\\site-packages\\sklearn\\metrics\\classification.py\u001b[0m in \u001b[0;36mprecision_score\u001b[1;34m(y_true, y_pred, labels, pos_label, average, sample_weight)\u001b[0m\n\u001b[0;32m   1259\u001b[0m                                                  \u001b[0maverage\u001b[0m\u001b[1;33m=\u001b[0m\u001b[0maverage\u001b[0m\u001b[1;33m,\u001b[0m\u001b[1;33m\u001b[0m\u001b[0m\n\u001b[0;32m   1260\u001b[0m                                                  \u001b[0mwarn_for\u001b[0m\u001b[1;33m=\u001b[0m\u001b[1;33m(\u001b[0m\u001b[1;34m'precision'\u001b[0m\u001b[1;33m,\u001b[0m\u001b[1;33m)\u001b[0m\u001b[1;33m,\u001b[0m\u001b[1;33m\u001b[0m\u001b[0m\n\u001b[1;32m-> 1261\u001b[1;33m                                                  sample_weight=sample_weight)\n\u001b[0m\u001b[0;32m   1262\u001b[0m     \u001b[1;32mreturn\u001b[0m \u001b[0mp\u001b[0m\u001b[1;33m\u001b[0m\u001b[0m\n\u001b[0;32m   1263\u001b[0m \u001b[1;33m\u001b[0m\u001b[0m\n",
      "\u001b[1;32m~\\AppData\\Local\\Continuum\\anaconda3\\lib\\site-packages\\sklearn\\metrics\\classification.py\u001b[0m in \u001b[0;36mprecision_recall_fscore_support\u001b[1;34m(y_true, y_pred, beta, labels, pos_label, average, warn_for, sample_weight)\u001b[0m\n\u001b[0;32m   1023\u001b[0m         \u001b[1;32mraise\u001b[0m \u001b[0mValueError\u001b[0m\u001b[1;33m(\u001b[0m\u001b[1;34m\"beta should be >0 in the F-beta score\"\u001b[0m\u001b[1;33m)\u001b[0m\u001b[1;33m\u001b[0m\u001b[0m\n\u001b[0;32m   1024\u001b[0m \u001b[1;33m\u001b[0m\u001b[0m\n\u001b[1;32m-> 1025\u001b[1;33m     \u001b[0my_type\u001b[0m\u001b[1;33m,\u001b[0m \u001b[0my_true\u001b[0m\u001b[1;33m,\u001b[0m \u001b[0my_pred\u001b[0m \u001b[1;33m=\u001b[0m \u001b[0m_check_targets\u001b[0m\u001b[1;33m(\u001b[0m\u001b[0my_true\u001b[0m\u001b[1;33m,\u001b[0m \u001b[0my_pred\u001b[0m\u001b[1;33m)\u001b[0m\u001b[1;33m\u001b[0m\u001b[0m\n\u001b[0m\u001b[0;32m   1026\u001b[0m     \u001b[0mpresent_labels\u001b[0m \u001b[1;33m=\u001b[0m \u001b[0munique_labels\u001b[0m\u001b[1;33m(\u001b[0m\u001b[0my_true\u001b[0m\u001b[1;33m,\u001b[0m \u001b[0my_pred\u001b[0m\u001b[1;33m)\u001b[0m\u001b[1;33m\u001b[0m\u001b[0m\n\u001b[0;32m   1027\u001b[0m \u001b[1;33m\u001b[0m\u001b[0m\n",
      "\u001b[1;32m~\\AppData\\Local\\Continuum\\anaconda3\\lib\\site-packages\\sklearn\\metrics\\classification.py\u001b[0m in \u001b[0;36m_check_targets\u001b[1;34m(y_true, y_pred)\u001b[0m\n\u001b[0;32m     79\u001b[0m     \u001b[1;32mif\u001b[0m \u001b[0mlen\u001b[0m\u001b[1;33m(\u001b[0m\u001b[0my_type\u001b[0m\u001b[1;33m)\u001b[0m \u001b[1;33m>\u001b[0m \u001b[1;36m1\u001b[0m\u001b[1;33m:\u001b[0m\u001b[1;33m\u001b[0m\u001b[0m\n\u001b[0;32m     80\u001b[0m         raise ValueError(\"Classification metrics can't handle a mix of {0} \"\n\u001b[1;32m---> 81\u001b[1;33m                          \"and {1} targets\".format(type_true, type_pred))\n\u001b[0m\u001b[0;32m     82\u001b[0m \u001b[1;33m\u001b[0m\u001b[0m\n\u001b[0;32m     83\u001b[0m     \u001b[1;31m# We can't have more than one value on y_type => The set is no more needed\u001b[0m\u001b[1;33m\u001b[0m\u001b[1;33m\u001b[0m\u001b[0m\n",
      "\u001b[1;31mValueError\u001b[0m: Classification metrics can't handle a mix of multiclass and continuous-multioutput targets"
     ]
    }
   ],
   "source": [
    "clf = RandomForestClassifier()\n",
    "clf.fit(X_train, y_train)\n",
    "\n",
    "y_train_predict = clf.predict_proba(X_train)\n",
    "y_test_predict = clf.predict_proba(X_test)\n",
    "\n",
    "print(precision_score(y_train, y_train_predict))\n",
    "print(precision_score(y_test, y_test_predict))\n",
    "\n",
    "print(accuracy_score(y_train, y_train_predict))\n",
    "print(accuracy_score(y_test, y_test_predict))\n"
   ]
  },
  {
   "cell_type": "code",
   "execution_count": null,
   "metadata": {},
   "outputs": [],
   "source": [
    "# прогноз по классам с регионами\n",
    "\n",
    "from sklearn.ensemble import RandomForestClassifier\n",
    "from sklearn.model_selection import train_test_split\n",
    "from sklearn.metrics import roc_auc_score, precision_score, accuracy_score\n",
    "X = train_df1.drop(['msale'],axis=1)\n",
    "y = pd.qcut(train_df1['msale'],3,labels=['bad','medium','good'])\n",
    "\n",
    "X_train, X_test, y_train, y_test = train_test_split(X, y, test_size=0.2)\n",
    "clf = RandomForestClassifier()\n",
    "clf.fit(X_train, y_train)\n",
    "\n",
    "y_train_predict = clf.predict_proba(X_train)\n",
    "y_test_predict = clf.predict_proba(X_test)\n",
    "\n",
    "print(roc_auc_score(y_train, y_train_predict))\n",
    "print(roc_auc_score(y_test, y_test_predict))\n",
    "\n",
    "print(precision_score(y_train, y_train_predict))\n",
    "print(precision_score(y_test, y_test_predict))\n",
    "\n",
    "print(accuracy_score(y_train, y_train_predict))\n",
    "print(accuracy_score(y_test, y_test_predict))\n"
   ]
  }
 ],
 "metadata": {
  "kernelspec": {
   "display_name": "Python 3",
   "language": "python",
   "name": "python3"
  },
  "language_info": {
   "codemirror_mode": {
    "name": "ipython",
    "version": 3
   },
   "file_extension": ".py",
   "mimetype": "text/x-python",
   "name": "python",
   "nbconvert_exporter": "python",
   "pygments_lexer": "ipython3",
   "version": "3.7.0"
  }
 },
 "nbformat": 4,
 "nbformat_minor": 2
}
