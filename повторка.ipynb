{
 "cells": [
  {
   "cell_type": "code",
   "execution_count": 1,
   "metadata": {},
   "outputs": [],
   "source": [
    "# забирает только то что нужно из повторки\n",
    "\n",
    "import pandas as pd\n",
    "\n",
    "povtora = pd.read_excel(r'C:\\анаконда\\повторка.xlsx')\n",
    "\n",
    "del povtora['№ Поставщика']\n",
    "\n",
    "povtora = povtora[\n",
    "    (povtora['Склад'] != 4001) & #4001 исключается для всех\n",
    "    (((povtora['Тип изделия 1'] == 'КОЛЬЦО ОБРУЧАЛЬНОЕ') & (povtora['Товарное направление'] == 'БК'))|\n",
    "    (povtora['Дизайн'].str.contains('ИФ ДЕТСК') & (povtora['Товарное направление'] == 'БК'))|\n",
    "    #((povtora['Тип изделия 1'] == 'ПОДВЕС КУЛЬТОВЫЙ') & (povtora['Товарное направление'] == 'ИФ') & (povtora['Ценовая корзина'] != 'ДОРОГАЯ'))|\n",
    "    ((povtora['Тип изделия 1'] == 'КОЛЬЦО') & (povtora['Дизайн'] == 'ИФ КУЛЬТОВОЕ')))|\n",
    "    #4001 не исключается \n",
    "    ((povtora['Дизайн'] == 'ИФ БУДДА')|(povtora['Дизайн'] == 'ИФ СУРА')|(povtora['Дизайн'] == 'ИФ ПОЛУМЕСЯЦ')|(povtora['Дизайн'] == 'ИФ МЕЧЕТЬ'))\n",
    "     ]\n",
    "\n",
    "povtora.sort_values(by=['Тип изделия 1', 'Склад' ,'Дизайн', 'Артикул', 'Отправить на','Размер'], inplace=True)\n",
    "\n",
    "# считаем количество повторений това\n",
    "dict_count = povtora['Товар'].value_counts().to_dict()\n",
    "povtora['Скидка по штрихкоду'] = povtora['Товар'].map(dict_count)\n",
    "\n",
    "\n",
    "povtora.to_excel(r'C:\\Users\\Dotsenko.Semen\\Documents\\повторка.xlsx', sheet_name='Движение товара', index=False)"
   ]
  },
  {
   "cell_type": "code",
   "execution_count": null,
   "metadata": {},
   "outputs": [],
   "source": []
  }
 ],
 "metadata": {
  "kernelspec": {
   "display_name": "Python 3",
   "language": "python",
   "name": "python3"
  },
  "language_info": {
   "codemirror_mode": {
    "name": "ipython",
    "version": 3
   },
   "file_extension": ".py",
   "mimetype": "text/x-python",
   "name": "python",
   "nbconvert_exporter": "python",
   "pygments_lexer": "ipython3",
   "version": "3.7.0"
  }
 },
 "nbformat": 4,
 "nbformat_minor": 2
}
