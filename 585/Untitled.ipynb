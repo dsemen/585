{
 "cells": [
  {
   "cell_type": "code",
   "execution_count": 1,
   "metadata": {},
   "outputs": [],
   "source": [
    "import pandas as pd\n",
    "\n",
    "ost = pd.read_csv(r'C:\\Users\\Dotsenko.Semen\\Documents\\tmp.csv', delimiter=';', encoding='utf-8',low_memory=False,\n",
    "               usecols=[0,1,2,3,4,11,14,15,21,22,27,29,30,31,32,37,39,40])"
   ]
  },
  {
   "cell_type": "code",
   "execution_count": 5,
   "metadata": {},
   "outputs": [
    {
     "name": "stdout",
     "output_type": "stream",
     "text": [
      "<class 'pandas.core.frame.DataFrame'>\n",
      "RangeIndex: 2710983 entries, 0 to 2710982\n",
      "Data columns (total 18 columns):\n",
      "КодСклада            int64\n",
      "НазваниеСклада       object\n",
      "ТоварНо              object\n",
      "СерийныйНомер        object\n",
      "Тип1                 object\n",
      "ШК                   int64\n",
      "Вес                  object\n",
      "ЧистыйВес            object\n",
      "СуммаРеализации      object\n",
      "СуммаПрихода         object\n",
      "ГруппаНаценки        object\n",
      "СкидкаПоШК           object\n",
      "СкидакаПоГруппе      object\n",
      "СкидкаЗапрещена      bool\n",
      "ТоварнаяПодгруппа    int64\n",
      "Невыкупа             bool\n",
      "ТоварнаяГруппа       object\n",
      "Price_f              object\n",
      "dtypes: bool(2), int64(3), object(13)\n",
      "memory usage: 336.1+ MB\n"
     ]
    }
   ],
   "source": [
    "ost.info()"
   ]
  },
  {
   "cell_type": "code",
   "execution_count": 6,
   "metadata": {},
   "outputs": [
    {
     "name": "stdout",
     "output_type": "stream",
     "text": [
      "<class 'pandas.core.frame.DataFrame'>\n",
      "RangeIndex: 233681 entries, 0 to 233680\n",
      "Data columns (total 1 columns):\n",
      "сер    233681 non-null object\n",
      "dtypes: object(1)\n",
      "memory usage: 1.8+ MB\n"
     ]
    }
   ],
   "source": [
    "sales = pd.read_excel(r'C:\\анаконда\\сер.xlsx')\n",
    "sales.info()"
   ]
  },
  {
   "cell_type": "code",
   "execution_count": null,
   "metadata": {},
   "outputs": [],
   "source": []
  }
 ],
 "metadata": {
  "kernelspec": {
   "display_name": "Python 3",
   "language": "python",
   "name": "python3"
  },
  "language_info": {
   "codemirror_mode": {
    "name": "ipython",
    "version": 3
   },
   "file_extension": ".py",
   "mimetype": "text/x-python",
   "name": "python",
   "nbconvert_exporter": "python",
   "pygments_lexer": "ipython3",
   "version": "3.7.0"
  }
 },
 "nbformat": 4,
 "nbformat_minor": 2
}
