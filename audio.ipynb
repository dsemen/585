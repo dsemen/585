{
 "cells": [
  {
   "cell_type": "code",
   "execution_count": 8,
   "metadata": {},
   "outputs": [
    {
     "name": "stdout",
     "output_type": "stream",
     "text": [
      "[0.796, 0.44, 0.872, 0.975, 0.669, 0.831]\n"
     ]
    }
   ],
   "source": [
    "mylist = [0.796,0.44,0.872,0.975,0.669,0.831]\n",
    " \n",
    "# Записали массив в файл\n",
    "with open(\"C:/аГУАП/demo.txt\", \"w\") as output:\n",
    "    output.write(str(mylist))\n",
    "\n",
    "#Прочитали массив из файла и вывели на экран\n",
    "f = open(\"C:/аГУАП/demo.txt\")\n",
    "print(f.read())\n",
    " \n",
    "\n",
    "f.close()\n",
    "\n"
   ]
  },
  {
   "cell_type": "code",
   "execution_count": 10,
   "metadata": {},
   "outputs": [
    {
     "name": "stdout",
     "output_type": "stream",
     "text": [
      "9 7 1\n",
      "4 6 0\n",
      "2 6 2\n",
      "\n"
     ]
    }
   ],
   "source": [
    "mylist = [\n",
    "    [9, 7, 1],\n",
    "    [4, 6, 0],\n",
    "    [2, 6, 2]]\n",
    " \n",
    "with open(\"C:/аГУАП/demo.txt\", 'w') as file:\n",
    "        for row in mylist:\n",
    "            s = \" \".join(map(str, row))\n",
    "            file.write(s+'\\n')\n",
    "\n",
    "f = open(\"C:/аГУАП/demo.txt\")\n",
    "print(f.read())\n",
    " \n",
    "\n",
    "f.close()"
   ]
  },
  {
   "cell_type": "code",
   "execution_count": 46,
   "metadata": {},
   "outputs": [],
   "source": [
    "n, g, y = '2','Z0410M', '2022'\n",
    "line1 = f\"N – номер по журналу {n} \\n\"\n",
    "line2 = f\"G – номер вашей группы {g} \\n\"\n",
    "line3 = f\"Y – год поступления {y} \\n\"\n",
    "with open(\"C:/аГУАП/Доценко_ Z0410M.txt\", 'w') as f:\n",
    "    f.writelines([line1, line2, line3])"
   ]
  },
  {
   "cell_type": "code",
   "execution_count": 47,
   "metadata": {},
   "outputs": [],
   "source": [
    "n, g, y = 2, 410, 2022\n",
    "line1 = f\"N – номер по журналу * 0.33 - {n * 0.33} \\n\"\n",
    "line2 = f\"G – номер вашей группы * 0.33 - {g * 0.33} \\n\"\n",
    "line3 = f\"Y – год поступления * 0.33 - {y * 0.33} \\n\"\n",
    "with open(\"C:/аГУАП/Доценко_ Z0410M.txt\", 'w') as f:\n",
    "    f.writelines([line1, line2, line3])"
   ]
  },
  {
   "cell_type": "code",
   "execution_count": 15,
   "metadata": {},
   "outputs": [
    {
     "name": "stdout",
     "output_type": "stream",
     "text": [
      "b'signalaz\\x00\\x00\\x00\\x00\\x00\\x00\\x00\\x00\\x00\\x00\\x00\\x00\\x00\\x00\\x00\\x02\\x00\\x00\\x01\\x00\\x00\\x00\\x00 \\x00\\x00+\\xc0\\x00\\x00\\x01E\\x00\\x00\\x15\\xc2\\x00\\x00\\x00\\xc0\\x00\\x00\\x00\\x00\\x00\\x00\\x00\\x00<#\\xd7\\n\\x00\\x00\\x00\\x00\\x00\\x00\\x00\\x00\\x00\\x00\\x00\\x00\\x00\\x00\\x00\\x00\\x00\\x00\\x00\\x00\\x00\\x00\\x00\\x00\\x00\\x00\\x00\\x00\\x00\\x00\\x00\\x00\\x00\\x00\\x00\\x01\\x00\\x00\\x00\\x06\\x00\\x00\\x15\\xe0A\\xd8\\x00\\x00\\x00\\x00\\x00\\x00\\xffp\\x00\\x11\\xff\\x8e\\x00\\t\\xff\\x96\\x00\\x0c\\xff\\x84\\x00\\x07\\xff\\x8b\\xfe$\\xff\\xd3\\xfd\\xfa\\xff\\xc6\\xfd\\xe5\\xff\\xf0\\xfd\\xdb\\xff\\xdf\\xfd\\xfa\\xff\\xef\\xfd\\xf2\\xff\\xef\\xfd\\xc3\\x00\\x10\\xfd\\xf5\\x00\\t\\xfd\\xe6\\xff\\xf7\\xfd\\xfa\\x00\\x00\\xfe\\x9a\\xfe\\xd1\\x02C\\xfe\\xb9\\x02\\x1f\\xfe\\xce\\x02B\\xfe\\xbd\\x02]\\x00D\\xfd\\xcb\\x00C\\xfd\\xfc\\x00>\\xfe\\x06\\x00:\\xfd\\xee\\xfe\\x97\\x029\\xfe\\x88\\x02\\x0b\\x00X\\xfd\\xf9\\x00r\\xfe\\x0f\\xfe\\x90\\x02\\x05\\xfeX\\x02\\r\\x00\\x7f\\xfeJ\\x00\\x9d\\xfe)\\xffg\\x00%'\n"
     ]
    }
   ],
   "source": [
    "f = open('C:/аГУАП/sig', 'rb')\n",
    "\n",
    "# Получить одну строку из бинарного файла\n",
    "d = f.read()\n",
    "\n",
    "# Вывести эту строку.\n",
    "# Будет получен вывод в виде строки символов\n",
    "print(d) # d = b'\\x80\\x03]q\\x00(K\\x01\\x88G@\\x07\\n=p\\xa3\\xd7\\ne.'"
   ]
  },
  {
   "cell_type": "code",
   "execution_count": 28,
   "metadata": {},
   "outputs": [],
   "source": [
    "import numpy as np \n",
    "import matplotlib.pyplot as plt\n",
    "import seaborn as sns\n",
    "\n",
    "y = np.fromfile('C:/аГУАП/sig')\n",
    "x = np.arange(len(y))\n",
    "\n"
   ]
  },
  {
   "cell_type": "code",
   "execution_count": 21,
   "metadata": {},
   "outputs": [
    {
     "data": {
      "text/plain": [
       "array([ 0.        ,  0.6122449 ,  1.2244898 ,  1.83673469,  2.44897959,\n",
       "        3.06122449,  3.67346939,  4.28571429,  4.89795918,  5.51020408,\n",
       "        6.12244898,  6.73469388,  7.34693878,  7.95918367,  8.57142857,\n",
       "        9.18367347,  9.79591837, 10.40816327, 11.02040816, 11.63265306,\n",
       "       12.24489796, 12.85714286, 13.46938776, 14.08163265, 14.69387755,\n",
       "       15.30612245, 15.91836735, 16.53061224, 17.14285714, 17.75510204,\n",
       "       18.36734694, 18.97959184, 19.59183673, 20.20408163, 20.81632653,\n",
       "       21.42857143, 22.04081633, 22.65306122, 23.26530612, 23.87755102,\n",
       "       24.48979592, 25.10204082, 25.71428571, 26.32653061, 26.93877551,\n",
       "       27.55102041, 28.16326531, 28.7755102 , 29.3877551 , 30.        ])"
      ]
     },
     "execution_count": 21,
     "metadata": {},
     "output_type": "execute_result"
    }
   ],
   "source": [
    "x"
   ]
  },
  {
   "cell_type": "code",
   "execution_count": 29,
   "metadata": {},
   "outputs": [
    {
     "data": {
      "text/plain": [
       "[<matplotlib.lines.Line2D at 0x1e18fea4b00>]"
      ]
     },
     "execution_count": 29,
     "metadata": {},
     "output_type": "execute_result"
    },
    {
     "data": {
      "image/png": "[encoded data removed]",
      "text/plain": [
       "<Figure size 432x288 with 1 Axes>"
      ]
     },
     "metadata": {
      "needs_background": "light"
     },
     "output_type": "display_data"
    }
   ],
   "source": [
    "plt.plot(x,y)"
   ]
  },
  {
   "cell_type": "code",
   "execution_count": 43,
   "metadata": {},
   "outputs": [],
   "source": [
    "import tkinter\n",
    "\n",
    "from matplotlib.backends.backend_tkagg import (\n",
    "    FigureCanvasTkAgg, NavigationToolbar2Tk)\n",
    "from matplotlib.backend_bases import key_press_handler\n",
    "from matplotlib.figure import Figure\n",
    "\n",
    "import numpy as np\n",
    "\n",
    "y = np.fromfile('C:/аГУАП/sig')\n",
    "x = np.arange(len(y))\n",
    "\n",
    "root = tkinter.Tk()\n",
    "root.wm_title(\"Embedding in Tk\")\n",
    "\n",
    "fig = Figure(figsize=(5, 4), dpi=100)\n",
    "\n",
    "fig.add_subplot(111).plot(x, )\n",
    "\n",
    "canvas = FigureCanvasTkAgg(fig, master=root)  # A tk.DrawingArea.\n",
    "canvas.draw()\n",
    "canvas.get_tk_widget().pack(side=tkinter.TOP, fill=tkinter.BOTH, expand=1)\n",
    "\n",
    "toolbar = NavigationToolbar2Tk(canvas, root)\n",
    "toolbar.update()\n",
    "canvas.get_tk_widget().pack(side=tkinter.TOP, fill=tkinter.BOTH, expand=1)\n",
    "\n",
    "\n",
    "def on_key_press(event):\n",
    "    print(\"you pressed {}\".format(event.key))\n",
    "    key_press_handler(event, canvas, toolbar)\n",
    "\n",
    "\n",
    "canvas.mpl_connect(\"key_press_event\", on_key_press)\n",
    "\n",
    "\n",
    "def _quit():\n",
    "    root.quit()     \n",
    "\n",
    "button = tkinter.Button(master=root, text=\"Quit\", command=_quit)\n",
    "button.pack(side=tkinter.BOTTOM)\n",
    "\n",
    "tkinter.mainloop()"
   ]
  },
  {
   "cell_type": "code",
   "execution_count": 44,
   "metadata": {},
   "outputs": [
    {
     "data": {
      "text/plain": [
       "array([ 3.16269939e+281,  0.00000000e+000,  4.77830973e-299,\n",
       "        1.49166815e-154,  2.56896910e+024, -2.00000145e+000,\n",
       "        0.00000000e+000,  8.98564206e-316,  0.00000000e+000,\n",
       "        0.00000000e+000,  0.00000000e+000,  7.29112202e-304,\n",
       "       -7.03909928e+154,  2.73519682e-319,  2.56765640e-265,\n",
       "        5.96418773e-275, -2.77218168e+284, -1.36016077e+135,\n",
       "       -8.17658594e+245, -2.23423791e+260, -2.78525223e+284,\n",
       "        6.62180129e+014,  1.00977715e+010, -1.14814588e+058,\n",
       "        5.45930540e-275,  4.47627857e-034, -4.16132482e+279,\n",
       "        1.56070659e-284,  1.82559097e+053,  1.84910202e-130])"
      ]
     },
     "execution_count": 44,
     "metadata": {},
     "output_type": "execute_result"
    }
   ],
   "source": [
    "y\n"
   ]
  },
  {
   "cell_type": "code",
   "execution_count": 45,
   "metadata": {},
   "outputs": [
    {
     "ename": "ModuleNotFoundError",
     "evalue": "No module named 'cv2'",
     "output_type": "error",
     "traceback": [
      "\u001b[1;31m---------------------------------------------------------------------------\u001b[0m",
      "\u001b[1;31mModuleNotFoundError\u001b[0m                       Traceback (most recent call last)",
      "\u001b[1;32m<ipython-input-45-c8ec22b3e787>\u001b[0m in \u001b[0;36m<module>\u001b[1;34m()\u001b[0m\n\u001b[1;32m----> 1\u001b[1;33m \u001b[1;32mimport\u001b[0m \u001b[0mcv2\u001b[0m\u001b[1;33m\u001b[0m\u001b[0m\n\u001b[0m",
      "\u001b[1;31mModuleNotFoundError\u001b[0m: No module named 'cv2'"
     ]
    }
   ],
   "source": [
    "import cv2"
   ]
  },
  {
   "cell_type": "code",
   "execution_count": null,
   "metadata": {},
   "outputs": [],
   "source": []
  },
  {
   "cell_type": "code",
   "execution_count": null,
   "metadata": {},
   "outputs": [],
   "source": []
  },
  {
   "cell_type": "code",
   "execution_count": null,
   "metadata": {},
   "outputs": [],
   "source": []
  },
  {
   "cell_type": "code",
   "execution_count": null,
   "metadata": {},
   "outputs": [],
   "source": []
  },
  {
   "cell_type": "code",
   "execution_count": null,
   "metadata": {},
   "outputs": [],
   "source": []
  },
  {
   "cell_type": "code",
   "execution_count": null,
   "metadata": {},
   "outputs": [],
   "source": []
  },
  {
   "cell_type": "code",
   "execution_count": null,
   "metadata": {},
   "outputs": [],
   "source": []
  },
  {
   "cell_type": "code",
   "execution_count": null,
   "metadata": {},
   "outputs": [],
   "source": []
  },
  {
   "cell_type": "code",
   "execution_count": null,
   "metadata": {},
   "outputs": [],
   "source": []
  },
  {
   "cell_type": "code",
   "execution_count": null,
   "metadata": {},
   "outputs": [],
   "source": []
  },
  {
   "cell_type": "code",
   "execution_count": null,
   "metadata": {},
   "outputs": [],
   "source": []
  }
 ],
 "metadata": {
  "kernelspec": {
   "display_name": "Python 3",
   "language": "python",
   "name": "python3"
  },
  "language_info": {
   "codemirror_mode": {
    "name": "ipython",
    "version": 3
   },
   "file_extension": ".py",
   "mimetype": "text/x-python",
   "name": "python",
   "nbconvert_exporter": "python",
   "pygments_lexer": "ipython3",
   "version": "3.7.0"
  }
 },
 "nbformat": 4,
 "nbformat_minor": 2
}
