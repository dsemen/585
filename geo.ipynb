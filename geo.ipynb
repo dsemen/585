{
 "cells": [
  {
   "cell_type": "code",
   "execution_count": 89,
   "metadata": {},
   "outputs": [],
   "source": [
    "# Из списка с городами убираем дубликаты и добавляем нужную геоинфу \n",
    "import pandas as pd\n",
    "df = pd.read_excel(\n",
    "    r'\\\\gold585.int\\uk\\Общее хранилище файлов\\Коммерческий департамент\\Отдел закупки\\ЛИЧНЫЕ\\Семен\\анализ юг.xlsx',\n",
    "    usecols=[2])\n",
    "new_df = pd.DataFrame({'city':df.город.unique()})"
   ]
  },
  {
   "cell_type": "code",
   "execution_count": 90,
   "metadata": {},
   "outputs": [],
   "source": [
    "from geopy.geocoders import Nominatim\n",
    "geolocator = Nominatim(user_agent='Yandex')\n",
    "new_df['full_name'] = new_df['city'].apply(lambda x: (geolocator.geocode(x,timeout=10000)))\n"
   ]
  },
  {
   "cell_type": "code",
   "execution_count": 91,
   "metadata": {},
   "outputs": [],
   "source": [
    "new_df['full_name'] = new_df['full_name'].fillna(0)"
   ]
  },
  {
   "cell_type": "code",
   "execution_count": 92,
   "metadata": {},
   "outputs": [],
   "source": [
    "new_df['latitude'] = new_df['full_name'].apply(lambda x: x.latitude if x!= 0 else 0 )"
   ]
  },
  {
   "cell_type": "code",
   "execution_count": 93,
   "metadata": {},
   "outputs": [],
   "source": [
    "new_df['longitude'] = new_df['full_name'].apply(lambda x: x.longitude if x!= 0 else 0 )"
   ]
  },
  {
   "cell_type": "code",
   "execution_count": 94,
   "metadata": {},
   "outputs": [],
   "source": [
    "new_df['coord'] = new_df['full_name'].apply(lambda x: (x.latitude, x.longitude))"
   ]
  },
  {
   "cell_type": "code",
   "execution_count": 98,
   "metadata": {},
   "outputs": [],
   "source": [
    "from geopy.distance import geodesic\n",
    "vlad = (43.024593, 44.68211)\n",
    "nal = (43.4883695, 43.610560193588)\n",
    "new_df['distance vlad'] = new_df['coord'].apply(lambda x: geodesic(vlad,x).km)\n",
    "new_df['distance nal'] = new_df['coord'].apply(lambda x: geodesic(nal,x).km)"
   ]
  },
  {
   "cell_type": "code",
   "execution_count": 99,
   "metadata": {},
   "outputs": [],
   "source": [
    "new_df.to_excel( r'\\\\gold585.int\\uk\\Общее хранилище файлов\\Коммерческий департамент\\Отдел закупки\\ЛИЧНЫЕ\\Семен\\для анализ юг1.xlsx')"
   ]
  },
  {
   "cell_type": "code",
   "execution_count": null,
   "metadata": {},
   "outputs": [],
   "source": [
    "df['coord'] = df['address'].apply(geolocator.geocode).apply(lambda x: (x.latitude, x.longitude))"
   ]
  },
  {
   "cell_type": "code",
   "execution_count": 107,
   "metadata": {},
   "outputs": [
    {
     "name": "stdout",
     "output_type": "stream",
     "text": [
      "701.1226097859368\n",
      "772.0011342236569\n"
     ]
    }
   ],
   "source": [
    "с = (49.65690635, 41.6993391207763)\n",
    "print(geodesic(nal,(с)).km)\n",
    "print(geodesic(vlad,(с)).km)"
   ]
  },
  {
   "cell_type": "code",
   "execution_count": 104,
   "metadata": {},
   "outputs": [
    {
     "name": "stdout",
     "output_type": "stream",
     "text": [
      "52.337971 35.351743\n"
     ]
    }
   ],
   "source": [
    "from geopy.geocoders import Yandex\n",
    "geolocator = Yandex()\n",
    "location = geolocator.geocode(\"Железногорск\")\n",
    "print(location.latitude, location.longitude)\n"
   ]
  },
  {
   "cell_type": "code",
   "execution_count": 120,
   "metadata": {},
   "outputs": [
    {
     "name": "stdout",
     "output_type": "stream",
     "text": [
      "Уральские кабельные сети - Озерск, 35А, улица Дзержинского, Озёрск, Озёрский городской округ, Челябинская область, Уральский федеральный округ, 456785, РФ\n"
     ]
    }
   ],
   "source": [
    "from geopy.geocoders import Nominatim\n",
    "geolocator = Nominatim(user_agent=\"my-application\")\n",
    "location = geolocator.geocode(\"Озерск, Дзержинского\")\n",
    "print(location)"
   ]
  },
  {
   "cell_type": "code",
   "execution_count": null,
   "metadata": {},
   "outputs": [],
   "source": [
    "#проставляет к городу полный адрес\n",
    "from geopy.extra.rate_limiter import RateLimiter\n",
    "from geopy.geocoders import Nominatim\n",
    "geolocator = Nominatim(user_agent=\"my-application\",country_bias='Ru')\n",
    "geocode = RateLimiter(geolocator.geocode, min_delay_seconds=1)\n",
    "geo_df['full_address'] = geo_df['city'].apply(geocode)"
   ]
  },
  {
   "cell_type": "code",
   "execution_count": 12,
   "metadata": {},
   "outputs": [],
   "source": [
    "import pandas as pd\n",
    "from geopy.geocoders import Yandex\n",
    "\n",
    "geolocator = Yandex(api_key='6e812556-1ed1-445c-9efc-727060bf204a', timeout=10000)\n",
    "\n",
    "geo_df = pd.read_excel(r'C:\\Users\\Dotsenko.Semen\\Downloads\\словарик_города.xlsx')\n",
    "\n",
    "geo_df['full_address_yandex'] = geo_df['city'].apply(geolocator.geocode)\n",
    "\n",
    "geo_df.to_excel(r'C:\\Users\\Dotsenko.Semen\\Downloads\\словарик_города.xlsx')\n"
   ]
  },
  {
   "cell_type": "code",
   "execution_count": null,
   "metadata": {},
   "outputs": [],
   "source": []
  },
  {
   "cell_type": "code",
   "execution_count": 97,
   "metadata": {},
   "outputs": [],
   "source": [
    "import pandas as pd\n",
    "geo_df = pd.read_excel(r'C:\\Users\\Dotsenko.Semen\\Downloads\\словарик_города.xlsx')\n",
    "\n",
    "numbers = [str(a) for a in list(range(0,10))]\n",
    "geo_df['district'] = geo_df.full_address.apply(lambda x: x.split(',')[-2] if \n",
    "                          any([num in numbers for num in list(x.split(',')[-1])]) \n",
    "                          else x.split(',')[-1])\n",
    "\n",
    "geo_df['region'] = geo_df.full_address.apply(lambda x: x.split(',')[-3] if \n",
    "                          any([num in numbers for num in list(x.split(',')[-1])]) \n",
    "                          else x.split(',')[-2])\n",
    "\n",
    "geo_df.to_excel(r'C:\\Users\\Dotsenko.Semen\\Downloads\\словарик_города.xlsx')"
   ]
  },
  {
   "cell_type": "code",
   "execution_count": null,
   "metadata": {},
   "outputs": [],
   "source": [
    "import numpy as np\n",
    "np.matrix()"
   ]
  },
  {
   "cell_type": "code",
   "execution_count": null,
   "metadata": {},
   "outputs": [],
   "source": []
  },
  {
   "cell_type": "code",
   "execution_count": null,
   "metadata": {},
   "outputs": [],
   "source": []
  },
  {
   "cell_type": "code",
   "execution_count": null,
   "metadata": {},
   "outputs": [],
   "source": []
  },
  {
   "cell_type": "code",
   "execution_count": null,
   "metadata": {},
   "outputs": [],
   "source": []
  }
 ],
 "metadata": {
  "kernelspec": {
   "display_name": "Python 3",
   "language": "python",
   "name": "python3"
  },
  "language_info": {
   "codemirror_mode": {
    "name": "ipython",
    "version": 3
   },
   "file_extension": ".py",
   "mimetype": "text/x-python",
   "name": "python",
   "nbconvert_exporter": "python",
   "pygments_lexer": "ipython3",
   "version": "3.7.0"
  }
 },
 "nbformat": 4,
 "nbformat_minor": 2
}
