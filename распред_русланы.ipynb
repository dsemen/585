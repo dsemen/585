{
 "cells": [
  {
   "cell_type": "code",
   "execution_count": 12,
   "metadata": {},
   "outputs": [],
   "source": [
    "# Распред букв 0\n",
    "\n",
    "import ipywidgets as widgets\n",
    "\n",
    "file = widgets.RadioButtons(\n",
    "    options=['обручи', 'остатки'],\n",
    "    description='ОСТАТКИ:',\n",
    "    disabled=False\n",
    ")\n",
    "\n",
    "#design = widgets.RadioButtons(\n",
    "#    options=['Буквы', 'Знаки'],\n",
    "#    description='Дизайн:',\n",
    "#    disabled=False\n",
    "#)\n",
    "#\n",
    "#widgets.HBox([tn, design])\n",
    "#"
   ]
  },
  {
   "cell_type": "code",
   "execution_count": 3,
   "metadata": {},
   "outputs": [],
   "source": [
    "import numpy as np\n",
    "import pandas as pd\n",
    "\n",
    "#РАСПРЕД ПО СПИСКУ МАГОВ\n",
    "#список складов для распреда\n",
    "\n",
    "all_llist = [5164, 5123, 5163, 4850]\n",
    "\n",
    "\n",
    "\n",
    "#prih1 = pd.read_excel(r'C:\\Users\\Dotsenko.Semen\\Documents\\Книга1.xlsx')\n",
    "#del prih1['№ Поставщика']\n",
    "#ИЛИ\n",
    "prih1 = pd.read_excel(r'C:\\рушники\\123.xlsx')\n",
    "\n",
    "prih1 = prih1.sort_values(by='Товар')\n",
    "\n",
    "# словарь тов - количество и список товов\n",
    "tov_list = prih1.Товар.unique().tolist()\n",
    "tov_dict = prih1.Товар.value_counts()[prih1.Товар.unique()].to_dict()\n",
    "\n",
    "# остатки\n",
    "\n",
    "stock = pd.read_excel(r'C:\\Остатки\\обручи.xlsx', usecols=['КодСклада','ТоварНо'])\n",
    "#stock = pd.read_excel(r'C:\\Остатки\\остатки.xlsx', usecols=['КодСклада','ТоварНо'])\n",
    "stock = stock[stock['КодСклада'].isin(all_llist) & stock['ТоварНо'].isin(tov_list)]\n",
    "\n",
    "# таблица остатки товов по складам\n",
    "pivot = pd.pivot_table(stock,index='КодСклада', columns='ТоварНо', aggfunc=len, fill_value=0).reset_index()\n",
    "pivot = pd.DataFrame({'КодСклада':all_llist}).merge(pivot, how='left')\n",
    "\n",
    "# добавим в таблицу колонки с нулями по товам, которых не хватает\n",
    "add_cols =  [x for x in tov_list if x not in pivot.columns.to_list()]\n",
    "add_zeroes = [list(np.zeros(len(all_llist), dtype='int'))] * len(add_cols)\n",
    "\n",
    "pivot = pivot.reindex(columns=pivot.columns.tolist() + add_cols)\n",
    "\n",
    "pivot.fillna(0, inplace=True)\n",
    "pivot = pivot.astype('int')\n",
    "pivot = pivot[['КодСклада'] + tov_list]\n",
    "\n",
    "# Если количество по тову в прихе больше чем в списке то к списку добавить нули, если нет то обрезать\n",
    "sklad_list = [\n",
    "    pivot[pivot[x] == 0]['КодСклада'].tolist() + \n",
    "    list(np.zeros((tov_dict[x] - len(pivot[pivot[x] == 0]['КодСклада'].tolist())), dtype='int')) \n",
    "    if \n",
    "    tov_dict[x] > len(pivot[pivot[x] == 0]['КодСклада'].tolist()) \n",
    "    else pivot[pivot[x] == 0]['КодСклада'].tolist()[:tov_dict[x]] \n",
    "    for x in tov_list\n",
    "]\n",
    "\n",
    "sklad_list = [item for sublist in sklad_list for item in sublist]\n",
    "\n",
    "prih1['Период реализации'] = sklad_list\n",
    "\n",
    "prih1 = prih1[prih1['Период реализации'] > 0]\n",
    "\n",
    "# Change 0 to 7171\n",
    "#prih1['Период реализации'] = prih1['Период реализации'].apply(lambda x: 7171 if x == 0 else x)\n",
    "\n",
    "\n",
    "# Сохраняем в ексель на лист \"движение товара\"\n",
    "\n",
    "import random\n",
    "name = 'C:/рушники/' + str(random.randrange(5000,10000)) + '.xlsx'\n",
    "prih1.to_excel(name, sheet_name='Движение товара', index=False)"
   ]
  },
  {
   "cell_type": "code",
   "execution_count": 4,
   "metadata": {
    "scrolled": true
   },
   "outputs": [
    {
     "data": {
      "text/html": [
       "<div>\n",
       "<style scoped>\n",
       "    .dataframe tbody tr th:only-of-type {\n",
       "        vertical-align: middle;\n",
       "    }\n",
       "\n",
       "    .dataframe tbody tr th {\n",
       "        vertical-align: top;\n",
       "    }\n",
       "\n",
       "    .dataframe thead th {\n",
       "        text-align: right;\n",
       "    }\n",
       "</style>\n",
       "<table border=\"1\" class=\"dataframe\">\n",
       "  <thead>\n",
       "    <tr style=\"text-align: right;\">\n",
       "      <th></th>\n",
       "      <th>Склад</th>\n",
       "    </tr>\n",
       "    <tr>\n",
       "      <th>Период реализации</th>\n",
       "      <th></th>\n",
       "    </tr>\n",
       "  </thead>\n",
       "  <tbody>\n",
       "    <tr>\n",
       "      <th>5123</th>\n",
       "      <td>15</td>\n",
       "    </tr>\n",
       "    <tr>\n",
       "      <th>5163</th>\n",
       "      <td>7</td>\n",
       "    </tr>\n",
       "    <tr>\n",
       "      <th>5164</th>\n",
       "      <td>13</td>\n",
       "    </tr>\n",
       "  </tbody>\n",
       "</table>\n",
       "</div>"
      ],
      "text/plain": [
       "                   Склад\n",
       "Период реализации       \n",
       "5123                  15\n",
       "5163                   7\n",
       "5164                  13"
      ]
     },
     "execution_count": 4,
     "metadata": {},
     "output_type": "execute_result"
    }
   ],
   "source": [
    "prih1[['Период реализации', 'Склад']].groupby(by=['Период реализации'], sort=False).count()\n"
   ]
  },
  {
   "cell_type": "code",
   "execution_count": 11,
   "metadata": {},
   "outputs": [
    {
     "data": {
      "text/plain": [
       "45"
      ]
     },
     "execution_count": 11,
     "metadata": {},
     "output_type": "execute_result"
    }
   ],
   "source": [
    "\n",
    "(prih1['Период реализации'] == 0).sum()"
   ]
  },
  {
   "cell_type": "code",
   "execution_count": 30,
   "metadata": {},
   "outputs": [
    {
     "data": {
      "text/plain": [
       "601"
      ]
     },
     "execution_count": 30,
     "metadata": {},
     "output_type": "execute_result"
    }
   ],
   "source": [
    "len(all_llist)"
   ]
  },
  {
   "cell_type": "code",
   "execution_count": null,
   "metadata": {},
   "outputs": [],
   "source": []
  }
 ],
 "metadata": {
  "kernelspec": {
   "display_name": "Python 3",
   "language": "python",
   "name": "python3"
  },
  "language_info": {
   "codemirror_mode": {
    "name": "ipython",
    "version": 3
   },
   "file_extension": ".py",
   "mimetype": "text/x-python",
   "name": "python",
   "nbconvert_exporter": "python",
   "pygments_lexer": "ipython3",
   "version": "3.7.0"
  }
 },
 "nbformat": 4,
 "nbformat_minor": 2
}
