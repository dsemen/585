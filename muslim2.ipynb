{
 "cells": [
  {
   "cell_type": "code",
   "execution_count": 1,
   "metadata": {},
   "outputs": [],
   "source": [
    "import pandas as pd\n",
    "import numpy as np\n",
    "np.random.seed(2700)"
   ]
  },
  {
   "cell_type": "markdown",
   "metadata": {},
   "source": [
    "Я заниюмаюсь управлением товародвижения в федеральной сети ювелирных магазинов (1000 магазинов). Отвечаю за изделия из золота. В данной работе хочу применить машинное обучение и гео - визуализацию на питоне для:\n",
    "\n",
    "- прогноза продаж ассортимента определенного типа для каждого торгового объекта(магазина) в отдельности\n",
    "- выявление главных признаков торгового объекта(магазина), котороые влияют на продажи ассортимента определенного типа\n",
    "\n",
    "Делать это буду на примере мусульманских подвесов.\n",
    "Для анализа буду использовать данные по продажам мусульманских подвесов из серебра, т.к. они присутствуют почти в каждом магазине.\n",
    "Практическая польза: формирование точной ассортиментной матрицы на этапе подготовки новых магазинов к открытию, что в свою очередь позволит товарным остаткам \"работать\" максимально эффективно"
   ]
  },
  {
   "cell_type": "code",
   "execution_count": 2,
   "metadata": {},
   "outputs": [],
   "source": [
    "\n",
    "#Данные с продажами и остатками 2019 год по золоту и серебру помесячно\n",
    "path = 'C:/нетология/muslim.xlsx'\n",
    "\n",
    "sales = pd.read_excel(path, sheet_name='олап', skiprows=13,usecols=list(range(0,26)))\n",
    "stock = pd.read_excel(path, sheet_name='олап', skiprows=13,usecols=list(range(27,53)), names = sales.columns.tolist())\n",
    "sales = sales.iloc[:sales.Склад.to_list().index('Общий итог')]\n",
    "stock = stock.iloc[:stock.Склад.to_list().index('Общий итог')]\n",
    "\n",
    "# меняем все отрицательные(ошибочные) продажи на ноль\n",
    "num = sales._get_numeric_data()\n",
    "num[num < 0] = 0 \n",
    "\n",
    "gold = [x for x in sales.columns.tolist() if '.1' not in x or x in ['Склад','Название']]\n",
    "silver = [x for x in sales.columns.tolist() if '.1' in x or x in ['Склад','Название']]\n",
    "\n",
    "# отделяем остатки, продажи, золото, серебро\n",
    "sales_gold = sales[gold]\n",
    "sales_silver = sales[silver]\n",
    "stock_gold = stock[gold]\n",
    "stock_silver = stock[silver]\n",
    "\n",
    "stock_gold.columns = sales_gold.columns\n",
    "stock_silver.columns = sales_gold.columns\n",
    "sales_silver.columns = sales_gold.columns\n",
    "\n"
   ]
  },
  {
   "cell_type": "code",
   "execution_count": 3,
   "metadata": {},
   "outputs": [],
   "source": [
    "# Полезные функции и переменные\n",
    "quarter_dict = {'квартал1': ['Январь,2019', 'Февраль,2019', 'Март,2019'],\n",
    "                'квартал2': ['Апрель,2019', 'Май,2019', 'Июнь,2019'],\n",
    "                'квартал3': ['Июль,2019', 'Август,2019', 'Сентябрь,2019'],\n",
    "                'квартал4': ['Октябрь,2019', 'Ноябрь,2019', 'Декабрь,2019']}\n",
    "\n",
    "quarter = ['квартал1', 'квартал2', 'квартал3', 'квартал4']\n",
    "\n",
    "months = ['Январь,2019', 'Февраль,2019', 'Март,2019', 'Апрель,2019', 'Май,2019', 'Июнь,2019',\n",
    "          'Июль,2019', 'Август,2019', 'Сентябрь,2019', 'Октябрь,2019', 'Ноябрь,2019', 'Декабрь,2019']\n",
    "\n",
    "\n",
    "def quarter(df):# возвращает датафрейм с продажами по кварталам\n",
    "    q_list = [x if x in ['Склад','Название'] else df[x].sum(axis=1) for x in list(quarter_dict.values())]\n",
    "    return pd.DataFrame(dict(zip(quarter, q_list)))\n",
    "   "
   ]
  },
  {
   "cell_type": "code",
   "execution_count": 12,
   "metadata": {},
   "outputs": [
    {
     "data": {
      "text/html": [
       "<div>\n",
       "<style scoped>\n",
       "    .dataframe tbody tr th:only-of-type {\n",
       "        vertical-align: middle;\n",
       "    }\n",
       "\n",
       "    .dataframe tbody tr th {\n",
       "        vertical-align: top;\n",
       "    }\n",
       "\n",
       "    .dataframe thead th {\n",
       "        text-align: right;\n",
       "    }\n",
       "</style>\n",
       "<table border=\"1\" class=\"dataframe\">\n",
       "  <thead>\n",
       "    <tr style=\"text-align: right;\">\n",
       "      <th></th>\n",
       "      <th>Количество магов с остатками больше нуля серебро</th>\n",
       "      <th>Количество магов с остатками больше нуля золото</th>\n",
       "    </tr>\n",
       "  </thead>\n",
       "  <tbody>\n",
       "    <tr>\n",
       "      <th>Январь,2019</th>\n",
       "      <td>910</td>\n",
       "      <td>632</td>\n",
       "    </tr>\n",
       "    <tr>\n",
       "      <th>Февраль,2019</th>\n",
       "      <td>909</td>\n",
       "      <td>626</td>\n",
       "    </tr>\n",
       "    <tr>\n",
       "      <th>Март,2019</th>\n",
       "      <td>917</td>\n",
       "      <td>625</td>\n",
       "    </tr>\n",
       "    <tr>\n",
       "      <th>Апрель,2019</th>\n",
       "      <td>924</td>\n",
       "      <td>629</td>\n",
       "    </tr>\n",
       "    <tr>\n",
       "      <th>Май,2019</th>\n",
       "      <td>921</td>\n",
       "      <td>627</td>\n",
       "    </tr>\n",
       "    <tr>\n",
       "      <th>Июнь,2019</th>\n",
       "      <td>939</td>\n",
       "      <td>633</td>\n",
       "    </tr>\n",
       "    <tr>\n",
       "      <th>Июль,2019</th>\n",
       "      <td>949</td>\n",
       "      <td>771</td>\n",
       "    </tr>\n",
       "    <tr>\n",
       "      <th>Август,2019</th>\n",
       "      <td>955</td>\n",
       "      <td>782</td>\n",
       "    </tr>\n",
       "    <tr>\n",
       "      <th>Сентябрь,2019</th>\n",
       "      <td>967</td>\n",
       "      <td>782</td>\n",
       "    </tr>\n",
       "    <tr>\n",
       "      <th>Октябрь,2019</th>\n",
       "      <td>976</td>\n",
       "      <td>793</td>\n",
       "    </tr>\n",
       "    <tr>\n",
       "      <th>Ноябрь,2019</th>\n",
       "      <td>983</td>\n",
       "      <td>798</td>\n",
       "    </tr>\n",
       "    <tr>\n",
       "      <th>Декабрь,2019</th>\n",
       "      <td>993</td>\n",
       "      <td>794</td>\n",
       "    </tr>\n",
       "  </tbody>\n",
       "</table>\n",
       "</div>"
      ],
      "text/plain": [
       "               Количество магов с остатками больше нуля серебро  \\\n",
       "Январь,2019                                                 910   \n",
       "Февраль,2019                                                909   \n",
       "Март,2019                                                   917   \n",
       "Апрель,2019                                                 924   \n",
       "Май,2019                                                    921   \n",
       "Июнь,2019                                                   939   \n",
       "Июль,2019                                                   949   \n",
       "Август,2019                                                 955   \n",
       "Сентябрь,2019                                               967   \n",
       "Октябрь,2019                                                976   \n",
       "Ноябрь,2019                                                 983   \n",
       "Декабрь,2019                                                993   \n",
       "\n",
       "               Количество магов с остатками больше нуля золото  \n",
       "Январь,2019                                                632  \n",
       "Февраль,2019                                               626  \n",
       "Март,2019                                                  625  \n",
       "Апрель,2019                                                629  \n",
       "Май,2019                                                   627  \n",
       "Июнь,2019                                                  633  \n",
       "Июль,2019                                                  771  \n",
       "Август,2019                                                782  \n",
       "Сентябрь,2019                                              782  \n",
       "Октябрь,2019                                               793  \n",
       "Ноябрь,2019                                                798  \n",
       "Декабрь,2019                                               794  "
      ]
     },
     "execution_count": 12,
     "metadata": {},
     "output_type": "execute_result"
    }
   ],
   "source": [
    "# считаем количество магов с остатками больше нуля\n",
    "\n",
    "pd.DataFrame(index=np.array(months), data=\n",
    "             {\"Количество магов с остатками больше нуля серебро\" : np.count_nonzero(stock_silver[months],axis=0),\n",
    "              \"Количество магов с остатками больше нуля золото\" : np.count_nonzero(stock_gold[months],axis=0)})\n"
   ]
  },
  {
   "cell_type": "code",
   "execution_count": 13,
   "metadata": {},
   "outputs": [
    {
     "data": {
      "text/plain": [
       "'Магазинов с остатками больше нуля целый год: 868. Если взять только эти магазины то потеряется 9% данных'"
      ]
     },
     "execution_count": 13,
     "metadata": {},
     "output_type": "execute_result"
    }
   ],
   "source": [
    "permanent = len([x for x in np.count_nonzero(stock_silver[months],axis=1) if x == 12])\n",
    "lost = sum([x-868 for x  in np.count_nonzero(stock_silver[months],axis=0)])\n",
    "'Магазинов с остатками больше нуля целый год: {}. Если взять только эти магазины то потеряется {:.0%} данных'.format(permanent, lost/(permanent*12))"
   ]
  },
  {
   "cell_type": "code",
   "execution_count": 15,
   "metadata": {},
   "outputs": [
    {
     "name": "stdout",
     "output_type": "stream",
     "text": [
      "Маги с остатками по золоту и серебру больше нуля весь год\n",
      "\n",
      "Корреляция продаж золото-серебро помесячно.\n",
      "\n",
      "Январь,2019      0.51\n",
      "Февраль,2019     0.55\n",
      "Март,2019        0.54\n",
      "Апрель,2019      0.43\n",
      "Май,2019         0.55\n",
      "Июнь,2019        0.59\n",
      "Июль,2019        0.57\n",
      "Август,2019      0.61\n",
      "Сентябрь,2019    0.53\n",
      "Октябрь,2019     0.49\n",
      "Ноябрь,2019      0.47\n",
      "Декабрь,2019     0.60\n",
      "dtype: float64\n",
      "\n",
      "Корреляция продаж золото-серебро поквартально.\n",
      "\n",
      "квартал1    0.67\n",
      "квартал2    0.67\n",
      "квартал3    0.74\n",
      "квартал4    0.71\n",
      "dtype: float64\n",
      "\n",
      "Корреляция продаж золото-серебро годовая.\n",
      "\n",
      "0.82\n"
     ]
    },
    {
     "name": "stderr",
     "output_type": "stream",
     "text": [
      "C:\\Users\\Dotsenko.Semen\\AppData\\Local\\Continuum\\anaconda3\\lib\\site-packages\\ipykernel_launcher.py:4: SettingWithCopyWarning: \n",
      "A value is trying to be set on a copy of a slice from a DataFrame.\n",
      "Try using .loc[row_indexer,col_indexer] = value instead\n",
      "\n",
      "See the caveats in the documentation: http://pandas.pydata.org/pandas-docs/stable/indexing.html#indexing-view-versus-copy\n",
      "  after removing the cwd from sys.path.\n"
     ]
    }
   ],
   "source": [
    "# По магазинам с остатками по золоту считаем корреляцию продаж золота и серебра помесячно,\n",
    "\n",
    "stock_gold['остаток месяцев'] = stock_gold[months].astype(bool).sum(axis=1)\n",
    "sws_m = stock_gold[['Склад']][stock_gold['остаток месяцев'] > 0].merge(sales)\n",
    "m_corr = pd.Series(index=np.array(months), data=np.diagonal(sws_m.corr().round(decimals=2).iloc[12: , :12].values))\n",
    "\n",
    "#поквартально,\n",
    "mlist = list(range(3,25,3))\n",
    "qdata = [sws_m.iloc[:,x-3:x].sum(axis=1).tolist() for x in mlist]\n",
    "names = ['квартал1','квартал2','квартал3','квартал4','квартал1s','квартал2s','квартал3s','квартал4s']\n",
    "sws_q = pd.DataFrame(dict(zip(names,qdata)))\n",
    "q_corr = pd.Series(index=sws_q.columns.tolist()[:4],data=np.diagonal(sws_q.corr().round(decimals=2).iloc[:4,4:].values))\n",
    "\n",
    "# годовая\n",
    "sws_y = pd.DataFrame({'золото' : sws_q.iloc[:,:4].sum(axis=1).tolist(),'серебро' : sws_q.iloc[:,4:].sum(axis=1).tolist()})\n",
    "\n",
    "print('Маги с остатками по золоту и серебру больше нуля весь год',\n",
    "      'Корреляция продаж золото-серебро помесячно.',m_corr, \n",
    "      'Корреляция продаж золото-серебро поквартально.',q_corr,\n",
    "      'Корреляция продаж золото-серебро годовая.', sws_y.corr().round(decimals=2).at[\"золото\",'серебро'], sep=\"\\n\\n\")"
   ]
  },
  {
   "cell_type": "markdown",
   "metadata": {},
   "source": [
    "По кварталам корреляция оптимальная. Обучение целесообразно делать на квартальных данных."
   ]
  },
  {
   "cell_type": "code",
   "execution_count": 16,
   "metadata": {},
   "outputs": [
    {
     "ename": "TypeError",
     "evalue": "'<' not supported between instances of 'str' and 'int'",
     "output_type": "error",
     "traceback": [
      "\u001b[1;31m---------------------------------------------------------------------------\u001b[0m",
      "\u001b[1;31mTypeError\u001b[0m                                 Traceback (most recent call last)",
      "\u001b[1;32m<ipython-input-16-93cb1a145f54>\u001b[0m in \u001b[0;36m<module>\u001b[1;34m()\u001b[0m\n\u001b[0;32m      1\u001b[0m \u001b[1;31m# Оставляем только магазины, где остатки были весь год\u001b[0m\u001b[1;33m\u001b[0m\u001b[1;33m\u001b[0m\u001b[0m\n\u001b[1;32m----> 2\u001b[1;33m \u001b[0msws_m\u001b[0m\u001b[1;33m[\u001b[0m\u001b[0msws_m\u001b[0m \u001b[1;33m<\u001b[0m \u001b[1;36m0\u001b[0m\u001b[1;33m]\u001b[0m \u001b[1;33m=\u001b[0m \u001b[1;36m0\u001b[0m \u001b[1;31m# меняем все отрицательные(ошибочные) продажи на ноль\u001b[0m\u001b[1;33m\u001b[0m\u001b[0m\n\u001b[0m\u001b[0;32m      3\u001b[0m \u001b[0mstock_silver_m\u001b[0m \u001b[1;33m=\u001b[0m \u001b[0mstock_silver_m\u001b[0m\u001b[1;33m[\u001b[0m\u001b[0mstock_silver_m\u001b[0m\u001b[1;33m.\u001b[0m\u001b[0mapply\u001b[0m\u001b[1;33m(\u001b[0m\u001b[1;32mlambda\u001b[0m \u001b[0mrow\u001b[0m\u001b[1;33m:\u001b[0m \u001b[0mnp\u001b[0m\u001b[1;33m.\u001b[0m\u001b[0mcount_nonzero\u001b[0m\u001b[1;33m(\u001b[0m\u001b[0mrow\u001b[0m\u001b[1;33m)\u001b[0m \u001b[1;33m==\u001b[0m \u001b[1;36m12\u001b[0m\u001b[1;33m,\u001b[0m \u001b[0maxis\u001b[0m\u001b[1;33m=\u001b[0m\u001b[1;36m1\u001b[0m\u001b[1;33m)\u001b[0m\u001b[1;33m]\u001b[0m\u001b[1;33m\u001b[0m\u001b[0m\n",
      "\u001b[1;32m~\\AppData\\Local\\Continuum\\anaconda3\\lib\\site-packages\\pandas\\core\\ops.py\u001b[0m in \u001b[0;36mf\u001b[1;34m(self, other)\u001b[0m\n\u001b[0;32m   2106\u001b[0m             \u001b[1;31m# straight boolean comparisons we want to allow all columns\u001b[0m\u001b[1;33m\u001b[0m\u001b[1;33m\u001b[0m\u001b[0m\n\u001b[0;32m   2107\u001b[0m             \u001b[1;31m# (regardless of dtype to pass thru) See #4537 for discussion.\u001b[0m\u001b[1;33m\u001b[0m\u001b[1;33m\u001b[0m\u001b[0m\n\u001b[1;32m-> 2108\u001b[1;33m             \u001b[0mres\u001b[0m \u001b[1;33m=\u001b[0m \u001b[0mself\u001b[0m\u001b[1;33m.\u001b[0m\u001b[0m_combine_const\u001b[0m\u001b[1;33m(\u001b[0m\u001b[0mother\u001b[0m\u001b[1;33m,\u001b[0m \u001b[0mfunc\u001b[0m\u001b[1;33m)\u001b[0m\u001b[1;33m\u001b[0m\u001b[0m\n\u001b[0m\u001b[0;32m   2109\u001b[0m             \u001b[1;32mreturn\u001b[0m \u001b[0mres\u001b[0m\u001b[1;33m.\u001b[0m\u001b[0mfillna\u001b[0m\u001b[1;33m(\u001b[0m\u001b[1;32mTrue\u001b[0m\u001b[1;33m)\u001b[0m\u001b[1;33m.\u001b[0m\u001b[0mastype\u001b[0m\u001b[1;33m(\u001b[0m\u001b[0mbool\u001b[0m\u001b[1;33m)\u001b[0m\u001b[1;33m\u001b[0m\u001b[0m\n\u001b[0;32m   2110\u001b[0m \u001b[1;33m\u001b[0m\u001b[0m\n",
      "\u001b[1;32m~\\AppData\\Local\\Continuum\\anaconda3\\lib\\site-packages\\pandas\\core\\frame.py\u001b[0m in \u001b[0;36m_combine_const\u001b[1;34m(self, other, func)\u001b[0m\n\u001b[0;32m   5118\u001b[0m     \u001b[1;32mdef\u001b[0m \u001b[0m_combine_const\u001b[0m\u001b[1;33m(\u001b[0m\u001b[0mself\u001b[0m\u001b[1;33m,\u001b[0m \u001b[0mother\u001b[0m\u001b[1;33m,\u001b[0m \u001b[0mfunc\u001b[0m\u001b[1;33m)\u001b[0m\u001b[1;33m:\u001b[0m\u001b[1;33m\u001b[0m\u001b[0m\n\u001b[0;32m   5119\u001b[0m         \u001b[1;32massert\u001b[0m \u001b[0mlib\u001b[0m\u001b[1;33m.\u001b[0m\u001b[0mis_scalar\u001b[0m\u001b[1;33m(\u001b[0m\u001b[0mother\u001b[0m\u001b[1;33m)\u001b[0m \u001b[1;32mor\u001b[0m \u001b[0mnp\u001b[0m\u001b[1;33m.\u001b[0m\u001b[0mndim\u001b[0m\u001b[1;33m(\u001b[0m\u001b[0mother\u001b[0m\u001b[1;33m)\u001b[0m \u001b[1;33m==\u001b[0m \u001b[1;36m0\u001b[0m\u001b[1;33m\u001b[0m\u001b[0m\n\u001b[1;32m-> 5120\u001b[1;33m         \u001b[1;32mreturn\u001b[0m \u001b[0mops\u001b[0m\u001b[1;33m.\u001b[0m\u001b[0mdispatch_to_series\u001b[0m\u001b[1;33m(\u001b[0m\u001b[0mself\u001b[0m\u001b[1;33m,\u001b[0m \u001b[0mother\u001b[0m\u001b[1;33m,\u001b[0m \u001b[0mfunc\u001b[0m\u001b[1;33m)\u001b[0m\u001b[1;33m\u001b[0m\u001b[0m\n\u001b[0m\u001b[0;32m   5121\u001b[0m \u001b[1;33m\u001b[0m\u001b[0m\n\u001b[0;32m   5122\u001b[0m     \u001b[1;32mdef\u001b[0m \u001b[0mcombine\u001b[0m\u001b[1;33m(\u001b[0m\u001b[0mself\u001b[0m\u001b[1;33m,\u001b[0m \u001b[0mother\u001b[0m\u001b[1;33m,\u001b[0m \u001b[0mfunc\u001b[0m\u001b[1;33m,\u001b[0m \u001b[0mfill_value\u001b[0m\u001b[1;33m=\u001b[0m\u001b[1;32mNone\u001b[0m\u001b[1;33m,\u001b[0m \u001b[0moverwrite\u001b[0m\u001b[1;33m=\u001b[0m\u001b[1;32mTrue\u001b[0m\u001b[1;33m)\u001b[0m\u001b[1;33m:\u001b[0m\u001b[1;33m\u001b[0m\u001b[0m\n",
      "\u001b[1;32m~\\AppData\\Local\\Continuum\\anaconda3\\lib\\site-packages\\pandas\\core\\ops.py\u001b[0m in \u001b[0;36mdispatch_to_series\u001b[1;34m(left, right, func, str_rep, axis)\u001b[0m\n\u001b[0;32m   1155\u001b[0m         \u001b[1;32mraise\u001b[0m \u001b[0mNotImplementedError\u001b[0m\u001b[1;33m(\u001b[0m\u001b[0mright\u001b[0m\u001b[1;33m)\u001b[0m\u001b[1;33m\u001b[0m\u001b[0m\n\u001b[0;32m   1156\u001b[0m \u001b[1;33m\u001b[0m\u001b[0m\n\u001b[1;32m-> 1157\u001b[1;33m     \u001b[0mnew_data\u001b[0m \u001b[1;33m=\u001b[0m \u001b[0mexpressions\u001b[0m\u001b[1;33m.\u001b[0m\u001b[0mevaluate\u001b[0m\u001b[1;33m(\u001b[0m\u001b[0mcolumn_op\u001b[0m\u001b[1;33m,\u001b[0m \u001b[0mstr_rep\u001b[0m\u001b[1;33m,\u001b[0m \u001b[0mleft\u001b[0m\u001b[1;33m,\u001b[0m \u001b[0mright\u001b[0m\u001b[1;33m)\u001b[0m\u001b[1;33m\u001b[0m\u001b[0m\n\u001b[0m\u001b[0;32m   1158\u001b[0m \u001b[1;33m\u001b[0m\u001b[0m\n\u001b[0;32m   1159\u001b[0m     \u001b[0mresult\u001b[0m \u001b[1;33m=\u001b[0m \u001b[0mleft\u001b[0m\u001b[1;33m.\u001b[0m\u001b[0m_constructor\u001b[0m\u001b[1;33m(\u001b[0m\u001b[0mnew_data\u001b[0m\u001b[1;33m,\u001b[0m \u001b[0mindex\u001b[0m\u001b[1;33m=\u001b[0m\u001b[0mleft\u001b[0m\u001b[1;33m.\u001b[0m\u001b[0mindex\u001b[0m\u001b[1;33m,\u001b[0m \u001b[0mcopy\u001b[0m\u001b[1;33m=\u001b[0m\u001b[1;32mFalse\u001b[0m\u001b[1;33m)\u001b[0m\u001b[1;33m\u001b[0m\u001b[0m\n",
      "\u001b[1;32m~\\AppData\\Local\\Continuum\\anaconda3\\lib\\site-packages\\pandas\\core\\computation\\expressions.py\u001b[0m in \u001b[0;36mevaluate\u001b[1;34m(op, op_str, a, b, use_numexpr, **eval_kwargs)\u001b[0m\n\u001b[0;32m    206\u001b[0m     \u001b[0muse_numexpr\u001b[0m \u001b[1;33m=\u001b[0m \u001b[0muse_numexpr\u001b[0m \u001b[1;32mand\u001b[0m \u001b[0m_bool_arith_check\u001b[0m\u001b[1;33m(\u001b[0m\u001b[0mop_str\u001b[0m\u001b[1;33m,\u001b[0m \u001b[0ma\u001b[0m\u001b[1;33m,\u001b[0m \u001b[0mb\u001b[0m\u001b[1;33m)\u001b[0m\u001b[1;33m\u001b[0m\u001b[0m\n\u001b[0;32m    207\u001b[0m     \u001b[1;32mif\u001b[0m \u001b[0muse_numexpr\u001b[0m\u001b[1;33m:\u001b[0m\u001b[1;33m\u001b[0m\u001b[0m\n\u001b[1;32m--> 208\u001b[1;33m         \u001b[1;32mreturn\u001b[0m \u001b[0m_evaluate\u001b[0m\u001b[1;33m(\u001b[0m\u001b[0mop\u001b[0m\u001b[1;33m,\u001b[0m \u001b[0mop_str\u001b[0m\u001b[1;33m,\u001b[0m \u001b[0ma\u001b[0m\u001b[1;33m,\u001b[0m \u001b[0mb\u001b[0m\u001b[1;33m,\u001b[0m \u001b[1;33m**\u001b[0m\u001b[0meval_kwargs\u001b[0m\u001b[1;33m)\u001b[0m\u001b[1;33m\u001b[0m\u001b[0m\n\u001b[0m\u001b[0;32m    209\u001b[0m     \u001b[1;32mreturn\u001b[0m \u001b[0m_evaluate_standard\u001b[0m\u001b[1;33m(\u001b[0m\u001b[0mop\u001b[0m\u001b[1;33m,\u001b[0m \u001b[0mop_str\u001b[0m\u001b[1;33m,\u001b[0m \u001b[0ma\u001b[0m\u001b[1;33m,\u001b[0m \u001b[0mb\u001b[0m\u001b[1;33m)\u001b[0m\u001b[1;33m\u001b[0m\u001b[0m\n\u001b[0;32m    210\u001b[0m \u001b[1;33m\u001b[0m\u001b[0m\n",
      "\u001b[1;32m~\\AppData\\Local\\Continuum\\anaconda3\\lib\\site-packages\\pandas\\core\\computation\\expressions.py\u001b[0m in \u001b[0;36m_evaluate_numexpr\u001b[1;34m(op, op_str, a, b, truediv, reversed, **eval_kwargs)\u001b[0m\n\u001b[0;32m    121\u001b[0m \u001b[1;33m\u001b[0m\u001b[0m\n\u001b[0;32m    122\u001b[0m     \u001b[1;32mif\u001b[0m \u001b[0mresult\u001b[0m \u001b[1;32mis\u001b[0m \u001b[1;32mNone\u001b[0m\u001b[1;33m:\u001b[0m\u001b[1;33m\u001b[0m\u001b[0m\n\u001b[1;32m--> 123\u001b[1;33m         \u001b[0mresult\u001b[0m \u001b[1;33m=\u001b[0m \u001b[0m_evaluate_standard\u001b[0m\u001b[1;33m(\u001b[0m\u001b[0mop\u001b[0m\u001b[1;33m,\u001b[0m \u001b[0mop_str\u001b[0m\u001b[1;33m,\u001b[0m \u001b[0ma\u001b[0m\u001b[1;33m,\u001b[0m \u001b[0mb\u001b[0m\u001b[1;33m)\u001b[0m\u001b[1;33m\u001b[0m\u001b[0m\n\u001b[0m\u001b[0;32m    124\u001b[0m \u001b[1;33m\u001b[0m\u001b[0m\n\u001b[0;32m    125\u001b[0m     \u001b[1;32mreturn\u001b[0m \u001b[0mresult\u001b[0m\u001b[1;33m\u001b[0m\u001b[0m\n",
      "\u001b[1;32m~\\AppData\\Local\\Continuum\\anaconda3\\lib\\site-packages\\pandas\\core\\computation\\expressions.py\u001b[0m in \u001b[0;36m_evaluate_standard\u001b[1;34m(op, op_str, a, b, **eval_kwargs)\u001b[0m\n\u001b[0;32m     66\u001b[0m         \u001b[0m_store_test_result\u001b[0m\u001b[1;33m(\u001b[0m\u001b[1;32mFalse\u001b[0m\u001b[1;33m)\u001b[0m\u001b[1;33m\u001b[0m\u001b[0m\n\u001b[0;32m     67\u001b[0m     \u001b[1;32mwith\u001b[0m \u001b[0mnp\u001b[0m\u001b[1;33m.\u001b[0m\u001b[0merrstate\u001b[0m\u001b[1;33m(\u001b[0m\u001b[0mall\u001b[0m\u001b[1;33m=\u001b[0m\u001b[1;34m'ignore'\u001b[0m\u001b[1;33m)\u001b[0m\u001b[1;33m:\u001b[0m\u001b[1;33m\u001b[0m\u001b[0m\n\u001b[1;32m---> 68\u001b[1;33m         \u001b[1;32mreturn\u001b[0m \u001b[0mop\u001b[0m\u001b[1;33m(\u001b[0m\u001b[0ma\u001b[0m\u001b[1;33m,\u001b[0m \u001b[0mb\u001b[0m\u001b[1;33m)\u001b[0m\u001b[1;33m\u001b[0m\u001b[0m\n\u001b[0m\u001b[0;32m     69\u001b[0m \u001b[1;33m\u001b[0m\u001b[0m\n\u001b[0;32m     70\u001b[0m \u001b[1;33m\u001b[0m\u001b[0m\n",
      "\u001b[1;32m~\\AppData\\Local\\Continuum\\anaconda3\\lib\\site-packages\\pandas\\core\\ops.py\u001b[0m in \u001b[0;36mcolumn_op\u001b[1;34m(a, b)\u001b[0m\n\u001b[0;32m   1126\u001b[0m         \u001b[1;32mdef\u001b[0m \u001b[0mcolumn_op\u001b[0m\u001b[1;33m(\u001b[0m\u001b[0ma\u001b[0m\u001b[1;33m,\u001b[0m \u001b[0mb\u001b[0m\u001b[1;33m)\u001b[0m\u001b[1;33m:\u001b[0m\u001b[1;33m\u001b[0m\u001b[0m\n\u001b[0;32m   1127\u001b[0m             return {i: func(a.iloc[:, i], b)\n\u001b[1;32m-> 1128\u001b[1;33m                     for i in range(len(a.columns))}\n\u001b[0m\u001b[0;32m   1129\u001b[0m \u001b[1;33m\u001b[0m\u001b[0m\n\u001b[0;32m   1130\u001b[0m     \u001b[1;32melif\u001b[0m \u001b[0misinstance\u001b[0m\u001b[1;33m(\u001b[0m\u001b[0mright\u001b[0m\u001b[1;33m,\u001b[0m \u001b[0mABCDataFrame\u001b[0m\u001b[1;33m)\u001b[0m\u001b[1;33m:\u001b[0m\u001b[1;33m\u001b[0m\u001b[0m\n",
      "\u001b[1;32m~\\AppData\\Local\\Continuum\\anaconda3\\lib\\site-packages\\pandas\\core\\ops.py\u001b[0m in \u001b[0;36m<dictcomp>\u001b[1;34m(.0)\u001b[0m\n\u001b[0;32m   1126\u001b[0m         \u001b[1;32mdef\u001b[0m \u001b[0mcolumn_op\u001b[0m\u001b[1;33m(\u001b[0m\u001b[0ma\u001b[0m\u001b[1;33m,\u001b[0m \u001b[0mb\u001b[0m\u001b[1;33m)\u001b[0m\u001b[1;33m:\u001b[0m\u001b[1;33m\u001b[0m\u001b[0m\n\u001b[0;32m   1127\u001b[0m             return {i: func(a.iloc[:, i], b)\n\u001b[1;32m-> 1128\u001b[1;33m                     for i in range(len(a.columns))}\n\u001b[0m\u001b[0;32m   1129\u001b[0m \u001b[1;33m\u001b[0m\u001b[0m\n\u001b[0;32m   1130\u001b[0m     \u001b[1;32melif\u001b[0m \u001b[0misinstance\u001b[0m\u001b[1;33m(\u001b[0m\u001b[0mright\u001b[0m\u001b[1;33m,\u001b[0m \u001b[0mABCDataFrame\u001b[0m\u001b[1;33m)\u001b[0m\u001b[1;33m:\u001b[0m\u001b[1;33m\u001b[0m\u001b[0m\n",
      "\u001b[1;32m~\\AppData\\Local\\Continuum\\anaconda3\\lib\\site-packages\\pandas\\core\\ops.py\u001b[0m in \u001b[0;36mwrapper\u001b[1;34m(self, other, axis)\u001b[0m\n\u001b[0;32m   1764\u001b[0m \u001b[1;33m\u001b[0m\u001b[0m\n\u001b[0;32m   1765\u001b[0m             \u001b[1;32mwith\u001b[0m \u001b[0mnp\u001b[0m\u001b[1;33m.\u001b[0m\u001b[0merrstate\u001b[0m\u001b[1;33m(\u001b[0m\u001b[0mall\u001b[0m\u001b[1;33m=\u001b[0m\u001b[1;34m'ignore'\u001b[0m\u001b[1;33m)\u001b[0m\u001b[1;33m:\u001b[0m\u001b[1;33m\u001b[0m\u001b[0m\n\u001b[1;32m-> 1766\u001b[1;33m                 \u001b[0mres\u001b[0m \u001b[1;33m=\u001b[0m \u001b[0mna_op\u001b[0m\u001b[1;33m(\u001b[0m\u001b[0mvalues\u001b[0m\u001b[1;33m,\u001b[0m \u001b[0mother\u001b[0m\u001b[1;33m)\u001b[0m\u001b[1;33m\u001b[0m\u001b[0m\n\u001b[0m\u001b[0;32m   1767\u001b[0m             \u001b[1;32mif\u001b[0m \u001b[0mis_scalar\u001b[0m\u001b[1;33m(\u001b[0m\u001b[0mres\u001b[0m\u001b[1;33m)\u001b[0m\u001b[1;33m:\u001b[0m\u001b[1;33m\u001b[0m\u001b[0m\n\u001b[0;32m   1768\u001b[0m                 raise TypeError('Could not compare {typ} type with Series'\n",
      "\u001b[1;32m~\\AppData\\Local\\Continuum\\anaconda3\\lib\\site-packages\\pandas\\core\\ops.py\u001b[0m in \u001b[0;36mna_op\u001b[1;34m(x, y)\u001b[0m\n\u001b[0;32m   1623\u001b[0m \u001b[1;33m\u001b[0m\u001b[0m\n\u001b[0;32m   1624\u001b[0m         \u001b[1;32mif\u001b[0m \u001b[0mis_object_dtype\u001b[0m\u001b[1;33m(\u001b[0m\u001b[0mx\u001b[0m\u001b[1;33m.\u001b[0m\u001b[0mdtype\u001b[0m\u001b[1;33m)\u001b[0m\u001b[1;33m:\u001b[0m\u001b[1;33m\u001b[0m\u001b[0m\n\u001b[1;32m-> 1625\u001b[1;33m             \u001b[0mresult\u001b[0m \u001b[1;33m=\u001b[0m \u001b[0m_comp_method_OBJECT_ARRAY\u001b[0m\u001b[1;33m(\u001b[0m\u001b[0mop\u001b[0m\u001b[1;33m,\u001b[0m \u001b[0mx\u001b[0m\u001b[1;33m,\u001b[0m \u001b[0my\u001b[0m\u001b[1;33m)\u001b[0m\u001b[1;33m\u001b[0m\u001b[0m\n\u001b[0m\u001b[0;32m   1626\u001b[0m \u001b[1;33m\u001b[0m\u001b[0m\n\u001b[0;32m   1627\u001b[0m         \u001b[1;32melif\u001b[0m \u001b[0mis_datetimelike_v_numeric\u001b[0m\u001b[1;33m(\u001b[0m\u001b[0mx\u001b[0m\u001b[1;33m,\u001b[0m \u001b[0my\u001b[0m\u001b[1;33m)\u001b[0m\u001b[1;33m:\u001b[0m\u001b[1;33m\u001b[0m\u001b[0m\n",
      "\u001b[1;32m~\\AppData\\Local\\Continuum\\anaconda3\\lib\\site-packages\\pandas\\core\\ops.py\u001b[0m in \u001b[0;36m_comp_method_OBJECT_ARRAY\u001b[1;34m(op, x, y)\u001b[0m\n\u001b[0;32m   1601\u001b[0m         \u001b[0mresult\u001b[0m \u001b[1;33m=\u001b[0m \u001b[0mlibops\u001b[0m\u001b[1;33m.\u001b[0m\u001b[0mvec_compare\u001b[0m\u001b[1;33m(\u001b[0m\u001b[0mx\u001b[0m\u001b[1;33m,\u001b[0m \u001b[0my\u001b[0m\u001b[1;33m,\u001b[0m \u001b[0mop\u001b[0m\u001b[1;33m)\u001b[0m\u001b[1;33m\u001b[0m\u001b[0m\n\u001b[0;32m   1602\u001b[0m     \u001b[1;32melse\u001b[0m\u001b[1;33m:\u001b[0m\u001b[1;33m\u001b[0m\u001b[0m\n\u001b[1;32m-> 1603\u001b[1;33m         \u001b[0mresult\u001b[0m \u001b[1;33m=\u001b[0m \u001b[0mlibops\u001b[0m\u001b[1;33m.\u001b[0m\u001b[0mscalar_compare\u001b[0m\u001b[1;33m(\u001b[0m\u001b[0mx\u001b[0m\u001b[1;33m,\u001b[0m \u001b[0my\u001b[0m\u001b[1;33m,\u001b[0m \u001b[0mop\u001b[0m\u001b[1;33m)\u001b[0m\u001b[1;33m\u001b[0m\u001b[0m\n\u001b[0m\u001b[0;32m   1604\u001b[0m     \u001b[1;32mreturn\u001b[0m \u001b[0mresult\u001b[0m\u001b[1;33m\u001b[0m\u001b[0m\n\u001b[0;32m   1605\u001b[0m \u001b[1;33m\u001b[0m\u001b[0m\n",
      "\u001b[1;32mpandas\\_libs\\ops.pyx\u001b[0m in \u001b[0;36mpandas._libs.ops.scalar_compare\u001b[1;34m()\u001b[0m\n",
      "\u001b[1;31mTypeError\u001b[0m: '<' not supported between instances of 'str' and 'int'"
     ]
    }
   ],
   "source": [
    "# Оставляем только магазины, где остатки были весь год\n",
    "sws_m[sws_m < 0] = 0 # меняем все отрицательные(ошибочные) продажи на ноль\n",
    "stock_silver_m = stock_silver_m[stock_silver_m.apply(lambda row: np.count_nonzero(row) == 12, axis=1)]"
   ]
  },
  {
   "cell_type": "code",
   "execution_count": null,
   "metadata": {},
   "outputs": [],
   "source": []
  },
  {
   "cell_type": "code",
   "execution_count": 602,
   "metadata": {},
   "outputs": [],
   "source": [
    "# Боксплотты и статистики по продажам с разной временной иерархией (месяцы, квартал, год)\n",
    "sws_m_gold = sws_m[[x for x in sws_m.columns.tolist() if '.1' not in x]]\n",
    "sws_m_silver = sws_m[[x for x in sws_m.columns.tolist() if '.1' in x]]\n",
    "\n",
    "sws_q_gold = sws_q[[x for x in sws_q.columns.tolist() if 's' not in x]]\n",
    "sws_q_silver = sws_q[[x for x in sws_q.columns.tolist() if 's' in x]]\n",
    "\n",
    "sws_m_silver.columns = sws_m_gold.columns\n",
    "sws_q_silver.columns = sws_q_gold.columns\n"
   ]
  },
  {
   "cell_type": "code",
   "execution_count": 603,
   "metadata": {},
   "outputs": [
    {
     "data": {
      "text/html": [
       "<div>\n",
       "<style scoped>\n",
       "    .dataframe tbody tr th:only-of-type {\n",
       "        vertical-align: middle;\n",
       "    }\n",
       "\n",
       "    .dataframe tbody tr th {\n",
       "        vertical-align: top;\n",
       "    }\n",
       "\n",
       "    .dataframe thead tr th {\n",
       "        text-align: left;\n",
       "    }\n",
       "</style>\n",
       "<table border=\"1\" class=\"dataframe\">\n",
       "  <thead>\n",
       "    <tr>\n",
       "      <th></th>\n",
       "      <th colspan=\"7\" halign=\"left\">Статистика продажи золото</th>\n",
       "      <th colspan=\"7\" halign=\"left\">Статистика продажи серебро</th>\n",
       "    </tr>\n",
       "    <tr>\n",
       "      <th></th>\n",
       "      <th>mean</th>\n",
       "      <th>std</th>\n",
       "      <th>min</th>\n",
       "      <th>25%</th>\n",
       "      <th>50%</th>\n",
       "      <th>75%</th>\n",
       "      <th>max</th>\n",
       "      <th>mean</th>\n",
       "      <th>std</th>\n",
       "      <th>min</th>\n",
       "      <th>25%</th>\n",
       "      <th>50%</th>\n",
       "      <th>75%</th>\n",
       "      <th>max</th>\n",
       "    </tr>\n",
       "  </thead>\n",
       "  <tbody>\n",
       "    <tr>\n",
       "      <th>Январь,2019</th>\n",
       "      <td>1.0</td>\n",
       "      <td>1.8</td>\n",
       "      <td>-1.0</td>\n",
       "      <td>0.0</td>\n",
       "      <td>0.0</td>\n",
       "      <td>1.0</td>\n",
       "      <td>13.0</td>\n",
       "      <td>1.4</td>\n",
       "      <td>2.0</td>\n",
       "      <td>0.0</td>\n",
       "      <td>0.0</td>\n",
       "      <td>1.0</td>\n",
       "      <td>2.0</td>\n",
       "      <td>19.0</td>\n",
       "    </tr>\n",
       "    <tr>\n",
       "      <th>Февраль,2019</th>\n",
       "      <td>1.0</td>\n",
       "      <td>1.7</td>\n",
       "      <td>0.0</td>\n",
       "      <td>0.0</td>\n",
       "      <td>0.0</td>\n",
       "      <td>1.0</td>\n",
       "      <td>11.0</td>\n",
       "      <td>1.6</td>\n",
       "      <td>2.2</td>\n",
       "      <td>0.0</td>\n",
       "      <td>0.0</td>\n",
       "      <td>1.0</td>\n",
       "      <td>2.0</td>\n",
       "      <td>20.0</td>\n",
       "    </tr>\n",
       "    <tr>\n",
       "      <th>Март,2019</th>\n",
       "      <td>1.4</td>\n",
       "      <td>2.2</td>\n",
       "      <td>0.0</td>\n",
       "      <td>0.0</td>\n",
       "      <td>0.0</td>\n",
       "      <td>2.0</td>\n",
       "      <td>15.0</td>\n",
       "      <td>1.6</td>\n",
       "      <td>2.1</td>\n",
       "      <td>0.0</td>\n",
       "      <td>0.0</td>\n",
       "      <td>1.0</td>\n",
       "      <td>2.0</td>\n",
       "      <td>16.0</td>\n",
       "    </tr>\n",
       "    <tr>\n",
       "      <th>Апрель,2019</th>\n",
       "      <td>0.8</td>\n",
       "      <td>1.4</td>\n",
       "      <td>0.0</td>\n",
       "      <td>0.0</td>\n",
       "      <td>0.0</td>\n",
       "      <td>1.0</td>\n",
       "      <td>9.0</td>\n",
       "      <td>1.2</td>\n",
       "      <td>1.6</td>\n",
       "      <td>0.0</td>\n",
       "      <td>0.0</td>\n",
       "      <td>1.0</td>\n",
       "      <td>2.0</td>\n",
       "      <td>11.0</td>\n",
       "    </tr>\n",
       "    <tr>\n",
       "      <th>Май,2019</th>\n",
       "      <td>1.0</td>\n",
       "      <td>1.7</td>\n",
       "      <td>0.0</td>\n",
       "      <td>0.0</td>\n",
       "      <td>0.0</td>\n",
       "      <td>1.0</td>\n",
       "      <td>12.0</td>\n",
       "      <td>1.5</td>\n",
       "      <td>2.2</td>\n",
       "      <td>0.0</td>\n",
       "      <td>0.0</td>\n",
       "      <td>1.0</td>\n",
       "      <td>2.0</td>\n",
       "      <td>19.0</td>\n",
       "    </tr>\n",
       "    <tr>\n",
       "      <th>Июнь,2019</th>\n",
       "      <td>1.2</td>\n",
       "      <td>1.9</td>\n",
       "      <td>0.0</td>\n",
       "      <td>0.0</td>\n",
       "      <td>0.0</td>\n",
       "      <td>2.0</td>\n",
       "      <td>12.0</td>\n",
       "      <td>1.9</td>\n",
       "      <td>2.6</td>\n",
       "      <td>0.0</td>\n",
       "      <td>0.0</td>\n",
       "      <td>1.0</td>\n",
       "      <td>2.0</td>\n",
       "      <td>19.0</td>\n",
       "    </tr>\n",
       "    <tr>\n",
       "      <th>Июль,2019</th>\n",
       "      <td>1.4</td>\n",
       "      <td>2.1</td>\n",
       "      <td>0.0</td>\n",
       "      <td>0.0</td>\n",
       "      <td>0.0</td>\n",
       "      <td>2.0</td>\n",
       "      <td>13.0</td>\n",
       "      <td>2.1</td>\n",
       "      <td>3.0</td>\n",
       "      <td>0.0</td>\n",
       "      <td>0.0</td>\n",
       "      <td>1.0</td>\n",
       "      <td>3.0</td>\n",
       "      <td>21.0</td>\n",
       "    </tr>\n",
       "    <tr>\n",
       "      <th>Август,2019</th>\n",
       "      <td>1.5</td>\n",
       "      <td>2.0</td>\n",
       "      <td>-1.0</td>\n",
       "      <td>0.0</td>\n",
       "      <td>1.0</td>\n",
       "      <td>2.0</td>\n",
       "      <td>12.0</td>\n",
       "      <td>2.4</td>\n",
       "      <td>3.2</td>\n",
       "      <td>0.0</td>\n",
       "      <td>0.0</td>\n",
       "      <td>1.0</td>\n",
       "      <td>3.0</td>\n",
       "      <td>24.0</td>\n",
       "    </tr>\n",
       "    <tr>\n",
       "      <th>Сентябрь,2019</th>\n",
       "      <td>1.2</td>\n",
       "      <td>1.7</td>\n",
       "      <td>-3.0</td>\n",
       "      <td>0.0</td>\n",
       "      <td>1.0</td>\n",
       "      <td>2.0</td>\n",
       "      <td>12.0</td>\n",
       "      <td>2.2</td>\n",
       "      <td>2.8</td>\n",
       "      <td>0.0</td>\n",
       "      <td>0.0</td>\n",
       "      <td>1.0</td>\n",
       "      <td>3.0</td>\n",
       "      <td>20.0</td>\n",
       "    </tr>\n",
       "    <tr>\n",
       "      <th>Октябрь,2019</th>\n",
       "      <td>1.1</td>\n",
       "      <td>1.5</td>\n",
       "      <td>0.0</td>\n",
       "      <td>0.0</td>\n",
       "      <td>0.0</td>\n",
       "      <td>2.0</td>\n",
       "      <td>12.0</td>\n",
       "      <td>1.9</td>\n",
       "      <td>2.5</td>\n",
       "      <td>0.0</td>\n",
       "      <td>0.0</td>\n",
       "      <td>1.0</td>\n",
       "      <td>3.0</td>\n",
       "      <td>17.0</td>\n",
       "    </tr>\n",
       "    <tr>\n",
       "      <th>Ноябрь,2019</th>\n",
       "      <td>1.1</td>\n",
       "      <td>1.5</td>\n",
       "      <td>0.0</td>\n",
       "      <td>0.0</td>\n",
       "      <td>1.0</td>\n",
       "      <td>2.0</td>\n",
       "      <td>11.0</td>\n",
       "      <td>1.8</td>\n",
       "      <td>2.4</td>\n",
       "      <td>-1.0</td>\n",
       "      <td>0.0</td>\n",
       "      <td>1.0</td>\n",
       "      <td>2.0</td>\n",
       "      <td>21.0</td>\n",
       "    </tr>\n",
       "    <tr>\n",
       "      <th>Декабрь,2019</th>\n",
       "      <td>2.1</td>\n",
       "      <td>2.5</td>\n",
       "      <td>0.0</td>\n",
       "      <td>0.0</td>\n",
       "      <td>1.0</td>\n",
       "      <td>3.0</td>\n",
       "      <td>19.0</td>\n",
       "      <td>3.3</td>\n",
       "      <td>4.2</td>\n",
       "      <td>-1.0</td>\n",
       "      <td>1.0</td>\n",
       "      <td>2.0</td>\n",
       "      <td>4.0</td>\n",
       "      <td>35.0</td>\n",
       "    </tr>\n",
       "  </tbody>\n",
       "</table>\n",
       "</div>"
      ],
      "text/plain": [
       "              Статистика продажи золото                                 \\\n",
       "                                   mean  std  min  25%  50%  75%   max   \n",
       "Январь,2019                         1.0  1.8 -1.0  0.0  0.0  1.0  13.0   \n",
       "Февраль,2019                        1.0  1.7  0.0  0.0  0.0  1.0  11.0   \n",
       "Март,2019                           1.4  2.2  0.0  0.0  0.0  2.0  15.0   \n",
       "Апрель,2019                         0.8  1.4  0.0  0.0  0.0  1.0   9.0   \n",
       "Май,2019                            1.0  1.7  0.0  0.0  0.0  1.0  12.0   \n",
       "Июнь,2019                           1.2  1.9  0.0  0.0  0.0  2.0  12.0   \n",
       "Июль,2019                           1.4  2.1  0.0  0.0  0.0  2.0  13.0   \n",
       "Август,2019                         1.5  2.0 -1.0  0.0  1.0  2.0  12.0   \n",
       "Сентябрь,2019                       1.2  1.7 -3.0  0.0  1.0  2.0  12.0   \n",
       "Октябрь,2019                        1.1  1.5  0.0  0.0  0.0  2.0  12.0   \n",
       "Ноябрь,2019                         1.1  1.5  0.0  0.0  1.0  2.0  11.0   \n",
       "Декабрь,2019                        2.1  2.5  0.0  0.0  1.0  3.0  19.0   \n",
       "\n",
       "              Статистика продажи серебро                                 \n",
       "                                    mean  std  min  25%  50%  75%   max  \n",
       "Январь,2019                          1.4  2.0  0.0  0.0  1.0  2.0  19.0  \n",
       "Февраль,2019                         1.6  2.2  0.0  0.0  1.0  2.0  20.0  \n",
       "Март,2019                            1.6  2.1  0.0  0.0  1.0  2.0  16.0  \n",
       "Апрель,2019                          1.2  1.6  0.0  0.0  1.0  2.0  11.0  \n",
       "Май,2019                             1.5  2.2  0.0  0.0  1.0  2.0  19.0  \n",
       "Июнь,2019                            1.9  2.6  0.0  0.0  1.0  2.0  19.0  \n",
       "Июль,2019                            2.1  3.0  0.0  0.0  1.0  3.0  21.0  \n",
       "Август,2019                          2.4  3.2  0.0  0.0  1.0  3.0  24.0  \n",
       "Сентябрь,2019                        2.2  2.8  0.0  0.0  1.0  3.0  20.0  \n",
       "Октябрь,2019                         1.9  2.5  0.0  0.0  1.0  3.0  17.0  \n",
       "Ноябрь,2019                          1.8  2.4 -1.0  0.0  1.0  2.0  21.0  \n",
       "Декабрь,2019                         3.3  4.2 -1.0  1.0  2.0  4.0  35.0  "
      ]
     },
     "execution_count": 603,
     "metadata": {},
     "output_type": "execute_result"
    }
   ],
   "source": [
    "gold_m_stat = sws_m_gold.describe().round(decimals=1).T.drop(columns='count')\n",
    "silver_m_stat = sws_m_silver.describe().round(decimals=1).T.drop(columns='count')\n",
    "gold_m_stat.columns = pd.MultiIndex.from_product([['Статистика продажи золото'], gold_m_stat.columns.tolist()])\n",
    "silver_m_stat.columns = pd.MultiIndex.from_product([['Статистика продажи серебро'],silver_m_stat.columns.tolist()])\n",
    "gold_m_stat.merge(silver_m_stat, left_index=True, right_index=True)\n"
   ]
  },
  {
   "cell_type": "code",
   "execution_count": 368,
   "metadata": {},
   "outputs": [
    {
     "data": {
      "text/html": [
       "<div>\n",
       "<style scoped>\n",
       "    .dataframe tbody tr th:only-of-type {\n",
       "        vertical-align: middle;\n",
       "    }\n",
       "\n",
       "    .dataframe tbody tr th {\n",
       "        vertical-align: top;\n",
       "    }\n",
       "\n",
       "    .dataframe thead tr th {\n",
       "        text-align: left;\n",
       "    }\n",
       "</style>\n",
       "<table border=\"1\" class=\"dataframe\">\n",
       "  <thead>\n",
       "    <tr>\n",
       "      <th></th>\n",
       "      <th colspan=\"7\" halign=\"left\">Статистика продажи золото</th>\n",
       "      <th colspan=\"7\" halign=\"left\">Статистика продажи серебро</th>\n",
       "    </tr>\n",
       "    <tr>\n",
       "      <th></th>\n",
       "      <th>mean</th>\n",
       "      <th>std</th>\n",
       "      <th>min</th>\n",
       "      <th>25%</th>\n",
       "      <th>50%</th>\n",
       "      <th>75%</th>\n",
       "      <th>max</th>\n",
       "      <th>mean</th>\n",
       "      <th>std</th>\n",
       "      <th>min</th>\n",
       "      <th>25%</th>\n",
       "      <th>50%</th>\n",
       "      <th>75%</th>\n",
       "      <th>max</th>\n",
       "    </tr>\n",
       "  </thead>\n",
       "  <tbody>\n",
       "    <tr>\n",
       "      <th>квартал1</th>\n",
       "      <td>3.3</td>\n",
       "      <td>4.9</td>\n",
       "      <td>0.0</td>\n",
       "      <td>0.0</td>\n",
       "      <td>1.0</td>\n",
       "      <td>5.0</td>\n",
       "      <td>32.0</td>\n",
       "      <td>4.6</td>\n",
       "      <td>5.5</td>\n",
       "      <td>0.0</td>\n",
       "      <td>1.0</td>\n",
       "      <td>3.0</td>\n",
       "      <td>6.0</td>\n",
       "      <td>51.0</td>\n",
       "    </tr>\n",
       "    <tr>\n",
       "      <th>квартал2</th>\n",
       "      <td>2.9</td>\n",
       "      <td>4.4</td>\n",
       "      <td>0.0</td>\n",
       "      <td>0.0</td>\n",
       "      <td>1.0</td>\n",
       "      <td>4.0</td>\n",
       "      <td>28.0</td>\n",
       "      <td>4.4</td>\n",
       "      <td>5.5</td>\n",
       "      <td>0.0</td>\n",
       "      <td>1.0</td>\n",
       "      <td>3.0</td>\n",
       "      <td>6.0</td>\n",
       "      <td>39.0</td>\n",
       "    </tr>\n",
       "    <tr>\n",
       "      <th>квартал3</th>\n",
       "      <td>4.0</td>\n",
       "      <td>4.9</td>\n",
       "      <td>0.0</td>\n",
       "      <td>1.0</td>\n",
       "      <td>2.0</td>\n",
       "      <td>6.0</td>\n",
       "      <td>31.0</td>\n",
       "      <td>6.5</td>\n",
       "      <td>8.2</td>\n",
       "      <td>0.0</td>\n",
       "      <td>2.0</td>\n",
       "      <td>4.0</td>\n",
       "      <td>8.0</td>\n",
       "      <td>62.0</td>\n",
       "    </tr>\n",
       "    <tr>\n",
       "      <th>квартал4</th>\n",
       "      <td>4.1</td>\n",
       "      <td>4.5</td>\n",
       "      <td>0.0</td>\n",
       "      <td>1.0</td>\n",
       "      <td>3.0</td>\n",
       "      <td>6.0</td>\n",
       "      <td>37.0</td>\n",
       "      <td>6.8</td>\n",
       "      <td>8.0</td>\n",
       "      <td>0.0</td>\n",
       "      <td>2.0</td>\n",
       "      <td>5.0</td>\n",
       "      <td>9.0</td>\n",
       "      <td>66.0</td>\n",
       "    </tr>\n",
       "  </tbody>\n",
       "</table>\n",
       "</div>"
      ],
      "text/plain": [
       "         Статистика продажи золото                                 \\\n",
       "                              mean  std  min  25%  50%  75%   max   \n",
       "квартал1                       3.3  4.9  0.0  0.0  1.0  5.0  32.0   \n",
       "квартал2                       2.9  4.4  0.0  0.0  1.0  4.0  28.0   \n",
       "квартал3                       4.0  4.9  0.0  1.0  2.0  6.0  31.0   \n",
       "квартал4                       4.1  4.5  0.0  1.0  3.0  6.0  37.0   \n",
       "\n",
       "         Статистика продажи серебро                                 \n",
       "                               mean  std  min  25%  50%  75%   max  \n",
       "квартал1                        4.6  5.5  0.0  1.0  3.0  6.0  51.0  \n",
       "квартал2                        4.4  5.5  0.0  1.0  3.0  6.0  39.0  \n",
       "квартал3                        6.5  8.2  0.0  2.0  4.0  8.0  62.0  \n",
       "квартал4                        6.8  8.0  0.0  2.0  5.0  9.0  66.0  "
      ]
     },
     "execution_count": 368,
     "metadata": {},
     "output_type": "execute_result"
    }
   ],
   "source": [
    "gold_q_stat = sws_q_gold.describe().round(decimals=1).T.drop(columns='count')\n",
    "silver_q_stat = sws_q_silver.describe().round(decimals=1).T.drop(columns='count')\n",
    "gold_q_stat.columns = pd.MultiIndex.from_product([['Статистика продажи золото'], gold_q_stat.columns.tolist()])\n",
    "silver_q_stat.columns = pd.MultiIndex.from_product([['Статистика продажи серебро'],silver_q_stat.columns.tolist()])\n",
    "gold_q_stat.merge(silver_q_stat, left_index=True, right_index=True)\n"
   ]
  },
  {
   "cell_type": "code",
   "execution_count": 379,
   "metadata": {},
   "outputs": [
    {
     "data": {
      "text/html": [
       "<div>\n",
       "<style scoped>\n",
       "    .dataframe tbody tr th:only-of-type {\n",
       "        vertical-align: middle;\n",
       "    }\n",
       "\n",
       "    .dataframe tbody tr th {\n",
       "        vertical-align: top;\n",
       "    }\n",
       "\n",
       "    .dataframe thead th {\n",
       "        text-align: right;\n",
       "    }\n",
       "</style>\n",
       "<table border=\"1\" class=\"dataframe\">\n",
       "  <thead>\n",
       "    <tr style=\"text-align: right;\">\n",
       "      <th></th>\n",
       "      <th>mean</th>\n",
       "      <th>std</th>\n",
       "      <th>min</th>\n",
       "      <th>25%</th>\n",
       "      <th>50%</th>\n",
       "      <th>75%</th>\n",
       "      <th>max</th>\n",
       "    </tr>\n",
       "  </thead>\n",
       "  <tbody>\n",
       "    <tr>\n",
       "      <th>золото</th>\n",
       "      <td>14</td>\n",
       "      <td>16</td>\n",
       "      <td>0</td>\n",
       "      <td>3</td>\n",
       "      <td>8</td>\n",
       "      <td>20</td>\n",
       "      <td>109</td>\n",
       "    </tr>\n",
       "    <tr>\n",
       "      <th>серебро</th>\n",
       "      <td>22</td>\n",
       "      <td>25</td>\n",
       "      <td>0</td>\n",
       "      <td>8</td>\n",
       "      <td>15</td>\n",
       "      <td>27</td>\n",
       "      <td>210</td>\n",
       "    </tr>\n",
       "  </tbody>\n",
       "</table>\n",
       "</div>"
      ],
      "text/plain": [
       "         mean  std  min  25%  50%  75%  max\n",
       "золото     14   16    0    3    8   20  109\n",
       "серебро    22   25    0    8   15   27  210"
      ]
     },
     "execution_count": 379,
     "metadata": {},
     "output_type": "execute_result"
    }
   ],
   "source": [
    "sws_y.describe().astype('int').T.drop(columns='count')"
   ]
  },
  {
   "cell_type": "code",
   "execution_count": 477,
   "metadata": {},
   "outputs": [
    {
     "data": {
      "text/plain": [
       "Text(0.5,1,'Продажи золото по месяцам')"
      ]
     },
     "execution_count": 477,
     "metadata": {},
     "output_type": "execute_result"
    },
    {
     "data": {
      "image/png": "[encoded data removed]",
      "text/plain": [
       "<Figure size 1080x576 with 1 Axes>"
      ]
     },
     "metadata": {},
     "output_type": "display_data"
    }
   ],
   "source": [
    "# Боксплотты по продажам с разной временной иерархией (месяцы, квартал, год)\n",
    "from matplotlib import pyplot as plt\n",
    "import seaborn as sns\n",
    "\n",
    "plt.figure(figsize=(15,8))\n",
    "sns.boxplot(data=sws_m_gold).set_title(\"Продажи золото по месяцам\", fontsize=20)"
   ]
  },
  {
   "cell_type": "code",
   "execution_count": 517,
   "metadata": {},
   "outputs": [
    {
     "data": {
      "text/plain": [
       "Text(0.5,1,'Продажи серебро по месяцам')"
      ]
     },
     "execution_count": 517,
     "metadata": {},
     "output_type": "execute_result"
    },
    {
     "data": {
      "image/png": "[encoded data removed]",
      "text/plain": [
       "<Figure size 1080x576 with 1 Axes>"
      ]
     },
     "metadata": {},
     "output_type": "display_data"
    }
   ],
   "source": [
    "plt.figure(figsize=(15,8))\n",
    "sns.boxplot(data=sws_m_silver).set_title(\"Продажи серебро по месяцам\", fontsize=20)"
   ]
  },
  {
   "cell_type": "code",
   "execution_count": 499,
   "metadata": {},
   "outputs": [
    {
     "data": {
      "text/plain": [
       "Text(0.5,1,'Продажи золото по кварталам')"
      ]
     },
     "execution_count": 499,
     "metadata": {},
     "output_type": "execute_result"
    },
    {
     "data": {
      "image/png": "[encoded data removed]",
      "text/plain": [
       "<Figure size 1440x432 with 1 Axes>"
      ]
     },
     "metadata": {},
     "output_type": "display_data"
    }
   ],
   "source": [
    "plt.figure(figsize=(20,6))\n",
    "sns.boxplot(data=sws_q_gold, orient=\"h\").set_title(\"Продажи золото по кварталам\", fontsize=20)"
   ]
  },
  {
   "cell_type": "code",
   "execution_count": 512,
   "metadata": {},
   "outputs": [
    {
     "data": {
      "text/plain": [
       "Text(0.5,1,'Продажи серебро по кварталам')"
      ]
     },
     "execution_count": 512,
     "metadata": {},
     "output_type": "execute_result"
    },
    {
     "data": {
      "image/png": "[encoded data removed]",
      "text/plain": [
       "<Figure size 1440x432 with 1 Axes>"
      ]
     },
     "metadata": {},
     "output_type": "display_data"
    }
   ],
   "source": [
    "plt.figure(figsize=(20,6))\n",
    "sns.boxplot(data=sws_q_silver, orient=\"h\").set_title(\"Продажи серебро по кварталам\", fontsize=20)"
   ]
  },
  {
   "cell_type": "code",
   "execution_count": 507,
   "metadata": {},
   "outputs": [
    {
     "data": {
      "text/plain": [
       "Text(0.5,1,'Продажи за год')"
      ]
     },
     "execution_count": 507,
     "metadata": {},
     "output_type": "execute_result"
    },
    {
     "data": {
      "image/png": "[encoded data removed]",
      "text/plain": [
       "<Figure size 1440x216 with 1 Axes>"
      ]
     },
     "metadata": {},
     "output_type": "display_data"
    }
   ],
   "source": [
    "plt.figure(figsize=(20,3))\n",
    "sns.boxplot(data=sws_y, orient=\"h\").set_title(\"Продажи за год\", fontsize=25)"
   ]
  },
  {
   "cell_type": "code",
   "execution_count": 544,
   "metadata": {},
   "outputs": [
    {
     "data": {
      "text/html": [
       "<style  type=\"text/css\" >\n",
       "</style><table id=\"T_1c255746_62cb_11ea_8b4f_e0d55e12c247\" ><thead>    <tr>        <th class=\"blank level0\" ></th>        <th class=\"col_heading level0 col0\" >Доля магазов с нулевыми продажами</th>    </tr></thead><tbody>\n",
       "                <tr>\n",
       "                        <th id=\"T_1c255746_62cb_11ea_8b4f_e0d55e12c247level0_row0\" class=\"row_heading level0 row0\" >Январь,2019</th>\n",
       "                        <td id=\"T_1c255746_62cb_11ea_8b4f_e0d55e12c247row0_col0\" class=\"data row0 col0\" >28%</td>\n",
       "            </tr>\n",
       "            <tr>\n",
       "                        <th id=\"T_1c255746_62cb_11ea_8b4f_e0d55e12c247level0_row1\" class=\"row_heading level0 row1\" >Февраль,2019</th>\n",
       "                        <td id=\"T_1c255746_62cb_11ea_8b4f_e0d55e12c247row1_col0\" class=\"data row1 col0\" >23%</td>\n",
       "            </tr>\n",
       "            <tr>\n",
       "                        <th id=\"T_1c255746_62cb_11ea_8b4f_e0d55e12c247level0_row2\" class=\"row_heading level0 row2\" >Март,2019</th>\n",
       "                        <td id=\"T_1c255746_62cb_11ea_8b4f_e0d55e12c247row2_col0\" class=\"data row2 col0\" >23%</td>\n",
       "            </tr>\n",
       "            <tr>\n",
       "                        <th id=\"T_1c255746_62cb_11ea_8b4f_e0d55e12c247level0_row3\" class=\"row_heading level0 row3\" >Апрель,2019</th>\n",
       "                        <td id=\"T_1c255746_62cb_11ea_8b4f_e0d55e12c247row3_col0\" class=\"data row3 col0\" >37%</td>\n",
       "            </tr>\n",
       "            <tr>\n",
       "                        <th id=\"T_1c255746_62cb_11ea_8b4f_e0d55e12c247level0_row4\" class=\"row_heading level0 row4\" >Май,2019</th>\n",
       "                        <td id=\"T_1c255746_62cb_11ea_8b4f_e0d55e12c247row4_col0\" class=\"data row4 col0\" >27%</td>\n",
       "            </tr>\n",
       "            <tr>\n",
       "                        <th id=\"T_1c255746_62cb_11ea_8b4f_e0d55e12c247level0_row5\" class=\"row_heading level0 row5\" >Июнь,2019</th>\n",
       "                        <td id=\"T_1c255746_62cb_11ea_8b4f_e0d55e12c247row5_col0\" class=\"data row5 col0\" >18%</td>\n",
       "            </tr>\n",
       "            <tr>\n",
       "                        <th id=\"T_1c255746_62cb_11ea_8b4f_e0d55e12c247level0_row6\" class=\"row_heading level0 row6\" >Июль,2019</th>\n",
       "                        <td id=\"T_1c255746_62cb_11ea_8b4f_e0d55e12c247row6_col0\" class=\"data row6 col0\" >15%</td>\n",
       "            </tr>\n",
       "            <tr>\n",
       "                        <th id=\"T_1c255746_62cb_11ea_8b4f_e0d55e12c247level0_row7\" class=\"row_heading level0 row7\" >Август,2019</th>\n",
       "                        <td id=\"T_1c255746_62cb_11ea_8b4f_e0d55e12c247row7_col0\" class=\"data row7 col0\" >13%</td>\n",
       "            </tr>\n",
       "            <tr>\n",
       "                        <th id=\"T_1c255746_62cb_11ea_8b4f_e0d55e12c247level0_row8\" class=\"row_heading level0 row8\" >Сентябрь,2019</th>\n",
       "                        <td id=\"T_1c255746_62cb_11ea_8b4f_e0d55e12c247row8_col0\" class=\"data row8 col0\" >14%</td>\n",
       "            </tr>\n",
       "            <tr>\n",
       "                        <th id=\"T_1c255746_62cb_11ea_8b4f_e0d55e12c247level0_row9\" class=\"row_heading level0 row9\" >Октябрь,2019</th>\n",
       "                        <td id=\"T_1c255746_62cb_11ea_8b4f_e0d55e12c247row9_col0\" class=\"data row9 col0\" >16%</td>\n",
       "            </tr>\n",
       "            <tr>\n",
       "                        <th id=\"T_1c255746_62cb_11ea_8b4f_e0d55e12c247level0_row10\" class=\"row_heading level0 row10\" >Ноябрь,2019</th>\n",
       "                        <td id=\"T_1c255746_62cb_11ea_8b4f_e0d55e12c247row10_col0\" class=\"data row10 col0\" >20%</td>\n",
       "            </tr>\n",
       "            <tr>\n",
       "                        <th id=\"T_1c255746_62cb_11ea_8b4f_e0d55e12c247level0_row11\" class=\"row_heading level0 row11\" >Декабрь,2019</th>\n",
       "                        <td id=\"T_1c255746_62cb_11ea_8b4f_e0d55e12c247row11_col0\" class=\"data row11 col0\" >6%</td>\n",
       "            </tr>\n",
       "    </tbody></table>"
      ],
      "text/plain": [
       "<pandas.io.formats.style.Styler at 0x22cf447d6d8>"
      ]
     },
     "execution_count": 544,
     "metadata": {},
     "output_type": "execute_result"
    }
   ],
   "source": [
    "title = 'Доля магазов с нулевыми продажами'\n",
    "pd.DataFrame(sws_m_silver.apply(lambda x: (x == 0).sum()/x.sum()), columns=[title]).style.format(\"{:.0%}\")"
   ]
  },
  {
   "cell_type": "code",
   "execution_count": 545,
   "metadata": {},
   "outputs": [
    {
     "data": {
      "text/html": [
       "<style  type=\"text/css\" >\n",
       "</style><table id=\"T_4635d5e6_62cb_11ea_9228_e0d55e12c247\" ><thead>    <tr>        <th class=\"blank level0\" ></th>        <th class=\"col_heading level0 col0\" >Доля магазов с нулевыми продажами</th>    </tr></thead><tbody>\n",
       "                <tr>\n",
       "                        <th id=\"T_4635d5e6_62cb_11ea_9228_e0d55e12c247level0_row0\" class=\"row_heading level0 row0\" >квартал1</th>\n",
       "                        <td id=\"T_4635d5e6_62cb_11ea_9228_e0d55e12c247row0_col0\" class=\"data row0 col0\" >4%</td>\n",
       "            </tr>\n",
       "            <tr>\n",
       "                        <th id=\"T_4635d5e6_62cb_11ea_9228_e0d55e12c247level0_row1\" class=\"row_heading level0 row1\" >квартал2</th>\n",
       "                        <td id=\"T_4635d5e6_62cb_11ea_9228_e0d55e12c247row1_col0\" class=\"data row1 col0\" >4%</td>\n",
       "            </tr>\n",
       "            <tr>\n",
       "                        <th id=\"T_4635d5e6_62cb_11ea_9228_e0d55e12c247level0_row2\" class=\"row_heading level0 row2\" >квартал3</th>\n",
       "                        <td id=\"T_4635d5e6_62cb_11ea_9228_e0d55e12c247row2_col0\" class=\"data row2 col0\" >2%</td>\n",
       "            </tr>\n",
       "            <tr>\n",
       "                        <th id=\"T_4635d5e6_62cb_11ea_9228_e0d55e12c247level0_row3\" class=\"row_heading level0 row3\" >квартал4</th>\n",
       "                        <td id=\"T_4635d5e6_62cb_11ea_9228_e0d55e12c247row3_col0\" class=\"data row3 col0\" >1%</td>\n",
       "            </tr>\n",
       "    </tbody></table>"
      ],
      "text/plain": [
       "<pandas.io.formats.style.Styler at 0x22cf447dcc0>"
      ]
     },
     "execution_count": 545,
     "metadata": {},
     "output_type": "execute_result"
    }
   ],
   "source": [
    "pd.DataFrame(sws_q_silver.apply(lambda x: (x == 0).sum()/x.sum()), columns=[title]).style.format(\"{:.0%}\")"
   ]
  },
  {
   "cell_type": "code",
   "execution_count": 558,
   "metadata": {},
   "outputs": [
    {
     "data": {
      "text/html": [
       "<style  type=\"text/css\" >\n",
       "</style><table id=\"T_75f36406_62cf_11ea_826f_e0d55e12c247\" ><thead>    <tr>        <th class=\"blank level0\" ></th>        <th class=\"col_heading level0 col0\" >Доля магазинов, продажи меньше или равны квантилю</th>    </tr></thead><tbody>\n",
       "                <tr>\n",
       "                        <th id=\"T_75f36406_62cf_11ea_826f_e0d55e12c247level0_row0\" class=\"row_heading level0 row0\" >квартал1</th>\n",
       "                        <td id=\"T_75f36406_62cf_11ea_826f_e0d55e12c247row0_col0\" class=\"data row0 col0\" >6%</td>\n",
       "            </tr>\n",
       "            <tr>\n",
       "                        <th id=\"T_75f36406_62cf_11ea_826f_e0d55e12c247level0_row1\" class=\"row_heading level0 row1\" >квартал2</th>\n",
       "                        <td id=\"T_75f36406_62cf_11ea_826f_e0d55e12c247row1_col0\" class=\"data row1 col0\" >7%</td>\n",
       "            </tr>\n",
       "            <tr>\n",
       "                        <th id=\"T_75f36406_62cf_11ea_826f_e0d55e12c247level0_row2\" class=\"row_heading level0 row2\" >квартал3</th>\n",
       "                        <td id=\"T_75f36406_62cf_11ea_826f_e0d55e12c247row2_col0\" class=\"data row2 col0\" >5%</td>\n",
       "            </tr>\n",
       "            <tr>\n",
       "                        <th id=\"T_75f36406_62cf_11ea_826f_e0d55e12c247level0_row3\" class=\"row_heading level0 row3\" >квартал4</th>\n",
       "                        <td id=\"T_75f36406_62cf_11ea_826f_e0d55e12c247row3_col0\" class=\"data row3 col0\" >4%</td>\n",
       "            </tr>\n",
       "    </tbody></table>"
      ],
      "text/plain": [
       "<pandas.io.formats.style.Styler at 0x22cf44aa400>"
      ]
     },
     "execution_count": 558,
     "metadata": {},
     "output_type": "execute_result"
    }
   ],
   "source": [
    "title2 = 'Доля магазинов, продажи меньше или равны квантилю'\n",
    "pd.DataFrame(sws_q_silver.apply(lambda x: (x <= np.percentile(x,25)).sum()/x.sum()), columns=[title2]).style.format(\"{:.0%}\")"
   ]
  },
  {
   "cell_type": "code",
   "execution_count": null,
   "metadata": {},
   "outputs": [],
   "source": []
  },
  {
   "cell_type": "code",
   "execution_count": null,
   "metadata": {},
   "outputs": [],
   "source": []
  },
  {
   "cell_type": "code",
   "execution_count": null,
   "metadata": {},
   "outputs": [],
   "source": []
  }
 ],
 "metadata": {
  "kernelspec": {
   "display_name": "Python 3",
   "language": "python",
   "name": "python3"
  },
  "language_info": {
   "codemirror_mode": {
    "name": "ipython",
    "version": 3
   },
   "file_extension": ".py",
   "mimetype": "text/x-python",
   "name": "python",
   "nbconvert_exporter": "python",
   "pygments_lexer": "ipython3",
   "version": "3.7.0"
  }
 },
 "nbformat": 4,
 "nbformat_minor": 2
}
