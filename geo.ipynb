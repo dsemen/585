{
 "cells": [
  {
   "cell_type": "code",
   "execution_count": 89,
   "metadata": {},
   "outputs": [],
   "source": [
    "import pandas as pd\n",
    "df = pd.read_excel(\n",
    "    r'\\\\gold585.int\\uk\\Общее хранилище файлов\\Коммерческий департамент\\Отдел закупки\\ЛИЧНЫЕ\\Семен\\анализ юг.xlsx', usecols=[2])\n",
    "new_df = pd.DataFrame({'city':df.город.unique()})"
   ]
  },
  {
   "cell_type": "code",
   "execution_count": 90,
   "metadata": {},
   "outputs": [],
   "source": [
    "from geopy.geocoders import Nominatim\n",
    "geolocator = Nominatim(user_agent='Yandex')\n",
    "new_df['full_name'] = new_df['city'].apply(lambda x: (geolocator.geocode(x,timeout=10000)))\n"
   ]
  },
  {
   "cell_type": "code",
   "execution_count": 91,
   "metadata": {},
   "outputs": [],
   "source": [
    "new_df['full_name'] = new_df['full_name'].fillna(0)"
   ]
  },
  {
   "cell_type": "code",
   "execution_count": 92,
   "metadata": {},
   "outputs": [],
   "source": [
    "new_df['latitude'] = new_df['full_name'].apply(lambda x: x.latitude if x!= 0 else 0 )"
   ]
  },
  {
   "cell_type": "code",
   "execution_count": 93,
   "metadata": {},
   "outputs": [],
   "source": [
    "new_df['longitude'] = new_df['full_name'].apply(lambda x: x.longitude if x!= 0 else 0 )"
   ]
  },
  {
   "cell_type": "code",
   "execution_count": 94,
   "metadata": {},
   "outputs": [],
   "source": [
    "new_df['coord'] = new_df['full_name'].apply(lambda x: (x.latitude, x.longitude))"
   ]
  },
  {
   "cell_type": "code",
   "execution_count": 98,
   "metadata": {},
   "outputs": [],
   "source": [
    "from geopy.distance import geodesic\n",
    "vlad = (43.024593, 44.68211)\n",
    "nal = (43.4883695, 43.610560193588)\n",
    "new_df['distance vlad'] = new_df['coord'].apply(lambda x: geodesic(vlad,x).km)\n",
    "new_df['distance nal'] = new_df['coord'].apply(lambda x: geodesic(nal,x).km)"
   ]
  },
  {
   "cell_type": "code",
   "execution_count": 99,
   "metadata": {},
   "outputs": [],
   "source": [
    "new_df.to_excel( r'\\\\gold585.int\\uk\\Общее хранилище файлов\\Коммерческий департамент\\Отдел закупки\\ЛИЧНЫЕ\\Семен\\для анализ юг1.xlsx')"
   ]
  },
  {
   "cell_type": "code",
   "execution_count": null,
   "metadata": {},
   "outputs": [],
   "source": []
  },
  {
   "cell_type": "code",
   "execution_count": 107,
   "metadata": {},
   "outputs": [
    {
     "name": "stdout",
     "output_type": "stream",
     "text": [
      "701.1226097859368\n",
      "772.0011342236569\n"
     ]
    }
   ],
   "source": [
    "с = (49.65690635, 41.6993391207763)\n",
    "print(geodesic(nal,(с)).km)\n",
    "print(geodesic(vlad,(с)).km)"
   ]
  },
  {
   "cell_type": "code",
   "execution_count": null,
   "metadata": {},
   "outputs": [],
   "source": []
  }
 ],
 "metadata": {
  "kernelspec": {
   "display_name": "Python 3",
   "language": "python",
   "name": "python3"
  },
  "language_info": {
   "codemirror_mode": {
    "name": "ipython",
    "version": 3
   },
   "file_extension": ".py",
   "mimetype": "text/x-python",
   "name": "python",
   "nbconvert_exporter": "python",
   "pygments_lexer": "ipython3",
   "version": "3.7.0"
  }
 },
 "nbformat": 4,
 "nbformat_minor": 2
}
