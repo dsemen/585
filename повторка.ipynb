{
 "cells": [
  {
   "cell_type": "code",
   "execution_count": 1,
   "metadata": {},
   "outputs": [],
   "source": [
    "# забирает только то что нужно из повторки\n",
    "\n",
    "import pandas as pd\n",
    "\n",
    "povtora = pd.read_excel(r'C:\\Users\\Dotsenko.Semen\\Documents\\для Семена.xlsx')\n",
    "\n",
    "del povtora['№ Поставщика']\n",
    "\n",
    "#povtora = povtora[(povtora['Дизайн'] == 'ИФ БУДДА')]\n",
    "povtora = povtora[(povtora['Товарное направление'] == 'БК') & (povtora['Тип изделия 1'].isin(['СЕРЬГИ', 'ПОДВЕС ДЕКОРАТИВНЫ']))]\n",
    "\n",
    "#povtora.sort_values(by=['Тип изделия 1', 'Склад' ,'Дизайн', 'Артикул', 'Отправить на','Размер'], inplace=True)\n",
    "\n",
    "# считаем количество повторений това\n",
    "# dict_count = povtora['Товар'].value_counts().to_dict()\n",
    "# povtora['Скидка по штрихкоду'] = povtora['Товар'].map(dict_count)\n",
    "\n",
    "\n",
    "povtora.query('Склад == 7001').to_excel(r'C:\\рушники\\123.xlsx', index=False)\n"
   ]
  },
  {
   "cell_type": "code",
   "execution_count": 9,
   "metadata": {},
   "outputs": [],
   "source": [
    "# Join multiple excel files in folder to one excel file\n",
    "import pandas as pd\n",
    "import os\n",
    "\n",
    "dir = 'C:/Users/Dotsenko.Semen/Documents/повторка'\n",
    "file_list = [dir + '/' + x for x in os.listdir(dir) if '$' not in x]\n",
    "final = pd.concat([pd.read_excel(x) for x in file_list])\n",
    "\n",
    "final[final['Товарное направление'].str.contains('БК|ИФ')].to_excel(r'C:\\Users\\Dotsenko.Semen\\Documents\\для Семена.xlsx', index=False)"
   ]
  },
  {
   "cell_type": "code",
   "execution_count": null,
   "metadata": {},
   "outputs": [],
   "source": [
    "import pandas as pd\n",
    "Уч.3 (9103)_ВОР.xlsx"
   ]
  },
  {
   "cell_type": "code",
   "execution_count": null,
   "metadata": {},
   "outputs": [],
   "source": []
  },
  {
   "cell_type": "code",
   "execution_count": null,
   "metadata": {},
   "outputs": [],
   "source": []
  },
  {
   "cell_type": "code",
   "execution_count": 12,
   "metadata": {},
   "outputs": [],
   "source": [
    "#Проверка повторки на будду и на дисней и желтое \n",
    "\n",
    "import pandas as pd\n",
    "\n",
    "povtora = pd.read_excel(r'C:\\Users\\Dotsenko.Semen\\Documents\\для Семена.xlsx')\n",
    "del povtora['№ Производителя']\n",
    "\n",
    "\n",
    "disn_list = ['ТОВ1168396','ТОВ1168397','ТОВ1168398','ТОВ1168399','ТОВ1168400','ТОВ1168401','ТОВ1168402','ТОВ1168403','ТОВ1168404','ТОВ1168405','ТОВ1168406',\n",
    "            'ТОВ1168419','ТОВ1168420','ТОВ1168421','ТОВ1168422','ТОВ1168423','ТОВ1168424','ТОВ1168425','ТОВ1168426','ТОВ1168427','ТОВ1168428']\n",
    "\n",
    "result = povtora[(povtora['Дизайн'] == \"ИФ БУДДА\") |\n",
    "                 (povtora['Товар'].isin(disn_list)) #|\n",
    "                 #(povtora['Тип изделия 3'].str.contains('ЖЕЛ'))\n",
    "                ]\n",
    "\n",
    "result.to_excel(r'C:\\рушники\\повторка.xlsx', sheet_name='Движение товара', index=False)"
   ]
  },
  {
   "cell_type": "code",
   "execution_count": 13,
   "metadata": {},
   "outputs": [
    {
     "data": {
      "text/html": [
       "<div>\n",
       "<style scoped>\n",
       "    .dataframe tbody tr th:only-of-type {\n",
       "        vertical-align: middle;\n",
       "    }\n",
       "\n",
       "    .dataframe tbody tr th {\n",
       "        vertical-align: top;\n",
       "    }\n",
       "\n",
       "    .dataframe thead th {\n",
       "        text-align: right;\n",
       "    }\n",
       "</style>\n",
       "<table border=\"1\" class=\"dataframe\">\n",
       "  <thead>\n",
       "    <tr style=\"text-align: right;\">\n",
       "      <th></th>\n",
       "      <th>Склад</th>\n",
       "      <th>Вид движения</th>\n",
       "      <th>Товар</th>\n",
       "      <th>Тип изделия 1</th>\n",
       "      <th>Тип изделия 2</th>\n",
       "      <th>Тип изделия 3</th>\n",
       "      <th>№ Поставщика</th>\n",
       "      <th>Артикул</th>\n",
       "      <th>Серийный номер</th>\n",
       "      <th>Кол-во</th>\n",
       "      <th>...</th>\n",
       "      <th>Сумма без сертификата</th>\n",
       "      <th>Общий заказ но.</th>\n",
       "      <th>Сумма баллов</th>\n",
       "      <th>Сумма баллов сети</th>\n",
       "      <th>Сумма по договору</th>\n",
       "      <th>Был на ОСНО</th>\n",
       "      <th>Отправить на</th>\n",
       "      <th>Цена для ФР</th>\n",
       "      <th>Гендерный признак</th>\n",
       "      <th>1</th>\n",
       "    </tr>\n",
       "  </thead>\n",
       "  <tbody>\n",
       "  </tbody>\n",
       "</table>\n",
       "<p>0 rows × 54 columns</p>\n",
       "</div>"
      ],
      "text/plain": [
       "Empty DataFrame\n",
       "Columns: [Склад, Вид движения, Товар, Тип изделия 1, Тип изделия 2, Тип изделия 3, № Поставщика, Артикул, Серийный номер, Кол-во, Вес общий, Вес чистый, Проба, Размер, Вставка камней, Толщина плетения, Кол-во камней, Цена розничная, Цена закупки, Цена продажи, Дата партии, Дата прихода, Дата в торг., Дата расхода, Период реализации, Товар описание, Документ поступления, Документ закупки, Старый ярлык, Штрихкод, Группа наценки, Тип изделия, Скидка по штрихкоду, Скидка по группе, Скидка запрещена, Сумма скидки по штрихкоду, Сумма скидки по карте, Сумма скидки по группе, Тип транзакции, Товарное направление, Товарная подгруппа, Ценовая корзина, Дизайн, Проект, Сумма без сертификата, Общий заказ но., Сумма баллов, Сумма баллов сети, Сумма по договору, Был на ОСНО, Отправить на, Цена для ФР, Гендерный признак, 1]\n",
       "Index: []\n",
       "\n",
       "[0 rows x 54 columns]"
      ]
     },
     "execution_count": 13,
     "metadata": {},
     "output_type": "execute_result"
    }
   ],
   "source": [
    "result"
   ]
  },
  {
   "cell_type": "code",
   "execution_count": 1,
   "metadata": {},
   "outputs": [],
   "source": [
    "# ЗАДВОИ, МУСУЛЬМАНКА, КОЛЬЦО КУЛЬТОВОЕ проверка заборников\n",
    "import pandas as pd\n",
    "import numpy as np\n",
    "\n",
    "path = r'C:\\анаконда\\zab.xlsx'\n",
    "columns = ['Товар Но.', 'Тип 1', 'Склад-приемник', 'Описание', 'Товарная Группа', 'Номер ЗЛ', 'Серийный Но.' ]\n",
    "zab = pd.read_excel(path, usecols=columns, skiprows=4)\n",
    "\n",
    "# Задвои\n",
    "zab = zab[zab['Склад-приемник'] != 7171] # убираем товар на 7171\n",
    "zab['tovmag'] = zab['Товар Но.'].str.cat(zab['Склад-приемник'].astype('str'),sep='-')\n",
    "zab['count'] = zab.groupby(['tovmag'])['Номер ЗЛ'].transform('count')\n",
    "\n",
    "# Мусуль и культовые кольца\n",
    "# загружаем списки магов\n",
    "muslim_only = np.array([4990,3403,5183,4938,4759,5273,3918,3583,4991,3635,5033,3361,4772,3450,5107,4724,5182,5111,5412], dtype='int64')\n",
    "\n",
    "muslim = pd.read_excel(\n",
    "    r'\\\\gold585.int\\uk\\Общее хранилище файлов\\Коммерческий департамент\\Отдел закупки\\ЛИЧНЫЕ\\Семен\\нужное\\мусульманкэ.xlsx',\n",
    "sheet_name='основная', skiprows=[0],usecols=[0])\n",
    "muslim = muslim['склад'].to_numpy()\n",
    "\n",
    "shop_names = pd.read_excel(r'C:\\Остатки\\наполняемость с 10012020.xlsx',\n",
    "              sheet_name='ИФ', skiprows=3, usecols=['Код', 'Название'])\n",
    "shop_names.rename(columns={'Код': 'Склад-приемник'}, inplace=True)\n",
    "\n",
    "sas = pd.read_excel(r'C:\\анаконда\\карточки.xlsx', sheet_name='САС', skiprows=6, usecols=['Номер'])\n",
    "sas = sas['Номер'].to_numpy()\n",
    "\n",
    "# фильтруем ошибочные распределения и сохраняем в эксель\n",
    "doubles = zab[(zab['count'] > 1) & (zab['Товарная Группа'] != 'ЛОМБАРДЫ')].sort_values(['Товарная Группа', 'Товар Но.'])\n",
    "\n",
    "wrong_mus = zab[(zab['Описание'].str.contains('усуль', na=False)) & (~zab['Склад-приемник'].isin(muslim))]\n",
    "wrong_mus = wrong_mus.merge(shop_names, how='left', on='Склад-приемник')\n",
    "\n",
    "wrong_sas = zab[(zab['Товарная Группа'] == 'БК КОЛЬЦА') & \n",
    "                (zab['Склад-приемник'].isin(muslim_only)) & \n",
    "                (zab['Товар Но.'].isin(sas))]\n",
    "\n",
    "with pd.ExcelWriter('C:/рушники/dob.xlsx') as writer:\n",
    "    doubles.to_excel(writer, sheet_name='Задвои', index=False)\n",
    "    wrong_mus.to_excel(writer, sheet_name='мусуль', index=False)\n",
    "    wrong_sas.to_excel(writer, sheet_name='САС', index=False)"
   ]
  },
  {
   "cell_type": "code",
   "execution_count": 5,
   "metadata": {},
   "outputs": [
    {
     "name": "stdout",
     "output_type": "stream",
     "text": [
      "ПРИХ00392124|ПРИХ00390420|ПРИХ00391630|ПРИХ00392138|ПРИХ00392147|ПРИХ00391751|ПРИХ00392064|ПРИХ00391962|ПРИХ00391723|ПРИХ00389395|ПРИХ00392066|ПРИХ00391513|ПРИХ00389519|ПРИХ00391757|ПРИХ00391762\n"
     ]
    }
   ],
   "source": [
    "# рубим прихи для повторы\n",
    "\n",
    "df = pd.read_excel(r'C:\\рушники\\Книга4.xlsx')\n",
    "\n",
    "prih_list = df['Документ закупки'].unique()\n",
    "\n",
    "for x in prih_list:\n",
    "    df[df['Документ закупки'] == x].to_excel(str('C:/рушники/'+ x +'.xlsx'), index=False, sheet_name='Движение товара')\n",
    "    \n",
    "print('|'.join(x for x in prih_list))"
   ]
  },
  {
   "cell_type": "code",
   "execution_count": 39,
   "metadata": {},
   "outputs": [],
   "source": [
    "import pandas as pd\n",
    "df = pd.read_excel(r'C:\\Users\\Dotsenko.Semen\\Documents\\накладные.xlsx', sheet_name='Sheet1', usecols=list(range(5)))\n",
    "\n",
    "mustreturn = df.groupby(['КодСклада', 'НазваниеСклада'])['ШК'].count().reset_index()\n",
    "\n",
    "onstock = pd.read_csv(r'C:\\анаконда\\tmp.csv', delimiter=';', encoding='utf-8',low_memory=False,\n",
    "               usecols=[\"КодСклада\", \"НазваниеСклада\", 'ШК'])\n",
    "\n",
    "onstock = onstock[onstock['КодСклада'].isin(df['КодСклада'])]\n",
    "\n",
    "onstock['ШК'].isin(df['ШК'])\n",
    "\n",
    "onstock = onstock[onstock['ШК'].isin(df['ШК'])]\n",
    "\n",
    "notreturned = onstock.groupby(['КодСклада'])['ШК'].count().reset_index()"
   ]
  },
  {
   "cell_type": "code",
   "execution_count": 9,
   "metadata": {},
   "outputs": [],
   "source": [
    "def topnorms():\n",
    "    return 0\n",
    "def wedring_norms():\n",
    "    return 1\n",
    "def muslim_norms():\n",
    "    return 2\n",
    "def normsforraiting():\n",
    "    return 3\n",
    "\n",
    "\n",
    "\n",
    "def upload_norms():\n",
    "    func_dict2 = {0: topnorms(), 1: wedring_norms(), 2: muslim_norms(), 3: normsforraiting()}\n",
    "    return func_dict2[2]"
   ]
  },
  {
   "cell_type": "code",
   "execution_count": 10,
   "metadata": {},
   "outputs": [
    {
     "data": {
      "text/plain": [
       "2"
      ]
     },
     "execution_count": 10,
     "metadata": {},
     "output_type": "execute_result"
    }
   ],
   "source": [
    "upload_norms()"
   ]
  },
  {
   "cell_type": "code",
   "execution_count": 18,
   "metadata": {},
   "outputs": [
    {
     "data": {
      "text/html": [
       "<div>\n",
       "<style scoped>\n",
       "    .dataframe tbody tr th:only-of-type {\n",
       "        vertical-align: middle;\n",
       "    }\n",
       "\n",
       "    .dataframe tbody tr th {\n",
       "        vertical-align: top;\n",
       "    }\n",
       "\n",
       "    .dataframe thead th {\n",
       "        text-align: right;\n",
       "    }\n",
       "</style>\n",
       "<table border=\"1\" class=\"dataframe\">\n",
       "  <thead>\n",
       "    <tr style=\"text-align: right;\">\n",
       "      <th></th>\n",
       "      <th>Склад-приемник</th>\n",
       "      <th>Название</th>\n",
       "    </tr>\n",
       "  </thead>\n",
       "  <tbody>\n",
       "    <tr>\n",
       "      <th>0</th>\n",
       "      <td>4946</td>\n",
       "      <td>Анапа,  Астраханская, 99, (Дубль)</td>\n",
       "    </tr>\n",
       "    <tr>\n",
       "      <th>1</th>\n",
       "      <td>4901</td>\n",
       "      <td>Геленджик, Островского, 17 (дубль)</td>\n",
       "    </tr>\n",
       "    <tr>\n",
       "      <th>2</th>\n",
       "      <td>5285</td>\n",
       "      <td>Кызыл ,Тувинских добровольцев, 26</td>\n",
       "    </tr>\n",
       "    <tr>\n",
       "      <th>3</th>\n",
       "      <td>4345</td>\n",
       "      <td>Красноярск, 9 Мая, 77, МТДЦ «Планета» ( ДУБЛЬ)</td>\n",
       "    </tr>\n",
       "    <tr>\n",
       "      <th>4</th>\n",
       "      <td>4935</td>\n",
       "      <td>Моздок, Кирова , 54 ( Дубль)</td>\n",
       "    </tr>\n",
       "    <tr>\n",
       "      <th>...</th>\n",
       "      <td>...</td>\n",
       "      <td>...</td>\n",
       "    </tr>\n",
       "    <tr>\n",
       "      <th>957</th>\n",
       "      <td>5385</td>\n",
       "      <td>Чехов  ( КОД 1824)</td>\n",
       "    </tr>\n",
       "    <tr>\n",
       "      <th>958</th>\n",
       "      <td>4850</td>\n",
       "      <td>Горно-Алтайск пр Коммунистический 3</td>\n",
       "    </tr>\n",
       "    <tr>\n",
       "      <th>959</th>\n",
       "      <td>5430</td>\n",
       "      <td>Санкт-Петербург ( КОД 1845)</td>\n",
       "    </tr>\n",
       "    <tr>\n",
       "      <th>960</th>\n",
       "      <td>5432</td>\n",
       "      <td>Иркутск ( КОД 1843)</td>\n",
       "    </tr>\n",
       "    <tr>\n",
       "      <th>961</th>\n",
       "      <td>5164</td>\n",
       "      <td>Кемерово   ( КОД 1768)</td>\n",
       "    </tr>\n",
       "  </tbody>\n",
       "</table>\n",
       "<p>962 rows × 2 columns</p>\n",
       "</div>"
      ],
      "text/plain": [
       "     Склад-приемник                                        Название\n",
       "0              4946               Анапа,  Астраханская, 99, (Дубль)\n",
       "1              4901              Геленджик, Островского, 17 (дубль)\n",
       "2              5285               Кызыл ,Тувинских добровольцев, 26\n",
       "3              4345  Красноярск, 9 Мая, 77, МТДЦ «Планета» ( ДУБЛЬ)\n",
       "4              4935                    Моздок, Кирова , 54 ( Дубль)\n",
       "..              ...                                             ...\n",
       "957            5385                              Чехов  ( КОД 1824)\n",
       "958            4850             Горно-Алтайск пр Коммунистический 3\n",
       "959            5430                     Санкт-Петербург ( КОД 1845)\n",
       "960            5432                             Иркутск ( КОД 1843)\n",
       "961            5164                          Кемерово   ( КОД 1768)\n",
       "\n",
       "[962 rows x 2 columns]"
      ]
     },
     "execution_count": 18,
     "metadata": {},
     "output_type": "execute_result"
    }
   ],
   "source": [
    "shop_names = pd.read_excel(r'C:\\Остатки\\наполняемость с 10012020.xlsx',\n",
    "              sheet_name='ИФ', skiprows=3, usecols=['Код', 'Название'])\n",
    "shop_names.rename(columns={'Код': 'Склад-приемник'}, inplace=True)\n",
    "shop_names          "
   ]
  },
  {
   "cell_type": "code",
   "execution_count": null,
   "metadata": {},
   "outputs": [],
   "source": [
    "mstr = '123456987654'"
   ]
  },
  {
   "cell_type": "code",
   "execution_count": 5,
   "metadata": {},
   "outputs": [
    {
     "data": {
      "text/plain": [
       "1024"
      ]
     },
     "execution_count": 5,
     "metadata": {},
     "output_type": "execute_result"
    }
   ],
   "source": [
    "2 ** 10"
   ]
  },
  {
   "cell_type": "code",
   "execution_count": 9,
   "metadata": {},
   "outputs": [
    {
     "data": {
      "text/plain": [
       "6"
      ]
     },
     "execution_count": 9,
     "metadata": {},
     "output_type": "execute_result"
    }
   ],
   "source": [
    "from math import factorial as fct\n",
    "fct(3)"
   ]
  },
  {
   "cell_type": "code",
   "execution_count": 10,
   "metadata": {},
   "outputs": [
    {
     "data": {
      "text/plain": [
       "2598960"
      ]
     },
     "execution_count": 10,
     "metadata": {},
     "output_type": "execute_result"
    }
   ],
   "source": [
    "12 * 10 * 17 * 26 * 49\n"
   ]
  },
  {
   "cell_type": "code",
   "execution_count": 2,
   "metadata": {},
   "outputs": [],
   "source": [
    "a = 1.0\n",
    "b = 8.0\n"
   ]
  },
  {
   "cell_type": "code",
   "execution_count": 7,
   "metadata": {},
   "outputs": [
    {
     "name": "stdout",
     "output_type": "stream",
     "text": [
      "lskjf1.0 '\n",
      "ljd falskf8.0\n"
     ]
    }
   ],
   "source": [
    "print(f'''lskjf{a} '\n",
    "ljd falskf{b}''')\n"
   ]
  }
 ],
 "metadata": {
  "kernelspec": {
   "display_name": "Python 3",
   "language": "python",
   "name": "python3"
  },
  "language_info": {
   "codemirror_mode": {
    "name": "ipython",
    "version": 3
   },
   "file_extension": ".py",
   "mimetype": "text/x-python",
   "name": "python",
   "nbconvert_exporter": "python",
   "pygments_lexer": "ipython3",
   "version": "3.7.0"
  }
 },
 "nbformat": 4,
 "nbformat_minor": 2
}
