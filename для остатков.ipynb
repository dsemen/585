{
 "cells": [
  {
   "cell_type": "code",
   "execution_count": 12,
   "metadata": {},
   "outputs": [],
   "source": [
    "#ОБРУЧАЛКА\n",
    "import pandas as pd\n",
    "#загужаем файл остатков и отметает лишнее\n",
    "ost_obr=pd.read_csv(r'C:\\анаконда\\tmp.csv', delimiter=';', encoding='utf-8',low_memory=False,\n",
    "               usecols=[\"КодСклада\", \"НазваниеСклада\", \"ТоварНо\",\"СерийныйНомер\",\"Проект\"])\n",
    "ost_obr=ost_obr[ost_obr.Проект.isin(['ЗОЛОТОЙ','ОРИОН','ЗОЛОТО','ТАЛАНТ'])].sort_values('КодСклада')\n",
    "del ost_obr['Проект']\n",
    "\n",
    "#делим файл на две части:магазы и центральные склады\n",
    "ost_obr1=ost_obr[ost_obr.НазваниеСклада.str.contains('центральный склад|опт',case = False)]\n",
    "ost_obr=ost_obr[~ost_obr.НазваниеСклада.str.contains('центральный склад|опт',case = False)]\n",
    "ost_obr=ost_obr[['КодСклада','ТоварНо']]\n",
    "ost_obr1=ost_obr1[['СерийныйНомер','ТоварНо']]\n",
    "\n",
    "#обработка заборников верхние пустые строки в загружаемом файле должны быть удалены\n",
    "zab=pd.read_excel(r'C:\\анаконда\\zab.xlsx')\n",
    "zab=zab[[\"Серийный Но.\",\"Товар Но.\",\"Склад-приемник\",\"Номер ЗЛ\"]].sort_values(by=\"Номер ЗЛ\",ascending = False)\n",
    "zab.columns = ['СерийныйНомер','ТоварНо','КодСклада','ЗЛ']\n",
    "\n",
    "#делим файл на две части:необиркованные и без СН на машине\n",
    "zab_0=zab[zab.СерийныйНомер.isnull()]\n",
    "zab_0=zab_0[['КодСклада','ТоварНо']]\n",
    "zab=zab[zab.СерийныйНомер.str.contains('СН',na=False)]\n",
    "zab=zab[['СерийныйНомер','КодСклада']]\n",
    "\n",
    "#проставляем магаз в серийники, которые на 4001/3075/опте\n",
    "df=pd.merge(ost_obr1,zab,on=['СерийныйНомер'],how = 'inner')#inner join оставит только неперемещенный товар\n",
    "ost_obr1=df[['КодСклада','ТоварНо']]\n",
    "\n",
    "#соединяем остатки на магазах,на машине, то что числилось на 4001/3075/опте\n",
    "result = pd.concat([ost_obr,ost_obr1,zab_0])\n",
    "\n",
    "#догружаем размер/артикул/толщ.плетения и тд\n",
    "df=pd.read_excel(r'C:\\анаконда\\карточки.xlsx',sheet_name='обручи',header=6)\n",
    "result=pd.merge(result,df,left_on=['ТоварНо'],right_on=['Номер'],how='left')\n",
    "del result['Номер']\n",
    "result.set_index('КодСклада',drop=True, inplace=True)\n",
    "\n",
    "#сохраняем в эксель. нужно доработать сохранение в уже существующий эксель\n",
    "with pd.ExcelWriter(r'C:\\Остатки\\обручи.xlsx') as writer:\n",
    "    result.to_excel(writer, sheet_name='остатки')"
   ]
  },
  {
   "cell_type": "code",
   "execution_count": 13,
   "metadata": {},
   "outputs": [],
   "source": [
    "#БУКВЫ И ЗОДИАКИ\n",
    "import pandas as pd\n",
    "#загужаем файл остатков и отметает лишнее\n",
    "ost_obr = pd.read_csv(r'C:\\анаконда\\tmp.csv', delimiter=';', encoding='utf-8',low_memory=False,\n",
    "               usecols=[\"КодСклада\", \"НазваниеСклада\", \"ТоварНо\",\"СерийныйНомер\",\"ТоварноеНаправление\",\"Проект\",\"Тип1\"])\n",
    "\n",
    "#оставляем только декоративные подвесы и нужные проекты\n",
    "ost_obr = ost_obr[(ost_obr[\"Тип1\"]== 'ПОДВЕС ДЕКОРАТИВНЫЙ')]\n",
    "ost_obr = ost_obr[ost_obr.Проект.isin(['ЗОЛОТОЙ','ОРИОН','ЗОЛОТО','ТАЛАНТ'])].sort_values('КодСклада')\n",
    "del ost_obr['Проект'], ost_obr['Тип1']\n",
    "\n",
    "#делим файл на две части:магазы и центральные склады\n",
    "ost_obr1=ost_obr[ost_obr.НазваниеСклада.str.contains('центральный склад|опт',case = False)]\n",
    "ost_obr=ost_obr[~ost_obr.НазваниеСклада.str.contains('центральный склад|опт',case = False)]\n",
    "ost_obr=ost_obr[['КодСклада','ТоварНо','ТоварноеНаправление']]\n",
    "ost_obr1=ost_obr1[['СерийныйНомер','ТоварНо','ТоварноеНаправление']]\n",
    "\n",
    "#обработка заборников верхние пустые строки в загружаемом файле должны быть удалены\n",
    "zab = pd.read_excel(r'C:\\анаконда\\zab.xlsx',\n",
    "                  usecols=[\"Серийный Но.\",\"Товар Но.\",\"Склад-приемник\",\"Номер ЗЛ\",\"Товарное направление\",\"Тип 1\"])\n",
    "zab = zab[(zab[\"Тип 1\"]== 'ПОДВЕС ДЕКОРАТИВНЫЙ')]\n",
    "\n",
    "del zab[\"Тип 1\"]\n",
    "zab = zab.sort_values(by=\"Номер ЗЛ\",ascending = False)\n",
    "zab.columns = ['СерийныйНомер','ТоварНо','КодСклада','ЗЛ','ТоварноеНаправление']\n",
    "\n",
    "#делим файл на две части:необиркованные и без СН на машине\n",
    "zab_0=zab[zab.СерийныйНомер.isnull()]\n",
    "zab_0=zab_0[['КодСклада','ТоварНо','ТоварноеНаправление']]\n",
    "zab=zab[zab.СерийныйНомер.str.contains('СН',na=False)]\n",
    "zab=zab[['СерийныйНомер','КодСклада']]\n",
    "\n",
    "#проставляем магаз в серийники, которые на 4001/3075/опте\n",
    "df=pd.merge(ost_obr1,zab,on=['СерийныйНомер'],how = 'inner')#inner join оставит только неперемещенный товар\n",
    "ost_obr1=df[['КодСклада','ТоварНо','ТоварноеНаправление']]\n",
    "\n",
    "#соединяем остатки на магазах,на машине, то что числилось на 4001/3075/опте\n",
    "result = pd.concat([ost_obr,ost_obr1,zab_0])\n",
    "\n",
    "\n",
    "#догружаем размер/артикул/толщ.плетения и тд\n",
    "df=pd.read_excel(r'C:\\анаконда\\карточки.xlsx',sheet_name='буки',header=6)\n",
    "result=pd.merge(result,df,left_on=['ТоварНо'],right_on=['Номер'],how='left')\n",
    "del result['Номер']\n",
    "result.set_index('КодСклада',drop=True, inplace=True)\n",
    "\n",
    "# Очищаем описание 3 от ненужного мусора\n",
    "result['Описание 3']=result['Описание 3'].apply(lambda a: a[:a.find(' ')] if a.find(' ')>0 else a )\n",
    "\n",
    "#сохраняем в эксель. нужно доработать сохранение в уже существующий эксель\n",
    "with pd.ExcelWriter(r'C:\\Остатки\\буквыизодиаки.xlsx') as writer:\n",
    "    result.to_excel(writer)\n",
    "\n"
   ]
  },
  {
   "cell_type": "code",
   "execution_count": 7,
   "metadata": {},
   "outputs": [],
   "source": [
    "#Белое\n",
    "import pandas as pd\n",
    "#загужаем файл остатков и отметает лишнее\n",
    "ost_obr=pd.read_csv(r'C:\\анаконда\\tmp.csv', delimiter=';', encoding='utf-8',low_memory=False,\n",
    "                    usecols=[\"КодСклада\", \"НазваниеСклада\", \"Тип1\",\"ПоставщикАрт\",\n",
    "                                \"РазмерИзделия\",\"ТоварНо\",\"СерийныйНомер\",\"Проект\"])\n",
    "ost_obr=ost_obr[ost_obr.Проект.isin(['ЗОЛОТОЙ','ОРИОН','ЗОЛОТО','ТАЛАНТ'])].sort_values('КодСклада')\n",
    "del ost_obr['Проект']\n",
    "\n",
    "#делим файл на две части:магазы и центральные склады\n",
    "ost_obr1=ost_obr[ost_obr.НазваниеСклада.str.contains('центральный склад|опт',case = False)]\n",
    "ost_obr=ost_obr[~ost_obr.НазваниеСклада.str.contains('центральный склад|опт',case = False)]\n",
    "del ost_obr1['КодСклада']\n",
    "\n",
    "#обработка заборников верхние пустые строки в загружаемом файле должны быть удалены\n",
    "zab=pd.read_excel(r'C:\\анаконда\\zab.xlsx')\n",
    "zab=zab[[\"Серийный Но.\",\"Склад-приемник\",\"Номер ЗЛ\"]].sort_values(by=\"Номер ЗЛ\",ascending = False)\n",
    "zab.columns = ['СерийныйНомер','КодСклада','ЗЛ']\n",
    "del zab['ЗЛ']\n",
    "\n",
    "#проставляем магаз в серийники, которые на 4001/3075/опте\n",
    "ost_obr1=pd.merge(ost_obr1,zab,on=['СерийныйНомер'],how = 'inner')#inner join оставит только неперемещенный товар\n",
    "ost_obr1=ost_obr1[[\"КодСклада\", \"НазваниеСклада\", \"ТоварНо\",\"СерийныйНомер\",\"Тип1\",\"ПоставщикАрт\",\"РазмерИзделия\"]]\n",
    "#соединяем остатки на магазах,на машине, то что числилось на 4001/3075/опте\n",
    "result = pd.concat([ost_obr,ost_obr1])\n",
    "result.set_index('КодСклада',drop=True, inplace=True)\n",
    "\n",
    "\n",
    "#сохраняем в эксель. нужно доработать сохранение в уже существующий эксель\n",
    "with pd.ExcelWriter(r'\\\\gold585.int\\uk\\Общее хранилище файлов\\Коммерческий департамент\\Отдел закупки\\ЛИЧНЫЕ\\Семен\\остатки.xlsx') as writer:\n",
    "    result.to_excel(writer)"
   ]
  },
  {
   "cell_type": "code",
   "execution_count": 9,
   "metadata": {},
   "outputs": [],
   "source": [
    "#ЛЮБОЙ ТОВАР\n",
    "import pandas as pd\n",
    "import timeit\n",
    "\n",
    "#загужаем файл остатков и отметает лишнее\n",
    "ost_obr=pd.read_csv(r'C:\\анаконда\\tmp.csv', delimiter=';', encoding='utf-8',low_memory=False,\n",
    "                    usecols=[\"КодСклада\", \"НазваниеСклада\", \"ТоварНо\",\"СерийныйНомер\",\"Проект\"])\n",
    "ost_obr=ost_obr[ost_obr.Проект.isin(['ЗОЛОТОЙ','ОРИОН','ЗОЛОТО','ТАЛАНТ'])].sort_values('КодСклада')\n",
    "del ost_obr['Проект']\n",
    "\n",
    "#делим файл на две части:магазы и центральные склады\n",
    "ost_obr1=ost_obr[ost_obr.НазваниеСклада.str.contains('центральный склад|опт',case = False)]\n",
    "ost_obr=ost_obr[~ost_obr.НазваниеСклада.str.contains('центральный склад|опт',case = False)]\n",
    "ost_obr=ost_obr[[\"КодСклада\",  \"ТоварНо\",\"СерийныйНомер\"]]\n",
    "del ost_obr1['КодСклада']\n",
    "\n",
    "#обработка заборников верхние пустые строки в загружаемом файле должны быть удалены\n",
    "zab=pd.read_excel(r'C:\\анаконда\\zab.xlsx')\n",
    "zab=zab[[\"Серийный Но.\",\"Склад-приемник\",\"Номер ЗЛ\"]].sort_values(by=\"Номер ЗЛ\",ascending = False)\n",
    "zab.columns = ['СерийныйНомер','КодСклада','ЗЛ']\n",
    "del zab['ЗЛ']\n",
    "\n",
    "#проставляем магаз в серийники, которые на 4001/3075/опте\n",
    "ost_obr1=pd.merge(ost_obr1,zab,on=['СерийныйНомер'],how = 'inner')#inner join оставит только неперемещенный товар\n",
    "ost_obr1=ost_obr1[[\"КодСклада\",  \"ТоварНо\",\"СерийныйНомер\"]]\n",
    "\n",
    "\n",
    "#соединяем остатки на магазах,на машине, то что числилось на 4001/3075/опте\n",
    "result = pd.concat([ost_obr,ost_obr1])\n",
    "result.set_index('КодСклада',drop=True, inplace=True)\n",
    "\n",
    "\n",
    "#сохраняем в эксель. нужно доработать сохранение в уже существующий эксель\n",
    "with pd.ExcelWriter(r'C:\\Остатки\\остатки.xlsx') as writer:\n",
    "    result.to_excel(writer)"
   ]
  },
  {
   "cell_type": "code",
   "execution_count": 22,
   "metadata": {},
   "outputs": [],
   "source": [
    "import pandas as pd\n",
    "import numpy as np\n",
    "\n",
    "orders_4001 = pd.read_excel(r'C:\\анаконда\\bullshit.xlsx', sheet_name='4001', index_col=9)\n",
    "lst = orders_4001.index.unique().to_list()\n",
    "\n",
    "with pd.ExcelWriter(r'C:\\Остатки\\зак_4001.xlsx') as writer:\n",
    "    \n",
    "    lst = orders_4001.index.unique().to_list()\n",
    "    a=0\n",
    "    \n",
    "    while a < len(lst):\n",
    "        orders_4001.loc[lst[a]].to_excel(writer, sheet_name=lst[a])\n",
    "        a +=1    "
   ]
  },
  {
   "cell_type": "code",
   "execution_count": 21,
   "metadata": {},
   "outputs": [
    {
     "name": "stdout",
     "output_type": "stream",
     "text": [
      "Elapsed time: 0.074 sec\n"
     ]
    }
   ],
   "source": [
    "import math, time\n",
    "\n",
    "class Profiler(object):\n",
    "    def __enter__(self):\n",
    "        self._startTime = time.time()\n",
    "\n",
    "    def __exit__(self, type, value, traceback):\n",
    "        print (\"Elapsed time: {:.3f} sec\".format(time.time() - self._startTime))\n",
    "\n",
    "with Profiler() as p:\n",
    "    orders_4001 = pd.read_excel(r'C:\\анаконда\\bullshit.xlsx', sheet_name='4001', index_col=9)\n",
    "    lst = orders_4001.index.unique().to_list()\n",
    "\n",
    "    with pd.ExcelWriter(r'C:\\Остатки\\зак_4001.xlsx') as writer:\n",
    "    \n",
    "        lst = orders_4001.index.unique().to_list()\n",
    "        a=0\n",
    "    \n",
    "        while a < len(lst):\n",
    "            orders_4001.loc[lst[a]].to_excel(writer, sheet_name=lst[a])\n",
    "            a +=1    \n",
    "    "
   ]
  },
  {
   "cell_type": "code",
   "execution_count": 15,
   "metadata": {},
   "outputs": [],
   "source": [
    "import pandas as pd\n",
    "import numpy as np\n",
    "\n",
    "orders_4001 = pd.read_excel(r'C:\\анаконда\\bullshit.xlsx', sheet_name='детс', index_col=9)\n",
    "lst = orders_4001.index.unique().to_list()\n",
    "\n",
    "with pd.ExcelWriter(r'C:\\Остатки\\зак_детс.xlsx') as writer:\n",
    "    \n",
    "    lst = orders_4001.index.unique().to_list()\n",
    "    a=0\n",
    "    \n",
    "    while a < len(lst):\n",
    "        orders_4001.loc[lst[a]].to_excel(writer, sheet_name=lst[a])\n",
    "        a +=1    "
   ]
  },
  {
   "cell_type": "code",
   "execution_count": 46,
   "metadata": {},
   "outputs": [],
   "source": [
    "\n",
    "wordDict = {'V' : 'I', 'N' : 'A', 'G' : 'T', 'U' : 'H', 'R' : 'E', 'Z' : 'M', 'F' : 'S', 'J' : 'W', 'O' : 'B', 'Y' : 'L', 'Q' : 'D', 'X' : 'K', 'P' : 'C', 'v' : 'i', 'n' : 'a', 'g' : 't', 'u' : 'h', 'r' : 'e', 'z' : 'm', 'f' : 's', 'j' : 'w', 'o' : 'b', 'y' : 'l', 'q' : 'd', 'x' : 'k', 'p' : 'c', 'I' : 'V', 'A' : 'N', 'T' : 'G', 'H' : 'U', 'E' : 'R', 'M' : 'Z', 'S' : 'F', 'W' : 'J', 'B' : 'O', 'L' : 'Y', 'D' : 'Q', 'K' : 'X', 'C' : 'P', 'i' : 'v', 'a' : 'n', 't' : 'g', 'h' : 'u', 'e' : 'r', 'm' : 'z', 's' : 'f', 'w' : 'j', 'b' : 'o', 'l' : 'y', 'd' : 'q', 'k' : 'x', 'c' : 'p'}"
   ]
  },
  {
   "cell_type": "code",
   "execution_count": 39,
   "metadata": {},
   "outputs": [
    {
     "data": {
      "text/plain": [
       "'i'"
      ]
     },
     "execution_count": 39,
     "metadata": {},
     "output_type": "execute_result"
    }
   ],
   "source": [
    "wordDict['v']"
   ]
  },
  {
   "cell_type": "code",
   "execution_count": 23,
   "metadata": {},
   "outputs": [],
   "source": [
    "def multipleReplace(text, wordDict):\n",
    "    \"\"\"\n",
    "    take a text and replace words that match the key in a dictionary\n",
    "    with the associated value, return the changed text\n",
    "    \"\"\"\n",
    "    for x in text:\n",
    "        text = text.replace(key, wordDict[key])\n",
    "    return text"
   ]
  },
  {
   "cell_type": "code",
   "execution_count": 47,
   "metadata": {},
   "outputs": [
    {
     "ename": "KeyError",
     "evalue": "' '",
     "output_type": "error",
     "traceback": [
      "\u001b[1;31m---------------------------------------------------------------------------\u001b[0m",
      "\u001b[1;31mKeyError\u001b[0m                                  Traceback (most recent call last)",
      "\u001b[1;32m<ipython-input-47-979afb53d462>\u001b[0m in \u001b[0;36m<module>\u001b[1;34m()\u001b[0m\n\u001b[0;32m      1\u001b[0m \u001b[0mtext\u001b[0m \u001b[1;33m=\u001b[0m \u001b[1;34m'Vg jnf gur Juvgr Enoovg'\u001b[0m\u001b[1;33m\u001b[0m\u001b[0m\n\u001b[0;32m      2\u001b[0m \u001b[1;32mfor\u001b[0m \u001b[0mx\u001b[0m \u001b[1;32min\u001b[0m \u001b[0mtext\u001b[0m\u001b[1;33m:\u001b[0m\u001b[1;33m\u001b[0m\u001b[0m\n\u001b[1;32m----> 3\u001b[1;33m     \u001b[0mtext\u001b[0m \u001b[1;33m=\u001b[0m \u001b[0mtext\u001b[0m\u001b[1;33m.\u001b[0m\u001b[0mreplace\u001b[0m\u001b[1;33m(\u001b[0m\u001b[0mx\u001b[0m\u001b[1;33m,\u001b[0m \u001b[0mwordDict\u001b[0m\u001b[1;33m[\u001b[0m\u001b[0mx\u001b[0m\u001b[1;33m]\u001b[0m\u001b[1;33m)\u001b[0m\u001b[1;33m\u001b[0m\u001b[0m\n\u001b[0m\u001b[0;32m      4\u001b[0m \u001b[1;32mreturn\u001b[0m \u001b[0mtext\u001b[0m\u001b[1;33m\u001b[0m\u001b[0m\n\u001b[0;32m      5\u001b[0m \u001b[1;33m\u001b[0m\u001b[0m\n",
      "\u001b[1;31mKeyError\u001b[0m: ' '"
     ]
    }
   ],
   "source": [
    "text = 'Vg jnf gur Juvgr Enoovg'\n",
    "for x in text:\n",
    "    text = text.replace(x, wordDict[x])\n",
    "return text\n",
    "    \n"
   ]
  },
  {
   "cell_type": "code",
   "execution_count": 17,
   "metadata": {},
   "outputs": [
    {
     "ename": "NameError",
     "evalue": "name 'value' is not defined",
     "output_type": "error",
     "traceback": [
      "\u001b[1;31m---------------------------------------------------------------------------\u001b[0m",
      "\u001b[1;31mNameError\u001b[0m                                 Traceback (most recent call last)",
      "\u001b[1;32m<ipython-input-17-80a1b45ff585>\u001b[0m in \u001b[0;36m<module>\u001b[1;34m()\u001b[0m\n\u001b[0;32m      3\u001b[0m \u001b[1;32mwith\u001b[0m \u001b[0mopen\u001b[0m\u001b[1;33m(\u001b[0m\u001b[1;34mr'C:\\нетология\\encoded.txt'\u001b[0m\u001b[1;33m,\u001b[0m \u001b[1;34m'r'\u001b[0m\u001b[1;33m)\u001b[0m \u001b[1;32mas\u001b[0m \u001b[0mfile\u001b[0m\u001b[1;33m:\u001b[0m\u001b[1;33m\u001b[0m\u001b[0m\n\u001b[0;32m      4\u001b[0m     \u001b[0mfiledata\u001b[0m \u001b[1;33m=\u001b[0m \u001b[0mfile\u001b[0m\u001b[1;33m.\u001b[0m\u001b[0mread\u001b[0m\u001b[1;33m(\u001b[0m\u001b[1;33m)\u001b[0m\u001b[1;33m\u001b[0m\u001b[0m\n\u001b[1;32m----> 5\u001b[1;33m \u001b[0mfiledata\u001b[0m \u001b[1;33m=\u001b[0m \u001b[0mmultipleReplace\u001b[0m\u001b[1;33m(\u001b[0m\u001b[0mfiledata\u001b[0m\u001b[1;33m,\u001b[0m \u001b[0mwordDict\u001b[0m\u001b[1;33m)\u001b[0m\u001b[1;33m\u001b[0m\u001b[0m\n\u001b[0m\u001b[0;32m      6\u001b[0m \u001b[1;33m\u001b[0m\u001b[0m\n\u001b[0;32m      7\u001b[0m \u001b[0mfiledata\u001b[0m\u001b[1;33m\u001b[0m\u001b[0m\n",
      "\u001b[1;32m<ipython-input-16-dde30a2b45c6>\u001b[0m in \u001b[0;36mmultipleReplace\u001b[1;34m(text, wordDict)\u001b[0m\n\u001b[0;32m      5\u001b[0m     \"\"\"\n\u001b[0;32m      6\u001b[0m     \u001b[1;32mfor\u001b[0m \u001b[0mkey\u001b[0m \u001b[1;32min\u001b[0m \u001b[0mwordDict\u001b[0m\u001b[1;33m:\u001b[0m\u001b[1;33m\u001b[0m\u001b[0m\n\u001b[1;32m----> 7\u001b[1;33m         \u001b[0mtext\u001b[0m \u001b[1;33m=\u001b[0m \u001b[0mtext\u001b[0m\u001b[1;33m.\u001b[0m\u001b[0mreplace\u001b[0m\u001b[1;33m(\u001b[0m\u001b[0mkey\u001b[0m\u001b[1;33m,\u001b[0m \u001b[0mwordDict\u001b[0m\u001b[1;33m[\u001b[0m\u001b[0mvalue\u001b[0m\u001b[1;33m]\u001b[0m\u001b[1;33m)\u001b[0m\u001b[1;33m\u001b[0m\u001b[0m\n\u001b[0m\u001b[0;32m      8\u001b[0m     \u001b[1;32mreturn\u001b[0m \u001b[0mtext\u001b[0m\u001b[1;33m\u001b[0m\u001b[0m\n",
      "\u001b[1;31mNameError\u001b[0m: name 'value' is not defined"
     ]
    }
   ],
   "source": [
    "import os\n",
    "import sys\n",
    "with open(r'C:\\нетология\\encoded.txt', 'r') as file:\n",
    "    filedata = file.read()\n",
    "filedata = multipleReplace(filedata, wordDict)\n",
    "\n",
    "filedata"
   ]
  },
  {
   "cell_type": "code",
   "execution_count": null,
   "metadata": {},
   "outputs": [],
   "source": []
  }
 ],
 "metadata": {
  "kernelspec": {
   "display_name": "Python 3",
   "language": "python",
   "name": "python3"
  },
  "language_info": {
   "codemirror_mode": {
    "name": "ipython",
    "version": 3
   },
   "file_extension": ".py",
   "mimetype": "text/x-python",
   "name": "python",
   "nbconvert_exporter": "python",
   "pygments_lexer": "ipython3",
   "version": "3.7.0"
  }
 },
 "nbformat": 4,
 "nbformat_minor": 2
}
