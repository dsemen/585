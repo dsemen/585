{
 "cells": [
  {
   "cell_type": "code",
   "execution_count": 5,
   "metadata": {},
   "outputs": [],
   "source": [
    "import pandas as pd\n",
    "import numpy as np\n",
    "np.random.seed(2700)"
   ]
  },
  {
   "cell_type": "markdown",
   "metadata": {},
   "source": [
    "Я заниюмаюсь управлением товародвижения в федеральной сети ювелирных магазинов (900 магазинов). Отвечаю за изделия из золота. В данной работе хочу применить машинное обучение для:\n",
    "\n",
    "- прогноза продаж ассортимента определенного типа для каждого торгового объекта(магазина) в отдельности\n",
    "- выявление главных признаков торгового объекта(магазина), котороые влияют на продажи ассортимента определенного типа\n",
    "\n",
    "Делать это буду на примере мусульманских подвесов.\n",
    "Для анализа буду использовать данные по продажам мусульманских подвесов из серебра, т.к. они присутствуют почти в каждом магазине.\n",
    "Практическая польза"
   ]
  },
  {
   "cell_type": "code",
   "execution_count": 6,
   "metadata": {},
   "outputs": [
    {
     "data": {
      "text/html": [
       "<div>\n",
       "<style scoped>\n",
       "    .dataframe tbody tr th:only-of-type {\n",
       "        vertical-align: middle;\n",
       "    }\n",
       "\n",
       "    .dataframe tbody tr th {\n",
       "        vertical-align: top;\n",
       "    }\n",
       "\n",
       "    .dataframe thead th {\n",
       "        text-align: right;\n",
       "    }\n",
       "</style>\n",
       "<table border=\"1\" class=\"dataframe\">\n",
       "  <thead>\n",
       "    <tr style=\"text-align: right;\">\n",
       "      <th></th>\n",
       "      <th>id</th>\n",
       "      <th>585_msale</th>\n",
       "      <th>925_msale</th>\n",
       "    </tr>\n",
       "  </thead>\n",
       "  <tbody>\n",
       "    <tr>\n",
       "      <th>893</th>\n",
       "      <td>92</td>\n",
       "      <td>0.0</td>\n",
       "      <td>1.0</td>\n",
       "    </tr>\n",
       "    <tr>\n",
       "      <th>894</th>\n",
       "      <td>925</td>\n",
       "      <td>0.0</td>\n",
       "      <td>2.0</td>\n",
       "    </tr>\n",
       "    <tr>\n",
       "      <th>895</th>\n",
       "      <td>955</td>\n",
       "      <td>1.0</td>\n",
       "      <td>8.0</td>\n",
       "    </tr>\n",
       "    <tr>\n",
       "      <th>896</th>\n",
       "      <td>96</td>\n",
       "      <td>7.0</td>\n",
       "      <td>13.0</td>\n",
       "    </tr>\n",
       "    <tr>\n",
       "      <th>897</th>\n",
       "      <td>99</td>\n",
       "      <td>12.0</td>\n",
       "      <td>14.0</td>\n",
       "    </tr>\n",
       "  </tbody>\n",
       "</table>\n",
       "</div>"
      ],
      "text/plain": [
       "      id  585_msale  925_msale\n",
       "893   92        0.0        1.0\n",
       "894  925        0.0        2.0\n",
       "895  955        1.0        8.0\n",
       "896   96        7.0       13.0\n",
       "897   99       12.0       14.0"
      ]
     },
     "execution_count": 6,
     "metadata": {},
     "output_type": "execute_result"
    }
   ],
   "source": [
    "# Загружаю датасет с продажами серебра и золота \n",
    "name = r'C:\\нетология\\muslim.xlsx'\n",
    "mus_sales = pd.read_excel(name, sheet_name='олап', skiprows=10, usecols=[0,2,3], names=['id','585_msale','925_msale'])\n",
    "\n",
    "# Убираем пустые значения после 'Общий итог'\n",
    "lst = mus_sales['id'].tolist()\n",
    "mus_sales = mus_sales.drop(axis=0,index=np.arange(lst.index('Общий итог'),len(lst)))\n",
    "mus_sales.tail()"
   ]
  },
  {
   "cell_type": "code",
   "execution_count": 7,
   "metadata": {},
   "outputs": [
    {
     "data": {
      "text/html": [
       "<div>\n",
       "<style scoped>\n",
       "    .dataframe tbody tr th:only-of-type {\n",
       "        vertical-align: middle;\n",
       "    }\n",
       "\n",
       "    .dataframe tbody tr th {\n",
       "        vertical-align: top;\n",
       "    }\n",
       "\n",
       "    .dataframe thead th {\n",
       "        text-align: right;\n",
       "    }\n",
       "</style>\n",
       "<table border=\"1\" class=\"dataframe\">\n",
       "  <thead>\n",
       "    <tr style=\"text-align: right;\">\n",
       "      <th></th>\n",
       "      <th>id</th>\n",
       "      <th>585_mstock</th>\n",
       "      <th>925_mstock</th>\n",
       "    </tr>\n",
       "  </thead>\n",
       "  <tbody>\n",
       "    <tr>\n",
       "      <th>1462</th>\n",
       "      <td>92</td>\n",
       "      <td>26.0</td>\n",
       "      <td>8.0</td>\n",
       "    </tr>\n",
       "    <tr>\n",
       "      <th>1463</th>\n",
       "      <td>925</td>\n",
       "      <td>1.0</td>\n",
       "      <td>11.0</td>\n",
       "    </tr>\n",
       "    <tr>\n",
       "      <th>1464</th>\n",
       "      <td>955</td>\n",
       "      <td>5.0</td>\n",
       "      <td>10.0</td>\n",
       "    </tr>\n",
       "    <tr>\n",
       "      <th>1465</th>\n",
       "      <td>96</td>\n",
       "      <td>22.0</td>\n",
       "      <td>14.0</td>\n",
       "    </tr>\n",
       "    <tr>\n",
       "      <th>1468</th>\n",
       "      <td>99</td>\n",
       "      <td>27.0</td>\n",
       "      <td>20.0</td>\n",
       "    </tr>\n",
       "  </tbody>\n",
       "</table>\n",
       "</div>"
      ],
      "text/plain": [
       "       id  585_mstock  925_mstock\n",
       "1462   92        26.0         8.0\n",
       "1463  925         1.0        11.0\n",
       "1464  955         5.0        10.0\n",
       "1465   96        22.0        14.0\n",
       "1468   99        27.0        20.0"
      ]
     },
     "execution_count": 7,
     "metadata": {},
     "output_type": "execute_result"
    }
   ],
   "source": [
    "name = r'C:\\нетология\\muslim.xlsx'\n",
    "mus_stock = pd.read_excel(name, sheet_name='олап', skiprows=10, usecols=[7,9,10],names=['id','585_mstock','925_mstock'])\n",
    "\n",
    "# Убираем пустые значения\n",
    "lst = mus_stock['id'].tolist()\n",
    "mus_stock = mus_stock.drop(axis=0,index=np.arange(lst.index('Общий итог'),len(lst)))\n",
    "\n",
    "# Убираем магазины с нулевыми остатками\n",
    "mus_stock['sum'] = mus_stock['585_mstock'] + mus_stock['925_mstock']\n",
    "mus_stock = mus_stock[(mus_stock['sum'] > 0)]\n",
    "del mus_stock['sum']\n",
    "mus_stock.tail()"
   ]
  },
  {
   "cell_type": "code",
   "execution_count": 8,
   "metadata": {},
   "outputs": [
    {
     "data": {
      "text/html": [
       "<div>\n",
       "<style scoped>\n",
       "    .dataframe tbody tr th:only-of-type {\n",
       "        vertical-align: middle;\n",
       "    }\n",
       "\n",
       "    .dataframe tbody tr th {\n",
       "        vertical-align: top;\n",
       "    }\n",
       "\n",
       "    .dataframe thead th {\n",
       "        text-align: right;\n",
       "    }\n",
       "</style>\n",
       "<table border=\"1\" class=\"dataframe\">\n",
       "  <thead>\n",
       "    <tr style=\"text-align: right;\">\n",
       "      <th></th>\n",
       "      <th>585_msale</th>\n",
       "      <th>925_msale</th>\n",
       "    </tr>\n",
       "  </thead>\n",
       "  <tbody>\n",
       "    <tr>\n",
       "      <th>585_msale</th>\n",
       "      <td>1.0</td>\n",
       "      <td>0.7</td>\n",
       "    </tr>\n",
       "    <tr>\n",
       "      <th>925_msale</th>\n",
       "      <td>0.7</td>\n",
       "      <td>1.0</td>\n",
       "    </tr>\n",
       "  </tbody>\n",
       "</table>\n",
       "</div>"
      ],
      "text/plain": [
       "           585_msale  925_msale\n",
       "585_msale        1.0        0.7\n",
       "925_msale        0.7        1.0"
      ]
     },
     "execution_count": 8,
     "metadata": {},
     "output_type": "execute_result"
    }
   ],
   "source": [
    "# Оставляем склады, где есть остатки золото и серебро одновременно\n",
    "\n",
    "mus_stock_combined = mus_stock[(mus_stock['585_mstock'] > 5)&(mus_stock['925_mstock'] > 5)].drop(axis=1, labels=['585_mstock','925_mstock'])\n",
    "\n",
    "# Посмотрим корреляцию в продажах золота и серебра\n",
    "mus_sales_combined = pd.merge(mus_stock_combined, mus_sales, on='id',how='left').dropna(how='any')\n",
    "mus_sales_combined[['585_msale','925_msale']].corr().round(decimals=1)"
   ]
  },
  {
   "cell_type": "markdown",
   "metadata": {},
   "source": [
    "Коэффицент корреляции между золотом и серебром 0,7. Можно использовать данные по серебру"
   ]
  },
  {
   "cell_type": "code",
   "execution_count": 9,
   "metadata": {},
   "outputs": [
    {
     "data": {
      "text/html": [
       "<div>\n",
       "<style scoped>\n",
       "    .dataframe tbody tr th:only-of-type {\n",
       "        vertical-align: middle;\n",
       "    }\n",
       "\n",
       "    .dataframe tbody tr th {\n",
       "        vertical-align: top;\n",
       "    }\n",
       "\n",
       "    .dataframe thead th {\n",
       "        text-align: right;\n",
       "    }\n",
       "</style>\n",
       "<table border=\"1\" class=\"dataframe\">\n",
       "  <thead>\n",
       "    <tr style=\"text-align: right;\">\n",
       "      <th></th>\n",
       "      <th>585_msale</th>\n",
       "      <th>925_msale</th>\n",
       "    </tr>\n",
       "  </thead>\n",
       "  <tbody>\n",
       "    <tr>\n",
       "      <th>count</th>\n",
       "      <td>492.0</td>\n",
       "      <td>492.0</td>\n",
       "    </tr>\n",
       "    <tr>\n",
       "      <th>mean</th>\n",
       "      <td>10.0</td>\n",
       "      <td>12.0</td>\n",
       "    </tr>\n",
       "    <tr>\n",
       "      <th>std</th>\n",
       "      <td>10.0</td>\n",
       "      <td>12.0</td>\n",
       "    </tr>\n",
       "    <tr>\n",
       "      <th>min</th>\n",
       "      <td>0.0</td>\n",
       "      <td>0.0</td>\n",
       "    </tr>\n",
       "    <tr>\n",
       "      <th>25%</th>\n",
       "      <td>3.0</td>\n",
       "      <td>5.0</td>\n",
       "    </tr>\n",
       "    <tr>\n",
       "      <th>50%</th>\n",
       "      <td>7.0</td>\n",
       "      <td>9.0</td>\n",
       "    </tr>\n",
       "    <tr>\n",
       "      <th>75%</th>\n",
       "      <td>14.0</td>\n",
       "      <td>15.0</td>\n",
       "    </tr>\n",
       "    <tr>\n",
       "      <th>max</th>\n",
       "      <td>57.0</td>\n",
       "      <td>82.0</td>\n",
       "    </tr>\n",
       "  </tbody>\n",
       "</table>\n",
       "</div>"
      ],
      "text/plain": [
       "       585_msale  925_msale\n",
       "count      492.0      492.0\n",
       "mean        10.0       12.0\n",
       "std         10.0       12.0\n",
       "min          0.0        0.0\n",
       "25%          3.0        5.0\n",
       "50%          7.0        9.0\n",
       "75%         14.0       15.0\n",
       "max         57.0       82.0"
      ]
     },
     "execution_count": 9,
     "metadata": {},
     "output_type": "execute_result"
    }
   ],
   "source": [
    "# Посмотрим есть ли разница в распределении продаж по золоту и серебру\n",
    "mus_sales_combined.describe().round()"
   ]
  },
  {
   "cell_type": "markdown",
   "metadata": {},
   "source": [
    "Вопросы: \n",
    "- нужно ли объединять тц и трц?\n",
    "- разные размерности и порядок исчисления (продажи и емкость магазина в штуках, зарплата в рублях, доли в процентах)\n"
   ]
  },
  {
   "cell_type": "markdown",
   "metadata": {},
   "source": [
    "###### Создаем большой датасет для обучения модели со следующей информацией:\n",
    "\n",
    "+ id - номер магазина его перед обучением я удалю\n",
    "+ 925_msale - продажи мусульманских подвесов - целевая переменная\n",
    "+ type - тип размещения объекта (отдельное здание или торговый центр)\n",
    "+ city - город или населенный пункт, по этому параметру каждому объекту можно установить признак региона\n",
    "+ shop_size - вместимость объекта в штуках\n",
    "+ work_time - время работы объекта в годах \n",
    "+ total_sales - общие продажи в штуках за полгода\n",
    "+ brand - вывеска на магазине(есть несколько брэндов)\n",
    "+ population - количество жителей в данном населенном пункте \n",
    "+ salary - средняя зарплата (distr - в округе,reg - в регионе)\n",
    "+ mosque - есть или нет в населенном пункте мечеть(по данным из википедии)\n",
    "+ muslim_per - процент верующих мусульман (distr - в округе,reg - в регионе)\n",
    "+ rus_per - процент русских по национальности (distr - в округе,reg - в регионе)\n",
    "+ religion_imp - процент людей, для которых религия играет важную роль в жизни (distr - в округе,reg - в регионе)\n"
   ]
  },
  {
   "cell_type": "markdown",
   "metadata": {},
   "source": [
    "###### Откуда брал данные:\n",
    "\n",
    "+ Численность населения - Оценка численности постоянного населения на 1 января 2018г.Росстат по городам\n",
    "+ Доля мусульман, процент русских, процент религиозных - Общероссийский опрос МегаФОМ 29 мая – 25 июня 2012 г. по субъектам РФ\n",
    "+ Доходы населения - Среднемесячная номинальная начисленная заработная плата работников по полному кругу организаций  по субъектам Российской Федерации. Росстат. 2018-2019 г\n",
    "+ Количество мечетей - википедия статья Ислам в России\n",
    "+ Данные по долготе/широте/региону получал через GeoPy по городу\n",
    "\n",
    "\n",
    "Все данные собрал в единую таблицу в EXcel потом загрузил в ноутбук.\n",
    "\n",
    "Чеченская  и Ингушская республика не участвовала в исследовании МегаФОМ. Поэтому для этих республик инфу пришлось искать отдельно"
   ]
  },
  {
   "cell_type": "code",
   "execution_count": 10,
   "metadata": {},
   "outputs": [
    {
     "name": "stdout",
     "output_type": "stream",
     "text": [
      "<class 'pandas.core.frame.DataFrame'>\n",
      "RangeIndex: 903 entries, 0 to 902\n",
      "Data columns (total 21 columns):\n",
      "id                    903 non-null float64\n",
      "city                  903 non-null object\n",
      "type                  903 non-null object\n",
      "shop_size             900 non-null float64\n",
      "work_time             903 non-null int64\n",
      "total_sales           899 non-null float64\n",
      "stock_month           903 non-null int64\n",
      "brand                 903 non-null object\n",
      "population            898 non-null float64\n",
      "salary_reg            898 non-null float64\n",
      "salary_district       898 non-null float64\n",
      "mosque                903 non-null int64\n",
      "muslim_per_reg        898 non-null float64\n",
      "muslim_per_distr      898 non-null float64\n",
      "religion_imp_reg      898 non-null float64\n",
      "religion_imp_distr    898 non-null float64\n",
      "rus_per_reg           898 non-null float64\n",
      "rus_per_distr         898 non-null float64\n",
      "coord                 898 non-null object\n",
      "district              898 non-null object\n",
      "region                898 non-null object\n",
      "dtypes: float64(12), int64(3), object(6)\n",
      "memory usage: 148.2+ KB\n"
     ]
    }
   ],
   "source": [
    "# Загружаем справочник с характеристиками магазинов и дополнительной информацией по регионам. \n",
    "ref_book = pd.read_excel(r'C:\\нетология\\muslim.xlsx', sheet_name='типы', usecols=list(range(6,27)))\n",
    "ref_book['id'] = ref_book['id'].astype('float64')\n",
    "ref_book.info()\n"
   ]
  },
  {
   "cell_type": "code",
   "execution_count": 11,
   "metadata": {},
   "outputs": [
    {
     "name": "stdout",
     "output_type": "stream",
     "text": [
      "<class 'pandas.core.frame.DataFrame'>\n",
      "Int64Index: 8131 entries, 0 to 8130\n",
      "Data columns (total 22 columns):\n",
      "id                    8130 non-null float64\n",
      "925_msale             8131 non-null int64\n",
      "city                  4515 non-null object\n",
      "type                  4515 non-null object\n",
      "shop_size             4500 non-null float64\n",
      "work_time             4515 non-null float64\n",
      "total_sales           4495 non-null float64\n",
      "stock_month           4515 non-null float64\n",
      "brand                 4515 non-null object\n",
      "population            4490 non-null float64\n",
      "salary_reg            4490 non-null float64\n",
      "salary_district       4490 non-null float64\n",
      "mosque                4515 non-null float64\n",
      "muslim_per_reg        4490 non-null float64\n",
      "muslim_per_distr      4490 non-null float64\n",
      "religion_imp_reg      4490 non-null float64\n",
      "religion_imp_distr    4490 non-null float64\n",
      "rus_per_reg           4490 non-null float64\n",
      "rus_per_distr         4490 non-null float64\n",
      "coord                 4490 non-null object\n",
      "district              4490 non-null object\n",
      "region                4490 non-null object\n",
      "dtypes: float64(15), int64(1), object(6)\n",
      "memory usage: 1.4+ MB\n"
     ]
    }
   ],
   "source": [
    "# Добавляем к продажам подвесов по магазинам всю информацию из справочника\n",
    "mus_sales = pd.read_excel(name, sheet_name='олап', skiprows=10, usecols=[40,42], names=['id','925_msale'])\n",
    "raw_df = pd.merge(mus_sales,ref_book,how='left', on='id')\n",
    "raw_df.info()"
   ]
  },
  {
   "cell_type": "code",
   "execution_count": 12,
   "metadata": {},
   "outputs": [],
   "source": [
    "# Округлим размер и уберем маги, которые работают меньше 4 месяцев \n",
    "raw_df['shop_size'] = raw_df['shop_size'].round()\n",
    "raw_df = raw_df[raw_df['stock_month'] > 4]"
   ]
  },
  {
   "cell_type": "code",
   "execution_count": 13,
   "metadata": {},
   "outputs": [
    {
     "name": "stdout",
     "output_type": "stream",
     "text": [
      "<class 'pandas.core.frame.DataFrame'>\n",
      "Int64Index: 4310 entries, 0 to 8129\n",
      "Data columns (total 22 columns):\n",
      "id                    4310 non-null float64\n",
      "925_msale             4310 non-null int64\n",
      "city                  4310 non-null object\n",
      "type                  4310 non-null object\n",
      "shop_size             4310 non-null float64\n",
      "work_time             4310 non-null float64\n",
      "total_sales           4310 non-null float64\n",
      "stock_month           4310 non-null float64\n",
      "brand                 4310 non-null object\n",
      "population            4310 non-null float64\n",
      "salary_reg            4310 non-null float64\n",
      "salary_district       4310 non-null float64\n",
      "mosque                4310 non-null float64\n",
      "muslim_per_reg        4310 non-null float64\n",
      "muslim_per_distr      4310 non-null float64\n",
      "religion_imp_reg      4310 non-null float64\n",
      "religion_imp_distr    4310 non-null float64\n",
      "rus_per_reg           4310 non-null float64\n",
      "rus_per_distr         4310 non-null float64\n",
      "coord                 4310 non-null object\n",
      "district              4310 non-null object\n",
      "region                4310 non-null object\n",
      "dtypes: float64(15), int64(1), object(6)\n",
      "memory usage: 774.5+ KB\n"
     ]
    }
   ],
   "source": [
    "# Уберем франчайзинговые магазины - там перекос по ассортименту\n",
    "\n",
    "raw_df = raw_df[raw_df['type']!='франч']\n",
    "raw_df.info()"
   ]
  },
  {
   "cell_type": "code",
   "execution_count": 14,
   "metadata": {},
   "outputs": [],
   "source": [
    "# Уберем магазины со спец ассортиментом, там больше нет мусульманских подвесов\n",
    "raw_df.where(raw_df.brand != 0, inplace=True)\n",
    "# Удаляем строки без значений\n",
    "raw_df.dropna(how='all', inplace=True)"
   ]
  },
  {
   "cell_type": "code",
   "execution_count": null,
   "metadata": {},
   "outputs": [],
   "source": []
  },
  {
   "cell_type": "code",
   "execution_count": 15,
   "metadata": {},
   "outputs": [
    {
     "data": {
      "text/plain": [
       "925_msale             1.00\n",
       "muslim_per_reg        0.39\n",
       "total_sales           0.31\n",
       "religion_imp_reg      0.29\n",
       "mosque                0.17\n",
       "muslim_per_distr      0.15\n",
       "shop_size             0.14\n",
       "religion_imp_distr    0.13\n",
       "salary_reg            0.09\n",
       "population            0.06\n",
       "id                    0.04\n",
       "stock_month           0.03\n",
       "work_time            -0.10\n",
       "salary_district      -0.11\n",
       "rus_per_distr        -0.19\n",
       "rus_per_reg          -0.36\n",
       "Name: 925_msale, dtype: float64"
      ]
     },
     "execution_count": 15,
     "metadata": {},
     "output_type": "execute_result"
    }
   ],
   "source": [
    "# Корреляция количественных признаков с целевым значением\n",
    "corr_matrix = raw_df.corr().round(decimals=2)\n",
    "corr_matrix['925_msale'].sort_values(ascending=False)"
   ]
  },
  {
   "cell_type": "code",
   "execution_count": 16,
   "metadata": {},
   "outputs": [],
   "source": [
    "# Разделим датафрейм на два, в одном будут собраны региональные признаки, в другом признаки по округам \n",
    "# возможно какой то датасет даст более точный результат\n",
    "\n",
    "drop_distr = [x for x in raw_df.columns.tolist() if '_reg' in x] + ['id','stock_month','coord','region']\n",
    "drop_reg = [x for x in raw_df.columns.tolist() if '_distr'in x] + ['id','stock_month','coord']\n",
    "\n",
    "distr_df = raw_df.drop(drop_distr, axis=1)\n",
    "reg_df = raw_df.drop(drop_reg, axis=1)"
   ]
  },
  {
   "cell_type": "code",
   "execution_count": 17,
   "metadata": {},
   "outputs": [
    {
     "data": {
      "text/html": [
       "<div>\n",
       "<style scoped>\n",
       "    .dataframe tbody tr th:only-of-type {\n",
       "        vertical-align: middle;\n",
       "    }\n",
       "\n",
       "    .dataframe tbody tr th {\n",
       "        vertical-align: top;\n",
       "    }\n",
       "\n",
       "    .dataframe thead th {\n",
       "        text-align: right;\n",
       "    }\n",
       "</style>\n",
       "<table border=\"1\" class=\"dataframe\">\n",
       "  <thead>\n",
       "    <tr style=\"text-align: right;\">\n",
       "      <th></th>\n",
       "      <th>925_msale</th>\n",
       "      <th>city</th>\n",
       "      <th>type</th>\n",
       "      <th>shop_size</th>\n",
       "      <th>work_time</th>\n",
       "      <th>total_sales</th>\n",
       "      <th>brand</th>\n",
       "      <th>population</th>\n",
       "      <th>salary_district</th>\n",
       "      <th>mosque</th>\n",
       "      <th>muslim_per_distr</th>\n",
       "      <th>religion_imp_distr</th>\n",
       "      <th>rus_per_distr</th>\n",
       "      <th>district</th>\n",
       "    </tr>\n",
       "  </thead>\n",
       "  <tbody>\n",
       "    <tr>\n",
       "      <th>0</th>\n",
       "      <td>1.0</td>\n",
       "      <td>Астрахань</td>\n",
       "      <td>Стрит</td>\n",
       "      <td>4809.0</td>\n",
       "      <td>12.0</td>\n",
       "      <td>465.0</td>\n",
       "      <td>ab</td>\n",
       "      <td>533925.0</td>\n",
       "      <td>32501.94</td>\n",
       "      <td>1.0</td>\n",
       "      <td>2.937507</td>\n",
       "      <td>12.754090</td>\n",
       "      <td>87.367898</td>\n",
       "      <td>ЮФО</td>\n",
       "    </tr>\n",
       "    <tr>\n",
       "      <th>1</th>\n",
       "      <td>1.0</td>\n",
       "      <td>Белгород</td>\n",
       "      <td>Стрит</td>\n",
       "      <td>13135.0</td>\n",
       "      <td>12.0</td>\n",
       "      <td>1899.0</td>\n",
       "      <td>a</td>\n",
       "      <td>391554.0</td>\n",
       "      <td>58083.38</td>\n",
       "      <td>0.0</td>\n",
       "      <td>1.587594</td>\n",
       "      <td>15.818874</td>\n",
       "      <td>93.793375</td>\n",
       "      <td>ЦФО</td>\n",
       "    </tr>\n",
       "    <tr>\n",
       "      <th>3</th>\n",
       "      <td>0.0</td>\n",
       "      <td>Ставрополь</td>\n",
       "      <td>Стрит</td>\n",
       "      <td>5378.0</td>\n",
       "      <td>8.0</td>\n",
       "      <td>917.0</td>\n",
       "      <td>a</td>\n",
       "      <td>433931.0</td>\n",
       "      <td>27505.38</td>\n",
       "      <td>0.0</td>\n",
       "      <td>40.394395</td>\n",
       "      <td>29.797887</td>\n",
       "      <td>38.837755</td>\n",
       "      <td>СКФО</td>\n",
       "    </tr>\n",
       "    <tr>\n",
       "      <th>4</th>\n",
       "      <td>0.0</td>\n",
       "      <td>Выборг</td>\n",
       "      <td>Стрит</td>\n",
       "      <td>13141.0</td>\n",
       "      <td>8.0</td>\n",
       "      <td>2904.0</td>\n",
       "      <td>b</td>\n",
       "      <td>77400.0</td>\n",
       "      <td>50754.60</td>\n",
       "      <td>0.0</td>\n",
       "      <td>1.059460</td>\n",
       "      <td>13.374155</td>\n",
       "      <td>90.223258</td>\n",
       "      <td>СЗФО</td>\n",
       "    </tr>\n",
       "    <tr>\n",
       "      <th>5</th>\n",
       "      <td>3.0</td>\n",
       "      <td>Энгельс</td>\n",
       "      <td>Стрит</td>\n",
       "      <td>7831.0</td>\n",
       "      <td>12.0</td>\n",
       "      <td>1779.0</td>\n",
       "      <td>a</td>\n",
       "      <td>226176.0</td>\n",
       "      <td>32783.10</td>\n",
       "      <td>0.0</td>\n",
       "      <td>12.317776</td>\n",
       "      <td>16.559501</td>\n",
       "      <td>68.107610</td>\n",
       "      <td>ПФО</td>\n",
       "    </tr>\n",
       "  </tbody>\n",
       "</table>\n",
       "</div>"
      ],
      "text/plain": [
       "   925_msale        city   type  shop_size  work_time  total_sales brand  \\\n",
       "0        1.0   Астрахань  Стрит     4809.0       12.0        465.0    ab   \n",
       "1        1.0    Белгород  Стрит    13135.0       12.0       1899.0     a   \n",
       "3        0.0  Ставрополь  Стрит     5378.0        8.0        917.0     a   \n",
       "4        0.0      Выборг  Стрит    13141.0        8.0       2904.0     b   \n",
       "5        3.0     Энгельс  Стрит     7831.0       12.0       1779.0     a   \n",
       "\n",
       "   population  salary_district  mosque  muslim_per_distr  religion_imp_distr  \\\n",
       "0    533925.0         32501.94     1.0          2.937507           12.754090   \n",
       "1    391554.0         58083.38     0.0          1.587594           15.818874   \n",
       "3    433931.0         27505.38     0.0         40.394395           29.797887   \n",
       "4     77400.0         50754.60     0.0          1.059460           13.374155   \n",
       "5    226176.0         32783.10     0.0         12.317776           16.559501   \n",
       "\n",
       "   rus_per_distr district  \n",
       "0      87.367898      ЮФО  \n",
       "1      93.793375      ЦФО  \n",
       "3      38.837755     СКФО  \n",
       "4      90.223258     СЗФО  \n",
       "5      68.107610      ПФО  "
      ]
     },
     "execution_count": 17,
     "metadata": {},
     "output_type": "execute_result"
    }
   ],
   "source": [
    "distr_df.head()"
   ]
  },
  {
   "cell_type": "code",
   "execution_count": 18,
   "metadata": {},
   "outputs": [
    {
     "data": {
      "text/plain": [
       "Санкт-Петербург     5.0\n",
       "Новосибирск         3.0\n",
       "Ростов-на-Дону      3.0\n",
       "Екатеринбург        2.0\n",
       "Красноярск          2.0\n",
       "Краснодар           2.0\n",
       "Уфа                 2.0\n",
       "Тюмень              2.0\n",
       "Сочи                1.0\n",
       "Челябинск           1.0\n",
       "Саратов             1.0\n",
       "Сургут              1.0\n",
       "Омск                1.0\n",
       "Воронеж             1.0\n",
       "Новокузнецк         1.0\n",
       "Волгоград           1.0\n",
       "Барнаул             1.0\n",
       "Москва              1.0\n",
       "Улан-Удэ            1.0\n",
       "Ставрополь          1.0\n",
       "Астрахань           1.0\n",
       "Казань              1.0\n",
       "Пермь               1.0\n",
       "Иркутск             1.0\n",
       "Курган              1.0\n",
       "Орел                1.0\n",
       "Самара              1.0\n",
       "Томск               1.0\n",
       "Владикавказ         1.0\n",
       "Мурманск            1.0\n",
       "                   ... \n",
       "Бердск              0.0\n",
       "Балахна             0.0\n",
       "Коломна             0.0\n",
       "Сарапул             0.0\n",
       "Южно-Сахалинск      0.0\n",
       "Салехард            0.0\n",
       "Нерюнгри            0.0\n",
       "Каменка             0.0\n",
       "Чернушка            0.0\n",
       "Кущевская           0.0\n",
       "Ирбит               0.0\n",
       "Константиновск      0.0\n",
       "Чудово              0.0\n",
       "Фрязино             0.0\n",
       "Лысьва              0.0\n",
       "Урай                0.0\n",
       "Терек               0.0\n",
       "Кисловодск          0.0\n",
       "Усолье-Сибирское    0.0\n",
       "Засечное            0.0\n",
       "Кировск             0.0\n",
       "Щекино              0.0\n",
       "Майский             0.0\n",
       "Урюпинск            0.0\n",
       "Темрюк              0.0\n",
       "Клинцы              0.0\n",
       "Химки               0.0\n",
       "Ханты-Мансийск      0.0\n",
       "Дербент             0.0\n",
       "Советский           0.0\n",
       "Name: city, Length: 347, dtype: float64"
      ]
     },
     "execution_count": 18,
     "metadata": {},
     "output_type": "execute_result"
    }
   ],
   "source": [
    "# проверим сбалансированность категориальных данных\n",
    "category = ['city','type','brand', 'district',  'region']            \n",
    "(raw_df['city'].value_counts(normalize=True)*100).round()"
   ]
  },
  {
   "cell_type": "code",
   "execution_count": 19,
   "metadata": {},
   "outputs": [
    {
     "data": {
      "text/plain": [
       "Стрит    59.0\n",
       "ТЦ       20.0\n",
       "ТРЦ      18.0\n",
       "ГМ        3.0\n",
       "Рынок     0.0\n",
       "Name: type, dtype: float64"
      ]
     },
     "execution_count": 19,
     "metadata": {},
     "output_type": "execute_result"
    }
   ],
   "source": [
    "(raw_df['type'].value_counts(normalize=True)*100).round()"
   ]
  },
  {
   "cell_type": "code",
   "execution_count": 20,
   "metadata": {},
   "outputs": [
    {
     "data": {
      "text/plain": [
       "a         35.0\n",
       "b         34.0\n",
       "ab        30.0\n",
       "silver     2.0\n",
       "Name: brand, dtype: float64"
      ]
     },
     "execution_count": 20,
     "metadata": {},
     "output_type": "execute_result"
    }
   ],
   "source": [
    "(raw_df['brand'].value_counts(normalize=True)*100).round()"
   ]
  },
  {
   "cell_type": "code",
   "execution_count": 21,
   "metadata": {},
   "outputs": [
    {
     "data": {
      "text/plain": [
       "ЮФО     18.0\n",
       "СФО     17.0\n",
       "УФО     14.0\n",
       "ЦФО     14.0\n",
       "ПФО     14.0\n",
       "СЗФО    13.0\n",
       "СКФО     7.0\n",
       "ДФО      3.0\n",
       "Name: district, dtype: float64"
      ]
     },
     "execution_count": 21,
     "metadata": {},
     "output_type": "execute_result"
    }
   ],
   "source": [
    "(raw_df['district'].value_counts(normalize=True)*100).round()"
   ]
  },
  {
   "cell_type": "code",
   "execution_count": 22,
   "metadata": {},
   "outputs": [
    {
     "data": {
      "text/plain": [
       "Краснодарский край                   8.0\n",
       "Ростовская область                   6.0\n",
       "г.Санкт-Петербург                    5.0\n",
       "Свердловская область                 4.0\n",
       "Ханты-Мансийский автономный округ    4.0\n",
       "Красноярский край                    4.0\n",
       "Новосибирская область                3.0\n",
       "Кемеровская область                  3.0\n",
       "Ставропольский край                  3.0\n",
       "Московская область                   3.0\n",
       "Саратовская область                  2.0\n",
       "Волгоградская область                2.0\n",
       "Республика Башкортостан              2.0\n",
       "Тюменская область                    2.0\n",
       "Челябинская область                  2.0\n",
       "Республика Татарстан                 2.0\n",
       "Алтайский край                       2.0\n",
       "Пермский край                        2.0\n",
       "Иркутская область                    2.0\n",
       "Нижегородская область                1.0\n",
       "Мурманская область                   1.0\n",
       "Ямало-Ненецкий автономный округ      1.0\n",
       "Воронежская область                  1.0\n",
       "г.Москва                             1.0\n",
       "Ленинградская область                1.0\n",
       "Тульская область                     1.0\n",
       "Республика Северная Осетия-Алания    1.0\n",
       "Томская область                      1.0\n",
       "Омская область                       1.0\n",
       "Архангельская область                1.0\n",
       "                                    ... \n",
       "Липецкая область                     1.0\n",
       "Калужская область                    1.0\n",
       "Республика Мордовия                  0.0\n",
       "Ивановская область                   0.0\n",
       "Оренбургская область                 0.0\n",
       "Приморский край                      0.0\n",
       "Рязанская область                    0.0\n",
       "Тверская область                     0.0\n",
       "Республика Хакасия                   0.0\n",
       "Псковская область                    0.0\n",
       "Республика Калмыкия                  0.0\n",
       "Смоленская область                   0.0\n",
       "Владимирская область                 0.0\n",
       "Брянская область                     0.0\n",
       "Чувашская Республика                 0.0\n",
       "Камчатский край                      0.0\n",
       "Калининградская область              0.0\n",
       "Республика Саха (Якутия)             0.0\n",
       "Республика Адыгея                    0.0\n",
       "Республика Марий Эл                  0.0\n",
       "Кировская область                    0.0\n",
       "Амурская область                     0.0\n",
       "Республика Карелия                   0.0\n",
       "Хабаровский край                     0.0\n",
       "Чеченская Республика                 0.0\n",
       "Республика Тыва                      0.0\n",
       "Республика Ингушетия                 0.0\n",
       "Костромская область                  0.0\n",
       "Республика Алтай                     0.0\n",
       "Сахалинская область                  0.0\n",
       "Name: region, Length: 79, dtype: float64"
      ]
     },
     "execution_count": 22,
     "metadata": {},
     "output_type": "execute_result"
    }
   ],
   "source": [
    "(raw_df['region'].value_counts(normalize=True)*100).round()"
   ]
  },
  {
   "cell_type": "code",
   "execution_count": 23,
   "metadata": {},
   "outputs": [
    {
     "data": {
      "text/plain": [
       "city        347\n",
       "type          5\n",
       "brand         4\n",
       "district      8\n",
       "region       79\n",
       "dtype: int64"
      ]
     },
     "execution_count": 23,
     "metadata": {},
     "output_type": "execute_result"
    }
   ],
   "source": [
    "raw_df[category].nunique()"
   ]
  },
  {
   "cell_type": "code",
   "execution_count": 24,
   "metadata": {},
   "outputs": [],
   "source": [
    "# проверим нормальность распределения числовых данных\n",
    "numeric = [x for x in raw_df.columns.to_list() if x not in category][1:-1]\n",
    "numeric.remove('stock_month')"
   ]
  },
  {
   "cell_type": "code",
   "execution_count": 25,
   "metadata": {},
   "outputs": [
    {
     "data": {
      "text/plain": [
       "array([[<matplotlib.axes._subplots.AxesSubplot object at 0x0000029C5B29CB70>,\n",
       "        <matplotlib.axes._subplots.AxesSubplot object at 0x0000029C5B362160>,\n",
       "        <matplotlib.axes._subplots.AxesSubplot object at 0x0000029C5B7A75C0>,\n",
       "        <matplotlib.axes._subplots.AxesSubplot object at 0x0000029C5B4F1C50>],\n",
       "       [<matplotlib.axes._subplots.AxesSubplot object at 0x0000029C5B51B320>,\n",
       "        <matplotlib.axes._subplots.AxesSubplot object at 0x0000029C5B51B358>,\n",
       "        <matplotlib.axes._subplots.AxesSubplot object at 0x0000029C5B1C2080>,\n",
       "        <matplotlib.axes._subplots.AxesSubplot object at 0x0000029C5B1D9710>],\n",
       "       [<matplotlib.axes._subplots.AxesSubplot object at 0x0000029C5B3B8DA0>,\n",
       "        <matplotlib.axes._subplots.AxesSubplot object at 0x0000029C5B9EF470>,\n",
       "        <matplotlib.axes._subplots.AxesSubplot object at 0x0000029C5B6BEB00>,\n",
       "        <matplotlib.axes._subplots.AxesSubplot object at 0x0000029C5B6DC1D0>],\n",
       "       [<matplotlib.axes._subplots.AxesSubplot object at 0x0000029C5B644860>,\n",
       "        <matplotlib.axes._subplots.AxesSubplot object at 0x0000029C5B834EF0>,\n",
       "        <matplotlib.axes._subplots.AxesSubplot object at 0x0000029C5B8675C0>,\n",
       "        <matplotlib.axes._subplots.AxesSubplot object at 0x0000029C5B8BAC50>]],\n",
       "      dtype=object)"
      ]
     },
     "execution_count": 25,
     "metadata": {},
     "output_type": "execute_result"
    }
   ],
   "source": [
    "raw_df[numeric].hist(bins=30, figsize=(25,20))"
   ]
  },
  {
   "cell_type": "markdown",
   "metadata": {},
   "source": [
    "\n"
   ]
  },
  {
   "cell_type": "code",
   "execution_count": 26,
   "metadata": {},
   "outputs": [],
   "source": [
    "#датасет с убранными для обучения столбцами\n",
    "new_df = raw_df.drop(['city', 'region'] + drop_reg, axis=1)"
   ]
  },
  {
   "cell_type": "code",
   "execution_count": null,
   "metadata": {},
   "outputs": [],
   "source": []
  },
  {
   "cell_type": "code",
   "execution_count": 27,
   "metadata": {},
   "outputs": [],
   "source": [
    "# конвертируем все значения в int32\n",
    "category_list = ['type', 'brand','district']\n",
    "numeric_list = [x for x in new_df.columns.to_list() if x not in category_list]\n",
    "new_df[numeric_list] = new_df[numeric_list].astype('float32')"
   ]
  },
  {
   "cell_type": "code",
   "execution_count": 28,
   "metadata": {},
   "outputs": [
    {
     "data": {
      "text/plain": [
       "False"
      ]
     },
     "execution_count": 28,
     "metadata": {},
     "output_type": "execute_result"
    }
   ],
   "source": [
    "# проверяем данные на нули и меняем нули если нужно\n",
    "\n",
    "pd.get_dummies(new_df,dtype='float32').drop(['925_msale'],axis=1).isnull().values.any()"
   ]
  },
  {
   "cell_type": "code",
   "execution_count": 29,
   "metadata": {},
   "outputs": [],
   "source": [
    "train_df = pd.get_dummies(new_df,dtype='float32')\n",
    "train_df.rename(columns={'925_msale':'msale'},inplace=True)"
   ]
  },
  {
   "cell_type": "markdown",
   "metadata": {},
   "source": [
    "###### Выводы после анализа категориальных и числовых признаков\n",
    "\n",
    "Сначала была идея разделить датасет на два: один с  региональными признаками, другой с признаками по округам чтобы посмотреть какой датасет даст более точный результат. Проанализировав категориальные и числовые признаки я отклонил эту идею. Количественные признаки нужно брать с привязкой к региону, а категориальный признак **регион** придется убрать - почти все регионы занимают меньше 1% по количеству в выборке при этом есть числовые признаки, привязанные к ним. Также уберу признак **город**.  \n",
    "**Доходы, время работы** разобью на группы, которые переведу вместе с категориальными признаками в бинарные.  \n",
    "**Переменные в процентах переведу в проценты**-?\n",
    "**Размер магазина и общие продажи** нормализую -?  \n",
    "**Выберу 3 модели регрессии и покручу данные с замеркой точности перед этим проведу анализ фичей при помощи РСА**"
   ]
  },
  {
   "cell_type": "code",
   "execution_count": 30,
   "metadata": {},
   "outputs": [],
   "source": [
    "# обучаю разные модели регрессий\n",
    "from sklearn.model_selection import train_test_split\n",
    "from sklearn.linear_model import LinearRegression, Ridge, Lasso, LogisticRegression, BayesianRidge\n",
    "from sklearn.metrics import mean_absolute_error, r2_score, mean_squared_error\n",
    "\n",
    "X = train_df.drop(['msale'],axis=1)\n",
    "y = train_df['msale']\n",
    "\n",
    "X_train, X_test, y_train, y_test = train_test_split(X, y, test_size=0.2)\n",
    "\n",
    "# создаю объекты\n",
    "lm = LinearRegression()\n",
    "rg = Ridge(alpha=1000)\n",
    "ls = Lasso()\n",
    "bs = BayesianRidge()\n",
    "lr = LogisticRegression()\n",
    "\n",
    "# тренирую модели\n",
    "lm.fit(X_train, y_train)\n",
    "rg.fit(X_train, y_train)\n",
    "ls.fit(X_train, y_train)\n",
    "bs.fit(X_train, y_train)\n",
    "lr.fit(X_train, y_train)\n",
    "\n",
    "#создаю предсказания\n",
    "lm_y_pred = lm.predict(X_test)\n",
    "rg_y_pred = rg.predict(X_test)\n",
    "ls_y_pred = ls.predict(X_test)\n",
    "bs_y_pred = bs.predict(X_test)\n",
    "lr_y_pred = lr.predict(X_test)\n",
    "\n"
   ]
  },
  {
   "cell_type": "code",
   "execution_count": 31,
   "metadata": {},
   "outputs": [
    {
     "name": "stdout",
     "output_type": "stream",
     "text": [
      "Linear Regression R^2: 0.28\n",
      "Linear Regression Средний квадрат ошибки: 8.92\n",
      "Ridge Regression R^2: 0.25\n",
      "Ridge Regression Средний квадрат ошибки: 9.32\n",
      "Lasso Regression R^2: 0.22\n",
      "Lasso Regression Средний квадрат ошибки: 9.70\n",
      "Bayesian Ridge Regression R^2: 0.28\n",
      "Bayesian Ridge Regression Средний квадрат ошибки: 8.91\n",
      "Logistic Regression R^2: -0.20\n",
      "Logistic Regression Средний квадрат ошибки: 14.85\n"
     ]
    }
   ],
   "source": [
    "#Метрики\n",
    "print('Linear Regression R^2: %.2f' % r2_score(y_test, lm_y_pred))\n",
    "print(\"Linear Regression Средний квадрат ошибки: %.2f\" % mean_squared_error(y_test, lm_y_pred))\n",
    "\n",
    "print('Ridge Regression R^2: %.2f' % r2_score(y_test, rg_y_pred))\n",
    "print(\"Ridge Regression Средний квадрат ошибки: %.2f\" % mean_squared_error(y_test, rg_y_pred))\n",
    "\n",
    "print('Lasso Regression R^2: %.2f' % r2_score(y_test, ls_y_pred))\n",
    "print(\"Lasso Regression Средний квадрат ошибки: %.2f\" % mean_squared_error(y_test, ls_y_pred))\n",
    "\n",
    "print('Bayesian Ridge Regression R^2: %.2f' % r2_score(y_test, bs_y_pred))\n",
    "print(\"Bayesian Ridge Regression Средний квадрат ошибки: %.2f\" % mean_squared_error(y_test, bs_y_pred))\n",
    "\n",
    "print('Logistic Regression R^2: %.2f' % r2_score(y_test, lr_y_pred))\n",
    "print(\"Logistic Regression Средний квадрат ошибки: %.2f\" % mean_squared_error(y_test, lr_y_pred))\n"
   ]
  },
  {
   "cell_type": "code",
   "execution_count": 32,
   "metadata": {},
   "outputs": [
    {
     "data": {
      "text/plain": [
       "count    858.000000\n",
       "mean       2.325175\n",
       "std        3.519279\n",
       "min        0.000000\n",
       "25%        0.000000\n",
       "50%        1.000000\n",
       "75%        3.000000\n",
       "max       37.000000\n",
       "Name: msale, dtype: float64"
      ]
     },
     "execution_count": 32,
     "metadata": {},
     "output_type": "execute_result"
    }
   ],
   "source": [
    "y_test.describe()"
   ]
  },
  {
   "cell_type": "code",
   "execution_count": 33,
   "metadata": {},
   "outputs": [
    {
     "data": {
      "text/plain": [
       "count    3432.000000\n",
       "mean        2.307110\n",
       "std         3.472185\n",
       "min         0.000000\n",
       "25%         0.000000\n",
       "50%         1.000000\n",
       "75%         3.000000\n",
       "max        39.000000\n",
       "Name: msale, dtype: float64"
      ]
     },
     "execution_count": 33,
     "metadata": {},
     "output_type": "execute_result"
    }
   ],
   "source": [
    "y_train.describe()"
   ]
  },
  {
   "cell_type": "code",
   "execution_count": 34,
   "metadata": {},
   "outputs": [
    {
     "data": {
      "text/plain": [
       "<matplotlib.axes._subplots.AxesSubplot at 0x29c5ec0f240>"
      ]
     },
     "execution_count": 34,
     "metadata": {},
     "output_type": "execute_result"
    },
    {
     "data": {
      "image/png": "[encoded data removed]",
      "text/plain": [
       "<Figure size 432x288 with 1 Axes>"
      ]
     },
     "metadata": {
      "needs_background": "light"
     },
     "output_type": "display_data"
    }
   ],
   "source": [
    "y_train.hist(bins=30)\n"
   ]
  },
  {
   "cell_type": "code",
   "execution_count": 35,
   "metadata": {},
   "outputs": [
    {
     "data": {
      "text/plain": [
       "<matplotlib.axes._subplots.AxesSubplot at 0x29c634cd2e8>"
      ]
     },
     "execution_count": 35,
     "metadata": {},
     "output_type": "execute_result"
    },
    {
     "data": {
      "image/png": "[encoded data removed]",
      "text/plain": [
       "<Figure size 432x288 with 1 Axes>"
      ]
     },
     "metadata": {
      "needs_background": "light"
     },
     "output_type": "display_data"
    }
   ],
   "source": [
    "y_test.hist(bins=30)"
   ]
  },
  {
   "cell_type": "code",
   "execution_count": 36,
   "metadata": {},
   "outputs": [],
   "source": [
    "def get_formula(columns):\n",
    "    return 'msale ~ ' + \" + \".join(columns)\n",
    "col_list = train_df.columns.drop('msale')\n"
   ]
  },
  {
   "cell_type": "code",
   "execution_count": 37,
   "metadata": {},
   "outputs": [
    {
     "data": {
      "text/html": [
       "<table class=\"simpletable\">\n",
       "<caption>OLS Regression Results</caption>\n",
       "<tr>\n",
       "  <th>Dep. Variable:</th>          <td>msale</td>      <th>  R-squared:         </th> <td>   0.342</td> \n",
       "</tr>\n",
       "<tr>\n",
       "  <th>Model:</th>                   <td>OLS</td>       <th>  Adj. R-squared:    </th> <td>   0.338</td> \n",
       "</tr>\n",
       "<tr>\n",
       "  <th>Method:</th>             <td>Least Squares</td>  <th>  F-statistic:       </th> <td>   96.38</td> \n",
       "</tr>\n",
       "<tr>\n",
       "  <th>Date:</th>             <td>Wed, 19 Feb 2020</td> <th>  Prob (F-statistic):</th>  <td>  0.00</td>  \n",
       "</tr>\n",
       "<tr>\n",
       "  <th>Time:</th>                 <td>15:24:43</td>     <th>  Log-Likelihood:    </th> <td> -10540.</td> \n",
       "</tr>\n",
       "<tr>\n",
       "  <th>No. Observations:</th>      <td>  4290</td>      <th>  AIC:               </th> <td>2.113e+04</td>\n",
       "</tr>\n",
       "<tr>\n",
       "  <th>Df Residuals:</th>          <td>  4266</td>      <th>  BIC:               </th> <td>2.128e+04</td>\n",
       "</tr>\n",
       "<tr>\n",
       "  <th>Df Model:</th>              <td>    23</td>      <th>                     </th>     <td> </td>    \n",
       "</tr>\n",
       "<tr>\n",
       "  <th>Covariance Type:</th>      <td>nonrobust</td>    <th>                     </th>     <td> </td>    \n",
       "</tr>\n",
       "</table>\n",
       "<table class=\"simpletable\">\n",
       "<tr>\n",
       "          <td></td>            <th>coef</th>     <th>std err</th>      <th>t</th>      <th>P>|t|</th>  <th>[0.025</th>    <th>0.975]</th>  \n",
       "</tr>\n",
       "<tr>\n",
       "  <th>Intercept</th>        <td>    0.1912</td> <td>    0.359</td> <td>    0.533</td> <td> 0.594</td> <td>   -0.512</td> <td>    0.894</td>\n",
       "</tr>\n",
       "<tr>\n",
       "  <th>shop_size</th>        <td> 1.206e-05</td> <td>  2.8e-05</td> <td>    0.430</td> <td> 0.667</td> <td>-4.29e-05</td> <td>  6.7e-05</td>\n",
       "</tr>\n",
       "<tr>\n",
       "  <th>work_time</th>        <td>   -0.0105</td> <td>    0.019</td> <td>   -0.554</td> <td> 0.580</td> <td>   -0.048</td> <td>    0.027</td>\n",
       "</tr>\n",
       "<tr>\n",
       "  <th>total_sales</th>      <td>    0.0017</td> <td> 9.61e-05</td> <td>   17.711</td> <td> 0.000</td> <td>    0.002</td> <td>    0.002</td>\n",
       "</tr>\n",
       "<tr>\n",
       "  <th>population</th>       <td> 1.824e-08</td> <td> 3.71e-08</td> <td>    0.491</td> <td> 0.623</td> <td>-5.45e-08</td> <td>  9.1e-08</td>\n",
       "</tr>\n",
       "<tr>\n",
       "  <th>salary_reg</th>       <td> 2.034e-05</td> <td> 4.45e-06</td> <td>    4.573</td> <td> 0.000</td> <td> 1.16e-05</td> <td> 2.91e-05</td>\n",
       "</tr>\n",
       "<tr>\n",
       "  <th>mosque</th>           <td>    0.2391</td> <td>    0.123</td> <td>    1.940</td> <td> 0.052</td> <td>   -0.002</td> <td>    0.481</td>\n",
       "</tr>\n",
       "<tr>\n",
       "  <th>muslim_per_reg</th>   <td>    0.0924</td> <td>    0.008</td> <td>   11.801</td> <td> 0.000</td> <td>    0.077</td> <td>    0.108</td>\n",
       "</tr>\n",
       "<tr>\n",
       "  <th>religion_imp_reg</th> <td>    0.0041</td> <td>    0.012</td> <td>    0.342</td> <td> 0.733</td> <td>   -0.020</td> <td>    0.028</td>\n",
       "</tr>\n",
       "<tr>\n",
       "  <th>rus_per_reg</th>      <td>   -0.0166</td> <td>    0.005</td> <td>   -3.667</td> <td> 0.000</td> <td>   -0.025</td> <td>   -0.008</td>\n",
       "</tr>\n",
       "<tr>\n",
       "  <th>type_ГМ</th>          <td>   -0.3927</td> <td>    0.269</td> <td>   -1.462</td> <td> 0.144</td> <td>   -0.919</td> <td>    0.134</td>\n",
       "</tr>\n",
       "<tr>\n",
       "  <th>type_Рынок</th>       <td>    1.0253</td> <td>    0.755</td> <td>    1.359</td> <td> 0.174</td> <td>   -0.454</td> <td>    2.505</td>\n",
       "</tr>\n",
       "<tr>\n",
       "  <th>type_Стрит</th>       <td>   -0.4341</td> <td>    0.187</td> <td>   -2.322</td> <td> 0.020</td> <td>   -0.801</td> <td>   -0.068</td>\n",
       "</tr>\n",
       "<tr>\n",
       "  <th>type_ТРЦ</th>         <td>    0.1690</td> <td>    0.199</td> <td>    0.850</td> <td> 0.395</td> <td>   -0.221</td> <td>    0.559</td>\n",
       "</tr>\n",
       "<tr>\n",
       "  <th>type_ТЦ</th>          <td>   -0.1763</td> <td>    0.196</td> <td>   -0.902</td> <td> 0.367</td> <td>   -0.560</td> <td>    0.207</td>\n",
       "</tr>\n",
       "<tr>\n",
       "  <th>brand_a</th>          <td>   -0.3525</td> <td>    0.153</td> <td>   -2.304</td> <td> 0.021</td> <td>   -0.652</td> <td>   -0.053</td>\n",
       "</tr>\n",
       "<tr>\n",
       "  <th>brand_ab</th>         <td>   -0.4036</td> <td>    0.147</td> <td>   -2.744</td> <td> 0.006</td> <td>   -0.692</td> <td>   -0.115</td>\n",
       "</tr>\n",
       "<tr>\n",
       "  <th>brand_b</th>          <td>    0.0287</td> <td>    0.140</td> <td>    0.204</td> <td> 0.838</td> <td>   -0.247</td> <td>    0.304</td>\n",
       "</tr>\n",
       "<tr>\n",
       "  <th>brand_silver</th>     <td>    0.9187</td> <td>    0.313</td> <td>    2.932</td> <td> 0.003</td> <td>    0.304</td> <td>    1.533</td>\n",
       "</tr>\n",
       "<tr>\n",
       "  <th>district_ДФО</th>     <td>   -0.4929</td> <td>    0.232</td> <td>   -2.122</td> <td> 0.034</td> <td>   -0.948</td> <td>   -0.037</td>\n",
       "</tr>\n",
       "<tr>\n",
       "  <th>district_ПФО</th>     <td>    1.7002</td> <td>    0.129</td> <td>   13.145</td> <td> 0.000</td> <td>    1.447</td> <td>    1.954</td>\n",
       "</tr>\n",
       "<tr>\n",
       "  <th>district_СЗФО</th>    <td>   -0.5208</td> <td>    0.178</td> <td>   -2.921</td> <td> 0.004</td> <td>   -0.870</td> <td>   -0.171</td>\n",
       "</tr>\n",
       "<tr>\n",
       "  <th>district_СКФО</th>    <td>   -1.0380</td> <td>    0.197</td> <td>   -5.273</td> <td> 0.000</td> <td>   -1.424</td> <td>   -0.652</td>\n",
       "</tr>\n",
       "<tr>\n",
       "  <th>district_СФО</th>     <td>   -0.0855</td> <td>    0.128</td> <td>   -0.667</td> <td> 0.505</td> <td>   -0.337</td> <td>    0.166</td>\n",
       "</tr>\n",
       "<tr>\n",
       "  <th>district_УФО</th>     <td>    0.1903</td> <td>    0.162</td> <td>    1.176</td> <td> 0.240</td> <td>   -0.127</td> <td>    0.507</td>\n",
       "</tr>\n",
       "<tr>\n",
       "  <th>district_ЦФО</th>     <td>    0.2456</td> <td>    0.154</td> <td>    1.597</td> <td> 0.110</td> <td>   -0.056</td> <td>    0.547</td>\n",
       "</tr>\n",
       "<tr>\n",
       "  <th>district_ЮФО</th>     <td>    0.1923</td> <td>    0.122</td> <td>    1.575</td> <td> 0.115</td> <td>   -0.047</td> <td>    0.432</td>\n",
       "</tr>\n",
       "</table>\n",
       "<table class=\"simpletable\">\n",
       "<tr>\n",
       "  <th>Omnibus:</th>       <td>3244.516</td> <th>  Durbin-Watson:     </th>  <td>   1.657</td> \n",
       "</tr>\n",
       "<tr>\n",
       "  <th>Prob(Omnibus):</th>  <td> 0.000</td>  <th>  Jarque-Bera (JB):  </th> <td>105073.163</td>\n",
       "</tr>\n",
       "<tr>\n",
       "  <th>Skew:</th>           <td> 3.290</td>  <th>  Prob(JB):          </th>  <td>    0.00</td> \n",
       "</tr>\n",
       "<tr>\n",
       "  <th>Kurtosis:</th>       <td>26.335</td>  <th>  Cond. No.          </th>  <td>9.37e+18</td> \n",
       "</tr>\n",
       "</table><br/><br/>Warnings:<br/>[1] Standard Errors assume that the covariance matrix of the errors is correctly specified.<br/>[2] The smallest eigenvalue is 1.68e-22. This might indicate that there are<br/>strong multicollinearity problems or that the design matrix is singular."
      ],
      "text/plain": [
       "<class 'statsmodels.iolib.summary.Summary'>\n",
       "\"\"\"\n",
       "                            OLS Regression Results                            \n",
       "==============================================================================\n",
       "Dep. Variable:                  msale   R-squared:                       0.342\n",
       "Model:                            OLS   Adj. R-squared:                  0.338\n",
       "Method:                 Least Squares   F-statistic:                     96.38\n",
       "Date:                Wed, 19 Feb 2020   Prob (F-statistic):               0.00\n",
       "Time:                        15:24:43   Log-Likelihood:                -10540.\n",
       "No. Observations:                4290   AIC:                         2.113e+04\n",
       "Df Residuals:                    4266   BIC:                         2.128e+04\n",
       "Df Model:                          23                                         \n",
       "Covariance Type:            nonrobust                                         \n",
       "====================================================================================\n",
       "                       coef    std err          t      P>|t|      [0.025      0.975]\n",
       "------------------------------------------------------------------------------------\n",
       "Intercept            0.1912      0.359      0.533      0.594      -0.512       0.894\n",
       "shop_size         1.206e-05    2.8e-05      0.430      0.667   -4.29e-05     6.7e-05\n",
       "work_time           -0.0105      0.019     -0.554      0.580      -0.048       0.027\n",
       "total_sales          0.0017   9.61e-05     17.711      0.000       0.002       0.002\n",
       "population        1.824e-08   3.71e-08      0.491      0.623   -5.45e-08     9.1e-08\n",
       "salary_reg        2.034e-05   4.45e-06      4.573      0.000    1.16e-05    2.91e-05\n",
       "mosque               0.2391      0.123      1.940      0.052      -0.002       0.481\n",
       "muslim_per_reg       0.0924      0.008     11.801      0.000       0.077       0.108\n",
       "religion_imp_reg     0.0041      0.012      0.342      0.733      -0.020       0.028\n",
       "rus_per_reg         -0.0166      0.005     -3.667      0.000      -0.025      -0.008\n",
       "type_ГМ             -0.3927      0.269     -1.462      0.144      -0.919       0.134\n",
       "type_Рынок           1.0253      0.755      1.359      0.174      -0.454       2.505\n",
       "type_Стрит          -0.4341      0.187     -2.322      0.020      -0.801      -0.068\n",
       "type_ТРЦ             0.1690      0.199      0.850      0.395      -0.221       0.559\n",
       "type_ТЦ             -0.1763      0.196     -0.902      0.367      -0.560       0.207\n",
       "brand_a             -0.3525      0.153     -2.304      0.021      -0.652      -0.053\n",
       "brand_ab            -0.4036      0.147     -2.744      0.006      -0.692      -0.115\n",
       "brand_b              0.0287      0.140      0.204      0.838      -0.247       0.304\n",
       "brand_silver         0.9187      0.313      2.932      0.003       0.304       1.533\n",
       "district_ДФО        -0.4929      0.232     -2.122      0.034      -0.948      -0.037\n",
       "district_ПФО         1.7002      0.129     13.145      0.000       1.447       1.954\n",
       "district_СЗФО       -0.5208      0.178     -2.921      0.004      -0.870      -0.171\n",
       "district_СКФО       -1.0380      0.197     -5.273      0.000      -1.424      -0.652\n",
       "district_СФО        -0.0855      0.128     -0.667      0.505      -0.337       0.166\n",
       "district_УФО         0.1903      0.162      1.176      0.240      -0.127       0.507\n",
       "district_ЦФО         0.2456      0.154      1.597      0.110      -0.056       0.547\n",
       "district_ЮФО         0.1923      0.122      1.575      0.115      -0.047       0.432\n",
       "==============================================================================\n",
       "Omnibus:                     3244.516   Durbin-Watson:                   1.657\n",
       "Prob(Omnibus):                  0.000   Jarque-Bera (JB):           105073.163\n",
       "Skew:                           3.290   Prob(JB):                         0.00\n",
       "Kurtosis:                      26.335   Cond. No.                     9.37e+18\n",
       "==============================================================================\n",
       "\n",
       "Warnings:\n",
       "[1] Standard Errors assume that the covariance matrix of the errors is correctly specified.\n",
       "[2] The smallest eigenvalue is 1.68e-22. This might indicate that there are\n",
       "strong multicollinearity problems or that the design matrix is singular.\n",
       "\"\"\""
      ]
     },
     "execution_count": 37,
     "metadata": {},
     "output_type": "execute_result"
    }
   ],
   "source": [
    "import statsmodels.api as sm\n",
    "import statsmodels.formula.api as smf\n",
    "\n",
    "est = smf.ols(get_formula(col_list),data=train_df).fit()\n",
    "est.summary()"
   ]
  },
  {
   "cell_type": "markdown",
   "metadata": {},
   "source": [
    "Обучу модели вернув обратно название региона"
   ]
  },
  {
   "cell_type": "code",
   "execution_count": 38,
   "metadata": {},
   "outputs": [],
   "source": [
    "train_df1 = raw_df.drop(['id','city','coord'], axis=1)\n",
    "train_df1 = pd.get_dummies(train_df1)\n",
    "train_df1.rename(columns={'925_msale':'msale'},inplace=True)"
   ]
  },
  {
   "cell_type": "code",
   "execution_count": null,
   "metadata": {},
   "outputs": [],
   "source": []
  },
  {
   "cell_type": "code",
   "execution_count": 39,
   "metadata": {},
   "outputs": [
    {
     "name": "stderr",
     "output_type": "stream",
     "text": [
      "C:\\Users\\Dotsenko.Semen\\AppData\\Local\\Continuum\\anaconda3\\lib\\site-packages\\sklearn\\linear_model\\ridge.py:112: LinAlgWarning: scipy.linalg.solve\n",
      "Ill-conditioned matrix detected. Result is not guaranteed to be accurate.\n",
      "Reciprocal condition number4.035429e-17\n",
      "  overwrite_a=True).T\n"
     ]
    }
   ],
   "source": [
    "# обучаю разные модели регрессий\n",
    "from sklearn.model_selection import train_test_split\n",
    "from sklearn.linear_model import LinearRegression, Ridge, Lasso, LogisticRegression, BayesianRidge\n",
    "from sklearn.metrics import mean_absolute_error, r2_score, mean_squared_error\n",
    "\n",
    "X = train_df1.drop(['msale'],axis=1)\n",
    "y = train_df1['msale']\n",
    "\n",
    "X_train, X_test, y_train, y_test = train_test_split(X, y, test_size=0.2)\n",
    "\n",
    "# создаю объекты\n",
    "lm = LinearRegression()\n",
    "rg = Ridge(alpha=1)\n",
    "ls = Lasso(alpha=1)\n",
    "bs = BayesianRidge()\n",
    "lr = LogisticRegression()\n",
    "\n",
    "# тренирую модели\n",
    "lm.fit(X_train, y_train)\n",
    "rg.fit(X_train, y_train)\n",
    "ls.fit(X_train, y_train)\n",
    "bs.fit(X_train, y_train)\n",
    "lr.fit(X_train, y_train)\n",
    "\n",
    "#создаю предсказания\n",
    "lm_y_pred = lm.predict(X_test)\n",
    "rg_y_pred = rg.predict(X_test)\n",
    "ls_y_pred = ls.predict(X_test)\n",
    "bs_y_pred = bs.predict(X_test)\n",
    "lr_y_pred = lr.predict(X_test)\n"
   ]
  },
  {
   "cell_type": "code",
   "execution_count": 40,
   "metadata": {},
   "outputs": [
    {
     "name": "stdout",
     "output_type": "stream",
     "text": [
      "Linear Regression R^2: 0.41\n",
      "Linear Regression Средний квадрат ошибки: 6.72\n",
      "Ridge Regression R^2: 0.41\n",
      "Ridge Regression Средний квадрат ошибки: 6.71\n",
      "Lasso Regression R^2: 0.26\n",
      "Lasso Regression Средний квадрат ошибки: 8.36\n",
      "Bayesian Ridge Regression R^2: 0.41\n",
      "Bayesian Ridge Regression Средний квадрат ошибки: 6.71\n",
      "Logistic Regression R^2: -0.18\n",
      "Logistic Regression Средний квадрат ошибки: 13.43\n"
     ]
    }
   ],
   "source": [
    "#Метрики\n",
    "print('Linear Regression R^2: %.2f' % r2_score(y_test, lm_y_pred))\n",
    "print(\"Linear Regression Средний квадрат ошибки: %.2f\" % mean_squared_error(y_test, lm_y_pred))\n",
    "\n",
    "print('Ridge Regression R^2: %.2f' % r2_score(y_test, rg_y_pred))\n",
    "print(\"Ridge Regression Средний квадрат ошибки: %.2f\" % mean_squared_error(y_test, rg_y_pred))\n",
    "\n",
    "print('Lasso Regression R^2: %.2f' % r2_score(y_test, ls_y_pred))\n",
    "print(\"Lasso Regression Средний квадрат ошибки: %.2f\" % mean_squared_error(y_test, ls_y_pred))\n",
    "\n",
    "print('Bayesian Ridge Regression R^2: %.2f' % r2_score(y_test, bs_y_pred))\n",
    "print(\"Bayesian Ridge Regression Средний квадрат ошибки: %.2f\" % mean_squared_error(y_test, bs_y_pred))\n",
    "\n",
    "print('Logistic Regression R^2: %.2f' % r2_score(y_test, lr_y_pred))\n",
    "print(\"Logistic Regression Средний квадрат ошибки: %.2f\" % mean_squared_error(y_test, lr_y_pred))"
   ]
  },
  {
   "cell_type": "code",
   "execution_count": 41,
   "metadata": {},
   "outputs": [
    {
     "name": "stdout",
     "output_type": "stream",
     "text": [
      "<class 'pandas.core.frame.DataFrame'>\n",
      "Int64Index: 4290 entries, 0 to 8129\n",
      "Data columns (total 27 columns):\n",
      "msale               4290 non-null float32\n",
      "shop_size           4290 non-null float32\n",
      "work_time           4290 non-null float32\n",
      "total_sales         4290 non-null float32\n",
      "population          4290 non-null float32\n",
      "salary_reg          4290 non-null float32\n",
      "mosque              4290 non-null float32\n",
      "muslim_per_reg      4290 non-null float32\n",
      "religion_imp_reg    4290 non-null float32\n",
      "rus_per_reg         4290 non-null float32\n",
      "type_ГМ             4290 non-null float32\n",
      "type_Рынок          4290 non-null float32\n",
      "type_Стрит          4290 non-null float32\n",
      "type_ТРЦ            4290 non-null float32\n",
      "type_ТЦ             4290 non-null float32\n",
      "brand_a             4290 non-null float32\n",
      "brand_ab            4290 non-null float32\n",
      "brand_b             4290 non-null float32\n",
      "brand_silver        4290 non-null float32\n",
      "district_ДФО        4290 non-null float32\n",
      "district_ПФО        4290 non-null float32\n",
      "district_СЗФО       4290 non-null float32\n",
      "district_СКФО       4290 non-null float32\n",
      "district_СФО        4290 non-null float32\n",
      "district_УФО        4290 non-null float32\n",
      "district_ЦФО        4290 non-null float32\n",
      "district_ЮФО        4290 non-null float32\n",
      "dtypes: float32(27)\n",
      "memory usage: 486.0 KB\n"
     ]
    }
   ],
   "source": [
    "train_df.info()"
   ]
  },
  {
   "cell_type": "code",
   "execution_count": 42,
   "metadata": {},
   "outputs": [
    {
     "data": {
      "text/plain": [
       "<matplotlib.axes._subplots.AxesSubplot at 0x29c5f9fbb70>"
      ]
     },
     "execution_count": 42,
     "metadata": {},
     "output_type": "execute_result"
    },
    {
     "data": {
      "image/png": "[encoded data removed]",
      "text/plain": [
       "<Figure size 432x288 with 1 Axes>"
      ]
     },
     "metadata": {
      "needs_background": "light"
     },
     "output_type": "display_data"
    }
   ],
   "source": [
    "train_df['msale'].hist(bins=50)"
   ]
  },
  {
   "cell_type": "markdown",
   "metadata": {},
   "source": [
    "Заменим ноль"
   ]
  },
  {
   "cell_type": "code",
   "execution_count": 43,
   "metadata": {},
   "outputs": [
    {
     "data": {
      "text/plain": [
       "count    4290.000000\n",
       "mean        2.310723\n",
       "std         3.481279\n",
       "min         0.000000\n",
       "25%         0.000000\n",
       "50%         1.000000\n",
       "75%         3.000000\n",
       "max        39.000000\n",
       "Name: msale, dtype: float64"
      ]
     },
     "execution_count": 43,
     "metadata": {},
     "output_type": "execute_result"
    }
   ],
   "source": [
    "train_df['msale'].describe()"
   ]
  },
  {
   "cell_type": "code",
   "execution_count": 44,
   "metadata": {},
   "outputs": [
    {
     "name": "stdout",
     "output_type": "stream",
     "text": [
      "<class 'pandas.core.frame.DataFrame'>\n",
      "Int64Index: 4290 entries, 0 to 8129\n",
      "Data columns (total 22 columns):\n",
      "id                    4290 non-null float64\n",
      "925_msale             4290 non-null float64\n",
      "city                  4290 non-null object\n",
      "type                  4290 non-null object\n",
      "shop_size             4290 non-null float64\n",
      "work_time             4290 non-null float64\n",
      "total_sales           4290 non-null float64\n",
      "stock_month           4290 non-null float64\n",
      "brand                 4290 non-null object\n",
      "population            4290 non-null float64\n",
      "salary_reg            4290 non-null float64\n",
      "salary_district       4290 non-null float64\n",
      "mosque                4290 non-null float64\n",
      "muslim_per_reg        4290 non-null float64\n",
      "muslim_per_distr      4290 non-null float64\n",
      "religion_imp_reg      4290 non-null float64\n",
      "religion_imp_distr    4290 non-null float64\n",
      "rus_per_reg           4290 non-null float64\n",
      "rus_per_distr         4290 non-null float64\n",
      "coord                 4290 non-null object\n",
      "district              4290 non-null object\n",
      "region                4290 non-null object\n",
      "dtypes: float64(16), object(6)\n",
      "memory usage: 770.9+ KB\n"
     ]
    }
   ],
   "source": [
    "raw_df.info()"
   ]
  },
  {
   "cell_type": "code",
   "execution_count": 45,
   "metadata": {},
   "outputs": [],
   "source": [
    "# вместо города и региона создадим новые признаки: продажи/среднее по городу, продажи/среднее по региону, \n",
    "#продажи по региону/среднее по регионам\n",
    "\n",
    "city_average = raw_df.groupby('city')['925_msale'].mean()\n",
    "district_mean = raw_df.groupby('district')['925_msale'].mean()\n",
    "\n",
    "raw_df['sales_to_citymean'] = raw_df['925_msale']/raw_df['city'].apply(lambda x: city_average.get(x))\n",
    "raw_df['sales_to_distrmean'] = raw_df['925_msale']/raw_df['district'].apply(lambda x: district_mean.get(x))\n",
    "raw_df['distrsales_to_mean'] = raw_df['925_msale']/raw_df['district'].apply(lambda x: district_mean.get(x))"
   ]
  },
  {
   "cell_type": "code",
   "execution_count": 46,
   "metadata": {},
   "outputs": [
    {
     "data": {
      "text/plain": [
       "district\n",
       "ДФО     0.532141\n",
       "ПФО     2.020762\n",
       "СЗФО    0.757339\n",
       "СКФО    1.177419\n",
       "СФО     0.603450\n",
       "УФО     1.301087\n",
       "ЦФО     0.710870\n",
       "ЮФО     0.739889\n",
       "Name: 925_msale, dtype: float64"
      ]
     },
     "execution_count": 46,
     "metadata": {},
     "output_type": "execute_result"
    }
   ],
   "source": [
    "raw_df.groupby('district')['925_msale'].mean()/raw_df['925_msale'].mean()"
   ]
  },
  {
   "cell_type": "code",
   "execution_count": 47,
   "metadata": {},
   "outputs": [
    {
     "data": {
      "text/plain": [
       "2.310722610722611"
      ]
     },
     "execution_count": 47,
     "metadata": {},
     "output_type": "execute_result"
    }
   ],
   "source": [
    "raw_df['925_msale'].mean()"
   ]
  },
  {
   "cell_type": "code",
   "execution_count": 48,
   "metadata": {},
   "outputs": [
    {
     "name": "stdout",
     "output_type": "stream",
     "text": [
      "<class 'pandas.core.frame.DataFrame'>\n",
      "Int64Index: 4290 entries, 0 to 8129\n",
      "Data columns (total 25 columns):\n",
      "id                    4290 non-null float64\n",
      "925_msale             4290 non-null float64\n",
      "city                  4290 non-null object\n",
      "type                  4290 non-null object\n",
      "shop_size             4290 non-null float64\n",
      "work_time             4290 non-null float64\n",
      "total_sales           4290 non-null float64\n",
      "stock_month           4290 non-null float64\n",
      "brand                 4290 non-null object\n",
      "population            4290 non-null float64\n",
      "salary_reg            4290 non-null float64\n",
      "salary_district       4290 non-null float64\n",
      "mosque                4290 non-null float64\n",
      "muslim_per_reg        4290 non-null float64\n",
      "muslim_per_distr      4290 non-null float64\n",
      "religion_imp_reg      4290 non-null float64\n",
      "religion_imp_distr    4290 non-null float64\n",
      "rus_per_reg           4290 non-null float64\n",
      "rus_per_distr         4290 non-null float64\n",
      "coord                 4290 non-null object\n",
      "district              4290 non-null object\n",
      "region                4290 non-null object\n",
      "sales_to_citymean     4275 non-null float64\n",
      "sales_to_distrmean    4290 non-null float64\n",
      "distrsales_to_mean    4290 non-null float64\n",
      "dtypes: float64(19), object(6)\n",
      "memory usage: 871.4+ KB\n"
     ]
    }
   ],
   "source": [
    "raw_df.info()"
   ]
  },
  {
   "cell_type": "code",
   "execution_count": 54,
   "metadata": {},
   "outputs": [],
   "source": [
    "# Преобразуем столбец coord для визуализации\n",
    "import pandas as pd\n",
    "def latitude(string):\n",
    "    return float(string[1:-1].split(\",\")[0])\n",
    "\n",
    "def longitude(string):\n",
    "    return float(string[1:-1].split(\",\")[1])\n",
    "\n",
    "raw_df['latitude'] = raw_df.coord.apply(latitude)\n",
    "raw_df['longitude'] = raw_df.coord.apply(longitude)"
   ]
  },
  {
   "cell_type": "code",
   "execution_count": 56,
   "metadata": {},
   "outputs": [
    {
     "name": "stdout",
     "output_type": "stream",
     "text": [
      "User Guide: https://github.com/keplergl/kepler.gl/blob/master/docs/keplergl-jupyter/user-guide.md\n"
     ]
    },
    {
     "data": {
      "application/vnd.jupyter.widget-view+json": {
       "model_id": "6ceb6c548329441ea2332bda0161c1f9",
       "version_major": 2,
       "version_minor": 0
      },
      "text/plain": [
       "KeplerGl(config={'version': 'v1', 'config': {'visState': {'filters': [], 'layers': [{'id': 'atjqj7qz', 'type':…"
      ]
     },
     "metadata": {},
     "output_type": "display_data"
    }
   ],
   "source": [
    "from keplergl import KeplerGl\n",
    "map_1 = KeplerGl()\n",
    "map_1.add_data(data=raw_df, name='muslim')\n",
    "map_1"
   ]
  },
  {
   "cell_type": "code",
   "execution_count": null,
   "metadata": {},
   "outputs": [],
   "source": []
  }
 ],
 "metadata": {
  "kernelspec": {
   "display_name": "Python 3",
   "language": "python",
   "name": "python3"
  },
  "language_info": {
   "codemirror_mode": {
    "name": "ipython",
    "version": 3
   },
   "file_extension": ".py",
   "mimetype": "text/x-python",
   "name": "python",
   "nbconvert_exporter": "python",
   "pygments_lexer": "ipython3",
   "version": "3.7.0"
  }
 },
 "nbformat": 4,
 "nbformat_minor": 2
}
