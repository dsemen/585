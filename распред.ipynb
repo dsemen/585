{
 "cells": [
  {
   "cell_type": "code",
   "execution_count": 1,
   "metadata": {},
   "outputs": [],
   "source": [
    "# Распред обручей\n",
    "import pandas as pd\n",
    "import numpy as np\n",
    "import random\n",
    "\n",
    "shops = pd.read_excel('C:\\анаконда\\shop_list.xlsx', dtype='int')\n",
    "                     \n",
    "# достаем Тпг+размер c количеством которые нужно считать из накладной \n",
    "tmp_df = pd.read_excel('C:/рушники/123.xlsx', dtype='str')\n",
    "tmp_df['tpg'] = tmp_df['Товарная подгруппа'].str.cat(tmp_df['Размер'], sep=\"_\")\n",
    "\n",
    "#del tmp_df['№ Поставщика']\n",
    "tmp_df['tpg'] = tmp_df['tpg'].str.replace('.', ',')# меняем точки на запятые\n",
    "tmp_df.sort_values(by=['tpg'], inplace=True)\n",
    "tpg = tmp_df['tpg'].unique().tolist()\n",
    "tpg.sort()\n",
    "tpg_dic = tmp_df['tpg'].value_counts().to_dict()\n",
    "\n",
    "# Загружаем нормы и остатки по нужным тпг чтобы посчитать дефицит\n",
    "n_link =  r'\\\\gold585.int\\uk\\Общее хранилище файлов\\Коммерческий департамент\\Отдел закупки\\ЛИЧНЫЕ\\Семен\\нужное\\матрица обручей.xlsx'\n",
    "norms = pd.read_excel(n_link, sheet_name='гладкая_плоская размеры_тпг', skiprows=3, usecols=['номер', *tpg]) \n",
    "stock = pd.read_excel(r'C:\\Остатки\\Обручальные кольца.xlsx', usecols=['КодСклада','ТоварнаяПодгруппа','РазмерИзделия'], dtype='str')\n",
    "stock.columns = ['КодСклада', 'Товарная подгруппа', 'Размер']\n",
    "stock['Размер'] = stock['Размер'].str.replace('.', ',')\n",
    "stock['tpg'] = stock['Товарная подгруппа'].str.cat(stock['Размер'], sep=\"_\")\n",
    "stock.drop(columns=['Товарная подгруппа','Размер'], inplace=True)\n",
    "stock = stock[stock['tpg'].isin(tpg)]\n",
    "stock = stock.groupby(by=['КодСклада', 'tpg'])['tpg'].aggregate('count').unstack(fill_value=0.0)\n",
    "stock.reset_index(inplace=True)\n",
    "stock = stock.astype('int')\n",
    "stock.columns.values[0] = 'номер'\n",
    "stock = stock[norms.columns.tolist()]\n",
    "norms = shops.merge(norms, on='номер', how='left')\n",
    "stock = shops.merge(stock, on='номер', how='left').fillna(0)\n",
    "norms.set_index('номер', inplace=True)\n",
    "stock.set_index('номер', inplace=True)\n",
    "\n",
    "norms = norms.applymap(lambda x: round(x * 1.3))# для распреда того что не входит\n",
    "\n",
    "demand = norms - stock\n",
    "demand = demand.applymap(lambda num: 0 if num < 0 else num)\n",
    "\n",
    "def raspred_dict(df):\n",
    "    emp = []\n",
    "    cols = df.columns.tolist()\n",
    "    for col in cols:\n",
    "        emp.append(list(np.repeat(df.index.to_numpy(),df[col].values.astype(int))))\n",
    "    return dict(zip(cols, emp))\n",
    "\n",
    "no7171_dict = raspred_dict(demand)\n",
    "\n",
    "def dictu(x):    \n",
    "    if tpg_dic[x] > len(no7171_dict[x]):\n",
    "        over = tpg_dic[x] - len(no7171_dict[x])\n",
    "        no7171_dict[x] = [*no7171_dict[x], *([7171] * over)]        \n",
    "    elif tpg_dic[x] < len(no7171_dict[x]):\n",
    "        no7171_dict[x] = no7171_dict[x][:tpg_dic[x]]        \n",
    "    return no7171_dict[x]\n",
    "\n",
    "lst = [dictu(x) for x in tpg]\n",
    "\n",
    "tmp_df['Период реализации'] = np.array([item for sublist in lst for item in sublist])\n",
    "name = 'C:/рушники/' + str(random.randrange(5000,10000)) + '.xlsx'\n",
    "tmp_df.to_excel(name, sheet_name='Движение товара', index=False)"
   ]
  },
  {
   "cell_type": "code",
   "execution_count": null,
   "metadata": {},
   "outputs": [],
   "source": [
    "#delete files\n",
    "import os\n",
    "path = 'C:/рушники/соединить'\n",
    "dir_lst = os.listdir(path)\n",
    "for x in dir_lst:\n",
    "    os.remove(path + '/' + x)"
   ]
  },
  {
   "cell_type": "code",
   "execution_count": 16,
   "metadata": {},
   "outputs": [],
   "source": [
    "# join files in folder\n",
    "import os\n",
    "import pandas as pd\n",
    "\n",
    "path = 'C:/рушники/соединить'\n",
    "  \n",
    "files = [path + '/' + x for x in os.listdir(path)]\n",
    "all_files = pd.concat([pd.read_excel(x) for x in files])\n",
    "all_files.to_excel(path + '/all.xlsx', sheet_name='Движение товара', index=False)"
   ]
  },
  {
   "cell_type": "code",
   "execution_count": 49,
   "metadata": {},
   "outputs": [
    {
     "name": "stderr",
     "output_type": "stream",
     "text": [
      "C:\\Users\\Dotsenko.Semen\\AppData\\Local\\Continuum\\anaconda3\\lib\\site-packages\\ipykernel_launcher.py:58: SettingWithCopyWarning: \n",
      "A value is trying to be set on a copy of a slice from a DataFrame\n",
      "\n",
      "See the caveats in the documentation: https://pandas.pydata.org/pandas-docs/stable/user_guide/indexing.html#returning-a-view-versus-a-copy\n",
      "C:\\Users\\Dotsenko.Semen\\AppData\\Local\\Continuum\\anaconda3\\lib\\site-packages\\ipykernel_launcher.py:61: SettingWithCopyWarning: \n",
      "A value is trying to be set on a copy of a slice from a DataFrame\n",
      "\n",
      "See the caveats in the documentation: https://pandas.pydata.org/pandas-docs/stable/user_guide/indexing.html#returning-a-view-versus-a-copy\n"
     ]
    }
   ],
   "source": [
    "# Распред букв или зодиаков по одному направлению\n",
    "import pandas as pd\n",
    "import numpy as np\n",
    "import random\n",
    "\n",
    "# get stockdata, goods receipt, shops list, stock capability\n",
    "prih = pd.read_excel('C:/рушники/ИФ ЗОДИАК.xlsx')\n",
    "prih.sort_values(by=['Товар'], inplace=True)\n",
    "prih['Описание 3'] = prih['Описание 3'].str.lower()\n",
    "\n",
    "letters = prih['Описание 3'].unique().tolist()\n",
    "tovs = prih['Товар'].unique().tolist()\n",
    "tovs.sort()\n",
    "\n",
    "stock = pd.read_excel('C:/Остатки/Буквы и Зодиаки.xlsx')\n",
    "stock = stock[stock['ТоварНо'].isin(tovs)]\n",
    "stock.rename(columns={'Описание3': 'Описание 3'}, inplace=True)\n",
    "stock['Описание 3'] = stock['Описание 3'].str.lower()\n",
    "\n",
    "#create automatic demand calculation here\n",
    "#norms = pd.read_excel('C:/Остатки/norm_bz.xlsx', sheet_name='norm_z', index_col= 'Название из NAV', usecols=['Название из NAV', 'sum_bk'])\n",
    "#norm_dict = norms.sum_bk.apply(lambda x: round(x/12)).to_dict()\n",
    "\n",
    "#estimate sheetname and filename for demand\n",
    "tn = prih.loc[1, 'Товарное направление'].lower()\n",
    "fname = 'C:/Остатки/' + prih.loc[1, 'Дизайн'][3:].lower() + '.xlsx'\n",
    "\n",
    "demand = pd.read_excel(fname, sheet_name=tn, skiprows=1, usecols=['Наполняха', 'Код', *letters], index_col='Код')\n",
    "\n",
    "\n",
    "#Create two dictionaries tov dict and letter dict\n",
    "stock_dict = dict(zip(tovs,[stock[stock['ТоварНо'] == tov]['КодСклада'].tolist() for tov in tovs]))\n",
    "df = prih.groupby(by=[ 'Товар', 'Описание 3'])['Товар'].count().rename('count')\n",
    "df = df.reset_index()\n",
    "\n",
    "tov_dict = dict(zip(df.Товар.tolist(), df[['Описание 3', 'count']].values.tolist())) #(tov:[letter, demand])\n",
    "\n",
    "#letter: dataframe with columns:store number, filling rate, demand(positive num is overstock, negative num is demand)\n",
    "letter_dict = dict(zip(letters,[demand[['Наполняха', letter]] for letter in letters]))\n",
    "\n",
    "def get_shoplist(tov):\n",
    "    \"\"\"Get sorted by letter demand and stock list of stores with zero stock of tov.\n",
    "    Changes letter dict according to this list. Two dictionaries needed to perform func\"\"\"\n",
    "    \n",
    "    letter = tov_dict[tov][0]\n",
    "    lenth = tov_dict[tov][1]\n",
    "    shoplist_full = letter_dict[letter].sort_values(by=[letter, 'Наполняха']).index.tolist()\n",
    "    shoplist = [i for i in shoplist_full if i not in stock_dict[tov]]\n",
    "    shop_len = len(shoplist)\n",
    "    \n",
    "    if shop_len > lenth:\n",
    "        shoplist = shoplist[:lenth]\n",
    "    elif len(shoplist) < lenth:\n",
    "        over = lenth - shop_len\n",
    "        shoplist = [*shoplist,*([7171] * over)]\n",
    "    for shop in shoplist:\n",
    "        if shop != 7171:\n",
    "            letter_dict[letter][letter][shop] += 1\n",
    "    return shoplist\n",
    "      \n",
    "lst = [get_shoplist(x) for x in tovs]\n",
    "prih['Период реализации'] = np.array([item for sublist in lst for item in sublist])\n",
    "\n",
    "name = 'C:/рушники/' + str(random.randrange(5000,10000)) + '.xlsx'\n",
    "prih.to_excel(name, sheet_name='Движение товара', index=False)\n",
    "    "
   ]
  },
  {
   "cell_type": "code",
   "execution_count": 68,
   "metadata": {},
   "outputs": [],
   "source": [
    "# Распред по товам по две три штуки в шоплист вторым столбцом указать количество столбец \"кол\"\n",
    "import pandas as pd\n",
    "import numpy as np\n",
    "import random\n",
    "\n",
    "# create distribution quantities dictionary\n",
    "invoice = pd.read_excel('C:/рушники/БК.xlsx')\n",
    "invoice.sort_values(by=['Товар'], inplace=True)\n",
    "arts_dic = invoice['Товар'].value_counts().to_dict()\n",
    "\n",
    "# create norms dataframe\n",
    "shops = pd.read_excel('C:\\анаконда\\shop_list_doubled.xlsx', dtype='int')\n",
    "shops.sort_values(by='кол',ascending=False, inplace=True)\n",
    "\n",
    "num_dict = shops.кол.value_counts().sort_index(ascending=False).to_dict()\n",
    "cols = list(invoice['Товар'].unique())\n",
    "\n",
    "norms = pd.concat(\n",
    "[pd.DataFrame(\n",
    "    data=np.full((num_dict[i], len(cols)), i), \n",
    "    columns=cols)\n",
    " for i in list(num_dict)]\n",
    ")  \n",
    "\n",
    "norms.index = shops['номер']\n",
    "\n",
    "# create stock df identical in shape to norms df\n",
    "stock = pd.read_excel(r'C:\\Остатки\\Товы.xlsx', usecols=['КодСклада','ТоварНо'])\n",
    "stock = stock[stock['КодСклада'].isin(norms.index.tolist()) & \n",
    "              stock['ТоварНо'].isin(cols)]\n",
    "\n",
    "pivot = pd.pivot_table(stock,index='КодСклада', columns='ТоварНо', aggfunc=len, fill_value=0).reset_index()\n",
    "\n",
    "stock = pd.DataFrame(data=shops['номер'].values, columns=['КодСклада']).merge(pivot, how='left')\n",
    "stock.set_index('КодСклада',inplace=True)\n",
    "stock.fillna(0, inplace=True)\n",
    "\n",
    "if cols != stock.columns.to_list():\n",
    "    add_cols = [x for x in cols if x not in stock.columns.to_list()]\n",
    "    add_df = pd.DataFrame(data=np.zeros((stock.shape[0], len(add_cols))), columns=add_cols, index=stock.index)\n",
    "    stock.join(add_df)\n",
    "    \n",
    "stock = stock[cols]\n",
    "\n",
    "# demand \n",
    "demand = norms - stock\n",
    "\n",
    "# distribution\n",
    "def repeat_series(series):\n",
    "    return np.repeat(series.index, series.values).tolist()\n",
    "\n",
    "empty = []\n",
    "for col in demand.columns.tolist():\n",
    "    shop_lst = repeat_series(demand[col].loc[lambda x: x > 0])\n",
    "    diff = arts_dic[col] - len(shop_lst)\n",
    "    if diff > 0:\n",
    "        shop_lst.extend(list(np.full(diff, 7171)))\n",
    "    else:\n",
    "        shop_lst = shop_lst[:arts_dic[col]]\n",
    "    empty.extend(shop_lst)\n",
    "\n",
    "invoice['Период реализации'] = empty\n",
    "\n",
    "# save and exit\n",
    "name = 'C:/рушники/' + str(random.randrange(5000,10000)) + '.xlsx'\n",
    "invoice.to_excel(name, sheet_name='Движение товара', index=False)"
   ]
  },
  {
   "cell_type": "code",
   "execution_count": 69,
   "metadata": {},
   "outputs": [
    {
     "data": {
      "text/plain": [
       "383"
      ]
     },
     "execution_count": 69,
     "metadata": {},
     "output_type": "execute_result"
    }
   ],
   "source": [
    "sum(invoice['Период реализации'] == 7171)\n"
   ]
  },
  {
   "cell_type": "code",
   "execution_count": null,
   "metadata": {},
   "outputs": [],
   "source": []
  },
  {
   "cell_type": "code",
   "execution_count": 5,
   "metadata": {},
   "outputs": [
    {
     "data": {
      "text/plain": [
       "Index(['КодСклада', 'НазваниеСклада', 'ТоварНо', 'СерийныйНомер', 'Тип1',\n",
       "       'Тип2', 'Тип3', 'Дизайн', 'Производитель', 'Поставщик', 'ПоставщикАрт',\n",
       "       'ШК', 'Датазакупки', 'КолВо', 'Вес', 'ЧистыйВес', 'Проба1',\n",
       "       'РазмерИзделия', 'ВставкаКамней', 'ТолщинаПлетения', 'КолвоКамней',\n",
       "       'СуммаРеализации', 'СуммаПрихода', 'ДатаПартии', 'ДатаПрихода',\n",
       "       'ДатаВТорг', 'ОписаниеТовара', 'ГруппаНаценки', 'ТипИзделия',\n",
       "       'СкидкаПоШК', 'СкидакаПоГруппе', 'СкидкаЗапрещена', 'ТоварнаяПодгруппа',\n",
       "       'ПереоцененнаяСтоимость', 'ТоварноеНаправление', 'Картинка', 'Проект',\n",
       "       'Номердокументазакупки', 'ЛогистическийПризнак', 'ТоварнаяГруппа',\n",
       "       'Price_f', 'Gender', 'ПроизводитАртКартТов', 'PriceCase'],\n",
       "      dtype='object')"
      ]
     },
     "execution_count": 5,
     "metadata": {},
     "output_type": "execute_result"
    }
   ],
   "source": [
    "import pandas as pd\n",
    "pd.read_csv(r'C:\\анаконда\\tmp.csv', delimiter=';', \n",
    "                   encoding='utf-8', nrows=1).columns"
   ]
  },
  {
   "cell_type": "code",
   "execution_count": 8,
   "metadata": {},
   "outputs": [],
   "source": [
    "cols = ['КодСклада', 'НазваниеСклада', 'ТоварНо', 'СерийныйНомер', 'Тип1',\n",
    "       'Дизайн', 'Поставщик', 'ПоставщикАрт',\n",
    "       'Датазакупки', 'Вес', 'ЧистыйВес', 'Проба1',\n",
    "       'СуммаРеализации', 'СуммаПрихода', 'ДатаПартии', 'ДатаПрихода',\n",
    "       'ДатаВТорг', 'ГруппаНаценки', 'ТипИзделия',\n",
    "       'СкидкаПоШК', 'СкидакаПоГруппе', 'СкидкаЗапрещена', 'ТоварнаяПодгруппа',\n",
    "       'ПереоцененнаяСтоимость', 'ТоварноеНаправление', 'Проект',\n",
    "       'ТоварнаяГруппа']\n",
    "df1 = pd.read_csv(r'C:\\анаконда\\tmp.csv', delimiter=';', \n",
    "                   encoding='utf-8', usecols=cols, low_memory=False)\n",
    "df1 = df1[(df1['Проба1'] == '375') & (df1['ТоварнаяГруппа'] != 'БК КОЛЬЦА ОБРУЧ') & (df1.Проект.isin(['ОРИОН', 'ЗОЛОТОЙ', 'ТАЛАНТ']))]\n",
    "\n",
    "df1.to_excel('C:/рушники/123.xlsx', index=False)"
   ]
  },
  {
   "cell_type": "code",
   "execution_count": 1,
   "metadata": {},
   "outputs": [],
   "source": [
    "import matplotlib.pyplot as plt\n",
    "%matplotlib inline\n",
    "import pandas as pd\n",
    "import matplotlib.pyplot as plt\n",
    "plt.style.use('seaborn-white')\n",
    "\n",
    "\n",
    "df = pd.read_csv(r'\\\\gold585.int\\uk\\Общее хранилище файлов\\Коммерческий департамент\\Отдел закупки\\ЛИЧНЫЕ\\Семен\\иф.csv', delimiter=';', \n",
    "                   encoding='utf-8',usecols=['Тип1', 'Проба1',  'СуммаРеализации', 'СуммаПрихода', 'Проект', 'ТоварнаяГруппа', 'ЧистыйВес'])\n",
    "\n",
    "df = df[(df['Проба1'] == '375') & (df['ТоварнаяГруппа'] != 'БК КОЛЬЦА ОБРУЧ') & (df.Проект.isin(['ОРИОН', 'ЗОЛОТОЙ', 'ТАЛАНТ']))]\n",
    "\n",
    "df['СуммаПрихода'] = df['СуммаПрихода'].replace(',', '.', regex=True).astype('float')\n",
    "df['СуммаРеализации'] = df['СуммаРеализации'].astype('float')\n",
    "df['Наценка'] = (df['СуммаРеализации'] / df['СуммаПрихода']) - 1\n",
    "\n",
    "#df['Наценка'] = df['Наценка'].map(\"{:.0%}\".format)\n",
    "\n",
    "df['ЧистыйВес'] = df['ЧистыйВес'].replace(',', '.', regex=True).astype('float')\n",
    "df['СебестЗаГрамм'] = (df['СуммаПрихода'] / df['ЧистыйВес']).round(0)"
   ]
  },
  {
   "cell_type": "code",
   "execution_count": 15,
   "metadata": {},
   "outputs": [],
   "source": [
    "df['ЦенаЗаГрамм'] = (df['СуммаРеализации'] / df['ЧистыйВес']).round(0)"
   ]
  },
  {
   "cell_type": "code",
   "execution_count": 19,
   "metadata": {},
   "outputs": [
    {
     "data": {
      "text/plain": [
       "18.0     27128\n",
       "19.0     21769\n",
       "17.0     11725\n",
       "16.0     10777\n",
       "20.0     10274\n",
       "         ...  \n",
       "139.0        1\n",
       "237.0        1\n",
       "73.0         1\n",
       "74.0         1\n",
       "82.0         1\n",
       "Length: 84, dtype: int64"
      ]
     },
     "execution_count": 19,
     "metadata": {},
     "output_type": "execute_result"
    }
   ],
   "source": [
    "(((df['СуммаРеализации'] / df['СуммаПрихода']) - 1) / 0.1).round(0).value_counts()"
   ]
  },
  {
   "cell_type": "code",
   "execution_count": 19,
   "metadata": {},
   "outputs": [
    {
     "data": {
      "text/plain": [
       "array([[<matplotlib.axes._subplots.AxesSubplot object at 0x00000227709839B0>,\n",
       "        <matplotlib.axes._subplots.AxesSubplot object at 0x000002276F0D2588>]],\n",
       "      dtype=object)"
      ]
     },
     "execution_count": 19,
     "metadata": {},
     "output_type": "execute_result"
    },
    {
     "data": {
      "image/png": "[encoded data removed]",
      "text/plain": [
       "<Figure size 864x576 with 2 Axes>"
      ]
     },
     "metadata": {},
     "output_type": "display_data"
    }
   ],
   "source": [
    "\n",
    "df.hist(column=['СебестЗаГрамм','ЦенаЗаГрамм'], bins=20, grid=True, figsize=(12, 8))\n"
   ]
  },
  {
   "cell_type": "code",
   "execution_count": 21,
   "metadata": {},
   "outputs": [
    {
     "data": {
      "text/plain": [
       "<matplotlib.axes._subplots.AxesSubplot at 0x2276e82b3c8>"
      ]
     },
     "execution_count": 21,
     "metadata": {},
     "output_type": "execute_result"
    },
    {
     "data": {
      "image/png": "[encoded data removed]",
      "text/plain": [
       "<Figure size 864x576 with 1 Axes>"
      ]
     },
     "metadata": {},
     "output_type": "display_data"
    }
   ],
   "source": [
    "df.boxplot(column='Наценка', figsize=(12, 8))"
   ]
  },
  {
   "cell_type": "code",
   "execution_count": 22,
   "metadata": {},
   "outputs": [
    {
     "data": {
      "text/html": [
       "<div>\n",
       "<style scoped>\n",
       "    .dataframe tbody tr th:only-of-type {\n",
       "        vertical-align: middle;\n",
       "    }\n",
       "\n",
       "    .dataframe tbody tr th {\n",
       "        vertical-align: top;\n",
       "    }\n",
       "\n",
       "    .dataframe thead th {\n",
       "        text-align: right;\n",
       "    }\n",
       "</style>\n",
       "<table border=\"1\" class=\"dataframe\">\n",
       "  <thead>\n",
       "    <tr style=\"text-align: right;\">\n",
       "      <th></th>\n",
       "      <th>ЧистыйВес</th>\n",
       "      <th>СуммаРеализации</th>\n",
       "      <th>СуммаПрихода</th>\n",
       "      <th>Наценка</th>\n",
       "      <th>СебестЗаГрамм</th>\n",
       "      <th>ЦенаЗаГрамм</th>\n",
       "    </tr>\n",
       "  </thead>\n",
       "  <tbody>\n",
       "    <tr>\n",
       "      <th>count</th>\n",
       "      <td>117638.000000</td>\n",
       "      <td>117638.00000</td>\n",
       "      <td>117638.000000</td>\n",
       "      <td>117638.000000</td>\n",
       "      <td>117638.000000</td>\n",
       "      <td>117638.000000</td>\n",
       "    </tr>\n",
       "    <tr>\n",
       "      <th>mean</th>\n",
       "      <td>1.590155</td>\n",
       "      <td>7584.91144</td>\n",
       "      <td>2766.891971</td>\n",
       "      <td>1.767782</td>\n",
       "      <td>1767.506231</td>\n",
       "      <td>4864.216019</td>\n",
       "    </tr>\n",
       "    <tr>\n",
       "      <th>std</th>\n",
       "      <td>0.975153</td>\n",
       "      <td>4655.11922</td>\n",
       "      <td>1652.626190</td>\n",
       "      <td>0.656909</td>\n",
       "      <td>143.882869</td>\n",
       "      <td>1138.867499</td>\n",
       "    </tr>\n",
       "    <tr>\n",
       "      <th>min</th>\n",
       "      <td>0.120000</td>\n",
       "      <td>0.00000</td>\n",
       "      <td>353.650000</td>\n",
       "      <td>-1.000000</td>\n",
       "      <td>611.000000</td>\n",
       "      <td>0.000000</td>\n",
       "    </tr>\n",
       "    <tr>\n",
       "      <th>25%</th>\n",
       "      <td>0.870000</td>\n",
       "      <td>4388.00000</td>\n",
       "      <td>1576.825000</td>\n",
       "      <td>1.654428</td>\n",
       "      <td>1736.000000</td>\n",
       "      <td>4561.000000</td>\n",
       "    </tr>\n",
       "    <tr>\n",
       "      <th>50%</th>\n",
       "      <td>1.260000</td>\n",
       "      <td>6160.00000</td>\n",
       "      <td>2251.950000</td>\n",
       "      <td>1.814685</td>\n",
       "      <td>1804.000000</td>\n",
       "      <td>4990.000000</td>\n",
       "    </tr>\n",
       "    <tr>\n",
       "      <th>75%</th>\n",
       "      <td>2.080000</td>\n",
       "      <td>10130.00000</td>\n",
       "      <td>3559.985000</td>\n",
       "      <td>1.937586</td>\n",
       "      <td>1850.000000</td>\n",
       "      <td>5217.000000</td>\n",
       "    </tr>\n",
       "    <tr>\n",
       "      <th>max</th>\n",
       "      <td>5.530000</td>\n",
       "      <td>39116.00000</td>\n",
       "      <td>10463.190000</td>\n",
       "      <td>23.676409</td>\n",
       "      <td>3072.000000</td>\n",
       "      <td>43426.000000</td>\n",
       "    </tr>\n",
       "  </tbody>\n",
       "</table>\n",
       "</div>"
      ],
      "text/plain": [
       "           ЧистыйВес  СуммаРеализации   СуммаПрихода        Наценка  \\\n",
       "count  117638.000000     117638.00000  117638.000000  117638.000000   \n",
       "mean        1.590155       7584.91144    2766.891971       1.767782   \n",
       "std         0.975153       4655.11922    1652.626190       0.656909   \n",
       "min         0.120000          0.00000     353.650000      -1.000000   \n",
       "25%         0.870000       4388.00000    1576.825000       1.654428   \n",
       "50%         1.260000       6160.00000    2251.950000       1.814685   \n",
       "75%         2.080000      10130.00000    3559.985000       1.937586   \n",
       "max         5.530000      39116.00000   10463.190000      23.676409   \n",
       "\n",
       "       СебестЗаГрамм    ЦенаЗаГрамм  \n",
       "count  117638.000000  117638.000000  \n",
       "mean     1767.506231    4864.216019  \n",
       "std       143.882869    1138.867499  \n",
       "min       611.000000       0.000000  \n",
       "25%      1736.000000    4561.000000  \n",
       "50%      1804.000000    4990.000000  \n",
       "75%      1850.000000    5217.000000  \n",
       "max      3072.000000   43426.000000  "
      ]
     },
     "execution_count": 22,
     "metadata": {},
     "output_type": "execute_result"
    }
   ],
   "source": [
    "df.describe()"
   ]
  },
  {
   "cell_type": "code",
   "execution_count": 27,
   "metadata": {},
   "outputs": [
    {
     "data": {
      "text/plain": [
       "3755"
      ]
     },
     "execution_count": 27,
     "metadata": {},
     "output_type": "execute_result"
    }
   ],
   "source": [
    "(df.Наценка < 1 ).sum()"
   ]
  },
  {
   "cell_type": "code",
   "execution_count": 10,
   "metadata": {},
   "outputs": [
    {
     "data": {
      "image/png": "[encoded data removed]",
      "text/plain": [
       "<Figure size 432x288 with 2 Axes>"
      ]
     },
     "metadata": {
      "needs_background": "light"
     },
     "output_type": "display_data"
    }
   ],
   "source": [
    "df = pd.DataFrame({\n",
    "    'length': [1.5, 0.5, 1.2, 0.9, 3],\n",
    "    'width': [0.7, 0.2, 0.15, 0.2, 1.1]\n",
    "    }, index=['pig', 'rabbit', 'duck', 'chicken', 'horse'])\n",
    "hist = df.hist(bins=3)"
   ]
  },
  {
   "cell_type": "code",
   "execution_count": 47,
   "metadata": {},
   "outputs": [],
   "source": [
    "import pandas as pd\n",
    "\n",
    "df = pd.read_excel('C:/рушники/123.xlsx', skiprows=7, names=['tg', 'tov', 'ost'])\n",
    "\n",
    "df = df.query('ost > 0')\n",
    "\n",
    "bins = [1, 10, 30, 10000]\n",
    "df['binned'] = pd.cut(df['ost'], bins, right=False)\n",
    "df.drop(columns='ost', inplace=True)\n",
    "result = df.groupby(by=['tg','binned']).count().unstack()\n",
    "\n",
    "result.to_excel('C:/рушники/12.xlsx')\n"
   ]
  },
  {
   "cell_type": "code",
   "execution_count": 37,
   "metadata": {},
   "outputs": [],
   "source": [
    "df['tg'].value_counts().to_excel('C:/рушники/122.xlsx')"
   ]
  },
  {
   "cell_type": "code",
   "execution_count": 45,
   "metadata": {},
   "outputs": [
    {
     "data": {
      "text/html": [
       "<div>\n",
       "<style scoped>\n",
       "    .dataframe tbody tr th:only-of-type {\n",
       "        vertical-align: middle;\n",
       "    }\n",
       "\n",
       "    .dataframe tbody tr th {\n",
       "        vertical-align: top;\n",
       "    }\n",
       "\n",
       "    .dataframe thead tr th {\n",
       "        text-align: left;\n",
       "    }\n",
       "\n",
       "    .dataframe thead tr:last-of-type th {\n",
       "        text-align: right;\n",
       "    }\n",
       "</style>\n",
       "<table border=\"1\" class=\"dataframe\">\n",
       "  <thead>\n",
       "    <tr>\n",
       "      <th></th>\n",
       "      <th colspan=\"12\" halign=\"left\">tov</th>\n",
       "    </tr>\n",
       "    <tr>\n",
       "      <th>tg</th>\n",
       "      <th>БК КОЛЬЦА</th>\n",
       "      <th>БК КОЛЬЦА ОБРУЧ</th>\n",
       "      <th>БК ПЕЧАТКИ</th>\n",
       "      <th>БК ПОДВЕС ДЕКОР</th>\n",
       "      <th>БК ПОДВЕС КУЛЬТ</th>\n",
       "      <th>БК СЕРЬГИ</th>\n",
       "      <th>ИФ КОЛЬЦА</th>\n",
       "      <th>ИФ КОЛЬЦА ОБРУЧ</th>\n",
       "      <th>ИФ ПЕЧАТКИ</th>\n",
       "      <th>ИФ ПОДВЕС ДЕКОР</th>\n",
       "      <th>ИФ ПОДВЕС КУЛЬТ</th>\n",
       "      <th>ИФ СЕРЬГИ</th>\n",
       "    </tr>\n",
       "    <tr>\n",
       "      <th>binned</th>\n",
       "      <th></th>\n",
       "      <th></th>\n",
       "      <th></th>\n",
       "      <th></th>\n",
       "      <th></th>\n",
       "      <th></th>\n",
       "      <th></th>\n",
       "      <th></th>\n",
       "      <th></th>\n",
       "      <th></th>\n",
       "      <th></th>\n",
       "      <th></th>\n",
       "    </tr>\n",
       "  </thead>\n",
       "  <tbody>\n",
       "    <tr>\n",
       "      <th>[1, 10)</th>\n",
       "      <td>162.0</td>\n",
       "      <td>931.0</td>\n",
       "      <td>NaN</td>\n",
       "      <td>109.0</td>\n",
       "      <td>46.0</td>\n",
       "      <td>363.0</td>\n",
       "      <td>2328.0</td>\n",
       "      <td>123.0</td>\n",
       "      <td>29.0</td>\n",
       "      <td>181.0</td>\n",
       "      <td>31.0</td>\n",
       "      <td>428.0</td>\n",
       "    </tr>\n",
       "    <tr>\n",
       "      <th>[10, 30)</th>\n",
       "      <td>37.0</td>\n",
       "      <td>838.0</td>\n",
       "      <td>1.0</td>\n",
       "      <td>13.0</td>\n",
       "      <td>38.0</td>\n",
       "      <td>131.0</td>\n",
       "      <td>1005.0</td>\n",
       "      <td>150.0</td>\n",
       "      <td>77.0</td>\n",
       "      <td>58.0</td>\n",
       "      <td>4.0</td>\n",
       "      <td>99.0</td>\n",
       "    </tr>\n",
       "    <tr>\n",
       "      <th>[30, 10000)</th>\n",
       "      <td>362.0</td>\n",
       "      <td>1162.0</td>\n",
       "      <td>107.0</td>\n",
       "      <td>175.0</td>\n",
       "      <td>461.0</td>\n",
       "      <td>475.0</td>\n",
       "      <td>1797.0</td>\n",
       "      <td>268.0</td>\n",
       "      <td>174.0</td>\n",
       "      <td>540.0</td>\n",
       "      <td>142.0</td>\n",
       "      <td>745.0</td>\n",
       "    </tr>\n",
       "  </tbody>\n",
       "</table>\n",
       "</div>"
      ],
      "text/plain": [
       "                  tov                                             \\\n",
       "tg          БК КОЛЬЦА БК КОЛЬЦА ОБРУЧ БК ПЕЧАТКИ БК ПОДВЕС ДЕКОР   \n",
       "binned                                                             \n",
       "[1, 10)         162.0           931.0        NaN           109.0   \n",
       "[10, 30)         37.0           838.0        1.0            13.0   \n",
       "[30, 10000)     362.0          1162.0      107.0           175.0   \n",
       "\n",
       "                                                                            \\\n",
       "tg          БК ПОДВЕС КУЛЬТ БК СЕРЬГИ ИФ КОЛЬЦА ИФ КОЛЬЦА ОБРУЧ ИФ ПЕЧАТКИ   \n",
       "binned                                                                       \n",
       "[1, 10)                46.0     363.0    2328.0           123.0       29.0   \n",
       "[10, 30)               38.0     131.0    1005.0           150.0       77.0   \n",
       "[30, 10000)           461.0     475.0    1797.0           268.0      174.0   \n",
       "\n",
       "                                                       \n",
       "tg          ИФ ПОДВЕС ДЕКОР ИФ ПОДВЕС КУЛЬТ ИФ СЕРЬГИ  \n",
       "binned                                                 \n",
       "[1, 10)               181.0            31.0     428.0  \n",
       "[10, 30)               58.0             4.0      99.0  \n",
       "[30, 10000)           540.0           142.0     745.0  "
      ]
     },
     "execution_count": 45,
     "metadata": {},
     "output_type": "execute_result"
    }
   ],
   "source": [
    "df.groupby(by=['binned', 'tg']).count().unstack()"
   ]
  },
  {
   "cell_type": "code",
   "execution_count": null,
   "metadata": {},
   "outputs": [],
   "source": []
  }
 ],
 "metadata": {
  "kernelspec": {
   "display_name": "Python 3",
   "language": "python",
   "name": "python3"
  },
  "language_info": {
   "codemirror_mode": {
    "name": "ipython",
    "version": 3
   },
   "file_extension": ".py",
   "mimetype": "text/x-python",
   "name": "python",
   "nbconvert_exporter": "python",
   "pygments_lexer": "ipython3",
   "version": "3.7.0"
  }
 },
 "nbformat": 4,
 "nbformat_minor": 2
}
