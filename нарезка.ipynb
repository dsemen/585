{
 "cells": [
  {
   "cell_type": "code",
   "execution_count": 21,
   "metadata": {},
   "outputs": [],
   "source": [
    "import pandas as pd\n",
    "import numpy as np\n",
    "path = 'C:/анаконда/Book1.xlsx'\n",
    "df = pd.read_excel(path,usecols=[3, 10, 14, 15, 17], skiprows=4, names=['prih','amount','sklad', 'hand', 'tn'])\n",
    "df = df[(df.tn.isin(['ИФ', 'БК', 'СИ'])) & (df.sklad == 'Центральный склад ЛенИЗ') & (df.hand != 'Да')]\n",
    "df.drop(columns=['sklad', 'hand', 'tn'], inplace=True)\n",
    "\n",
    "# делим на группы по 3000\n",
    "bins = int(np.ceil(df.amount.sum()/3500))\n",
    "label = list(range(0,bins))\n",
    "df['group'] = pd.cut(df.amount.cumsum(), bins=bins, labels=label)\n",
    "\n",
    "# рубим на куски по группам\n",
    "def create_line(list):\n",
    "    return \"\".join([\"|\" + item if item != list[0] else list[0] for item in list])\n",
    "\n",
    "pd.DataFrame(np.array([create_line(df.prih[df.group == x].tolist()) for x in label])).to_excel('C:/рушники/cutted1.xlsx')\n"
   ]
  },
  {
   "cell_type": "code",
   "execution_count": 24,
   "metadata": {},
   "outputs": [],
   "source": [
    "# Движуха в заборник\n",
    "import random\n",
    "import pandas as pd\n",
    "\n",
    "prih = pd.read_csv(r'C:\\Users\\Dotsenko.Semen\\Documents\\ItemMoves.csv', delimiter=';', encoding='cp1251')\n",
    "del prih['№ Поставщика']\n",
    "\n",
    "name = 'C:/рушники/' + str(random.randrange(5000,10000)) + '.xlsx'\n",
    "prih.to_excel(name, sheet_name='Движение товара', index=False)"
   ]
  },
  {
   "cell_type": "code",
   "execution_count": null,
   "metadata": {},
   "outputs": [],
   "source": []
  },
  {
   "cell_type": "code",
   "execution_count": null,
   "metadata": {},
   "outputs": [],
   "source": []
  },
  {
   "cell_type": "code",
   "execution_count": null,
   "metadata": {},
   "outputs": [],
   "source": []
  }
 ],
 "metadata": {
  "kernelspec": {
   "display_name": "Python 3",
   "language": "python",
   "name": "python3"
  },
  "language_info": {
   "codemirror_mode": {
    "name": "ipython",
    "version": 3
   },
   "file_extension": ".py",
   "mimetype": "text/x-python",
   "name": "python",
   "nbconvert_exporter": "python",
   "pygments_lexer": "ipython3",
   "version": "3.7.0"
  }
 },
 "nbformat": 4,
 "nbformat_minor": 2
}
