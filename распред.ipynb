{
 "cells": [
  {
   "cell_type": "code",
   "execution_count": null,
   "metadata": {},
   "outputs": [],
   "source": [
    "# Распред обручей\n",
    "import pandas as pd\n",
    "import numpy as np\n",
    "import random\n",
    "\n",
    "shops = pd.DataFrame({'номер': [4918,5122,5123,3435,4724,4606,4850,3851,3522,4389,4812,4636,4919,4910,3682,3990,4836,3027,4882,4466,3631,5038,3454,4633,5047,5041,3585,5072,4718,3584,4916,3974,4468,4455,5066,5016,3339,4995,4939,4997,526,3758,4839,5040,4996,4727,5068,5052,4968,4971,3197,3005,4410,3615,4573,4654,3869,3768,5053,570,5051,3231,3222,3421,5056,5065,5059,4949,3799,4936,4443,5061,5064,3437,4408,4660,5063,5017,3093,4979,4771,4944,3862,5049,4599,4954,3099,4895,5074,3084,779,3532,284,4674,5062,4784,292,4695,305,281,4945,4967,80,5069,4941,4365,5035,3788,5057,3908,487,788,3129,4397,3907,3290,4745,3582,4966,3790,3765,5043,5031,4982,3276,3809,577,3981,4904,4658,4465,3368,3927,3241,4977,4428,4857,4369,5042,4993,4989,4427,787,3249,506,4423,4540,3477,3968,581,5054,5060,3605,4642,96,3980,3363,3078,266,3649,4974,336,4373,4616,3509,4670,3733,4898,3740,101,4964,4900,778,3294,4549,457,4688,3519,3311,4976,3325,3801,3338,3202,5019,5012,4548,3491,3573,5039,3757,4768,3613,5070,4985,586,4339,3965,5013,3167,5058,3622,4646,5067,4988,3426,5044,3574,3393,4828,3187,4529,3217,4527,4801,3618,3834,185,3831,3973,4597,4625,3384,3954,3860,4659,4831,4951,4983,4620,3412,496,252,3153,5033,4779,3046,3654,5050,3333,4691,4569,4395,3355,4709,3870,4425,3411,3235,4937,4833,3564,3301,3630,3160,4568,4338,3714,4713,4570,3566,4576,4789,3646,5018,4558,3753,4953,169,4702,5023,91,3259,3347,3394,4990,3706,3224,4592,4891,523,3065,3068,4562,250,3516,4942,4621,4822,4473,4356,568,3216,4501,3657,4703,3271,4567,4513,4972,4404,777,3098,3162,4899,3013,3117,1067,556,4436,5071,4487,269,4742,4534,4994,3315,4544,4958,3754,3157,239,4892,212,4353,3354,3260,4666,3220,3580,4464,4893,3543,4533,4352,3572,4661,4896,4657,4388,4572,4526,4623,4617,4668,3430,3895,3440,756,4571,4829,108,574,479,4986,4477,3487,4729,334,446,4693,4460,4360,4348,4341,4520,4383,3283,3493,4535,3963,3382,3507,306,3841,551,4399,4591,3414,5032,3598,4458,157,244,525,3073,4845,4446,4970,4500,220,4798,4679,3466,323,4950,4451,4510,4760,4448,4447,789,3484,3053,4511,5011,3340,92,1066,3687,3625,4440,3955,4578,3429,3858,3680,3256,4401,3617,4514,558,3209,4947,4539,707,3891,4965,4475,4315,3342,3232,4463,3822,3236,3204,4992,3624,5045,3982,4602,4975,3409,4722,3713,3925,3268,3356,4419,4335,4415,3786,3151,3838,4575,4499,4560,3785,4589,3976,4351,3341,4519,3405,5010,4973,4367,4618,4547,4543,4728,3810,4692,4901,4433,4720,3350,4471,4452,4467,4398,4827,561,49,4902,3295,3736,3616,4835,4559,4557,4349,4952,4804,4375,4435,4610,3583,4528,4502,4611,4359,4459,5009,4362,4509,4962,4450,4441,3281,4694,4815,4817,3825,3371,4687,4644,4457,4805,3988,4431,4430,3651,3926,4350,4491,4978,3533,161,4723,4897,4565,4438,3345,4762,4434,5021,4686,5037,4719,4956,4454,4538,4830,4645,3565,3597,4619,3878,4856,4726,4444,4483,4716,3951,4648,3964,4590,4715,4628,3596,347,4478,5055,798,4673,4391,4429,4871,4504,3537,86,3707,3043,4980,3520,3894,3634,3611,4331,4420,4480,4650,4601,4824,3408,4753,3293,4462,3712,275,4517,3769,3835,4507,4604,4505,3716,4682,3741,4343,4484,4432,3456,4453,765,4624,3570,3978,3418,3685,4759,4769,4525,4522,5036,4714,3607,4662,3689,474,3417,4903,3269,390,270,4810,4581,4541,4479,4752,4361,3816,4530,3847,3871,4707,4744,772,4542,3608,4476,4832,5048,3794,4770,4486,3467,3180,4948,4704,5034,4537,3710,4981,4472,3247,4469,4372,4523,4344,4564,4987,3289,4940,5030,4556,4740,4984,4445,4772,4546,4710,3812,781,3085,5029,3459,4838,4521,735,4524,5022,3550,3621,4818,4684,4439,4712,4345,3594,4793,3366,3909,3892,4585,4316,4774,4426,4663,4737,158,396,356,4320,3693,3972,3258,3052,4536,3635,4946,4328,276,3647,3054,99,3650,3623,4943,5073]}, \n",
    "                     dtype='int')\n",
    "\n",
    "# достаем Тпг+размер c количеством которые нужно считать из накладной \n",
    "tmp_df = pd.read_excel('C:/рушники/6859.xlsx', dtype='str')\n",
    "tmp_df['tpg'] = tmp_df['Товарная подгруппа'].str.cat(tmp_df['Размер'], sep=\"_\")\n",
    "\n",
    "#del tmp_df['№ Поставщика']\n",
    "tmp_df['tpg'] = tmp_df['tpg'].str.replace('.', ',')# меняем точки на запятые\n",
    "tmp_df.sort_values(by=['tpg'], inplace=True)\n",
    "tpg = tmp_df['tpg'].unique().tolist()\n",
    "tpg.sort()\n",
    "tpg_dic = tmp_df['tpg'].value_counts().to_dict()\n",
    "\n",
    "# Загружаем нормы и остатки по нужным тпг чтобы посчитать дефицит\n",
    "n_link =  r'\\\\gold585.int\\uk\\Общее хранилище файлов\\Коммерческий департамент\\Отдел закупки\\ЛИЧНЫЕ\\Семен\\нужное\\матрица обручей.xlsx'\n",
    "\n",
    "norms = pd.read_excel(n_link, sheet_name='гладкая_плоская размеры_тпг', skiprows=3, usecols=['номер', *tpg]) \n",
    "stock = pd.read_excel(r'C:\\Остатки\\обручи.xlsx', usecols=['КодСклада','Товарная подгруппа','Размер'], dtype='str')\n",
    "\n",
    "stock['Размер'] = stock['Размер'].str.replace('.', ',')\n",
    "stock['tpg'] = stock['Товарная подгруппа'].str.cat(stock['Размер'], sep=\"_\")\n",
    "stock.drop(columns=['Товарная подгруппа','Размер'], inplace=True)\n",
    "stock = stock[stock['tpg'].isin(tpg)]\n",
    "stock = stock.groupby(by=['КодСклада', 'tpg'])['tpg'].aggregate('count').unstack(fill_value=0.0)\n",
    "stock.reset_index(inplace=True)\n",
    "stock = stock.astype('int')\n",
    "stock.columns.values[0] = 'номер'\n",
    "stock = stock[norms.columns.tolist()]\n",
    "norms = shops.merge(norms, on='номер', how='left')\n",
    "stock = shops.merge(stock, on='номер', how='left').fillna(0)\n",
    "norms.set_index('номер', inplace=True)\n",
    "stock.set_index('номер', inplace=True)\n",
    "\n",
    "demand = norms - stock\n",
    "demand = demand.applymap(lambda num: 0 if num < 0 else num)\n",
    "\n",
    "def raspred_dict(df):\n",
    "    emp = []\n",
    "    cols = df.columns.tolist()\n",
    "    for col in cols:\n",
    "        emp.append(list(np.repeat(df.index.to_numpy(),df[col].values.astype(int))))\n",
    "    return dict(zip(cols, emp))\n",
    "\n",
    "no7171_dict = raspred_dict(demand)\n",
    "\n",
    "\n",
    "\n",
    "def dictu(x):\n",
    "    \n",
    "    if tpg_dic[x] > len(no7171_dict[x]):\n",
    "        over = tpg_dic[x] - len(no7171_dict[x])\n",
    "        no7171_dict[x] = [*no7171_dict[x], *([7171] * over)]\n",
    "        \n",
    "    elif tpg_dic[x] < len(no7171_dict[x]):\n",
    "        no7171_dict[x] = no7171_dict[x][:tpg_dic[x]]\n",
    "        \n",
    "    return no7171_dict[x]\n",
    "\n",
    "lst = [dictu(x) for x in tpg]\n",
    "\n",
    "\n",
    "\n",
    "tmp_df['Период реализации'] = np.array([item for sublist in lst for item in sublist])\n",
    "\n",
    "\n",
    "\n",
    "name = 'C:/рушники/' + str(random.randrange(5000,10000)) + '.xlsx'\n",
    "tmp_df.to_excel(name, sheet_name='Движение товара', index=False)\n",
    "demand.to_excel('C:/рушники/demand.xlsx')"
   ]
  },
  {
   "cell_type": "code",
   "execution_count": 27,
   "metadata": {},
   "outputs": [
    {
     "data": {
      "application/vnd.jupyter.widget-view+json": {
       "model_id": "d7d45f0b5a4f48f9a664eeebdc4972fd",
       "version_major": 2,
       "version_minor": 0
      },
      "text/plain": [
       "HBox(children=(RadioButtons(description='ТН:', options=('ИФ', 'БК'), value='ИФ'), RadioButtons(description='Ди…"
      ]
     },
     "metadata": {},
     "output_type": "display_data"
    }
   ],
   "source": [
    "# Распред букв 0\n",
    "\n",
    "import ipywidgets as widgets\n",
    "\n",
    "tn = widgets.RadioButtons(\n",
    "    options=['ИФ', 'БК'],\n",
    "    description='ТН:',\n",
    "    disabled=False\n",
    ")\n",
    "\n",
    "design = widgets.RadioButtons(\n",
    "    options=['Буквы', 'Знаки'],\n",
    "    description='Дизайн:',\n",
    "    disabled=False\n",
    ")\n",
    "\n",
    "widgets.HBox([tn, design])\n",
    "\n"
   ]
  },
  {
   "cell_type": "code",
   "execution_count": 12,
   "metadata": {},
   "outputs": [],
   "source": [
    "df = pd.read_excel('C:/рушники/5712.xlsx')"
   ]
  },
  {
   "cell_type": "code",
   "execution_count": 14,
   "metadata": {},
   "outputs": [],
   "source": [
    "prih_list = df['Дата расхода'].unique()\n",
    "\n",
    "for x in prih_list:\n",
    "    df[df['Дата расхода'] == x].to_excel(str('C:/рушники/'+ str(x) +'.xlsx'), index=False, sheet_name='Движение товара')"
   ]
  },
  {
   "cell_type": "code",
   "execution_count": 7,
   "metadata": {},
   "outputs": [],
   "source": [
    "# Распред букв\n",
    "import pandas as pd\n",
    "import numpy as np\n",
    "import random\n",
    "\n",
    "# Читаем остатки, нормы накладную, список магов\n",
    "prih = pd.read_excel('C:/рушники/4.xlsx')\n",
    "\n",
    "prih.sort_values(by=['Товар'], inplace=True)\n",
    "\n",
    "prih['Описание 3'] = prih['Описание 3'].str.lower()\n",
    "\n",
    "letters = prih['Описание 3'].unique().tolist()\n",
    "tovs = prih['Товар'].unique().tolist()\n",
    "tovs.sort()\n",
    "\n",
    "stock = pd.read_excel('C:/Остатки/буквыизодиаки.xlsx')\n",
    "stock = stock[stock['ТоварНо'].isin(tovs)]\n",
    "stock['Описание 3'] = stock['Описание 3'].str.lower()\n",
    "\n",
    "\n",
    "#norms = pd.read_excel('C:/Остатки/norm_bz.xlsx', sheet_name='norm_z', index_col= 'Название из NAV', usecols=['Название из NAV', 'sum_bk'])\n",
    "#norm_dict = norms.sum_bk.apply(lambda x: round(x/12)).to_dict()\n",
    "\n",
    "#demand = pd.read_excel('C:/Остатки/буквы.xlsx', sheet_name='иф', skiprows=1, usecols=['Наполняха', 'Код', *letters], index_col='Код')\n",
    "demand = pd.read_excel('C:/Остатки/зодиаки.xlsx', sheet_name='бк', skiprows=1, usecols=['Наполняха', 'Код', *letters], index_col='Код')\n",
    "\n",
    "#создаем словари тов:список магов c остатками, буква: отсортированный по букве и наполняхе список магов\n",
    "stock_dict = dict(zip(tovs,[stock[stock['ТоварНо'] == tov]['КодСклада'].tolist() for tov in tovs]))\n",
    "\n",
    "\n",
    "\n",
    "\n",
    "df = prih.groupby(by=[ 'Товар', 'Описание 3'])['Товар'].count().rename('count')\n",
    "\n",
    "df = df.reset_index()\n",
    "\n",
    "tov_dict = dict(zip(df.Товар.tolist(), df[['Описание 3', 'count']].values.tolist()))\n",
    "\n",
    "letter_dict = dict(zip(letters,[demand[['Наполняха', letter]] for letter in letters]))\n",
    "\n",
    "def get_shoplist(tov):\n",
    "    \"\"\"get shops list sorted by letter demand and shop fill rate two dictionaries needed\"\"\"\n",
    "    letter = tov_dict[tov][0]\n",
    "    lenth = tov_dict[tov][1]\n",
    "    shoplist_full = letter_dict[letter].sort_values(by=[letter, 'Наполняха']).index.tolist()\n",
    "    shoplist = [i for i in shoplist_full if i not in stock_dict[tov]]\n",
    "    shop_len = len(shoplist)\n",
    "    \n",
    "    if shop_len > lenth:\n",
    "        shoplist = shoplist[:lenth]\n",
    "    elif len(shoplist) < lenth:\n",
    "        over = lenth - shop_len\n",
    "        shoplist = [*shoplist,*([7171] * over)]\n",
    "    return shoplist  \n",
    "    \n",
    "def change_demand():\n",
    "    '''recalculates demand in letter_dict'''\n",
    "    \n",
    "lst = [get_shoplist(x) for x in tovs]\n",
    "prih['Период реализации'] = np.array([item for sublist in lst for item in sublist])\n",
    "\n",
    "\n",
    "name = 'C:/рушники/' + str(random.randrange(5000,10000)) + '.xlsx'\n",
    "prih.to_excel(name, sheet_name='Движение товара', index=False)\n",
    "    "
   ]
  },
  {
   "cell_type": "code",
   "execution_count": 3,
   "metadata": {},
   "outputs": [
    {
     "name": "stdout",
     "output_type": "stream",
     "text": [
      "<class 'pandas.core.frame.DataFrame'>\n",
      "Int64Index: 0 entries\n",
      "Data columns (total 5 columns):\n",
      " #   Column               Non-Null Count  Dtype \n",
      "---  ------               --------------  ----- \n",
      " 0   КодСклада            0 non-null      int64 \n",
      " 1   ТоварНо              0 non-null      object\n",
      " 2   ТоварноеНаправление  0 non-null      object\n",
      " 3   Дизайн               0 non-null      object\n",
      " 4   Описание 3           0 non-null      object\n",
      "dtypes: int64(1), object(4)\n",
      "memory usage: 0.0+ bytes\n"
     ]
    }
   ],
   "source": [
    "stock.info()"
   ]
  },
  {
   "cell_type": "code",
   "execution_count": null,
   "metadata": {},
   "outputs": [],
   "source": []
  },
  {
   "cell_type": "code",
   "execution_count": 6,
   "metadata": {},
   "outputs": [],
   "source": [
    "stock = pd.read_excel('C:/Остатки/буквыизодиаки.xlsx')\n",
    "prev_prih = prih[['Период реализации', 'Товар', 'Товарное направление', 'Дизайн','Описание 3']]\n",
    "prev_prih.columns = stock.columns\n",
    "\n",
    "new_stock = pd.concat([stock, prev_prih], ignore_index=True)\n",
    "new_stock.to_excel('C:/Остатки/буквыизодиаки.xlsx', index=False)"
   ]
  },
  {
   "cell_type": "code",
   "execution_count": 45,
   "metadata": {},
   "outputs": [
    {
     "data": {
      "text/plain": [
       "Index(['КодСклада', 'ТоварНо', 'ТоварноеНаправление', 'Дизайн', 'Описание 3'], dtype='object')"
      ]
     },
     "execution_count": 45,
     "metadata": {},
     "output_type": "execute_result"
    }
   ],
   "source": [
    "stock.columns"
   ]
  }
 ],
 "metadata": {
  "kernelspec": {
   "display_name": "Python 3",
   "language": "python",
   "name": "python3"
  },
  "language_info": {
   "codemirror_mode": {
    "name": "ipython",
    "version": 3
   },
   "file_extension": ".py",
   "mimetype": "text/x-python",
   "name": "python",
   "nbconvert_exporter": "python",
   "pygments_lexer": "ipython3",
   "version": "3.7.0"
  }
 },
 "nbformat": 4,
 "nbformat_minor": 2
}
