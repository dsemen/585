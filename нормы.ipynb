{
 "cells": [
  {
   "cell_type": "code",
   "execution_count": 34,
   "metadata": {},
   "outputs": [],
   "source": [
    "import pandas as pd\n",
    "import numpy as np\n"
   ]
  },
  {
   "cell_type": "code",
   "execution_count": 36,
   "metadata": {},
   "outputs": [],
   "source": [
    "# для всех норм по ТПГ нужно объявить эту переменную\n",
    "row_number = pd.read_excel(\n",
    "    r'\\\\gold585.int\\uk\\Общее хранилище файлов\\Коммерческий департамент\\реестр магазинов\\РЕЕСТР МАГАЗИНОВ NEW.xlsm',\n",
    "    sheet_name='НОРМЫ 17.12',skiprows=4,usecols=[5])\n",
    "\n",
    "skip_row = row_number.ЦОК.tolist()\n",
    "skip_row_n = skip_row.index('подгруппа')-1"
   ]
  },
  {
   "cell_type": "code",
   "execution_count": 10,
   "metadata": {},
   "outputs": [],
   "source": [
    "#СЧИТАЕТ КОЛИЧЕСТВО ОТКРЫТЫХ ЗАКРЫТЫХ (всех)\n",
    "\n",
    "# Загружаем нужные столбцы\n",
    "cols = ['Номер из NAV','Адрес магазина','дата планового открытия','статус','ИФ кольца','ИФ КОЛЬЦА ОБРУЧ',\n",
    "        'ИФ печатки','ИФ серьги','ИФ подвес культ','ИФ подвес декор','БК кольца','БК кольца обруч','БК печатки',\n",
    "        'БК серьги','БК подвес культ','БК подвес декор','ИТОГО, нормы в штуках, без накоплений']\n",
    "\n",
    "df = pd.read_excel(\n",
    "    r'\\\\gold585.int\\uk\\Общее хранилище файлов\\Коммерческий департамент\\реестр магазинов\\РЕЕСТР МАГАЗИНОВ NEW.xlsm',\n",
    "    sheet_name='БАЗА',skiprows=2, usecols=cols)\n",
    "\n",
    "# Убираем ненужную инфу\n",
    "df.rename({'ИТОГО, нормы в штуках, без накоплений':\"sum_all\"}, axis=1, inplace=True)\n",
    "df = df[df['sum_all'] > 0]\n",
    "df['статус'] = df.статус.str.lower()\n",
    "df = df[df.статус.isin(['открыт','склад','отгружено'])]\n",
    "df['Номер из NAV'] != 4801 #откроется через год\n",
    "\n",
    "# Добавляем сумму по ИФ\\БК и оставляем этот столбец вместо столбцов с нормами по иф\\бк\n",
    "sum_cols = [x for x in cols if 'ИФ' in x or 'БК' in x ]\n",
    "df['sum_gold'] = df[sum_cols].sum(axis=1)\n",
    "df.drop(axis=1, columns=sum_cols, inplace=True)\n",
    "\n",
    "# Количество открытых и к открытию всего и только по золоту\n",
    "shops_count = pd.DataFrame({\n",
    "    'Магов открыто': [df.sum_all[df.статус =='открыт'].count(), df.sum_gold[(df.sum_gold > 0) & (df.статус =='открыт')].count()],\n",
    "    'Магов к открытию': [df.sum_all[df.статус !='открыт'].count(), df.sum_gold[(df.sum_gold > 0) & (df.статус !='открыт')].count()],\n",
    "    'Итого магов': [df.sum_all.count(),df.sum_gold[df.sum_gold > 0].count()]})\n",
    "\n",
    "# Список новых магов с датами\n",
    "new_shops = df[['Номер из NAV', 'Адрес магазина', 'дата планового открытия']][(df.sum_gold > 0) & (df.статус !='открыт')]\n",
    "new_shops.sort_values('дата планового открытия', inplace=True)\n",
    "\n",
    "# Нормы ИФ/БК по ТПГ\n",
    "norm_all = pd.read_excel(\n",
    "    r'\\\\gold585.int\\uk\\Общее хранилище файлов\\Коммерческий департамент\\реестр магазинов\\РЕЕСТР МАГАЗИНОВ NEW.xlsm',\n",
    "    sheet_name='НОРМЫ 17.12',skiprows=4,nrows=skip_row_n)\n",
    "\n",
    "list = norm_all.columns.tolist()\n",
    "\n",
    "cols = (\n",
    "    [list[list.index('Название из NAV')]] +\n",
    "    list[list.index(1001):list.index(1102)+1] +\n",
    "    list[list.index(1501):list.index(1597)+1]\n",
    ")\n",
    "norm_all = norm_all[cols]\n",
    "gold_shops = df[['Номер из NAV', 'статус']][df.sum_gold > 0]\n",
    "merged = pd.merge(gold_shops, norm_all, left_on='Номер из NAV', right_on='Название из NAV', how = 'left')\n",
    "\n",
    "del merged['Название из NAV'], merged['Номер из NAV']\n",
    "\n",
    "merged = merged.groupby(by='статус').sum()\n",
    "merged = merged.T\n",
    "merged['sum_all'] = merged.sum(axis=1)\n",
    "merged = merged[['открыт', 'sum_all']]\n",
    "\n",
    "# СОХРАНЯЕМ ВСЕ В 1 ФАЙЛ\n",
    "\n",
    "with pd.ExcelWriter (\n",
    "    r'\\\\gold585.int\\uk\\Общее хранилище файлов\\Коммерческий департамент\\Отдел закупки\\ЛИЧНЫЕ\\Семен\\нужное\\для_новые_нормы.xlsx'\n",
    ") as writer:\n",
    "    shops_count.to_excel(writer, sheet_name='количество')\n",
    "    new_shops.to_excel(writer, sheet_name='новые_маги', index=False)\n",
    "    merged.to_excel(writer, sheet_name='новые_нормы')"
   ]
  },
  {
   "cell_type": "code",
   "execution_count": 14,
   "metadata": {},
   "outputs": [],
   "source": [
    "#ДОСТАЕТ НОРМЫ ПО БУКВАМ И ЗОДИАКАМ \n",
    "\n",
    "# Читаем реестр магов\n",
    "norm = pd.read_excel(\n",
    "    r'\\\\gold585.int\\uk\\Общее хранилище файлов\\Коммерческий департамент\\реестр магазинов\\РЕЕСТР МАГАЗИНОВ NEW.xlsm',\n",
    "    sheet_name='НОРМЫ 17.12', skiprows=4, nrows=skip_row_n)\n",
    "\n",
    "norm.set_index('Название из NAV',inplace=True)\n",
    "\n",
    "b_columns = [1088, 1089, 1090, 1586, 1587, 1588]\n",
    "z_columns = [1091, 1092, 1093, 1589, 1590, 1591]\n",
    "\n",
    "norm_b = norm[b_columns]\n",
    "norm_z = norm[z_columns]\n",
    "\n",
    "norm_b = norm_b.assign(sum_if = norm_b[1088] + norm_b[1089] + norm_b[1090],\n",
    "              sum_bk = norm_b[1586] + norm_b[1587] + norm_b[1588])\n",
    "\n",
    "norm_z = norm_z.assign(sum_if1 = norm_z[1091] + norm_z[1092] + norm_z[1093],\n",
    "              sum_bk1 = norm_z[1589] + norm_z[1590] + norm_z[1591])\n",
    "\n",
    "norm_z = norm_z[norm_z.columns[[0,1,2,6,3,4,5,7]]]\n",
    "\n",
    "with pd.ExcelWriter (r'C:\\Остатки\\norm_bz.xlsx') as writer:\n",
    "    norm_b.to_excel(writer, sheet_name='norm_b')\n",
    "    norm_z.to_excel(writer, sheet_name='norm_z')"
   ]
  },
  {
   "cell_type": "code",
   "execution_count": 37,
   "metadata": {},
   "outputs": [],
   "source": [
    "#ВЫДАЕТ СПИСОК АКТУАЛЬНЫХ МАГОВ ИФ\\БК С НОРМАМИ ПО ТГ И ДАТЫ ОТКРЫТИЯ\n",
    "\n",
    "#выгружаем датафрэйм с актуальными нормами ИФ БК из реестра магов \n",
    "cols_df = ['Номер из NAV', 'Адрес магазина', 'дата планового открытия','статус', 'ИФ кольца', 'ИФ КОЛЬЦА ОБРУЧ', 'ИФ печатки', 'ИФ серьги', \n",
    "        'ИФ подвес культ', 'ИФ подвес декор', 'БК кольца', 'БК кольца обруч', 'БК печатки', 'БК серьги', \n",
    "        'БК подвес культ', 'БК подвес декор']\n",
    "      \n",
    "df = pd.read_excel(\n",
    "    r'\\\\gold585.int\\uk\\Общее хранилище файлов\\Коммерческий департамент\\реестр магазинов\\РЕЕСТР МАГАЗИНОВ NEW.xlsm',\n",
    "    sheet_name='БАЗА',skiprows=2, usecols=cols_df)\n",
    "\n",
    "#выбираем открытые маги с суммой норм по иф/бк больше нуля\n",
    "df = df[df.статус.str.contains('откр|отгр|склад', na=False, case=False)]\n",
    "df['сумма'] = df.iloc[:,3:].sum(axis=1)\n",
    "df = df[df['сумма'] > 0]\n",
    "df = df[df['Номер из NAV'] != 3323]# Тамбов носовская\n",
    "\n",
    "\n",
    "all_shops = df.drop(columns=['статус','сумма','дата планового открытия'])\n",
    "all_shops = all_shops.rename(columns={'Номер из NAV':'Код'})\n",
    "all_shops['Код'] = all_shops['Код'].astype(np.int64)\n",
    "\n",
    "# делим на два отдельных иф и бк\n",
    "cols = all_shops.columns.tolist()\n",
    "shops_if = all_shops[[*cols[:5],cols[7],cols[6],cols[5]]]\n",
    "shops_bk = all_shops[[*cols[:2], *cols[8:11], cols[13],cols[12],cols[11]]]\n",
    "\n",
    "#выгружаем из файла \"наполняемость\" актуальную структуру магов иф/бк, добавляет туда нормы и новые маги из датафрэйма выше\n",
    "shops_if_list = pd.read_excel(\n",
    "    r'\\\\gold585.int\\uk\\Общее хранилище файлов\\Коммерческий департамент\\Отдел закупки\\ЛИЧНЫЕ\\Семен\\наполняемость с 10012019.xlsx',\n",
    "    sheet_name='ИФ',skiprows=3, usecols=[2],keep_default_na=False)\n",
    "\n",
    "shops_bk_list = pd.read_excel(\n",
    "    r'\\\\gold585.int\\uk\\Общее хранилище файлов\\Коммерческий департамент\\Отдел закупки\\ЛИЧНЫЕ\\Семен\\наполняемость с 10012019.xlsx',\n",
    "    sheet_name='БК',skiprows=3, usecols=[2],keep_default_na=False)\n",
    "\n",
    "# список новых магов которые надо добавить\n",
    "add_to_if = pd.DataFrame({'Код':[x for x in shops_if['Код'].tolist() if x not in shops_if_list['Код'].tolist()]})\n",
    "add_to_bk = pd.DataFrame({'Код':[x for x in shops_bk['Код'].tolist() if x not in shops_bk_list['Код'].tolist()]})\n",
    "\n",
    "# добавляем новые маги в структуру\n",
    "shops_if_list = shops_if_list.append(add_to_if, sort=False)\n",
    "shops_bk_list = shops_bk_list.append(add_to_bk, sort=False)\n",
    "\n",
    "#соединяем \"структуру\" и нормы\n",
    "shops_if = pd.merge(shops_if_list,shops_if,how='left',on='Код')\n",
    "shops_bk = pd.merge(shops_bk_list,shops_bk,how='left',on='Код')\n",
    "\n",
    "\n",
    "#удаляем индекс и сохраняем на отдельные вкладки\n",
    "shops_if.set_index('Код', drop=True,inplace=True)\n",
    "shops_bk.set_index('Код', drop=True,inplace=True)\n",
    "\n",
    "#создаем датафрейм из магов с датами открытия последние 90 дней\n",
    "from datetime import date, timedelta\n",
    "\n",
    "three_month_ago = date.today() - timedelta(90)\n",
    "df['дата планового открытия'] = df['дата планового открытия'].apply(lambda x:x.date())#чтобы ошибка не выпадала о формате\n",
    "dates = df[['Номер из NAV', 'дата планового открытия']][df['дата планового открытия'] > three_month_ago]\n",
    "dates.set_index('Номер из NAV', drop=True,inplace=True)\n",
    "\n",
    "#сохраняем все в эксель\n",
    "with pd.ExcelWriter (\n",
    "    r'\\\\gold585.int\\uk\\Общее хранилище файлов\\Коммерческий департамент\\Отдел закупки\\ЛИЧНЫЕ\\Семен\\актуальные маги.xlsx'\n",
    ") as writer:\n",
    "    shops_if.to_excel(writer, sheet_name='ИФ')\n",
    "    shops_bk.to_excel(writer, sheet_name='БК')\n",
    "    dates.to_excel(writer, sheet_name='даты')"
   ]
  },
  {
   "cell_type": "code",
   "execution_count": 33,
   "metadata": {},
   "outputs": [
    {
     "ename": "NameError",
     "evalue": "name 'pd' is not defined",
     "output_type": "error",
     "traceback": [
      "\u001b[1;31m---------------------------------------------------------------------------\u001b[0m",
      "\u001b[1;31mNameError\u001b[0m                                 Traceback (most recent call last)",
      "\u001b[1;32m<ipython-input-33-9305f11b6e2b>\u001b[0m in \u001b[0;36m<module>\u001b[1;34m()\u001b[0m\n\u001b[0;32m      2\u001b[0m \u001b[1;33m\u001b[0m\u001b[0m\n\u001b[0;32m      3\u001b[0m \u001b[1;31m#читает файл с реестром\u001b[0m\u001b[1;33m\u001b[0m\u001b[1;33m\u001b[0m\u001b[0m\n\u001b[1;32m----> 4\u001b[1;33m df = pd.read_excel(\n\u001b[0m\u001b[0;32m      5\u001b[0m     \u001b[1;34mr'\\\\gold585.int\\uk\\Общее хранилище файлов\\Коммерческий департамент\\реестр магазинов\\РЕЕСТР МАГАЗИНОВ NEW.xlsm'\u001b[0m\u001b[1;33m,\u001b[0m\u001b[1;33m\u001b[0m\u001b[0m\n\u001b[0;32m      6\u001b[0m     sheet_name='БАЗА',skiprows=2)\n",
      "\u001b[1;31mNameError\u001b[0m: name 'pd' is not defined"
     ]
    }
   ],
   "source": [
    "# СПИСОК НОРМ ПО ТГ\n",
    "\n",
    "#читает файл с реестром\n",
    "df = pd.read_excel(\n",
    "    r'\\\\gold585.int\\uk\\Общее хранилище файлов\\Коммерческий департамент\\реестр магазинов\\РЕЕСТР МАГАЗИНОВ NEW.xlsm',\n",
    "    sheet_name='БАЗА',skiprows=2)\n",
    "\n",
    "#вынимает нужные две строки и сохраняет\n",
    "rep_tn = df.iloc[0:1,28:74]\n",
    "rep_tn.to_excel(\n",
    "    r'\\\\gold585.int\\uk\\Общее хранилище файлов\\Коммерческий департамент\\Отдел закупки\\ЛИЧНЫЕ\\Татьяна ИФ.БК\\РЕЙТИНГИ\\Рейтинг ТГ и ТН\\123.xlsx',\n",
    "index=False)"
   ]
  },
  {
   "cell_type": "code",
   "execution_count": 3,
   "metadata": {},
   "outputs": [],
   "source": [
    "#СЧИТАЕТ КОЛИЧЕСТВО МАГАЗОВ 3 МЕСЯЦА ДО СЕГОДНЯ И ПОСЛЕ\n",
    "df = pd.read_excel(\n",
    "    r'\\\\gold585.int\\uk\\Общее хранилище файлов\\Коммерческий департамент\\реестр магазинов\\РЕЕСТР МАГАЗИНОВ NEW.xlsm',\n",
    "    sheet_name='БАЗА',skiprows=2, usecols=([2, 3, 6, 18] + list(range(28, 41))), parse_dates=[6] )\n",
    "\n",
    "# выбираем маги с нужным статусом, с нормами по тн больше нуля \n",
    "df['статус'] = df.статус.str.lower()\n",
    "df = df[df.статус.isin(['открыт','склад','отгружено'])]\n",
    "df[['дата планового открытия']] = df['дата планового открытия'].fillna(df['дата планового открытия'].min())\n",
    "df['sum'] = df.iloc[ : , 5:].sum(axis=1)\n",
    "df = df[df['sum']>0]\n"
   ]
  },
  {
   "cell_type": "code",
   "execution_count": 5,
   "metadata": {},
   "outputs": [
    {
     "name": "stdout",
     "output_type": "stream",
     "text": [
      "<class 'pandas.core.frame.DataFrame'>\n",
      "Int64Index: 955 entries, 1 to 1846\n",
      "Data columns (total 18 columns):\n",
      "Номер из NAV               955 non-null float64\n",
      "Адрес магазина             955 non-null object\n",
      "дата планового открытия    955 non-null datetime64[ns]\n",
      "статус                     955 non-null object\n",
      "ИФ кольца                  955 non-null float64\n",
      "ИФ КОЛЬЦА ОБРУЧ            955 non-null float64\n",
      "ИФ печатки                 955 non-null float64\n",
      "ИФ серьги                  955 non-null float64\n",
      "ИФ подвес культ            955 non-null float64\n",
      "ИФ подвес декор            955 non-null float64\n",
      "ИФ аксессуары              955 non-null float64\n",
      "БК кольца                  955 non-null float64\n",
      "БК кольца обруч            955 non-null float64\n",
      "БК печатки                 955 non-null float64\n",
      "БК серьги                  955 non-null float64\n",
      "БК подвес культ            955 non-null float64\n",
      "БК подвес декор            955 non-null float64\n",
      "sum                        955 non-null float64\n",
      "dtypes: datetime64[ns](1), float64(15), object(2)\n",
      "memory usage: 141.8+ KB\n"
     ]
    }
   ],
   "source": [
    "df.info()"
   ]
  },
  {
   "cell_type": "code",
   "execution_count": null,
   "metadata": {},
   "outputs": [],
   "source": [
    "from ipywidgets import DatePicker\n",
    "DPicker = DatePicker()\n",
    "display(DPicker)\n",
    "\n",
    "def date_value(date):\n",
    "    \n",
    "    return date\n",
    "\n",
    "DPicker.observe(date_value, names='value')\n",
    "print(date)"
   ]
  },
  {
   "cell_type": "code",
   "execution_count": 4,
   "metadata": {},
   "outputs": [
    {
     "ename": "TypeError",
     "evalue": "observe() missing 1 required positional argument: 'handler'",
     "output_type": "error",
     "traceback": [
      "\u001b[1;31m---------------------------------------------------------------------------\u001b[0m",
      "\u001b[1;31mTypeError\u001b[0m                                 Traceback (most recent call last)",
      "\u001b[1;32m<ipython-input-4-4335d1719b34>\u001b[0m in \u001b[0;36m<module>\u001b[1;34m()\u001b[0m\n\u001b[1;32m----> 1\u001b[1;33m \u001b[0mdPicker\u001b[0m\u001b[1;33m.\u001b[0m\u001b[0mobserve\u001b[0m\u001b[1;33m(\u001b[0m\u001b[1;33m)\u001b[0m\u001b[1;33m\u001b[0m\u001b[0m\n\u001b[0m",
      "\u001b[1;31mTypeError\u001b[0m: observe() missing 1 required positional argument: 'handler'"
     ]
    }
   ],
   "source": [
    "dPicker.observe()"
   ]
  },
  {
   "cell_type": "code",
   "execution_count": 1,
   "metadata": {},
   "outputs": [
    {
     "data": {
      "application/vnd.jupyter.widget-view+json": {
       "model_id": "ba28092a0ab24cc2b3ad78a73dbd4626",
       "version_major": 2,
       "version_minor": 0
      },
      "text/plain": [
       "DatePicker(value=None)"
      ]
     },
     "metadata": {},
     "output_type": "display_data"
    },
    {
     "name": "stdout",
     "output_type": "stream",
     "text": [
      "None -> 2024-07-02\n"
     ]
    }
   ],
   "source": [
    "from IPython.display import display\n",
    "from ipywidgets import DatePicker\n",
    "\n",
    "dPicker = DatePicker()\n",
    "\n",
    "def on_button_clicked(b):\n",
    "    print(b['old'], '->', b['new'])\n",
    "\n",
    "dPicker.observe(on_button_clicked, names='value')\n",
    "display(dPicker)"
   ]
  },
  {
   "cell_type": "code",
   "execution_count": 23,
   "metadata": {},
   "outputs": [
    {
     "data": {
      "application/vnd.jupyter.widget-view+json": {
       "model_id": "285ec6d6ab26472a8f27ca7dfa338c62",
       "version_major": 2,
       "version_minor": 0
      },
      "text/plain": [
       "DatePicker(value=None)"
      ]
     },
     "metadata": {},
     "output_type": "display_data"
    },
    {
     "name": "stdout",
     "output_type": "stream",
     "text": [
      "2017-05-26\n"
     ]
    }
   ],
   "source": [
    "from IPython.display import display\n",
    "from ipywidgets import DatePicker\n",
    "D = DatePicker()\n",
    "display(D)\n",
    "def e(change):\n",
    "    date = change.new\n",
    "D.observe(e,'value')\n",
    "print(date)"
   ]
  },
  {
   "cell_type": "code",
   "execution_count": 20,
   "metadata": {},
   "outputs": [
    {
     "data": {
      "text/plain": [
       "datetime.date(2017, 5, 26)"
      ]
     },
     "execution_count": 20,
     "metadata": {},
     "output_type": "execute_result"
    }
   ],
   "source": [
    "\n",
    "date"
   ]
  },
  {
   "cell_type": "code",
   "execution_count": 10,
   "metadata": {},
   "outputs": [
    {
     "name": "stdout",
     "output_type": "stream",
     "text": [
      "None\n"
     ]
    }
   ],
   "source": [
    "print(date)"
   ]
  },
  {
   "cell_type": "code",
   "execution_count": 8,
   "metadata": {},
   "outputs": [
    {
     "data": {
      "text/html": [
       "<div>\n",
       "<style scoped>\n",
       "    .dataframe tbody tr th:only-of-type {\n",
       "        vertical-align: middle;\n",
       "    }\n",
       "\n",
       "    .dataframe tbody tr th {\n",
       "        vertical-align: top;\n",
       "    }\n",
       "\n",
       "    .dataframe thead th {\n",
       "        text-align: right;\n",
       "    }\n",
       "</style>\n",
       "<table border=\"1\" class=\"dataframe\">\n",
       "  <thead>\n",
       "    <tr style=\"text-align: right;\">\n",
       "      <th></th>\n",
       "      <th>дата планового открытия</th>\n",
       "    </tr>\n",
       "  </thead>\n",
       "  <tbody>\n",
       "    <tr>\n",
       "      <th>952</th>\n",
       "      <td>2020-01-18</td>\n",
       "    </tr>\n",
       "    <tr>\n",
       "      <th>953</th>\n",
       "      <td>2020-01-15</td>\n",
       "    </tr>\n",
       "    <tr>\n",
       "      <th>954</th>\n",
       "      <td>2020-02-01</td>\n",
       "    </tr>\n",
       "    <tr>\n",
       "      <th>955</th>\n",
       "      <td>2020-02-01</td>\n",
       "    </tr>\n",
       "    <tr>\n",
       "      <th>956</th>\n",
       "      <td>2020-02-01</td>\n",
       "    </tr>\n",
       "    <tr>\n",
       "      <th>957</th>\n",
       "      <td>2020-02-01</td>\n",
       "    </tr>\n",
       "    <tr>\n",
       "      <th>958</th>\n",
       "      <td>2020-02-01</td>\n",
       "    </tr>\n",
       "    <tr>\n",
       "      <th>959</th>\n",
       "      <td>2020-02-01</td>\n",
       "    </tr>\n",
       "    <tr>\n",
       "      <th>960</th>\n",
       "      <td>2020-02-08</td>\n",
       "    </tr>\n",
       "    <tr>\n",
       "      <th>962</th>\n",
       "      <td>2020-02-14</td>\n",
       "    </tr>\n",
       "    <tr>\n",
       "      <th>963</th>\n",
       "      <td>2020-02-15</td>\n",
       "    </tr>\n",
       "    <tr>\n",
       "      <th>964</th>\n",
       "      <td>2020-02-15</td>\n",
       "    </tr>\n",
       "    <tr>\n",
       "      <th>965</th>\n",
       "      <td>2020-02-22</td>\n",
       "    </tr>\n",
       "    <tr>\n",
       "      <th>966</th>\n",
       "      <td>2020-02-21</td>\n",
       "    </tr>\n",
       "    <tr>\n",
       "      <th>967</th>\n",
       "      <td>2020-02-23</td>\n",
       "    </tr>\n",
       "    <tr>\n",
       "      <th>968</th>\n",
       "      <td>2020-02-29</td>\n",
       "    </tr>\n",
       "    <tr>\n",
       "      <th>969</th>\n",
       "      <td>2020-02-28</td>\n",
       "    </tr>\n",
       "    <tr>\n",
       "      <th>970</th>\n",
       "      <td>2020-03-06</td>\n",
       "    </tr>\n",
       "    <tr>\n",
       "      <th>971</th>\n",
       "      <td>2020-03-08</td>\n",
       "    </tr>\n",
       "    <tr>\n",
       "      <th>972</th>\n",
       "      <td>2020-03-05</td>\n",
       "    </tr>\n",
       "    <tr>\n",
       "      <th>973</th>\n",
       "      <td>2020-03-04</td>\n",
       "    </tr>\n",
       "    <tr>\n",
       "      <th>974</th>\n",
       "      <td>2020-03-03</td>\n",
       "    </tr>\n",
       "    <tr>\n",
       "      <th>975</th>\n",
       "      <td>2020-03-06</td>\n",
       "    </tr>\n",
       "    <tr>\n",
       "      <th>976</th>\n",
       "      <td>2020-03-02</td>\n",
       "    </tr>\n",
       "    <tr>\n",
       "      <th>977</th>\n",
       "      <td>2020-03-17</td>\n",
       "    </tr>\n",
       "    <tr>\n",
       "      <th>1831</th>\n",
       "      <td>2021-02-20</td>\n",
       "    </tr>\n",
       "    <tr>\n",
       "      <th>1832</th>\n",
       "      <td>2020-04-30</td>\n",
       "    </tr>\n",
       "    <tr>\n",
       "      <th>1833</th>\n",
       "      <td>2020-04-30</td>\n",
       "    </tr>\n",
       "    <tr>\n",
       "      <th>1834</th>\n",
       "      <td>2020-04-30</td>\n",
       "    </tr>\n",
       "    <tr>\n",
       "      <th>1835</th>\n",
       "      <td>2020-05-29</td>\n",
       "    </tr>\n",
       "    <tr>\n",
       "      <th>1836</th>\n",
       "      <td>2020-04-30</td>\n",
       "    </tr>\n",
       "    <tr>\n",
       "      <th>1837</th>\n",
       "      <td>2020-08-03</td>\n",
       "    </tr>\n",
       "    <tr>\n",
       "      <th>1840</th>\n",
       "      <td>2020-04-30</td>\n",
       "    </tr>\n",
       "    <tr>\n",
       "      <th>1841</th>\n",
       "      <td>2020-07-01</td>\n",
       "    </tr>\n",
       "    <tr>\n",
       "      <th>1843</th>\n",
       "      <td>2020-05-15</td>\n",
       "    </tr>\n",
       "    <tr>\n",
       "      <th>1844</th>\n",
       "      <td>2020-06-01</td>\n",
       "    </tr>\n",
       "    <tr>\n",
       "      <th>1845</th>\n",
       "      <td>2020-03-28</td>\n",
       "    </tr>\n",
       "    <tr>\n",
       "      <th>1846</th>\n",
       "      <td>2020-05-15</td>\n",
       "    </tr>\n",
       "  </tbody>\n",
       "</table>\n",
       "</div>"
      ],
      "text/plain": [
       "     дата планового открытия\n",
       "952               2020-01-18\n",
       "953               2020-01-15\n",
       "954               2020-02-01\n",
       "955               2020-02-01\n",
       "956               2020-02-01\n",
       "957               2020-02-01\n",
       "958               2020-02-01\n",
       "959               2020-02-01\n",
       "960               2020-02-08\n",
       "962               2020-02-14\n",
       "963               2020-02-15\n",
       "964               2020-02-15\n",
       "965               2020-02-22\n",
       "966               2020-02-21\n",
       "967               2020-02-23\n",
       "968               2020-02-29\n",
       "969               2020-02-28\n",
       "970               2020-03-06\n",
       "971               2020-03-08\n",
       "972               2020-03-05\n",
       "973               2020-03-04\n",
       "974               2020-03-03\n",
       "975               2020-03-06\n",
       "976               2020-03-02\n",
       "977               2020-03-17\n",
       "1831              2021-02-20\n",
       "1832              2020-04-30\n",
       "1833              2020-04-30\n",
       "1834              2020-04-30\n",
       "1835              2020-05-29\n",
       "1836              2020-04-30\n",
       "1837              2020-08-03\n",
       "1840              2020-04-30\n",
       "1841              2020-07-01\n",
       "1843              2020-05-15\n",
       "1844              2020-06-01\n",
       "1845              2020-03-28\n",
       "1846              2020-05-15"
      ]
     },
     "execution_count": 8,
     "metadata": {},
     "output_type": "execute_result"
    }
   ],
   "source": [
    "\n",
    "df[['дата планового открытия']][df['дата планового открытия'] >= datetime.strptime('2020-01-01','%Y-%m-%d')]\n",
    "# тут надо pd.todate"
   ]
  },
  {
   "cell_type": "code",
   "execution_count": 3,
   "metadata": {},
   "outputs": [
    {
     "data": {
      "text/plain": [
       "12"
      ]
     },
     "execution_count": 3,
     "metadata": {},
     "output_type": "execute_result"
    }
   ],
   "source": [
    "from datetime import date\n",
    "date.today().month + 12 - 3\n"
   ]
  },
  {
   "cell_type": "code",
   "execution_count": 52,
   "metadata": {},
   "outputs": [],
   "source": [
    "def threem_ago():\n",
    "    if date.today().month < 4:\n",
    "        return date.today().month + 12 - 3\n",
    "    else:\n",
    "        return date.today().month - 3\n",
    "\n",
    "    "
   ]
  },
  {
   "cell_type": "code",
   "execution_count": 53,
   "metadata": {},
   "outputs": [
    {
     "data": {
      "text/plain": [
       "10"
      ]
     },
     "execution_count": 53,
     "metadata": {},
     "output_type": "execute_result"
    }
   ],
   "source": [
    "threem_ago()"
   ]
  },
  {
   "cell_type": "code",
   "execution_count": 74,
   "metadata": {},
   "outputs": [
    {
     "ename": "SyntaxError",
     "evalue": "invalid token (<ipython-input-74-36842a70b676>, line 1)",
     "output_type": "error",
     "traceback": [
      "\u001b[1;36m  File \u001b[1;32m\"<ipython-input-74-36842a70b676>\"\u001b[1;36m, line \u001b[1;32m1\u001b[0m\n\u001b[1;33m    date(2019-10-01)\u001b[0m\n\u001b[1;37m                  ^\u001b[0m\n\u001b[1;31mSyntaxError\u001b[0m\u001b[1;31m:\u001b[0m invalid token\n"
     ]
    }
   ],
   "source": [
    "date(2019-10-1)"
   ]
  },
  {
   "cell_type": "code",
   "execution_count": 81,
   "metadata": {},
   "outputs": [
    {
     "data": {
      "text/plain": [
       "datetime.datetime(2007, 3, 16, 0, 0)"
      ]
     },
     "execution_count": 81,
     "metadata": {},
     "output_type": "execute_result"
    }
   ],
   "source": [
    "datetime.strptime('2007-03-16','%Y-%m-%d')"
   ]
  },
  {
   "cell_type": "code",
   "execution_count": 1,
   "metadata": {},
   "outputs": [
    {
     "data": {
      "text/plain": [
       "[5, 3, 7, 8]"
      ]
     },
     "execution_count": 1,
     "metadata": {},
     "output_type": "execute_result"
    }
   ],
   "source": [
    "x_list = [5,3,7,8,4,1,2]\n",
    "[*x_list[:3],x_list[3]]"
   ]
  },
  {
   "cell_type": "code",
   "execution_count": null,
   "metadata": {},
   "outputs": [],
   "source": []
  },
  {
   "cell_type": "code",
   "execution_count": 37,
   "metadata": {},
   "outputs": [
    {
     "ename": "SyntaxError",
     "evalue": "can't use starred expression here (<ipython-input-37-b21b6f1c9de7>, line 1)",
     "output_type": "error",
     "traceback": [
      "\u001b[1;36m  File \u001b[1;32m\"<ipython-input-37-b21b6f1c9de7>\"\u001b[1;36m, line \u001b[1;32m1\u001b[0m\n\u001b[1;33m    *x_list\u001b[0m\n\u001b[1;37m           ^\u001b[0m\n\u001b[1;31mSyntaxError\u001b[0m\u001b[1;31m:\u001b[0m can't use starred expression here\n"
     ]
    }
   ],
   "source": [
    "shops_if = all_shops[*cols[:5], cols[7],cols[6],cols[5]]\n"
   ]
  },
  {
   "cell_type": "code",
   "execution_count": 2,
   "metadata": {},
   "outputs": [
    {
     "data": {
      "text/plain": [
       "'87.057 / 87.077'"
      ]
     },
     "execution_count": 2,
     "metadata": {},
     "output_type": "execute_result"
    }
   ],
   "source": [
    "import pandas as pd\n",
    "pd.read_html('http://www.profinance.ru/currency_eur,asp')[9].at[3,1]"
   ]
  },
  {
   "cell_type": "code",
   "execution_count": 5,
   "metadata": {},
   "outputs": [
    {
     "name": "stdout",
     "output_type": "stream",
     "text": [
      "Collecting yfinance\n"
     ]
    },
    {
     "name": "stderr",
     "output_type": "stream",
     "text": [
      "ERROR: Could not install packages due to an EnvironmentError: [Errno 13] Permission denied: 'C:\\\\Users\\\\DOTSEN~1.SEM\\\\AppData\\\\Local\\\\Temp\\\\pip-unpack-7w4p0e08\\\\yfinance-0.1.54.tar.gz'\n",
      "Check the permissions.\n",
      "\n",
      "WARNING: You are using pip version 19.3.1; however, version 20.0.2 is available.\n",
      "You should consider upgrading via the 'python -m pip install --upgrade pip' command.\n"
     ]
    }
   ],
   "source": [
    "!pip install yfinance --user"
   ]
  },
  {
   "cell_type": "code",
   "execution_count": null,
   "metadata": {},
   "outputs": [],
   "source": []
  }
 ],
 "metadata": {
  "kernelspec": {
   "display_name": "Python 3",
   "language": "python",
   "name": "python3"
  },
  "language_info": {
   "codemirror_mode": {
    "name": "ipython",
    "version": 3
   },
   "file_extension": ".py",
   "mimetype": "text/x-python",
   "name": "python",
   "nbconvert_exporter": "python",
   "pygments_lexer": "ipython3",
   "version": "3.7.0"
  }
 },
 "nbformat": 4,
 "nbformat_minor": 2
}
