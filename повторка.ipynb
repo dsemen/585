{
 "cells": [
  {
   "cell_type": "code",
   "execution_count": 5,
   "metadata": {},
   "outputs": [],
   "source": [
    "# забирает только то что нужно из повторки\n",
    "\n",
    "import pandas as pd\n",
    "\n",
    "povtora = pd.read_excel(r'C:\\Users\\Dotsenko.Semen\\Documents\\для Семена.xlsx')\n",
    "\n",
    "del povtora['№ Поставщика']\n",
    "\n",
    "#povtora = povtora[(povtora['Дизайн'] == 'ИФ БУДДА')]\n",
    "povtora = povtora[(povtora['Товарное направление'] == 'БК') & (povtora['Тип изделия 1'] == 'КОЛЬЦО ОБРУЧАЛЬНОЕ')]\n",
    "\n",
    "#povtora.sort_values(by=['Тип изделия 1', 'Склад' ,'Дизайн', 'Артикул', 'Отправить на','Размер'], inplace=True)\n",
    "\n",
    "# считаем количество повторений това\n",
    "# dict_count = povtora['Товар'].value_counts().to_dict()\n",
    "# povtora['Скидка по штрихкоду'] = povtora['Товар'].map(dict_count)\n",
    "\n",
    "\n",
    "povtora.query('Склад == 7001').to_excel(r'C:\\рушники\\123.xlsx', index=False)\n"
   ]
  },
  {
   "cell_type": "code",
   "execution_count": 9,
   "metadata": {},
   "outputs": [],
   "source": [
    "# Join multiple excel files in folder to one excel file\n",
    "import pandas as pd\n",
    "import os\n",
    "\n",
    "dir = 'C:/Users/Dotsenko.Semen/Documents/повторка'\n",
    "file_list = [dir + '/' + x for x in os.listdir(dir) if '$' not in x]\n",
    "final = pd.concat([pd.read_excel(x) for x in file_list])\n",
    "\n",
    "final[final['Товарное направление'].str.contains('БК|ИФ')].to_excel(r'C:\\Users\\Dotsenko.Semen\\Documents\\для Семена.xlsx', index=False)"
   ]
  },
  {
   "cell_type": "code",
   "execution_count": 3,
   "metadata": {},
   "outputs": [],
   "source": [
    "#Проверка повторки на будду и на дисней и печатки 375\n",
    "\n",
    "import pandas as pd\n",
    "\n",
    "povtora = pd.read_excel(r'C:\\Users\\Dotsenko.Semen\\Documents\\для Семена.xlsx')\n",
    "del povtora['№ Производителя']\n",
    "\n",
    "\n",
    "disn_list = ['ТОВ1168396','ТОВ1168397','ТОВ1168398','ТОВ1168399','ТОВ1168400','ТОВ1168401','ТОВ1168402','ТОВ1168403','ТОВ1168404','ТОВ1168405','ТОВ1168406',\n",
    "            'ТОВ1168419','ТОВ1168420','ТОВ1168421','ТОВ1168422','ТОВ1168423','ТОВ1168424','ТОВ1168425','ТОВ1168426','ТОВ1168427','ТОВ1168428']\n",
    "\n",
    "result = povtora[(povtora['Дизайн'] == \"ИФ БУДДА\") |\n",
    "                 (povtora['Товар'].isin(disn_list)) |\n",
    "                 ((povtora['Дизайн'] == \"ИФ 375\") & (povtora['Тип изделия 1'] == \"КОЛЬЦО ПЕЧАТКА\"))\n",
    "                ]\n",
    "\n",
    "result.to_excel(r'C:\\рушники\\повторка.xlsx', sheet_name='Движение товара', index=False)"
   ]
  },
  {
   "cell_type": "code",
   "execution_count": 4,
   "metadata": {},
   "outputs": [
    {
     "data": {
      "text/html": [
       "<div>\n",
       "<style scoped>\n",
       "    .dataframe tbody tr th:only-of-type {\n",
       "        vertical-align: middle;\n",
       "    }\n",
       "\n",
       "    .dataframe tbody tr th {\n",
       "        vertical-align: top;\n",
       "    }\n",
       "\n",
       "    .dataframe thead th {\n",
       "        text-align: right;\n",
       "    }\n",
       "</style>\n",
       "<table border=\"1\" class=\"dataframe\">\n",
       "  <thead>\n",
       "    <tr style=\"text-align: right;\">\n",
       "      <th></th>\n",
       "      <th>Склад</th>\n",
       "      <th>Вид движения</th>\n",
       "      <th>Товар</th>\n",
       "      <th>Тип изделия 1</th>\n",
       "      <th>Тип изделия 2</th>\n",
       "      <th>Тип изделия 3</th>\n",
       "      <th>№ Поставщика</th>\n",
       "      <th>Артикул</th>\n",
       "      <th>Серийный номер</th>\n",
       "      <th>Кол-во</th>\n",
       "      <th>...</th>\n",
       "      <th>Общий заказ но.</th>\n",
       "      <th>Сумма баллов</th>\n",
       "      <th>Сумма баллов сети</th>\n",
       "      <th>Сумма по договору</th>\n",
       "      <th>Был на ОСНО</th>\n",
       "      <th>Отправить на</th>\n",
       "      <th>Цена для ФР</th>\n",
       "      <th>Гендерный признак</th>\n",
       "      <th>1</th>\n",
       "      <th>2</th>\n",
       "    </tr>\n",
       "  </thead>\n",
       "  <tbody>\n",
       "    <tr>\n",
       "      <th>983</th>\n",
       "      <td>7001</td>\n",
       "      <td>Перемещение</td>\n",
       "      <td>ТОВ0832702</td>\n",
       "      <td>ПОДВЕС КУЛЬТОВЫЙ</td>\n",
       "      <td>БЕЗ КАМНЕЙ</td>\n",
       "      <td>КРАСНЫЙ С БЕЛЫМ</td>\n",
       "      <td>ПОСТ0000371</td>\n",
       "      <td>490700М</td>\n",
       "      <td>СН0054283689</td>\n",
       "      <td>1</td>\n",
       "      <td>...</td>\n",
       "      <td>Р0000042030</td>\n",
       "      <td>0</td>\n",
       "      <td>0</td>\n",
       "      <td>0</td>\n",
       "      <td>Нет</td>\n",
       "      <td>NaN</td>\n",
       "      <td>0</td>\n",
       "      <td>NaN</td>\n",
       "      <td>РАСХПЕР004691549</td>\n",
       "      <td>NaN</td>\n",
       "    </tr>\n",
       "    <tr>\n",
       "      <th>1112</th>\n",
       "      <td>3075</td>\n",
       "      <td>Перемещение</td>\n",
       "      <td>ТОВ1166150</td>\n",
       "      <td>КОЛЬЦО ПЕЧАТКА</td>\n",
       "      <td>С ФИАНИТАМИ</td>\n",
       "      <td>КРАСНЫЙ</td>\n",
       "      <td>ПОСТ0000788</td>\n",
       "      <td>21-90-0008-28236#375</td>\n",
       "      <td>СН0059242414</td>\n",
       "      <td>1</td>\n",
       "      <td>...</td>\n",
       "      <td>Р0000044281</td>\n",
       "      <td>0</td>\n",
       "      <td>0</td>\n",
       "      <td>0</td>\n",
       "      <td>Да</td>\n",
       "      <td>NaN</td>\n",
       "      <td>0</td>\n",
       "      <td>NaN</td>\n",
       "      <td>РАСХПЕР004699172</td>\n",
       "      <td>NaN</td>\n",
       "    </tr>\n",
       "  </tbody>\n",
       "</table>\n",
       "<p>2 rows × 55 columns</p>\n",
       "</div>"
      ],
      "text/plain": [
       "      Склад Вид движения       Товар     Тип изделия 1 Тип изделия 2  \\\n",
       "983    7001  Перемещение  ТОВ0832702  ПОДВЕС КУЛЬТОВЫЙ    БЕЗ КАМНЕЙ   \n",
       "1112   3075  Перемещение  ТОВ1166150    КОЛЬЦО ПЕЧАТКА   С ФИАНИТАМИ   \n",
       "\n",
       "        Тип изделия 3 № Поставщика               Артикул Серийный номер  \\\n",
       "983   КРАСНЫЙ С БЕЛЫМ  ПОСТ0000371               490700М   СН0054283689   \n",
       "1112          КРАСНЫЙ  ПОСТ0000788  21-90-0008-28236#375   СН0059242414   \n",
       "\n",
       "      Кол-во  ...  Общий заказ но.  Сумма баллов Сумма баллов сети  \\\n",
       "983        1  ...      Р0000042030             0                 0   \n",
       "1112       1  ...      Р0000044281             0                 0   \n",
       "\n",
       "      Сумма по договору Был на ОСНО  Отправить на  Цена для ФР  \\\n",
       "983                   0         Нет           NaN            0   \n",
       "1112                  0          Да           NaN            0   \n",
       "\n",
       "     Гендерный признак                 1   2  \n",
       "983                NaN  РАСХПЕР004691549 NaN  \n",
       "1112               NaN  РАСХПЕР004699172 NaN  \n",
       "\n",
       "[2 rows x 55 columns]"
      ]
     },
     "execution_count": 4,
     "metadata": {},
     "output_type": "execute_result"
    }
   ],
   "source": [
    "result"
   ]
  },
  {
   "cell_type": "code",
   "execution_count": 1,
   "metadata": {},
   "outputs": [],
   "source": [
    "# ЗАДВОИ, МУСУЛЬМАНКА, КОЛЬЦО КУЛЬТОВОЕ проверка заборников\n",
    "import pandas as pd\n",
    "import numpy as np\n",
    "\n",
    "path = r'C:\\анаконда\\zab.xlsx'\n",
    "columns = ['Товар Но.', 'Тип 1', 'Склад-приемник', 'Описание', 'Товарная Группа', 'Номер ЗЛ', 'Серийный Но.' ]\n",
    "zab = pd.read_excel(path, usecols=columns)\n",
    "\n",
    "# Задвои\n",
    "zab = zab[zab['Склад-приемник'] != 7171] # убираем товар на 7171\n",
    "zab['tovmag'] = zab['Товар Но.'].str.cat(zab['Склад-приемник'].astype('str'),sep='-')\n",
    "zab['count'] = zab.groupby(['tovmag'])['Номер ЗЛ'].transform('count')\n",
    "\n",
    "# Мусуль и культовые кольца\n",
    "# загружаем списки магов\n",
    "muslim_only = np.array([3435,3682,3403,3635,3918,3361,3583,4772,3450,4759,3990,3522,4612,3851,4724,4636,4938,4909,4990,4991,5033], dtype='int64')\n",
    "\n",
    "muslim = pd.read_excel(\n",
    "    r'\\\\gold585.int\\uk\\Общее хранилище файлов\\Коммерческий департамент\\Отдел закупки\\ЛИЧНЫЕ\\Семен\\нужное\\мусульманкэ.xlsx',\n",
    "sheet_name='основная', skiprows=[0],usecols=[0])\n",
    "muslim = muslim['склад'].to_numpy()\n",
    "\n",
    "sas = pd.read_excel(r'C:\\анаконда\\карточки.xlsx', sheet_name='САС', skiprows=6, usecols=['Номер'])\n",
    "sas = sas['Номер'].to_numpy()\n",
    "\n",
    "# фильтруем ошибочные распределения и сохраняем в эксель\n",
    "doubles = zab[(zab['count'] > 2) & (zab['Товарная Группа'] != 'ЛОМБАРДЫ')].sort_values(['Товарная Группа', 'Товар Но.'])\n",
    "\n",
    "wrong_mus = zab[(zab['Описание'].str.contains('усуль', na=False)) & (~zab['Склад-приемник'].isin(muslim))]\n",
    "\n",
    "wrong_sas = zab[(zab['Товарная Группа'] == 'БК КОЛЬЦА') & \n",
    "                (zab['Склад-приемник'].isin(muslim_only)) & \n",
    "                (zab['Товар Но.'].isin(sas))]\n",
    "\n",
    "with pd.ExcelWriter('C:/рушники/dob.xlsx') as writer:\n",
    "    doubles.to_excel(writer, sheet_name='Задвои', index=False)\n",
    "    wrong_mus.to_excel(writer, sheet_name='мусуль', index=False)\n",
    "    wrong_sas.to_excel(writer, sheet_name='САС', index=False)"
   ]
  },
  {
   "cell_type": "code",
   "execution_count": 10,
   "metadata": {},
   "outputs": [
    {
     "name": "stdout",
     "output_type": "stream",
     "text": [
      "ПРИХ00350377|ПРИХ00350796|ПРИХ00351084|ПРИХ00347851\n"
     ]
    }
   ],
   "source": [
    "# рубим прихи для повторы\n",
    "\n",
    "df = pd.read_excel(r'C:\\рушники\\325.xlsx')\n",
    "\n",
    "prih_list = df['Документ закупки'].unique()\n",
    "\n",
    "for x in prih_list:\n",
    "    df[df['Документ закупки'] == x].to_excel(str('C:/рушники/'+ x +'.xlsx'), index=False, sheet_name='Движение товара')\n",
    "    \n",
    "print('|'.join(x for x in prih_list))"
   ]
  },
  {
   "cell_type": "code",
   "execution_count": 39,
   "metadata": {},
   "outputs": [],
   "source": [
    "import pandas as pd\n",
    "df = pd.read_excel(r'C:\\Users\\Dotsenko.Semen\\Documents\\накладные.xlsx', sheet_name='Sheet1', usecols=list(range(5)))\n",
    "\n",
    "mustreturn = df.groupby(['КодСклада', 'НазваниеСклада'])['ШК'].count().reset_index()\n",
    "\n",
    "onstock = pd.read_csv(r'C:\\анаконда\\tmp.csv', delimiter=';', encoding='utf-8',low_memory=False,\n",
    "               usecols=[\"КодСклада\", \"НазваниеСклада\", 'ШК'])\n",
    "\n",
    "onstock = onstock[onstock['КодСклада'].isin(df['КодСклада'])]\n",
    "\n",
    "onstock['ШК'].isin(df['ШК'])\n",
    "\n",
    "onstock = onstock[onstock['ШК'].isin(df['ШК'])]\n",
    "\n",
    "notreturned = onstock.groupby(['КодСклада'])['ШК'].count().reset_index()"
   ]
  },
  {
   "cell_type": "code",
   "execution_count": 41,
   "metadata": {},
   "outputs": [],
   "source": [
    "mustreturn.merge(notreturned, how='left', on='КодСклада').to_excel(r'C:\\рушники\\невернули.xlsx', index=False)"
   ]
  },
  {
   "cell_type": "code",
   "execution_count": 43,
   "metadata": {},
   "outputs": [
    {
     "data": {
      "text/plain": [
       "КодСклада         11317\n",
       "НазваниеСклада    11317\n",
       "ШК                11317\n",
       "dtype: int64"
      ]
     },
     "execution_count": 43,
     "metadata": {},
     "output_type": "execute_result"
    }
   ],
   "source": [
    "onstock.count()"
   ]
  }
 ],
 "metadata": {
  "kernelspec": {
   "display_name": "Python 3",
   "language": "python",
   "name": "python3"
  },
  "language_info": {
   "codemirror_mode": {
    "name": "ipython",
    "version": 3
   },
   "file_extension": ".py",
   "mimetype": "text/x-python",
   "name": "python",
   "nbconvert_exporter": "python",
   "pygments_lexer": "ipython3",
   "version": "3.7.0"
  }
 },
 "nbformat": 4,
 "nbformat_minor": 2
}
