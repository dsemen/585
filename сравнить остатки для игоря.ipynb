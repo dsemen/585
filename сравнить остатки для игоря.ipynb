{
 "cells": [
  {
   "cell_type": "code",
   "execution_count": 1,
   "metadata": {},
   "outputs": [],
   "source": [
    "import pandas as pd\n",
    "\n",
    "ost1 = pd.read_csv(r'C:\\Users\\Dotsenko.Semen\\Documents\\tmp2.csv', delimiter=';', encoding='utf-8',low_memory=False,\n",
    "               usecols=[0,1,2,3,4,11,14,15,21,22,27,29,30,31,32,37,39,40])\n",
    "\n",
    "sales1 = pd.read_excel(r'C:\\анаконда\\сер2.xlsx')\n",
    "\n",
    "barlist = sales1.сер.tolist()\n",
    "ost1['признак'] = ost1.СерийныйНомер.apply(lambda x: x in barlist)\n",
    "\n",
    "ost1.iloc[:1000000].to_excel(\n",
    "    r'\\\\gold585.int\\uk\\Общее хранилище файлов\\Коммерческий департамент\\Отдел закупки\\ЛИЧНЫЕ\\Игорь\\найти_сер\\иф1.xlsx')\n",
    "\n",
    "ost1.iloc[1000000:].to_excel(\n",
    "    r'\\\\gold585.int\\uk\\Общее хранилище файлов\\Коммерческий департамент\\Отдел закупки\\ЛИЧНЫЕ\\Игорь\\найти_сер\\иф2.xlsx')"
   ]
  },
  {
   "cell_type": "code",
   "execution_count": 1,
   "metadata": {},
   "outputs": [],
   "source": [
    "import pandas as pd\n",
    "\n",
    "ost1 = pd.read_csv(r'C:\\Users\\Dotsenko.Semen\\Documents\\tmp2.csv', delimiter=';', encoding='utf-8',low_memory=False,\n",
    "               usecols=[0,1,2,3,4,11,14,15,21,22,27,29,30,31,32,37,39,40])\n",
    "\n",
    "sales1 = pd.read_excel(r'C:\\анаконда\\сер2.xlsx')\n",
    "\n",
    "barlist = sales1.сер.tolist()\n",
    "ost1['признак'] = ost1.СерийныйНомер.apply(lambda x: x in barlist)"
   ]
  },
  {
   "cell_type": "code",
   "execution_count": null,
   "metadata": {},
   "outputs": [],
   "source": []
  },
  {
   "cell_type": "code",
   "execution_count": 16,
   "metadata": {},
   "outputs": [],
   "source": [
    "import pandas as pd\n",
    "\n",
    "ost1 = pd.read_excel(r'C:\\Users\\Dotsenko.Semen\\Documents\\111.xls')\n",
    "ost1.to_csv(r'C:\\Users\\Dotsenko.Semen\\Documents\\11.csv',index=False, sep=';', encoding='windows-1251')                     "
   ]
  },
  {
   "cell_type": "code",
   "execution_count": null,
   "metadata": {},
   "outputs": [],
   "source": []
  }
 ],
 "metadata": {
  "kernelspec": {
   "display_name": "Python 3",
   "language": "python",
   "name": "python3"
  },
  "language_info": {
   "codemirror_mode": {
    "name": "ipython",
    "version": 3
   },
   "file_extension": ".py",
   "mimetype": "text/x-python",
   "name": "python",
   "nbconvert_exporter": "python",
   "pygments_lexer": "ipython3",
   "version": "3.7.0"
  }
 },
 "nbformat": 4,
 "nbformat_minor": 2
}
