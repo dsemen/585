{
 "cells": [
  {
   "cell_type": "code",
   "execution_count": 1,
   "metadata": {},
   "outputs": [],
   "source": [
    "#ОБРУЧАЛКА\n",
    "\n",
    "import pandas as pd\n",
    "\n",
    "# Загужаем файл остатков и отметает лишнее\n",
    "\n",
    "ost_obr = pd.read_csv(r'C:\\анаконда\\tmp.csv', delimiter=';', encoding='utf-8',low_memory=False,\n",
    "               usecols=[\"КодСклада\", \"НазваниеСклада\", \"ТоварНо\",\"СерийныйНомер\",\"Проект\"])\n",
    "\n",
    "ost_obr = ost_obr[ost_obr.Проект.isin(['ЗОЛОТОЙ','ОРИОН','ЗОЛОТО','ТАЛАНТ'])].sort_values('КодСклада')\n",
    "\n",
    "del ost_obr['Проект']\n",
    "\n",
    "# Делим файл на две части:магазы и центральные склады\n",
    "\n",
    "ost_obr1 = ost_obr[ost_obr.НазваниеСклада.str.contains('центральный склад|опт',case = False)]\n",
    "ost_obr = ost_obr[~ost_obr.НазваниеСклада.str.contains('центральный склад|опт',case = False)]\n",
    "ost_obr = ost_obr[['КодСклада','ТоварНо']]\n",
    "ost_obr1 = ost_obr1[['СерийныйНомер','ТоварНо']]\n",
    "\n",
    "# Обработка заборников верхние пустые строки в загружаемом файле должны быть удалены\n",
    "\n",
    "zab = pd.read_excel(r'C:\\анаконда\\zab.xlsx')\n",
    "zab = zab[[\"Серийный Но.\",\"Товар Но.\",\"Склад-приемник\",\"Номер ЗЛ\"]].sort_values(by=\"Номер ЗЛ\",ascending = False)\n",
    "zab.columns = ['СерийныйНомер','ТоварНо','КодСклада','ЗЛ']\n",
    "zab.rename(\n",
    "    columns={\"Серийный Но.\":'СерийныйНомер', \"Товар Но.\":'ТоварНо', \n",
    "             \"Склад-приемник\":'КодСклада',\"Номер ЗЛ\":'ЗЛ'}, \n",
    "    inplace=True\n",
    ") \n",
    "\n",
    "# Делим файл на две части:необиркованные и без СН на машине\n",
    "\n",
    "zab_0 = zab[zab.СерийныйНомер.isnull()]\n",
    "zab_0 = zab_0[['КодСклада','ТоварНо']]\n",
    "zab = zab[zab.СерийныйНомер.str.contains('СН',na=False)]\n",
    "zab = zab[['СерийныйНомер','КодСклада']]\n",
    "\n",
    "# Проставляем магаз в серийники, которые на 4001/3075/опте\n",
    "\n",
    "df = pd.merge(ost_obr1,zab,on=['СерийныйНомер'],how = 'inner')#inner join оставит только неперемещенный товар\n",
    "ost_obr1 = df[['КодСклада','ТоварНо']]\n",
    "\n",
    "# Соединяем остатки на магазах,на машине, то что числилось на 4001/3075/опте\n",
    "result = pd.concat([ost_obr,ost_obr1,zab_0])\n",
    "\n",
    "# Догружаем размер/артикул/толщ.плетения и тд\n",
    "\n",
    "df = pd.read_excel(r'C:\\анаконда\\карточки.xlsx',sheet_name='обручи',header=6)\n",
    "result = pd.merge(result,df,left_on=['ТоварНо'],right_on=['Номер'],how='left')\n",
    "del result['Номер']\n",
    "result.set_index('КодСклада',drop=True, inplace=True)\n",
    "\n",
    "# Сохраняем в эксель. нужно доработать сохранение в уже существующий эксель\n",
    "\n",
    "with pd.ExcelWriter(r'C:\\Остатки\\обручи.xlsx') as writer:\n",
    "    result.to_excel(writer, sheet_name='остатки')"
   ]
  },
  {
   "cell_type": "code",
   "execution_count": 11,
   "metadata": {},
   "outputs": [],
   "source": [
    "# ДЕТСКОЕ\n",
    "import pandas as pd\n",
    "\n",
    "# Загужаем файлы остатков и заборников\n",
    "\n",
    "ost = pd.read_csv(r'C:\\анаконда\\tmp.csv', delimiter=';', encoding='utf-8',low_memory=False,\n",
    "               usecols=[\"КодСклада\", \"ТоварНо\",\"СерийныйНомер\",\"ТоварноеНаправление\"])\n",
    "\n",
    "zab = pd.read_excel(r'C:\\анаконда\\zab.xlsx',\n",
    "                  usecols=[\"Серийный Но.\",\"Товар Но.\",\"Склад-приемник\",\"Товарное направление\"])\n",
    "\n",
    "# Фильтруем по направлению, в заборниках оставляем серийники, которых нет в остатках\n",
    "\n",
    "ost = ost[ost['ТоварноеНаправление'].isin(['БК','ИФ'])] \n",
    "zab = zab[zab['Товарное направление'].isin(['БК','ИФ']) & ~zab['Серийный Но.'].isin(ost['СерийныйНомер'].tolist())]\n",
    "\n",
    "# подгоняем колонки, соединяем датафреймы и сохраняем\n",
    "zab = zab[['Склад-приемник', 'Товар Но.', 'Серийный Но.','Товарное направление']]\n",
    "zab.columns = ost.columns\n",
    "\n",
    "final = pd.concat([ost,zab],ignore_index=True, sort=False)\n",
    "final.to_excel(r'C:\\Остатки\\остатки.xlsx', index=False)\n"
   ]
  },
  {
   "cell_type": "code",
   "execution_count": 20,
   "metadata": {},
   "outputs": [],
   "source": [
    "#БУКВЫ И ЗОДИАКИ\n",
    "\n",
    "import pandas as pd\n",
    "\n",
    "# Загужаем файл остатков и отметает лишнее\n",
    "\n",
    "ost_obr = pd.read_csv(r'C:\\анаконда\\tmp.csv', delimiter=';', encoding='utf-8',low_memory=False,\n",
    "               usecols=[\"КодСклада\", \"НазваниеСклада\", \"ТоварНо\",\"СерийныйНомер\",\"ТоварноеНаправление\",\"Проект\",\"Тип1\"])\n",
    "\n",
    "# Оставляем только декоративные подвесы и нужные проекты\n",
    "\n",
    "ost_obr = ost_obr[(ost_obr[\"Тип1\"] == 'ПОДВЕС ДЕКОРАТИВНЫЙ')]\n",
    "ost_obr = ost_obr[ost_obr.Проект.isin(['ЗОЛОТОЙ','ОРИОН','ЗОЛОТО','ТАЛАНТ'])].sort_values('КодСклада')\n",
    "del ost_obr['Проект'], ost_obr['Тип1']\n",
    "\n",
    "# Делим файл на две части:магазы и центральные склады\n",
    "\n",
    "ost_obr1 = ost_obr[ost_obr.НазваниеСклада.str.contains('центральный склад|опт',case = False)]\n",
    "ost_obr = ost_obr[~ost_obr.НазваниеСклада.str.contains('центральный склад|опт',case = False)]\n",
    "ost_obr = ost_obr[['КодСклада','ТоварНо','ТоварноеНаправление']]\n",
    "ost_obr1 = ost_obr1[['СерийныйНомер','ТоварНо','ТоварноеНаправление']]\n",
    "\n",
    "# Обработка заборников верхние пустые строки в загружаемом файле должны быть удалены\n",
    "\n",
    "zab = pd.read_excel(r'C:\\анаконда\\zab.xlsx',\n",
    "                  usecols=[\"Серийный Но.\",\"Товар Но.\",\"Склад-приемник\",\"Номер ЗЛ\",\"Товарное направление\",\"Тип 1\"])\n",
    "\n",
    "zab = zab[(zab[\"Тип 1\"] == 'ПОДВЕС ДЕКОРАТИВНЫЙ')]\n",
    "del zab[\"Тип 1\"]\n",
    "zab = zab.sort_values(by=\"Номер ЗЛ\",ascending = False)\n",
    "\n",
    "zab.rename(\n",
    "    columns={\"Серийный Но.\":'СерийныйНомер', \"Товар Но.\":'ТоварНо', \n",
    "             \"Склад-приемник\":'КодСклада',\"Номер ЗЛ\":'ЗЛ',\"Товарное направление\":'ТоварноеНаправление' }, \n",
    "    inplace=True\n",
    ") \n",
    "\n",
    "# Делим файл на две части:необиркованные и без СН на машине\n",
    "\n",
    "zab_0 = zab[zab.СерийныйНомер.isnull()]\n",
    "zab_0 = zab_0[['КодСклада','ТоварНо','ТоварноеНаправление']]\n",
    "zab = zab[zab.СерийныйНомер.str.contains('СН',na=False)]\n",
    "zab = zab[['СерийныйНомер','КодСклада']]\n",
    "\n",
    "# Проставляем магаз в серийники, которые на 4001/3075/опте\n",
    "\n",
    "df = pd.merge(ost_obr1,zab,on=['СерийныйНомер'],how = 'inner')#inner join оставит только неперемещенный товар\n",
    "ost_obr1 = df[['КодСклада','ТоварНо','ТоварноеНаправление']]\n",
    "\n",
    "# Соединяем остатки на магазах,на машине, то что числилось на 4001/3075/опте\n",
    "result = pd.concat([ost_obr,ost_obr1,zab_0])\n",
    "\n",
    "\n",
    "# Догружаем размер/артикул/толщ.плетения и тд\n",
    "\n",
    "df = pd.read_excel(r'C:\\анаконда\\карточки.xlsx',sheet_name='буки',header=6)\n",
    "result = pd.merge(result,df,left_on=['ТоварНо'],right_on=['Номер'],how='left')\n",
    "del result['Номер']\n",
    "result.set_index('КодСклада',drop=True, inplace=True)\n",
    "\n",
    "# Очищаем описание 3 от ненужного мусора\n",
    "result['Описание 3'] = result['Описание 3'].apply(lambda a: a[:str(a).find(' ')] if str(a).find(' ')>0 else a )\n",
    "\n",
    "\n",
    "# Сохраняем в эксель. нужно доработать сохранение в уже существующий эксель\n",
    "\n",
    "with pd.ExcelWriter(r'C:\\Остатки\\буквыизодиаки.xlsx') as writer:\n",
    "    result.to_excel(writer)\n",
    "    "
   ]
  },
  {
   "cell_type": "code",
   "execution_count": 12,
   "metadata": {},
   "outputs": [],
   "source": [
    "# Тип1 артикул размер\n",
    "import pandas as pd\n",
    "#загужаем файл остатков и отметает лишнее\n",
    "ost_obr = pd.read_csv(r'C:\\анаконда\\tmp.csv', delimiter=';', encoding='utf-8',low_memory=False,\n",
    "                    usecols=[\"КодСклада\", \"НазваниеСклада\", \"Тип1\",\"ПоставщикАрт\",\n",
    "                                \"РазмерИзделия\",\"ТоварНо\",\"СерийныйНомер\",\"Проект\"])\n",
    "ost_obr = ost_obr[ost_obr.Проект.isin(['ЗОЛОТОЙ','ОРИОН','ЗОЛОТО','ТАЛАНТ'])].sort_values('КодСклада')\n",
    "del ost_obr['Проект']\n",
    "\n",
    "#делим файл на две части:магазы и центральные склады\n",
    "ost_obr1 = ost_obr[ost_obr.НазваниеСклада.str.contains('центральный склад|опт',case = False)]\n",
    "ost_obr = ost_obr[~ost_obr.НазваниеСклада.str.contains('центральный склад|опт',case = False)]\n",
    "del ost_obr1['КодСклада']\n",
    "\n",
    "#обработка заборников верхние пустые строки в загружаемом файле должны быть удалены\n",
    "zab = pd.read_excel(r'C:\\анаконда\\zab.xlsx')\n",
    "zab = zab[[\"Серийный Но.\",\"Склад-приемник\",\"Номер ЗЛ\"]].sort_values(by=\"Номер ЗЛ\",ascending = False)\n",
    "zab.columns = ['СерийныйНомер','КодСклада','ЗЛ']\n",
    "zab.rename(columns={\"Серийный Но.\":'СерийныйНомер', \"Склад-приемник\":'КодСклада',\"Номер ЗЛ\":'ЗЛ'}, inplace=True) \n",
    "del zab['ЗЛ']\n",
    "\n",
    "#проставляем магаз в серийники, которые на 4001/3075/опте\n",
    "ost_obr1 = pd.merge(ost_obr1,zab,on=['СерийныйНомер'],how = 'inner')#inner join оставит только неперемещенный товар\n",
    "ost_obr1 = ost_obr1[[\"КодСклада\", \"НазваниеСклада\", \"ТоварНо\",\"СерийныйНомер\",\"Тип1\",\"ПоставщикАрт\",\"РазмерИзделия\"]]\n",
    "\n",
    "#соединяем остатки на магазах,на машине, то что числилось на 4001/3075/опте\n",
    "result = pd.concat([ost_obr,ost_obr1])\n",
    "result.set_index('КодСклада',drop=True, inplace=True)\n",
    "del result['НазваниеСклада']\n",
    "\n",
    "#сохраняем в эксель. нужно доработать сохранение в уже существующий эксель\n",
    "with pd.ExcelWriter(r'C:\\Остатки\\остатки.xlsx') as writer:\n",
    "    result.to_excel(writer)"
   ]
  },
  {
   "cell_type": "code",
   "execution_count": 19,
   "metadata": {},
   "outputs": [],
   "source": [
    "#ЛЮБОЙ ТОВАР\n",
    "import pandas as pd\n",
    "# Загружаем файл остатков и отметает лишнее\n",
    "\n",
    "ost_obr = pd.read_csv(r'C:\\анаконда\\tmp.csv', delimiter=';', encoding='utf-8',low_memory=False,\n",
    "                    usecols=[\"КодСклада\", \"НазваниеСклада\", \"ТоварНо\",\"СерийныйНомер\",\"Проект\"])\n",
    "\n",
    "ost_obr = ost_obr[ost_obr.Проект.isin(['ЗОЛОТОЙ','ОРИОН','ЗОЛОТО','ТАЛАНТ'])].sort_values('КодСклада')\n",
    "del ost_obr['Проект']\n",
    "\n",
    "# Делим файл на две части:магазы и центральные склады\n",
    "\n",
    "ost_obr1 = ost_obr[ost_obr.НазваниеСклада.str.contains('центральный склад|опт',case = False)]\n",
    "ost_obr = ost_obr[~ost_obr.НазваниеСклада.str.contains('центральный склад|опт',case = False)]\n",
    "ost_obr = ost_obr[[\"КодСклада\",  \"ТоварНо\",\"СерийныйНомер\"]]\n",
    "del ost_obr1['КодСклада']\n",
    "\n",
    "# обработка заборников верхние пустые строки в загружаемом файле должны быть удалены\n",
    "\n",
    "zab = pd.read_excel(r'C:\\анаконда\\zab.xlsx')\n",
    "zab = zab[[\"Серийный Но.\",\"Склад-приемник\",\"Номер ЗЛ\"]].sort_values(by=\"Номер ЗЛ\",ascending = False)\n",
    "zab.rename(columns={\"Серийный Но.\":'СерийныйНомер', \"Склад-приемник\":'КодСклада',\"Номер ЗЛ\":'ЗЛ'}, inplace=True) \n",
    "del zab['ЗЛ']\n",
    "\n",
    "# проставляем магаз в серийники, которые на 4001/3075/опте\n",
    "\n",
    "ost_obr1 = pd.merge(ost_obr1,zab,on=['СерийныйНомер'],how = 'inner')#inner join оставит только неперемещенный товар\n",
    "ost_obr1 = ost_obr1[[\"КодСклада\",  \"ТоварНо\",\"СерийныйНомер\"]]\n",
    "\n",
    "# соединяем остатки на магазах,на машине, то что числилось на 4001/3075/опте\n",
    "\n",
    "result = pd.concat([ost_obr,ost_obr1])\n",
    "result.set_index('КодСклада',drop=True, inplace=True)\n",
    "\n",
    "# сохраняем в эксель. нужно доработать сохранение в уже существующий эксель\n",
    "\n",
    "with pd.ExcelWriter(r'C:\\Остатки\\остатки.xlsx') as writer:\n",
    "    result.to_excel(writer)"
   ]
  },
  {
   "cell_type": "code",
   "execution_count": null,
   "metadata": {},
   "outputs": [],
   "source": []
  },
  {
   "cell_type": "code",
   "execution_count": null,
   "metadata": {},
   "outputs": [],
   "source": []
  },
  {
   "cell_type": "code",
   "execution_count": 70,
   "metadata": {},
   "outputs": [],
   "source": [
    "\n",
    "wordDict = {'V' : 'I', 'N' : 'A', 'G' : 'T', 'U' : 'H', 'R' : 'E', 'Z' : 'M', 'F' : 'S', 'J' : 'W', 'O' : 'B', 'Y' : 'L', 'Q' : 'D', 'X' : 'K', 'P' : 'C', 'v' : 'i', 'n' : 'a', 'g' : 't', 'u' : 'h', 'r' : 'e', 'z' : 'm', 'f' : 's', 'j' : 'w', 'o' : 'b', 'y' : 'l', 'q' : 'd', 'x' : 'k', 'p' : 'c', 'I' : 'V', 'A' : 'N', 'T' : 'G', 'H' : 'U', 'E' : 'R', 'M' : 'Z', 'S' : 'F', 'W' : 'J', 'B' : 'O', 'L' : 'Y', 'D' : 'Q', 'K' : 'X', 'C' : 'P', 'i' : 'v', 'a' : 'n', 't' : 'g', 'h' : 'u', 'e' : 'r', 'm' : 'z', 's' : 'f', 'w' : 'j', 'b' : 'o', 'l' : 'y', 'd' : 'q', 'k' : 'x', 'c' : 'p'}"
   ]
  },
  {
   "cell_type": "code",
   "execution_count": 12,
   "metadata": {},
   "outputs": [],
   "source": [
    "\n",
    "df = pd.DataFrame(data={'col1':[\"Астрахань\", \"Барнаул\", \"Владикавказ\", \"Вологда\", \"Грозный\", \"Екатеринбург\", \"Иваново\", \"Ижевск\", \"Иркутск\", \"Казань\", \"Кемерово\", \"Курган\", \"Майкоп\", \"Махачкала\", \"Москва\", \"Нальчик\", \"Нижний Новгород\", \"Пермь\", \"Ростов-на-Дону\", \"Самара\", \"Санкт-Петербург\", \"Саратов\", \"Тверь\", \"Томск\", \"Тюмень\", \"Ульяновск\", \"Уфа\", \"Челябинск\", \"Черкесск\", \"Ярославль\"]})\n",
    "df.to_excel(r'C:\\Остатки\\мечети.xlsx')\n"
   ]
  },
  {
   "cell_type": "code",
   "execution_count": 23,
   "metadata": {},
   "outputs": [],
   "source": [
    "def multipleReplace(text, wordDict):\n",
    "    \"\"\"\n",
    "    take a text and replace words that match the key in a dictionary\n",
    "    with the associated value, return the changed text\n",
    "    \"\"\"\n",
    "    for x in text:\n",
    "        text = text.replace(key, wordDict[key])\n",
    "    return text"
   ]
  },
  {
   "cell_type": "code",
   "execution_count": 71,
   "metadata": {},
   "outputs": [
    {
     "ename": "KeyError",
     "evalue": "' '",
     "output_type": "error",
     "traceback": [
      "\u001b[1;31m---------------------------------------------------------------------------\u001b[0m",
      "\u001b[1;31mKeyError\u001b[0m                                  Traceback (most recent call last)",
      "\u001b[1;32m<ipython-input-71-979afb53d462>\u001b[0m in \u001b[0;36m<module>\u001b[1;34m()\u001b[0m\n\u001b[0;32m      1\u001b[0m \u001b[0mtext\u001b[0m \u001b[1;33m=\u001b[0m \u001b[1;34m'Vg jnf gur Juvgr Enoovg'\u001b[0m\u001b[1;33m\u001b[0m\u001b[0m\n\u001b[0;32m      2\u001b[0m \u001b[1;32mfor\u001b[0m \u001b[0mx\u001b[0m \u001b[1;32min\u001b[0m \u001b[0mtext\u001b[0m\u001b[1;33m:\u001b[0m\u001b[1;33m\u001b[0m\u001b[0m\n\u001b[1;32m----> 3\u001b[1;33m     \u001b[0mtext\u001b[0m \u001b[1;33m=\u001b[0m \u001b[0mtext\u001b[0m\u001b[1;33m.\u001b[0m\u001b[0mreplace\u001b[0m\u001b[1;33m(\u001b[0m\u001b[0mx\u001b[0m\u001b[1;33m,\u001b[0m \u001b[0mwordDict\u001b[0m\u001b[1;33m[\u001b[0m\u001b[0mx\u001b[0m\u001b[1;33m]\u001b[0m\u001b[1;33m)\u001b[0m\u001b[1;33m\u001b[0m\u001b[0m\n\u001b[0m\u001b[0;32m      4\u001b[0m \u001b[1;32mreturn\u001b[0m \u001b[0mtext\u001b[0m\u001b[1;33m\u001b[0m\u001b[0m\n\u001b[0;32m      5\u001b[0m \u001b[1;33m\u001b[0m\u001b[0m\n",
      "\u001b[1;31mKeyError\u001b[0m: ' '"
     ]
    }
   ],
   "source": [
    "text = 'Vg jnf gur Juvgr Enoovg'\n",
    "for x in text:\n",
    "    text = text.replace(x, wordDict[x])\n",
    "return text\n",
    "    \n"
   ]
  },
  {
   "cell_type": "code",
   "execution_count": null,
   "metadata": {},
   "outputs": [
    {
     "name": "stdout",
     "output_type": "stream",
     "text": [
      "Сколько будет 5 умножить на 2 10\n",
      "Правильно\n",
      "Сколько будет 7 умножить на 5 5\n",
      "Подумай хорошенько 5\n",
      "Подумай хорошенько 35\n"
     ]
    }
   ],
   "source": [
    "import random\n",
    "while True:\n",
    "    first_num = random.randint(2, 11)\n",
    "    second_num = random.randint(2, 10)\n",
    "    answer = int(input(\"Сколько будет {} умножить на {} \".format(first_num,second_num)))\n",
    "    if answer == first_num*second_num:\n",
    "        print(\"Правильно\")\n",
    "    else:\n",
    "        answer = int(input(\"Подумай хорошенько \"))\n",
    "        while answer != first_num*second_num:\n",
    "            answer = int(input(\"Подумай хорошенько \"))"
   ]
  },
  {
   "cell_type": "code",
   "execution_count": 17,
   "metadata": {},
   "outputs": [],
   "source": [
    "zab = pd.read_excel(r'C:\\анаконда\\zab.xlsx',\n",
    "                  usecols=[\"Серийный Но.\",\"Товар Но.\",\"Склад-приемник\",\"Номер ЗЛ\",\"Товарное направление\",\"Тип 1\"])\n"
   ]
  },
  {
   "cell_type": "code",
   "execution_count": 27,
   "metadata": {},
   "outputs": [],
   "source": [
    "\n",
    "new_zab = zab.groupby(['Тип 1','Товар Но.','Склад-приемник',],as_index=False)[['Серийный Но.']].count()"
   ]
  },
  {
   "cell_type": "code",
   "execution_count": 11,
   "metadata": {},
   "outputs": [],
   "source": [
    "import pandas as pd\n",
    "\n",
    "ost1 = pd.read_csv(r'C:\\Users\\Dotsenko.Semen\\Documents\\tmp.csv', delimiter=';', encoding='utf-8',low_memory=False,\n",
    "               usecols=[2,3,9,10])\n"
   ]
  },
  {
   "cell_type": "code",
   "execution_count": 5,
   "metadata": {},
   "outputs": [
    {
     "data": {
      "text/html": [
       "<div>\n",
       "<style scoped>\n",
       "    .dataframe tbody tr th:only-of-type {\n",
       "        vertical-align: middle;\n",
       "    }\n",
       "\n",
       "    .dataframe tbody tr th {\n",
       "        vertical-align: top;\n",
       "    }\n",
       "\n",
       "    .dataframe thead th {\n",
       "        text-align: right;\n",
       "    }\n",
       "</style>\n",
       "<table border=\"1\" class=\"dataframe\">\n",
       "  <thead>\n",
       "    <tr style=\"text-align: right;\">\n",
       "      <th></th>\n",
       "      <th>ТоварНо</th>\n",
       "      <th>СерийныйНомер</th>\n",
       "      <th>ПоставщикАрт</th>\n",
       "    </tr>\n",
       "  </thead>\n",
       "  <tbody>\n",
       "    <tr>\n",
       "      <th>0</th>\n",
       "      <td>ТОВ0832677</td>\n",
       "      <td>СН0044506780</td>\n",
       "      <td>КО 03-00</td>\n",
       "    </tr>\n",
       "    <tr>\n",
       "      <th>1</th>\n",
       "      <td>ТОВ0793676</td>\n",
       "      <td>СН0044074026</td>\n",
       "      <td>414</td>\n",
       "    </tr>\n",
       "    <tr>\n",
       "      <th>2</th>\n",
       "      <td>ТОВ0981348</td>\n",
       "      <td>СН0036215133</td>\n",
       "      <td>A480400.12ZN#РЫБЫ</td>\n",
       "    </tr>\n",
       "    <tr>\n",
       "      <th>3</th>\n",
       "      <td>ТОВ0886702</td>\n",
       "      <td>СН0050856399</td>\n",
       "      <td>С1104960</td>\n",
       "    </tr>\n",
       "    <tr>\n",
       "      <th>4</th>\n",
       "      <td>ТОВ0612035</td>\n",
       "      <td>СН0012358845</td>\n",
       "      <td>35350595</td>\n",
       "    </tr>\n",
       "  </tbody>\n",
       "</table>\n",
       "</div>"
      ],
      "text/plain": [
       "      ТоварНо СерийныйНомер       ПоставщикАрт\n",
       "0  ТОВ0832677  СН0044506780           КО 03-00\n",
       "1  ТОВ0793676  СН0044074026                414\n",
       "2  ТОВ0981348  СН0036215133  A480400.12ZN#РЫБЫ\n",
       "3  ТОВ0886702  СН0050856399           С1104960\n",
       "4  ТОВ0612035  СН0012358845           35350595"
      ]
     },
     "execution_count": 5,
     "metadata": {},
     "output_type": "execute_result"
    }
   ],
   "source": [
    "ost1.head()"
   ]
  },
  {
   "cell_type": "code",
   "execution_count": 12,
   "metadata": {},
   "outputs": [],
   "source": [
    "sales1 = pd.read_excel(r'C:\\анаконда\\сер.xlsx')\n",
    "\n",
    "barlist = sales1.сер.tolist()\n",
    "ost1['признак'] = ost1.СерийныйНомер.apply(lambda x: x in barlist)"
   ]
  },
  {
   "cell_type": "code",
   "execution_count": 7,
   "metadata": {},
   "outputs": [
    {
     "data": {
      "text/html": [
       "<div>\n",
       "<style scoped>\n",
       "    .dataframe tbody tr th:only-of-type {\n",
       "        vertical-align: middle;\n",
       "    }\n",
       "\n",
       "    .dataframe tbody tr th {\n",
       "        vertical-align: top;\n",
       "    }\n",
       "\n",
       "    .dataframe thead th {\n",
       "        text-align: right;\n",
       "    }\n",
       "</style>\n",
       "<table border=\"1\" class=\"dataframe\">\n",
       "  <thead>\n",
       "    <tr style=\"text-align: right;\">\n",
       "      <th></th>\n",
       "      <th>ТоварНо</th>\n",
       "      <th>СерийныйНомер</th>\n",
       "      <th>ПоставщикАрт</th>\n",
       "      <th>признак</th>\n",
       "    </tr>\n",
       "  </thead>\n",
       "  <tbody>\n",
       "    <tr>\n",
       "      <th>0</th>\n",
       "      <td>ТОВ0832677</td>\n",
       "      <td>СН0044506780</td>\n",
       "      <td>КО 03-00</td>\n",
       "      <td>False</td>\n",
       "    </tr>\n",
       "    <tr>\n",
       "      <th>1</th>\n",
       "      <td>ТОВ0793676</td>\n",
       "      <td>СН0044074026</td>\n",
       "      <td>414</td>\n",
       "      <td>False</td>\n",
       "    </tr>\n",
       "    <tr>\n",
       "      <th>2</th>\n",
       "      <td>ТОВ0981348</td>\n",
       "      <td>СН0036215133</td>\n",
       "      <td>A480400.12ZN#РЫБЫ</td>\n",
       "      <td>False</td>\n",
       "    </tr>\n",
       "    <tr>\n",
       "      <th>3</th>\n",
       "      <td>ТОВ0886702</td>\n",
       "      <td>СН0050856399</td>\n",
       "      <td>С1104960</td>\n",
       "      <td>False</td>\n",
       "    </tr>\n",
       "    <tr>\n",
       "      <th>4</th>\n",
       "      <td>ТОВ0612035</td>\n",
       "      <td>СН0012358845</td>\n",
       "      <td>35350595</td>\n",
       "      <td>False</td>\n",
       "    </tr>\n",
       "  </tbody>\n",
       "</table>\n",
       "</div>"
      ],
      "text/plain": [
       "      ТоварНо СерийныйНомер       ПоставщикАрт  признак\n",
       "0  ТОВ0832677  СН0044506780           КО 03-00    False\n",
       "1  ТОВ0793676  СН0044074026                414    False\n",
       "2  ТОВ0981348  СН0036215133  A480400.12ZN#РЫБЫ    False\n",
       "3  ТОВ0886702  СН0050856399           С1104960    False\n",
       "4  ТОВ0612035  СН0012358845           35350595    False"
      ]
     },
     "execution_count": 7,
     "metadata": {},
     "output_type": "execute_result"
    }
   ],
   "source": [
    "ost1.head()"
   ]
  },
  {
   "cell_type": "code",
   "execution_count": 13,
   "metadata": {},
   "outputs": [],
   "source": [
    "ost1[ost1.признак == True].to_excel(r'C:\\Остатки\\ифсер.xlsx',index=False)"
   ]
  },
  {
   "cell_type": "code",
   "execution_count": 5,
   "metadata": {},
   "outputs": [
    {
     "data": {
      "text/plain": [
       "9"
      ]
     },
     "execution_count": 5,
     "metadata": {},
     "output_type": "execute_result"
    }
   ],
   "source": [
    "import numpy as np\n",
    "\n",
    "len(np.arange(16.5, 21, 0.5))"
   ]
  },
  {
   "cell_type": "code",
   "execution_count": 6,
   "metadata": {},
   "outputs": [
    {
     "data": {
      "text/plain": [
       "array([16.5, 17. , 17.5, 18. , 18.5, 19. , 19.5, 20. , 20.5])"
      ]
     },
     "execution_count": 6,
     "metadata": {},
     "output_type": "execute_result"
    }
   ],
   "source": [
    "np.arange(16.5, 21, 0.5)"
   ]
  },
  {
   "cell_type": "code",
   "execution_count": null,
   "metadata": {},
   "outputs": [],
   "source": []
  }
 ],
 "metadata": {
  "kernelspec": {
   "display_name": "Python 3",
   "language": "python",
   "name": "python3"
  },
  "language_info": {
   "codemirror_mode": {
    "name": "ipython",
    "version": 3
   },
   "file_extension": ".py",
   "mimetype": "text/x-python",
   "name": "python",
   "nbconvert_exporter": "python",
   "pygments_lexer": "ipython3",
   "version": "3.7.0"
  }
 },
 "nbformat": 4,
 "nbformat_minor": 2
}
